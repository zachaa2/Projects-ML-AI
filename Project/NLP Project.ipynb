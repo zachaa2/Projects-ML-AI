{
 "cells": [
  {
   "cell_type": "markdown",
   "id": "7cb99741",
   "metadata": {},
   "source": [
    "# Importing Libraries"
   ]
  },
  {
   "cell_type": "code",
   "execution_count": 3,
   "id": "5b650def",
   "metadata": {},
   "outputs": [],
   "source": [
    "# libraries\n",
    "import pandas as pd\n",
    "import numpy as np\n",
    "import matplotlib.pyplot as plt\n",
    "import seaborn as sns\n",
    "import re\n",
    "import string\n",
    "import os\n",
    "from sklearn.feature_extraction.text import CountVectorizer, TfidfVectorizer\n",
    "from sklearn.model_selection import train_test_split\n",
    "from sklearn.metrics import classification_report, confusion_matrix\n",
    "from bs4 import BeautifulSoup\n",
    "from textblob import TextBlob\n",
    "import nltk\n",
    "from nltk.corpus import stopwords\n",
    "from wordcloud import WordCloud"
   ]
  },
  {
   "cell_type": "markdown",
   "id": "9e2d3330",
   "metadata": {},
   "source": [
    "# Importing Datasets\n",
    "\n",
    "The Kaggle competition provides a training dataset and a testing dataset to use. The datasets are made of real tweets, and will require pre-processing steps before any training step."
   ]
  },
  {
   "cell_type": "code",
   "execution_count": 4,
   "id": "50937186",
   "metadata": {},
   "outputs": [
    {
     "data": {
      "text/html": [
       "<div>\n",
       "<style scoped>\n",
       "    .dataframe tbody tr th:only-of-type {\n",
       "        vertical-align: middle;\n",
       "    }\n",
       "\n",
       "    .dataframe tbody tr th {\n",
       "        vertical-align: top;\n",
       "    }\n",
       "\n",
       "    .dataframe thead th {\n",
       "        text-align: right;\n",
       "    }\n",
       "</style>\n",
       "<table border=\"1\" class=\"dataframe\">\n",
       "  <thead>\n",
       "    <tr style=\"text-align: right;\">\n",
       "      <th></th>\n",
       "      <th>id</th>\n",
       "      <th>keyword</th>\n",
       "      <th>location</th>\n",
       "      <th>text</th>\n",
       "      <th>target</th>\n",
       "    </tr>\n",
       "  </thead>\n",
       "  <tbody>\n",
       "    <tr>\n",
       "      <th>0</th>\n",
       "      <td>1</td>\n",
       "      <td>NaN</td>\n",
       "      <td>NaN</td>\n",
       "      <td>Our Deeds are the Reason of this #earthquake M...</td>\n",
       "      <td>1</td>\n",
       "    </tr>\n",
       "    <tr>\n",
       "      <th>1</th>\n",
       "      <td>4</td>\n",
       "      <td>NaN</td>\n",
       "      <td>NaN</td>\n",
       "      <td>Forest fire near La Ronge Sask. Canada</td>\n",
       "      <td>1</td>\n",
       "    </tr>\n",
       "    <tr>\n",
       "      <th>2</th>\n",
       "      <td>5</td>\n",
       "      <td>NaN</td>\n",
       "      <td>NaN</td>\n",
       "      <td>All residents asked to 'shelter in place' are ...</td>\n",
       "      <td>1</td>\n",
       "    </tr>\n",
       "    <tr>\n",
       "      <th>3</th>\n",
       "      <td>6</td>\n",
       "      <td>NaN</td>\n",
       "      <td>NaN</td>\n",
       "      <td>13,000 people receive #wildfires evacuation or...</td>\n",
       "      <td>1</td>\n",
       "    </tr>\n",
       "    <tr>\n",
       "      <th>4</th>\n",
       "      <td>7</td>\n",
       "      <td>NaN</td>\n",
       "      <td>NaN</td>\n",
       "      <td>Just got sent this photo from Ruby #Alaska as ...</td>\n",
       "      <td>1</td>\n",
       "    </tr>\n",
       "  </tbody>\n",
       "</table>\n",
       "</div>"
      ],
      "text/plain": [
       "   id keyword location                                               text  \\\n",
       "0   1     NaN      NaN  Our Deeds are the Reason of this #earthquake M...   \n",
       "1   4     NaN      NaN             Forest fire near La Ronge Sask. Canada   \n",
       "2   5     NaN      NaN  All residents asked to 'shelter in place' are ...   \n",
       "3   6     NaN      NaN  13,000 people receive #wildfires evacuation or...   \n",
       "4   7     NaN      NaN  Just got sent this photo from Ruby #Alaska as ...   \n",
       "\n",
       "   target  \n",
       "0       1  \n",
       "1       1  \n",
       "2       1  \n",
       "3       1  \n",
       "4       1  "
      ]
     },
     "execution_count": 4,
     "metadata": {},
     "output_type": "execute_result"
    }
   ],
   "source": [
    "# Import Train Test set\n",
    "train = pd.read_csv('train.csv')\n",
    "test = pd.read_csv('test.csv')\n",
    "\n",
    "train.head()"
   ]
  },
  {
   "cell_type": "code",
   "execution_count": 5,
   "id": "81cc902d",
   "metadata": {},
   "outputs": [
    {
     "data": {
      "text/html": [
       "<div>\n",
       "<style scoped>\n",
       "    .dataframe tbody tr th:only-of-type {\n",
       "        vertical-align: middle;\n",
       "    }\n",
       "\n",
       "    .dataframe tbody tr th {\n",
       "        vertical-align: top;\n",
       "    }\n",
       "\n",
       "    .dataframe thead th {\n",
       "        text-align: right;\n",
       "    }\n",
       "</style>\n",
       "<table border=\"1\" class=\"dataframe\">\n",
       "  <thead>\n",
       "    <tr style=\"text-align: right;\">\n",
       "      <th></th>\n",
       "      <th>id</th>\n",
       "      <th>keyword</th>\n",
       "      <th>location</th>\n",
       "      <th>text</th>\n",
       "    </tr>\n",
       "  </thead>\n",
       "  <tbody>\n",
       "    <tr>\n",
       "      <th>0</th>\n",
       "      <td>0</td>\n",
       "      <td>NaN</td>\n",
       "      <td>NaN</td>\n",
       "      <td>Just happened a terrible car crash</td>\n",
       "    </tr>\n",
       "    <tr>\n",
       "      <th>1</th>\n",
       "      <td>2</td>\n",
       "      <td>NaN</td>\n",
       "      <td>NaN</td>\n",
       "      <td>Heard about #earthquake is different cities, s...</td>\n",
       "    </tr>\n",
       "    <tr>\n",
       "      <th>2</th>\n",
       "      <td>3</td>\n",
       "      <td>NaN</td>\n",
       "      <td>NaN</td>\n",
       "      <td>there is a forest fire at spot pond, geese are...</td>\n",
       "    </tr>\n",
       "    <tr>\n",
       "      <th>3</th>\n",
       "      <td>9</td>\n",
       "      <td>NaN</td>\n",
       "      <td>NaN</td>\n",
       "      <td>Apocalypse lighting. #Spokane #wildfires</td>\n",
       "    </tr>\n",
       "    <tr>\n",
       "      <th>4</th>\n",
       "      <td>11</td>\n",
       "      <td>NaN</td>\n",
       "      <td>NaN</td>\n",
       "      <td>Typhoon Soudelor kills 28 in China and Taiwan</td>\n",
       "    </tr>\n",
       "  </tbody>\n",
       "</table>\n",
       "</div>"
      ],
      "text/plain": [
       "   id keyword location                                               text\n",
       "0   0     NaN      NaN                 Just happened a terrible car crash\n",
       "1   2     NaN      NaN  Heard about #earthquake is different cities, s...\n",
       "2   3     NaN      NaN  there is a forest fire at spot pond, geese are...\n",
       "3   9     NaN      NaN           Apocalypse lighting. #Spokane #wildfires\n",
       "4  11     NaN      NaN      Typhoon Soudelor kills 28 in China and Taiwan"
      ]
     },
     "execution_count": 5,
     "metadata": {},
     "output_type": "execute_result"
    }
   ],
   "source": [
    "test.head()"
   ]
  },
  {
   "cell_type": "markdown",
   "id": "86682b2f",
   "metadata": {},
   "source": [
    "# EDA"
   ]
  },
  {
   "cell_type": "markdown",
   "id": "1b30b7d5",
   "metadata": {},
   "source": [
    "Printing Unique Keywords"
   ]
  },
  {
   "cell_type": "code",
   "execution_count": 6,
   "id": "830a645f",
   "metadata": {},
   "outputs": [
    {
     "name": "stdout",
     "output_type": "stream",
     "text": [
      "{nan, 'armageddon', 'fatalities', 'burning', 'derailed', 'cyclone', 'smoke', 'hijacking', 'snowstorm', 'demolition', 'collide', 'demolish', 'hazard', 'sunk', 'evacuated', 'mudslide', 'body%20bagging', 'hijacker', 'death', 'lightning', 'panicking', 'burned', 'destruction', 'rescued', 'harm', 'body%20bags', 'attack', 'destroy', 'army', 'electrocuted', 'meltdown', 'quarantined', 'flooding', 'landslide', 'bioterrorism', 'screamed', 'fatality', 'forest%20fires', 'mass%20murder', 'cliff%20fall', 'casualties', 'aftershock', 'inundated', 'stretcher', 'terrorism', 'structural%20failure', 'first%20responders', 'drowning', 'burning%20buildings', 'detonation', 'bush%20fires', 'drown', 'hazardous', 'hostages', 'refugees', 'weapons', 'exploded', 'ablaze', 'injury', 'survive', 'suicide%20bomber', 'apocalypse', 'bloody', 'destroyed', 'displaced', 'rescue', 'deluge', 'emergency%20services', 'crush', 'hurricane', 'demolished', 'panic', 'obliteration', 'catastrophic', 'mass%20murderer', 'trauma', 'survivors', 'flattened', 'rioting', 'flames', 'screaming', 'police', 'catastrophe', 'buildings%20burning', 'detonate', 'devastation', 'buildings%20on%20fire', 'emergency%20plan', 'explosion', 'screams', 'flood', 'deaths', 'disaster', 'obliterate', 'military', 'radiation%20emergency', 'collapse', 'wounded', 'bombed', 'volcano', 'bombing', 'blew%20up', 'seismic', 'wreck', 'violent%20storm', 'rubble', 'devastated', 'wounds', 'typhoon', 'arson', 'nuclear%20disaster', 'trouble', 'casualty', 'war%20zone', 'drowned', 'hellfire', 'blight', 'injured', 'arsonist', 'battle', 'inundation', 'rainstorm', 'deluged', 'twister', 'collapsed', 'injuries', 'blizzard', 'mayhem', 'ruin', 'tsunami', 'trapped', 'storm', 'body%20bag', 'earthquake', 'pandemonium', 'hostage', 'loud%20bang', 'bioterror', 'sinkhole', 'derailment', 'outbreak', 'famine', 'curfew', 'derail', 'sandstorm', 'chemical%20emergency', 'rescuers', 'fatal', 'desolate', 'crash', 'massacre', 'explode', 'survived', 'heat%20wave', 'sinking', 'bleeding', 'emergency', 'fear', 'hailstorm', 'attacked', 'blaze', 'danger', 'obliterated', 'dust%20storm', 'nuclear%20reactor', 'fire', 'hail', 'quarantine', 'crushed', 'fire%20truck', 'tornado', 'wrecked', 'collided', 'wild%20fires', 'annihilated', 'evacuate', 'tragedy', 'razed', 'ambulance', 'eyewitness', 'blown%20up', 'lava', 'riot', 'debris', 'traumatised', 'oil%20spill', 'bomb', 'evacuation', 'wildfire', 'forest%20fire', 'crashed', 'suicide%20bomb', 'drought', 'floods', 'avalanche', 'natural%20disaster', 'suicide%20bombing', 'threat', 'siren', 'hijack', 'bridge%20collapse', 'sirens', 'wreckage', 'damage', 'upheaval', 'epicentre', 'terrorist', 'collision', 'accident', 'blood', 'thunderstorm', 'airplane%20accident', 'thunder', 'whirlwind', 'dead', 'engulfed', 'weapon', 'windstorm', 'annihilation', 'blazing', 'desolation', 'electrocute'}\n"
     ]
    }
   ],
   "source": [
    "keywords = set(train['keyword'].tolist())\n",
    "print(keywords)"
   ]
  },
  {
   "cell_type": "markdown",
   "id": "335db3e5",
   "metadata": {},
   "source": [
    "Dataset info"
   ]
  },
  {
   "cell_type": "code",
   "execution_count": 8,
   "id": "0f0eca31",
   "metadata": {},
   "outputs": [
    {
     "name": "stdout",
     "output_type": "stream",
     "text": [
      "<class 'pandas.core.frame.DataFrame'>\n",
      "RangeIndex: 3263 entries, 0 to 3262\n",
      "Data columns (total 4 columns):\n",
      " #   Column    Non-Null Count  Dtype \n",
      "---  ------    --------------  ----- \n",
      " 0   id        3263 non-null   int64 \n",
      " 1   keyword   3237 non-null   object\n",
      " 2   location  2158 non-null   object\n",
      " 3   text      3263 non-null   object\n",
      "dtypes: int64(1), object(3)\n",
      "memory usage: 102.1+ KB\n"
     ]
    }
   ],
   "source": [
    "test.info()"
   ]
  },
  {
   "cell_type": "code",
   "execution_count": 9,
   "id": "cea6e48e",
   "metadata": {},
   "outputs": [
    {
     "name": "stdout",
     "output_type": "stream",
     "text": [
      "<class 'pandas.core.frame.DataFrame'>\n",
      "RangeIndex: 7613 entries, 0 to 7612\n",
      "Data columns (total 5 columns):\n",
      " #   Column    Non-Null Count  Dtype \n",
      "---  ------    --------------  ----- \n",
      " 0   id        7613 non-null   int64 \n",
      " 1   keyword   7552 non-null   object\n",
      " 2   location  5080 non-null   object\n",
      " 3   text      7613 non-null   object\n",
      " 4   target    7613 non-null   int64 \n",
      "dtypes: int64(2), object(3)\n",
      "memory usage: 297.5+ KB\n"
     ]
    }
   ],
   "source": [
    "train.info()"
   ]
  },
  {
   "cell_type": "markdown",
   "id": "0c46c4d8",
   "metadata": {},
   "source": [
    "Null counts for each feature in each dataset"
   ]
  },
  {
   "cell_type": "code",
   "execution_count": 10,
   "id": "7fb39234",
   "metadata": {},
   "outputs": [
    {
     "name": "stdout",
     "output_type": "stream",
     "text": [
      "Null counts for train dataset:\n",
      "id             0\n",
      "keyword       61\n",
      "location    2533\n",
      "text           0\n",
      "target         0\n",
      "dtype: int64\n",
      "Null counts for test dataset:\n",
      "id             0\n",
      "keyword       26\n",
      "location    1105\n",
      "text           0\n",
      "dtype: int64\n"
     ]
    }
   ],
   "source": [
    "# null count\n",
    "print(\"Null counts for train dataset:\")\n",
    "print(train.isna().sum())\n",
    "print(\"Null counts for test dataset:\")\n",
    "print(test.isna().sum())"
   ]
  },
  {
   "cell_type": "markdown",
   "id": "695f9d07",
   "metadata": {},
   "source": [
    "Plotting Null counts by dataset"
   ]
  },
  {
   "cell_type": "code",
   "execution_count": 35,
   "id": "47ea45c6",
   "metadata": {},
   "outputs": [
    {
     "data": {
      "text/plain": [
       "Text(0.5, 1.0, 'NaN Counts by Dataset')"
      ]
     },
     "execution_count": 35,
     "metadata": {},
     "output_type": "execute_result"
    },
    {
     "data": {
      "image/png": "[encoded data removed]",
      "text/plain": [
       "<Figure size 432x288 with 1 Axes>"
      ]
     },
     "metadata": {},
     "output_type": "display_data"
    }
   ],
   "source": [
    "# plot null count by dataset\n",
    "train_null_count = int(train['keyword'].isna().sum()) + int(train['location'].isna().sum())\n",
    "test_null_count = int(train['keyword'].isna().sum()) + + int(test['location'].isna().sum())\n",
    "\n",
    "nullcount = [[\"Train\", train_null_count], [\"Test\", test_null_count]]\n",
    "nulldf = pd.DataFrame(nullcount, columns = [\"Dataset\", \"NaN Count\"])\n",
    "\n",
    "plt.style.use('ggplot')\n",
    "\n",
    "sns.barplot(x='NaN Count', y='Dataset', data = nulldf)\n",
    "plt.title('NaN Counts by Dataset')"
   ]
  },
  {
   "cell_type": "markdown",
   "id": "7cf68267",
   "metadata": {},
   "source": [
    "Plotting Null counts by feature"
   ]
  },
  {
   "cell_type": "code",
   "execution_count": 36,
   "id": "772b6d64",
   "metadata": {},
   "outputs": [
    {
     "data": {
      "text/plain": [
       "Text(0.5, 1.0, 'NaN Counts by Feature')"
      ]
     },
     "execution_count": 36,
     "metadata": {},
     "output_type": "execute_result"
    },
    {
     "data": {
      "image/png": "[encoded data removed]",
      "text/plain": [
       "<Figure size 432x288 with 1 Axes>"
      ]
     },
     "metadata": {},
     "output_type": "display_data"
    }
   ],
   "source": [
    "# count null values by feature\n",
    "counts = []\n",
    "\n",
    "for i in range(len(train.columns) - 1):\n",
    "    counts.append(0)\n",
    "for i in range(len(train.columns) - 1):\n",
    "    counts[i] += train[train.columns[i]].isna().sum()\n",
    "    counts[i] += test[test.columns[i]].isna().sum()\n",
    "\n",
    "# build dataframe for nan counts\n",
    "d = {\"Feature\": train.columns[:len(train.columns)-1], \"NaN Counts\": counts}\n",
    "null_feat_df = pd.DataFrame(data=d)\n",
    "\n",
    "# plotting \n",
    "plt.style.use('ggplot')\n",
    "sns.barplot(x='NaN Counts', y='Feature', data = null_feat_df)\n",
    "plt.title('NaN Counts by Feature')"
   ]
  },
  {
   "cell_type": "markdown",
   "id": "0492e56b",
   "metadata": {},
   "source": [
    "Each tweet gets classified as a disaster tweet or not, which is represented as a binary value"
   ]
  },
  {
   "cell_type": "code",
   "execution_count": null,
   "id": "f5e971f0",
   "metadata": {},
   "outputs": [],
   "source": []
  }
 ],
 "metadata": {
  "kernelspec": {
   "display_name": "Python 3 (ipykernel)",
   "language": "python",
   "name": "python3"
  },
  "language_info": {
   "codemirror_mode": {
    "name": "ipython",
    "version": 3
   },
   "file_extension": ".py",
   "mimetype": "text/x-python",
   "name": "python",
   "nbconvert_exporter": "python",
   "pygments_lexer": "ipython3",
   "version": "3.9.12"
  }
 },
 "nbformat": 4,
 "nbformat_minor": 5
}
