{
 "cells": [
  {
   "cell_type": "markdown",
   "id": "dd2ff82b",
   "metadata": {},
   "source": [
    "# Importing Libraries"
   ]
  },
  {
   "cell_type": "code",
   "execution_count": 70,
   "id": "82fe02fe",
   "metadata": {},
   "outputs": [],
   "source": [
    "# libraries\n",
    "import pandas as pd\n",
    "import numpy as np\n",
    "import matplotlib.pyplot as plt\n",
    "import seaborn as sns\n",
    "import re\n",
    "import string\n",
    "import os\n",
    "from sklearn.feature_extraction.text import CountVectorizer, TfidfVectorizer\n",
    "from sklearn.model_selection import train_test_split\n",
    "from sklearn.metrics import classification_report, confusion_matrix\n",
    "from bs4 import BeautifulSoup\n",
    "from textblob import TextBlob\n",
    "import nltk\n",
    "from nltk.corpus import stopwords\n",
    "from wordcloud import WordCloud\n",
    "import warnings\n",
    "warnings.filterwarnings(\"ignore\")"
   ]
  },
  {
   "cell_type": "markdown",
   "id": "ba46f451",
   "metadata": {},
   "source": [
    "# Importing Datasets\n",
    "\n",
    "The Kaggle competition provides a training dataset and a testing dataset to use. The datasets are made of real tweets, and will require pre-processing steps before any training step."
   ]
  },
  {
   "cell_type": "code",
   "execution_count": 4,
   "id": "400d1799",
   "metadata": {},
   "outputs": [
    {
     "data": {
      "text/html": [
       "<div>\n",
       "<style scoped>\n",
       "    .dataframe tbody tr th:only-of-type {\n",
       "        vertical-align: middle;\n",
       "    }\n",
       "\n",
       "    .dataframe tbody tr th {\n",
       "        vertical-align: top;\n",
       "    }\n",
       "\n",
       "    .dataframe thead th {\n",
       "        text-align: right;\n",
       "    }\n",
       "</style>\n",
       "<table border=\"1\" class=\"dataframe\">\n",
       "  <thead>\n",
       "    <tr style=\"text-align: right;\">\n",
       "      <th></th>\n",
       "      <th>id</th>\n",
       "      <th>keyword</th>\n",
       "      <th>location</th>\n",
       "      <th>text</th>\n",
       "      <th>target</th>\n",
       "    </tr>\n",
       "  </thead>\n",
       "  <tbody>\n",
       "    <tr>\n",
       "      <th>0</th>\n",
       "      <td>1</td>\n",
       "      <td>NaN</td>\n",
       "      <td>NaN</td>\n",
       "      <td>Our Deeds are the Reason of this #earthquake M...</td>\n",
       "      <td>1</td>\n",
       "    </tr>\n",
       "    <tr>\n",
       "      <th>1</th>\n",
       "      <td>4</td>\n",
       "      <td>NaN</td>\n",
       "      <td>NaN</td>\n",
       "      <td>Forest fire near La Ronge Sask. Canada</td>\n",
       "      <td>1</td>\n",
       "    </tr>\n",
       "    <tr>\n",
       "      <th>2</th>\n",
       "      <td>5</td>\n",
       "      <td>NaN</td>\n",
       "      <td>NaN</td>\n",
       "      <td>All residents asked to 'shelter in place' are ...</td>\n",
       "      <td>1</td>\n",
       "    </tr>\n",
       "    <tr>\n",
       "      <th>3</th>\n",
       "      <td>6</td>\n",
       "      <td>NaN</td>\n",
       "      <td>NaN</td>\n",
       "      <td>13,000 people receive #wildfires evacuation or...</td>\n",
       "      <td>1</td>\n",
       "    </tr>\n",
       "    <tr>\n",
       "      <th>4</th>\n",
       "      <td>7</td>\n",
       "      <td>NaN</td>\n",
       "      <td>NaN</td>\n",
       "      <td>Just got sent this photo from Ruby #Alaska as ...</td>\n",
       "      <td>1</td>\n",
       "    </tr>\n",
       "  </tbody>\n",
       "</table>\n",
       "</div>"
      ],
      "text/plain": [
       "   id keyword location                                               text  \\\n",
       "0   1     NaN      NaN  Our Deeds are the Reason of this #earthquake M...   \n",
       "1   4     NaN      NaN             Forest fire near La Ronge Sask. Canada   \n",
       "2   5     NaN      NaN  All residents asked to 'shelter in place' are ...   \n",
       "3   6     NaN      NaN  13,000 people receive #wildfires evacuation or...   \n",
       "4   7     NaN      NaN  Just got sent this photo from Ruby #Alaska as ...   \n",
       "\n",
       "   target  \n",
       "0       1  \n",
       "1       1  \n",
       "2       1  \n",
       "3       1  \n",
       "4       1  "
      ]
     },
     "execution_count": 4,
     "metadata": {},
     "output_type": "execute_result"
    }
   ],
   "source": [
    "# Import Train Test set\n",
    "train = pd.read_csv('train.csv')\n",
    "test = pd.read_csv('test.csv')\n",
    "\n",
    "train.head()"
   ]
  },
  {
   "cell_type": "code",
   "execution_count": 5,
   "id": "87dcda08",
   "metadata": {},
   "outputs": [
    {
     "data": {
      "text/html": [
       "<div>\n",
       "<style scoped>\n",
       "    .dataframe tbody tr th:only-of-type {\n",
       "        vertical-align: middle;\n",
       "    }\n",
       "\n",
       "    .dataframe tbody tr th {\n",
       "        vertical-align: top;\n",
       "    }\n",
       "\n",
       "    .dataframe thead th {\n",
       "        text-align: right;\n",
       "    }\n",
       "</style>\n",
       "<table border=\"1\" class=\"dataframe\">\n",
       "  <thead>\n",
       "    <tr style=\"text-align: right;\">\n",
       "      <th></th>\n",
       "      <th>id</th>\n",
       "      <th>keyword</th>\n",
       "      <th>location</th>\n",
       "      <th>text</th>\n",
       "    </tr>\n",
       "  </thead>\n",
       "  <tbody>\n",
       "    <tr>\n",
       "      <th>0</th>\n",
       "      <td>0</td>\n",
       "      <td>NaN</td>\n",
       "      <td>NaN</td>\n",
       "      <td>Just happened a terrible car crash</td>\n",
       "    </tr>\n",
       "    <tr>\n",
       "      <th>1</th>\n",
       "      <td>2</td>\n",
       "      <td>NaN</td>\n",
       "      <td>NaN</td>\n",
       "      <td>Heard about #earthquake is different cities, s...</td>\n",
       "    </tr>\n",
       "    <tr>\n",
       "      <th>2</th>\n",
       "      <td>3</td>\n",
       "      <td>NaN</td>\n",
       "      <td>NaN</td>\n",
       "      <td>there is a forest fire at spot pond, geese are...</td>\n",
       "    </tr>\n",
       "    <tr>\n",
       "      <th>3</th>\n",
       "      <td>9</td>\n",
       "      <td>NaN</td>\n",
       "      <td>NaN</td>\n",
       "      <td>Apocalypse lighting. #Spokane #wildfires</td>\n",
       "    </tr>\n",
       "    <tr>\n",
       "      <th>4</th>\n",
       "      <td>11</td>\n",
       "      <td>NaN</td>\n",
       "      <td>NaN</td>\n",
       "      <td>Typhoon Soudelor kills 28 in China and Taiwan</td>\n",
       "    </tr>\n",
       "  </tbody>\n",
       "</table>\n",
       "</div>"
      ],
      "text/plain": [
       "   id keyword location                                               text\n",
       "0   0     NaN      NaN                 Just happened a terrible car crash\n",
       "1   2     NaN      NaN  Heard about #earthquake is different cities, s...\n",
       "2   3     NaN      NaN  there is a forest fire at spot pond, geese are...\n",
       "3   9     NaN      NaN           Apocalypse lighting. #Spokane #wildfires\n",
       "4  11     NaN      NaN      Typhoon Soudelor kills 28 in China and Taiwan"
      ]
     },
     "execution_count": 5,
     "metadata": {},
     "output_type": "execute_result"
    }
   ],
   "source": [
    "test.head()"
   ]
  },
  {
   "cell_type": "markdown",
   "id": "a66efabe",
   "metadata": {},
   "source": [
    "# EDA"
   ]
  },
  {
   "cell_type": "markdown",
   "id": "39594233",
   "metadata": {},
   "source": [
    "Printing Unique Keywords"
   ]
  },
  {
   "cell_type": "code",
   "execution_count": 6,
   "id": "f6a63402",
   "metadata": {},
   "outputs": [
    {
     "name": "stdout",
     "output_type": "stream",
     "text": [
      "{nan, 'armageddon', 'fatalities', 'burning', 'derailed', 'cyclone', 'smoke', 'hijacking', 'snowstorm', 'demolition', 'collide', 'demolish', 'hazard', 'sunk', 'evacuated', 'mudslide', 'body%20bagging', 'hijacker', 'death', 'lightning', 'panicking', 'burned', 'destruction', 'rescued', 'harm', 'body%20bags', 'attack', 'destroy', 'army', 'electrocuted', 'meltdown', 'quarantined', 'flooding', 'landslide', 'bioterrorism', 'screamed', 'fatality', 'forest%20fires', 'mass%20murder', 'cliff%20fall', 'casualties', 'aftershock', 'inundated', 'stretcher', 'terrorism', 'structural%20failure', 'first%20responders', 'drowning', 'burning%20buildings', 'detonation', 'bush%20fires', 'drown', 'hazardous', 'hostages', 'refugees', 'weapons', 'exploded', 'ablaze', 'injury', 'survive', 'suicide%20bomber', 'apocalypse', 'bloody', 'destroyed', 'displaced', 'rescue', 'deluge', 'emergency%20services', 'crush', 'hurricane', 'demolished', 'panic', 'obliteration', 'catastrophic', 'mass%20murderer', 'trauma', 'survivors', 'flattened', 'rioting', 'flames', 'screaming', 'police', 'catastrophe', 'buildings%20burning', 'detonate', 'devastation', 'buildings%20on%20fire', 'emergency%20plan', 'explosion', 'screams', 'flood', 'deaths', 'disaster', 'obliterate', 'military', 'radiation%20emergency', 'collapse', 'wounded', 'bombed', 'volcano', 'bombing', 'blew%20up', 'seismic', 'wreck', 'violent%20storm', 'rubble', 'devastated', 'wounds', 'typhoon', 'arson', 'nuclear%20disaster', 'trouble', 'casualty', 'war%20zone', 'drowned', 'hellfire', 'blight', 'injured', 'arsonist', 'battle', 'inundation', 'rainstorm', 'deluged', 'twister', 'collapsed', 'injuries', 'blizzard', 'mayhem', 'ruin', 'tsunami', 'trapped', 'storm', 'body%20bag', 'earthquake', 'pandemonium', 'hostage', 'loud%20bang', 'bioterror', 'sinkhole', 'derailment', 'outbreak', 'famine', 'curfew', 'derail', 'sandstorm', 'chemical%20emergency', 'rescuers', 'fatal', 'desolate', 'crash', 'massacre', 'explode', 'survived', 'heat%20wave', 'sinking', 'bleeding', 'emergency', 'fear', 'hailstorm', 'attacked', 'blaze', 'danger', 'obliterated', 'dust%20storm', 'nuclear%20reactor', 'fire', 'hail', 'quarantine', 'crushed', 'fire%20truck', 'tornado', 'wrecked', 'collided', 'wild%20fires', 'annihilated', 'evacuate', 'tragedy', 'razed', 'ambulance', 'eyewitness', 'blown%20up', 'lava', 'riot', 'debris', 'traumatised', 'oil%20spill', 'bomb', 'evacuation', 'wildfire', 'forest%20fire', 'crashed', 'suicide%20bomb', 'drought', 'floods', 'avalanche', 'natural%20disaster', 'suicide%20bombing', 'threat', 'siren', 'hijack', 'bridge%20collapse', 'sirens', 'wreckage', 'damage', 'upheaval', 'epicentre', 'terrorist', 'collision', 'accident', 'blood', 'thunderstorm', 'airplane%20accident', 'thunder', 'whirlwind', 'dead', 'engulfed', 'weapon', 'windstorm', 'annihilation', 'blazing', 'desolation', 'electrocute'}\n"
     ]
    }
   ],
   "source": [
    "keywords = set(train['keyword'].tolist())\n",
    "print(keywords)"
   ]
  },
  {
   "cell_type": "markdown",
   "id": "245c239b",
   "metadata": {},
   "source": [
    "Dataset info"
   ]
  },
  {
   "cell_type": "code",
   "execution_count": 8,
   "id": "15ffd06a",
   "metadata": {},
   "outputs": [
    {
     "name": "stdout",
     "output_type": "stream",
     "text": [
      "<class 'pandas.core.frame.DataFrame'>\n",
      "RangeIndex: 3263 entries, 0 to 3262\n",
      "Data columns (total 4 columns):\n",
      " #   Column    Non-Null Count  Dtype \n",
      "---  ------    --------------  ----- \n",
      " 0   id        3263 non-null   int64 \n",
      " 1   keyword   3237 non-null   object\n",
      " 2   location  2158 non-null   object\n",
      " 3   text      3263 non-null   object\n",
      "dtypes: int64(1), object(3)\n",
      "memory usage: 102.1+ KB\n"
     ]
    }
   ],
   "source": [
    "test.info()"
   ]
  },
  {
   "cell_type": "code",
   "execution_count": 9,
   "id": "cc174589",
   "metadata": {},
   "outputs": [
    {
     "name": "stdout",
     "output_type": "stream",
     "text": [
      "<class 'pandas.core.frame.DataFrame'>\n",
      "RangeIndex: 7613 entries, 0 to 7612\n",
      "Data columns (total 5 columns):\n",
      " #   Column    Non-Null Count  Dtype \n",
      "---  ------    --------------  ----- \n",
      " 0   id        7613 non-null   int64 \n",
      " 1   keyword   7552 non-null   object\n",
      " 2   location  5080 non-null   object\n",
      " 3   text      7613 non-null   object\n",
      " 4   target    7613 non-null   int64 \n",
      "dtypes: int64(2), object(3)\n",
      "memory usage: 297.5+ KB\n"
     ]
    }
   ],
   "source": [
    "train.info()"
   ]
  },
  {
   "cell_type": "markdown",
   "id": "5c5ec153",
   "metadata": {},
   "source": [
    "Null counts for each feature in each dataset"
   ]
  },
  {
   "cell_type": "code",
   "execution_count": 10,
   "id": "28076d8d",
   "metadata": {},
   "outputs": [
    {
     "name": "stdout",
     "output_type": "stream",
     "text": [
      "Null counts for train dataset:\n",
      "id             0\n",
      "keyword       61\n",
      "location    2533\n",
      "text           0\n",
      "target         0\n",
      "dtype: int64\n",
      "Null counts for test dataset:\n",
      "id             0\n",
      "keyword       26\n",
      "location    1105\n",
      "text           0\n",
      "dtype: int64\n"
     ]
    }
   ],
   "source": [
    "# null count\n",
    "print(\"Null counts for train dataset:\")\n",
    "print(train.isna().sum())\n",
    "print(\"Null counts for test dataset:\")\n",
    "print(test.isna().sum())"
   ]
  },
  {
   "cell_type": "markdown",
   "id": "41919274",
   "metadata": {},
   "source": [
    "Plotting Null counts by dataset"
   ]
  },
  {
   "cell_type": "code",
   "execution_count": 35,
   "id": "8f2e6ce4",
   "metadata": {},
   "outputs": [
    {
     "data": {
      "text/plain": [
       "Text(0.5, 1.0, 'NaN Counts by Dataset')"
      ]
     },
     "execution_count": 35,
     "metadata": {},
     "output_type": "execute_result"
    },
    {
     "data": {
      "image/png": "[encoded data removed]",
      "text/plain": [
       "<Figure size 432x288 with 1 Axes>"
      ]
     },
     "metadata": {},
     "output_type": "display_data"
    }
   ],
   "source": [
    "# plot null count by dataset\n",
    "train_null_count = int(train['keyword'].isna().sum()) + int(train['location'].isna().sum())\n",
    "test_null_count = int(train['keyword'].isna().sum()) + + int(test['location'].isna().sum())\n",
    "\n",
    "nullcount = [[\"Train\", train_null_count], [\"Test\", test_null_count]]\n",
    "nulldf = pd.DataFrame(nullcount, columns = [\"Dataset\", \"NaN Count\"])\n",
    "\n",
    "plt.style.use('ggplot')\n",
    "\n",
    "sns.barplot(x='NaN Count', y='Dataset', data = nulldf)\n",
    "plt.title('NaN Counts by Dataset')"
   ]
  },
  {
   "cell_type": "markdown",
   "id": "7796aa8f",
   "metadata": {},
   "source": [
    "Plotting Null counts by feature"
   ]
  },
  {
   "cell_type": "code",
   "execution_count": 37,
   "id": "4d1240d9",
   "metadata": {},
   "outputs": [
    {
     "data": {
      "text/plain": [
       "Text(0.5, 1.0, 'NaN Counts by Feature')"
      ]
     },
     "execution_count": 37,
     "metadata": {},
     "output_type": "execute_result"
    },
    {
     "data": {
      "image/png": "[encoded data removed]",
      "text/plain": [
       "<Figure size 432x288 with 1 Axes>"
      ]
     },
     "metadata": {},
     "output_type": "display_data"
    }
   ],
   "source": [
    "# count null values by feature\n",
    "counts = []\n",
    "\n",
    "for i in range(len(train.columns) - 1):\n",
    "    counts.append(0)\n",
    "for i in range(len(train.columns) - 1):\n",
    "    counts[i] += train[train.columns[i]].isna().sum()\n",
    "    counts[i] += test[test.columns[i]].isna().sum()\n",
    "\n",
    "# build dataframe for nan counts\n",
    "d = {\"Feature\": train.columns[:len(train.columns)-1], \"NaN Counts\": counts}\n",
    "null_feat_df = pd.DataFrame(data=d)\n",
    "\n",
    "# plotting \n",
    "plt.style.use('ggplot')\n",
    "sns.barplot(x='NaN Counts', y='Feature', data = null_feat_df)\n",
    "plt.title('NaN Counts by Feature')"
   ]
  },
  {
   "cell_type": "markdown",
   "id": "a4eebd10",
   "metadata": {},
   "source": [
    "Each tweet gets classified as a disaster tweet or not, which is represented as a binary value"
   ]
  },
  {
   "cell_type": "code",
   "execution_count": 40,
   "id": "6c60db9a",
   "metadata": {},
   "outputs": [
    {
     "name": "stderr",
     "output_type": "stream",
     "text": [
      "C:\\Users\\Aaron\\anaconda3\\lib\\site-packages\\seaborn\\_decorators.py:36: FutureWarning: Pass the following variable as a keyword arg: x. From version 0.12, the only valid positional argument will be `data`, and passing other arguments without an explicit keyword will result in an error or misinterpretation.\n",
      "  warnings.warn(\n"
     ]
    },
    {
     "data": {
      "text/plain": [
       "Text(0.5, 1.0, 'Target Class Label Count')"
      ]
     },
     "execution_count": 40,
     "metadata": {},
     "output_type": "execute_result"
    },
    {
     "data": {
      "image/png": "[encoded data removed]",
      "text/plain": [
       "<Figure size 432x288 with 1 Axes>"
      ]
     },
     "metadata": {},
     "output_type": "display_data"
    }
   ],
   "source": [
    "# plot target label count\n",
    "plt.style.use('ggplot')\n",
    "\n",
    "sns.countplot('target', data = train)\n",
    "plt.title('Target Class Label Count')"
   ]
  },
  {
   "cell_type": "markdown",
   "id": "7c790971",
   "metadata": {},
   "source": [
    "A WordCould Image of the keywords feature. Bigger words represent higher occurance in the dataset"
   ]
  },
  {
   "cell_type": "code",
   "execution_count": 41,
   "id": "328b6b69",
   "metadata": {},
   "outputs": [],
   "source": [
    "# generate wordcloud image of keywords\n",
    "keys = train['keyword'].dropna().tolist()\n",
    "\n",
    "for i in range(len(keys)):\n",
    "    keys[i] = keys[i].replace(\"%20\", ' ')\n",
    "    \n",
    "keys = ' '.join(keys)"
   ]
  },
  {
   "cell_type": "code",
   "execution_count": 42,
   "id": "4e69db9b",
   "metadata": {},
   "outputs": [
    {
     "data": {
      "text/plain": [
       "<function matplotlib.pyplot.imshow(X, cmap=None, norm=None, *, aspect=None, interpolation=None, alpha=None, vmin=None, vmax=None, origin=None, extent=None, interpolation_stage=None, filternorm=True, filterrad=4.0, resample=None, url=None, data=None, **kwargs)>"
      ]
     },
     "execution_count": 42,
     "metadata": {},
     "output_type": "execute_result"
    },
    {
     "data": {
      "image/png": "[encoded data removed]",
      "text/plain": [
       "<Figure size 432x288 with 1 Axes>"
      ]
     },
     "metadata": {},
     "output_type": "display_data"
    }
   ],
   "source": [
    "wordcloud = WordCloud().generate(keys)\n",
    "plt.imshow(wordcloud)\n",
    "plt.axis('off')\n",
    "plt.imshow"
   ]
  },
  {
   "cell_type": "markdown",
   "id": "17a8ba3c",
   "metadata": {},
   "source": [
    "Analyzing the stop word count"
   ]
  },
  {
   "cell_type": "code",
   "execution_count": 45,
   "id": "87d27534",
   "metadata": {},
   "outputs": [
    {
     "name": "stdout",
     "output_type": "stream",
     "text": [
      "Ratio of stop words in train set:  0.25155780400313765\n",
      "Ratio of stop words in test set:  0.2466005897771953\n"
     ]
    },
    {
     "name": "stderr",
     "output_type": "stream",
     "text": [
      "[nltk_data] Downloading package stopwords to\n",
      "[nltk_data]     C:\\Users\\Aaron\\AppData\\Roaming\\nltk_data...\n",
      "[nltk_data]   Package stopwords is already up-to-date!\n"
     ]
    }
   ],
   "source": [
    "import nltk\n",
    "from nltk.corpus import stopwords\n",
    "nltk.download('stopwords')\n",
    "\n",
    "# count stopwords in train/test\n",
    "stopwords= stopwords.words('english')\n",
    "\n",
    "train_text = train['text'].tolist()\n",
    "test_text = test['text'].tolist()\n",
    "\n",
    "tot_train_ctr = 0\n",
    "tot_test_ctr = 0\n",
    "train_ctr = 0\n",
    "test_ctr = 0\n",
    "\n",
    "for i in range(len(train_text)):\n",
    "    words = train_text[i].split()\n",
    "    for word in words:\n",
    "        if word in stopwords:\n",
    "            train_ctr += 1\n",
    "        tot_train_ctr += 1\n",
    "for i in range(len(test_text)):\n",
    "    words = test_text[i].split()\n",
    "    for word in words:\n",
    "        if word in stopwords:\n",
    "            test_ctr += 1\n",
    "        tot_test_ctr += 1\n",
    "\n",
    "# get the ratio of stop words to total words\n",
    "print(\"Ratio of stop words in train set: \", train_ctr / tot_train_ctr)\n",
    "print(\"Ratio of stop words in test set: \", test_ctr / tot_test_ctr)"
   ]
  },
  {
   "cell_type": "markdown",
   "id": "b52724eb",
   "metadata": {},
   "source": [
    "Approx. 25% of all words in both the training and test sets are made of stop words (irrelevant words). In order to create more accurate embeddings, we'll have to get rid of all the irrelevant words. This will greatly help for appraoches that use word embeddings/vectorization. "
   ]
  },
  {
   "cell_type": "markdown",
   "id": "479db804",
   "metadata": {},
   "source": [
    "# Pre-Processing"
   ]
  },
  {
   "cell_type": "markdown",
   "id": "7ae99a30",
   "metadata": {},
   "source": [
    "Helper Functions to apply on the text feature of the dataframe\n",
    "\n",
    "First, a function to expand all contractions in text"
   ]
  },
  {
   "cell_type": "code",
   "execution_count": 49,
   "id": "c4c346a3",
   "metadata": {},
   "outputs": [],
   "source": [
    "import contractions # expands contractions (ex: I'll => I will)"
   ]
  },
  {
   "cell_type": "code",
   "execution_count": 50,
   "id": "8ece5716",
   "metadata": {},
   "outputs": [],
   "source": [
    "def contraction_expand(df):\n",
    "    return contractions.fix(df)"
   ]
  },
  {
   "cell_type": "markdown",
   "id": "44e6a91a",
   "metadata": {},
   "source": [
    "Next, a function to convert text to lower case"
   ]
  },
  {
   "cell_type": "code",
   "execution_count": 51,
   "id": "0c99dd91",
   "metadata": {},
   "outputs": [],
   "source": [
    "def lowercase_text(df):\n",
    "    return df.lower()"
   ]
  },
  {
   "cell_type": "markdown",
   "id": "44c0de5b",
   "metadata": {},
   "source": [
    "A function to cast everything to a string type"
   ]
  },
  {
   "cell_type": "code",
   "execution_count": 52,
   "id": "3e4d5723",
   "metadata": {},
   "outputs": [],
   "source": [
    "def string_text(df):\n",
    "    return str(df)"
   ]
  },
  {
   "cell_type": "markdown",
   "id": "335c8eab",
   "metadata": {},
   "source": [
    "A function to remove twitter handles"
   ]
  },
  {
   "cell_type": "code",
   "execution_count": 53,
   "id": "1197d5e1",
   "metadata": {},
   "outputs": [],
   "source": [
    "def remove_user(df):\n",
    "    return re.sub('@[^\\s]+','', df)"
   ]
  },
  {
   "cell_type": "markdown",
   "id": "b797206b",
   "metadata": {},
   "source": [
    "A function to remove links"
   ]
  },
  {
   "cell_type": "code",
   "execution_count": 54,
   "id": "7dc4a3f1",
   "metadata": {},
   "outputs": [],
   "source": [
    "def remove_link(df):\n",
    "    return re.sub(r'(http|https|ftp|ssh)://([\\w_-]+(?:(?:\\.[\\w_-]+)+))([\\w.,@?^=%&:/~+#-]*[\\w@?^=%&/~+#-])?', '' , df)"
   ]
  },
  {
   "cell_type": "markdown",
   "id": "b0b6c97f",
   "metadata": {},
   "source": [
    "A function to remove all emails"
   ]
  },
  {
   "cell_type": "code",
   "execution_count": 55,
   "id": "8dd21a1e",
   "metadata": {},
   "outputs": [],
   "source": [
    "def remove_email(df):\n",
    "    return re.sub(r'([a-z0-9+._-]+@[a-z0-9+._-]+\\.[a-z0-9+_-]+)',\"\", df)"
   ]
  },
  {
   "cell_type": "markdown",
   "id": "203d74cd",
   "metadata": {},
   "source": [
    "A function to remove retweets"
   ]
  },
  {
   "cell_type": "code",
   "execution_count": 56,
   "id": "07cd0791",
   "metadata": {},
   "outputs": [],
   "source": [
    "def remove_rt(df):\n",
    "    return re.sub(r'\\brt\\b', \"\", df).strip()"
   ]
  },
  {
   "cell_type": "markdown",
   "id": "12ef8c46",
   "metadata": {},
   "source": [
    "A function to strip all text of leading and trailing white space"
   ]
  },
  {
   "cell_type": "code",
   "execution_count": 58,
   "id": "b879983b",
   "metadata": {},
   "outputs": [],
   "source": [
    "def strip_text(df):\n",
    "    return df.strip()"
   ]
  },
  {
   "cell_type": "markdown",
   "id": "899ab4ee",
   "metadata": {},
   "source": [
    "A function to remove special characters"
   ]
  },
  {
   "cell_type": "code",
   "execution_count": 60,
   "id": "0a010d4f",
   "metadata": {},
   "outputs": [],
   "source": [
    "def remove_special_chars(df):\n",
    "    df = re.sub(r'[^\\w]+', \" \", df)\n",
    "    df = ' '.join(df.split())\n",
    "    return df"
   ]
  },
  {
   "cell_type": "markdown",
   "id": "2cd0153c",
   "metadata": {},
   "source": [
    "A driver function to apply all the preprocessing steps at once onto a dataframe"
   ]
  },
  {
   "cell_type": "code",
   "execution_count": 61,
   "id": "2dbf7b99",
   "metadata": {},
   "outputs": [],
   "source": [
    "def clean_data(df):\n",
    "    df = string_text(df)\n",
    "    df = contraction_expand(df)\n",
    "    df = lowercase_text(df)\n",
    "    df = remove_email(df)\n",
    "    df = remove_link(df)\n",
    "    df = remove_rt(df)\n",
    "    df = remove_user(df)\n",
    "    df = strip_text(df)\n",
    "    return df"
   ]
  },
  {
   "cell_type": "markdown",
   "id": "4d3972c5",
   "metadata": {},
   "source": [
    "Apply the driver function onto the train and test sets"
   ]
  },
  {
   "cell_type": "code",
   "execution_count": 66,
   "id": "d49e1aff",
   "metadata": {},
   "outputs": [],
   "source": [
    "train['text'] = train['text'].apply(clean_data)\n",
    "test['text'] = test['text'].apply(clean_data)\n",
    "train['keyword'] = train['keyword'].apply(clean_data)\n",
    "test['keyword'] = test['keyword'].apply(clean_data)"
   ]
  },
  {
   "cell_type": "markdown",
   "id": "66b5cffc",
   "metadata": {},
   "source": [
    "Apply the special characters function on the train and test set"
   ]
  },
  {
   "cell_type": "code",
   "execution_count": 68,
   "id": "abdbc52f",
   "metadata": {},
   "outputs": [],
   "source": [
    "train['text'] = train['text'].apply(remove_special_chars)\n",
    "test['text'] = test['text'].apply(remove_special_chars)\n",
    "train['keyword'] = train['keyword'].apply(remove_special_chars)\n",
    "test['keyword'] = test['keyword'].apply(remove_special_chars)"
   ]
  },
  {
   "cell_type": "markdown",
   "id": "c023951a",
   "metadata": {},
   "source": [
    "Remove all digits from the train and test set"
   ]
  },
  {
   "cell_type": "code",
   "execution_count": 71,
   "id": "acd76afd",
   "metadata": {},
   "outputs": [],
   "source": [
    "# Replacing digit characters with empty strings\n",
    "train['text'] = train['text'].str.replace('\\d+', '')\n",
    "test['text'] = test['text'].str.replace('\\d+', '')\n",
    "train['keyword'] = train['keyword'].str.replace('\\d+', '')\n",
    "test['keyword'] = test['keyword'].str.replace('\\d+', '')"
   ]
  },
  {
   "cell_type": "markdown",
   "id": "c831d777",
   "metadata": {},
   "source": [
    "Remove all stop words"
   ]
  },
  {
   "cell_type": "code",
   "execution_count": 72,
   "id": "4229948b",
   "metadata": {},
   "outputs": [],
   "source": [
    "# python module based of Numpy and Scipy for NLP preprocessing\n",
    "from gensim.parsing.preprocessing import STOPWORDS\n",
    "# handy function for removing stopwords\n",
    "# simply have to apply this function to the dataset\n",
    "from gensim.parsing.preprocessing import remove_stopwords"
   ]
  },
  {
   "cell_type": "code",
   "execution_count": 73,
   "id": "adf1a583",
   "metadata": {},
   "outputs": [],
   "source": [
    "#remove stopwords from the train/test set\n",
    "train['text'] = train['text'].apply(remove_stopwords)\n",
    "test['text'] = test['text'].apply(remove_stopwords)"
   ]
  },
  {
   "cell_type": "markdown",
   "id": "b0683a12",
   "metadata": {},
   "source": [
    "The id feature is irrelevant for this problem, so we can ignore it. The location feature contains the most amount of NaN values, so we can just ignore it. \n",
    "\n",
    "The keyword feature is a feature that indicates the most relevant word in the tweet. Basically it is the word that would indicate that a given tweet is a potential diaster tweet. There are a multiple ways to deal with this feature. The two ways I will try is first to ignore the keword feature entirely, and then to try and combine the keyword and text features (concatenate the keyword onto the tweet's text). It will be interesting to see how different the results will be, if at all. \n"
   ]
  },
  {
   "cell_type": "markdown",
   "id": "dc88dceb",
   "metadata": {},
   "source": [
    "Merge keyword and text features into one content feature. We'll only merge keywords and text if the keyword is not a NaN. If it is, we don't need to do anything"
   ]
  },
  {
   "cell_type": "code",
   "execution_count": 89,
   "id": "2a91c9b4",
   "metadata": {},
   "outputs": [],
   "source": [
    "train_content = train['text'].tolist()\n",
    "test_content = test['text'].tolist()\n",
    "\n",
    "train_keywords = train['keyword'].tolist()\n",
    "test_keywords = test['keyword'].tolist()\n",
    "\n",
    "for i in range(len(train_keywords)):\n",
    "    if train_keywords[i] != \"nan\":\n",
    "        train_content[i] = train_keywords[i] + \" \" + train_content[i]\n",
    "    \n",
    "for i in range(len(test_keywords)):\n",
    "    if test_keywords[i] != \"nan\":\n",
    "        test_content[i] = test_keywords[i] + \" \" + test_content[i]\n",
    "    \n",
    "train['content'] = train_content\n",
    "test['content'] = test_content"
   ]
  },
  {
   "cell_type": "markdown",
   "id": "f560b190",
   "metadata": {},
   "source": [
    "### Word Embeddings\n",
    "\n",
    "One common and effective approach to NLP classification problems is to create word embeddings. There are multiple ways to create word embeddings. The two ways I will use is the CountVectorizer and the TF-IDF Vectorizer. \n",
    "\n",
    "**Count Vectorizer**\n",
    "\n",
    "**TF-IDF Vectorizer**"
   ]
  },
  {
   "cell_type": "code",
   "execution_count": 93,
   "id": "27cf1fa2",
   "metadata": {},
   "outputs": [],
   "source": [
    "text_corpus = train['text']\n",
    "content_corpus = train['content']"
   ]
  },
  {
   "cell_type": "code",
   "execution_count": null,
   "id": "175424c9",
   "metadata": {},
   "outputs": [],
   "source": []
  }
 ],
 "metadata": {
  "kernelspec": {
   "display_name": "Python 3 (ipykernel)",
   "language": "python",
   "name": "python3"
  },
  "language_info": {
   "codemirror_mode": {
    "name": "ipython",
    "version": 3
   },
   "file_extension": ".py",
   "mimetype": "text/x-python",
   "name": "python",
   "nbconvert_exporter": "python",
   "pygments_lexer": "ipython3",
   "version": "3.9.12"
  }
 },
 "nbformat": 4,
 "nbformat_minor": 5
}
