{
 "cells": [
  {
   "cell_type": "markdown",
   "id": "acfed359",
   "metadata": {},
   "source": [
    "# Importing Libraries"
   ]
  },
  {
   "cell_type": "code",
   "execution_count": 1,
   "id": "3f8c59a4",
   "metadata": {},
   "outputs": [],
   "source": [
    "# libraries\n",
    "import pandas as pd\n",
    "import sklearn\n",
    "import numpy as np\n",
    "import matplotlib.pyplot as plt\n",
    "import seaborn as sns\n",
    "import re\n",
    "import string\n",
    "import os\n",
    "from sklearn.feature_extraction.text import CountVectorizer, TfidfVectorizer\n",
    "from sklearn.model_selection import train_test_split\n",
    "from sklearn.metrics import classification_report, confusion_matrix\n",
    "from bs4 import BeautifulSoup\n",
    "from textblob import TextBlob\n",
    "import nltk\n",
    "from nltk.corpus import stopwords\n",
    "from wordcloud import WordCloud\n",
    "import warnings\n",
    "import time\n",
    "warnings.filterwarnings(\"ignore\")"
   ]
  },
  {
   "cell_type": "markdown",
   "id": "1d41263d",
   "metadata": {},
   "source": [
    "# Importing Datasets\n",
    "\n",
    "The Kaggle competition provides a training dataset and a testing dataset to use. The datasets are made of real tweets, and will require pre-processing steps before any training step."
   ]
  },
  {
   "cell_type": "code",
   "execution_count": 2,
   "id": "62513ec6",
   "metadata": {},
   "outputs": [
    {
     "data": {
      "text/html": [
       "<div>\n",
       "<style scoped>\n",
       "    .dataframe tbody tr th:only-of-type {\n",
       "        vertical-align: middle;\n",
       "    }\n",
       "\n",
       "    .dataframe tbody tr th {\n",
       "        vertical-align: top;\n",
       "    }\n",
       "\n",
       "    .dataframe thead th {\n",
       "        text-align: right;\n",
       "    }\n",
       "</style>\n",
       "<table border=\"1\" class=\"dataframe\">\n",
       "  <thead>\n",
       "    <tr style=\"text-align: right;\">\n",
       "      <th></th>\n",
       "      <th>id</th>\n",
       "      <th>keyword</th>\n",
       "      <th>location</th>\n",
       "      <th>text</th>\n",
       "      <th>target</th>\n",
       "    </tr>\n",
       "  </thead>\n",
       "  <tbody>\n",
       "    <tr>\n",
       "      <th>0</th>\n",
       "      <td>1</td>\n",
       "      <td>NaN</td>\n",
       "      <td>NaN</td>\n",
       "      <td>Our Deeds are the Reason of this #earthquake M...</td>\n",
       "      <td>1</td>\n",
       "    </tr>\n",
       "    <tr>\n",
       "      <th>1</th>\n",
       "      <td>4</td>\n",
       "      <td>NaN</td>\n",
       "      <td>NaN</td>\n",
       "      <td>Forest fire near La Ronge Sask. Canada</td>\n",
       "      <td>1</td>\n",
       "    </tr>\n",
       "    <tr>\n",
       "      <th>2</th>\n",
       "      <td>5</td>\n",
       "      <td>NaN</td>\n",
       "      <td>NaN</td>\n",
       "      <td>All residents asked to 'shelter in place' are ...</td>\n",
       "      <td>1</td>\n",
       "    </tr>\n",
       "    <tr>\n",
       "      <th>3</th>\n",
       "      <td>6</td>\n",
       "      <td>NaN</td>\n",
       "      <td>NaN</td>\n",
       "      <td>13,000 people receive #wildfires evacuation or...</td>\n",
       "      <td>1</td>\n",
       "    </tr>\n",
       "    <tr>\n",
       "      <th>4</th>\n",
       "      <td>7</td>\n",
       "      <td>NaN</td>\n",
       "      <td>NaN</td>\n",
       "      <td>Just got sent this photo from Ruby #Alaska as ...</td>\n",
       "      <td>1</td>\n",
       "    </tr>\n",
       "  </tbody>\n",
       "</table>\n",
       "</div>"
      ],
      "text/plain": [
       "   id keyword location                                               text  \\\n",
       "0   1     NaN      NaN  Our Deeds are the Reason of this #earthquake M...   \n",
       "1   4     NaN      NaN             Forest fire near La Ronge Sask. Canada   \n",
       "2   5     NaN      NaN  All residents asked to 'shelter in place' are ...   \n",
       "3   6     NaN      NaN  13,000 people receive #wildfires evacuation or...   \n",
       "4   7     NaN      NaN  Just got sent this photo from Ruby #Alaska as ...   \n",
       "\n",
       "   target  \n",
       "0       1  \n",
       "1       1  \n",
       "2       1  \n",
       "3       1  \n",
       "4       1  "
      ]
     },
     "execution_count": 2,
     "metadata": {},
     "output_type": "execute_result"
    }
   ],
   "source": [
    "# Import Train Test set\n",
    "train = pd.read_csv('train.csv')\n",
    "test = pd.read_csv('test.csv')\n",
    "\n",
    "train.head()"
   ]
  },
  {
   "cell_type": "code",
   "execution_count": 3,
   "id": "af425ec2",
   "metadata": {},
   "outputs": [
    {
     "data": {
      "text/html": [
       "<div>\n",
       "<style scoped>\n",
       "    .dataframe tbody tr th:only-of-type {\n",
       "        vertical-align: middle;\n",
       "    }\n",
       "\n",
       "    .dataframe tbody tr th {\n",
       "        vertical-align: top;\n",
       "    }\n",
       "\n",
       "    .dataframe thead th {\n",
       "        text-align: right;\n",
       "    }\n",
       "</style>\n",
       "<table border=\"1\" class=\"dataframe\">\n",
       "  <thead>\n",
       "    <tr style=\"text-align: right;\">\n",
       "      <th></th>\n",
       "      <th>id</th>\n",
       "      <th>keyword</th>\n",
       "      <th>location</th>\n",
       "      <th>text</th>\n",
       "    </tr>\n",
       "  </thead>\n",
       "  <tbody>\n",
       "    <tr>\n",
       "      <th>0</th>\n",
       "      <td>0</td>\n",
       "      <td>NaN</td>\n",
       "      <td>NaN</td>\n",
       "      <td>Just happened a terrible car crash</td>\n",
       "    </tr>\n",
       "    <tr>\n",
       "      <th>1</th>\n",
       "      <td>2</td>\n",
       "      <td>NaN</td>\n",
       "      <td>NaN</td>\n",
       "      <td>Heard about #earthquake is different cities, s...</td>\n",
       "    </tr>\n",
       "    <tr>\n",
       "      <th>2</th>\n",
       "      <td>3</td>\n",
       "      <td>NaN</td>\n",
       "      <td>NaN</td>\n",
       "      <td>there is a forest fire at spot pond, geese are...</td>\n",
       "    </tr>\n",
       "    <tr>\n",
       "      <th>3</th>\n",
       "      <td>9</td>\n",
       "      <td>NaN</td>\n",
       "      <td>NaN</td>\n",
       "      <td>Apocalypse lighting. #Spokane #wildfires</td>\n",
       "    </tr>\n",
       "    <tr>\n",
       "      <th>4</th>\n",
       "      <td>11</td>\n",
       "      <td>NaN</td>\n",
       "      <td>NaN</td>\n",
       "      <td>Typhoon Soudelor kills 28 in China and Taiwan</td>\n",
       "    </tr>\n",
       "  </tbody>\n",
       "</table>\n",
       "</div>"
      ],
      "text/plain": [
       "   id keyword location                                               text\n",
       "0   0     NaN      NaN                 Just happened a terrible car crash\n",
       "1   2     NaN      NaN  Heard about #earthquake is different cities, s...\n",
       "2   3     NaN      NaN  there is a forest fire at spot pond, geese are...\n",
       "3   9     NaN      NaN           Apocalypse lighting. #Spokane #wildfires\n",
       "4  11     NaN      NaN      Typhoon Soudelor kills 28 in China and Taiwan"
      ]
     },
     "execution_count": 3,
     "metadata": {},
     "output_type": "execute_result"
    }
   ],
   "source": [
    "test.head()"
   ]
  },
  {
   "cell_type": "markdown",
   "id": "a9f8009b",
   "metadata": {},
   "source": [
    "# EDA"
   ]
  },
  {
   "cell_type": "markdown",
   "id": "385bca93",
   "metadata": {},
   "source": [
    "Printing Unique Keywords"
   ]
  },
  {
   "cell_type": "code",
   "execution_count": 4,
   "id": "4e0f05eb",
   "metadata": {},
   "outputs": [
    {
     "name": "stdout",
     "output_type": "stream",
     "text": [
      "{nan, 'bioterror', 'hijacker', 'bridge%20collapse', 'arson', 'snowstorm', 'inundated', 'eyewitness', 'derailed', 'engulfed', 'injuries', 'violent%20storm', 'rubble', 'heat%20wave', 'weapon', 'flooding', 'screaming', 'buildings%20burning', 'siren', 'terrorist', 'traumatised', 'fire%20truck', 'devastated', 'lava', 'tragedy', 'blown%20up', 'desolate', 'seismic', 'trapped', 'body%20bag', 'devastation', 'hellfire', 'burning%20buildings', 'tsunami', 'structural%20failure', 'whirlwind', 'harm', 'storm', 'drowning', 'drought', 'fatality', 'massacre', 'inundation', 'bioterrorism', 'sinking', 'army', 'refugees', 'smoke', 'trouble', 'crush', 'death', 'sinkhole', 'wildfire', 'blight', 'rioting', 'airplane%20accident', 'fatalities', 'explosion', 'explode', 'forest%20fires', 'blew%20up', 'cliff%20fall', 'bleeding', 'rescue', 'avalanche', 'trauma', 'panicking', 'obliterated', 'floods', 'stretcher', 'wounds', 'emergency%20plan', 'wreckage', 'deluged', 'hazardous', 'chemical%20emergency', 'collapse', 'injured', 'panic', 'rescuers', 'upheaval', 'annihilated', 'flattened', 'terrorism', 'police', 'evacuate', 'forest%20fire', 'casualty', 'detonation', 'mayhem', 'burning', 'wrecked', 'demolished', 'exploded', 'damage', 'blazing', 'dust%20storm', 'electrocuted', 'crushed', 'hostages', 'collision', 'injury', 'drown', 'hailstorm', 'weapons', 'thunderstorm', 'mass%20murderer', 'ambulance', 'bloody', 'demolition', 'volcano', 'curfew', 'collided', 'bombed', 'wounded', 'collapsed', 'hijacking', 'lightning', 'burned', 'natural%20disaster', 'bomb', 'pandemonium', 'body%20bags', 'dead', 'military', 'annihilation', 'buildings%20on%20fire', 'aftershock', 'destruction', 'nuclear%20disaster', 'fire', 'radiation%20emergency', 'obliterate', 'thunder', 'wreck', 'mudslide', 'landslide', 'survive', 'bush%20fires', 'casualties', 'electrocute', 'hazard', 'body%20bagging', 'crashed', 'obliteration', 'attacked', 'rescued', 'collide', 'windstorm', 'survivors', 'arsonist', 'crash', 'cyclone', 'evacuated', 'danger', 'threat', 'screams', 'apocalypse', 'rainstorm', 'suicide%20bomb', 'demolish', 'deaths', 'quarantined', 'epicentre', 'attack', 'flames', 'razed', 'typhoon', 'derail', 'desolation', 'deluge', 'first%20responders', 'hijack', 'quarantine', 'destroy', 'wild%20fires', 'sirens', 'sunk', 'tornado', 'debris', 'loud%20bang', 'war%20zone', 'blaze', 'hostage', 'accident', 'blood', 'battle', 'bombing', 'catastrophe', 'derailment', 'destroyed', 'emergency%20services', 'hail', 'earthquake', 'detonate', 'displaced', 'evacuation', 'outbreak', 'emergency', 'armageddon', 'mass%20murder', 'catastrophic', 'nuclear%20reactor', 'oil%20spill', 'twister', 'sandstorm', 'ablaze', 'riot', 'suicide%20bomber', 'suicide%20bombing', 'drowned', 'screamed', 'hurricane', 'fear', 'ruin', 'blizzard', 'disaster', 'flood', 'meltdown', 'famine', 'fatal', 'survived'}\n"
     ]
    }
   ],
   "source": [
    "keywords = set(train['keyword'].tolist())\n",
    "print(keywords)"
   ]
  },
  {
   "cell_type": "markdown",
   "id": "e5537f69",
   "metadata": {},
   "source": [
    "Dataset info"
   ]
  },
  {
   "cell_type": "code",
   "execution_count": 5,
   "id": "f2cf38de",
   "metadata": {},
   "outputs": [
    {
     "name": "stdout",
     "output_type": "stream",
     "text": [
      "<class 'pandas.core.frame.DataFrame'>\n",
      "RangeIndex: 3263 entries, 0 to 3262\n",
      "Data columns (total 4 columns):\n",
      " #   Column    Non-Null Count  Dtype \n",
      "---  ------    --------------  ----- \n",
      " 0   id        3263 non-null   int64 \n",
      " 1   keyword   3237 non-null   object\n",
      " 2   location  2158 non-null   object\n",
      " 3   text      3263 non-null   object\n",
      "dtypes: int64(1), object(3)\n",
      "memory usage: 102.1+ KB\n"
     ]
    }
   ],
   "source": [
    "test.info()"
   ]
  },
  {
   "cell_type": "code",
   "execution_count": 6,
   "id": "e1cecdd5",
   "metadata": {},
   "outputs": [
    {
     "name": "stdout",
     "output_type": "stream",
     "text": [
      "<class 'pandas.core.frame.DataFrame'>\n",
      "RangeIndex: 7613 entries, 0 to 7612\n",
      "Data columns (total 5 columns):\n",
      " #   Column    Non-Null Count  Dtype \n",
      "---  ------    --------------  ----- \n",
      " 0   id        7613 non-null   int64 \n",
      " 1   keyword   7552 non-null   object\n",
      " 2   location  5080 non-null   object\n",
      " 3   text      7613 non-null   object\n",
      " 4   target    7613 non-null   int64 \n",
      "dtypes: int64(2), object(3)\n",
      "memory usage: 297.5+ KB\n"
     ]
    }
   ],
   "source": [
    "train.info()"
   ]
  },
  {
   "cell_type": "markdown",
   "id": "f2568163",
   "metadata": {},
   "source": [
    "Null counts for each feature in each dataset"
   ]
  },
  {
   "cell_type": "code",
   "execution_count": 7,
   "id": "7b461b4a",
   "metadata": {},
   "outputs": [
    {
     "name": "stdout",
     "output_type": "stream",
     "text": [
      "Null counts for train dataset:\n",
      "id             0\n",
      "keyword       61\n",
      "location    2533\n",
      "text           0\n",
      "target         0\n",
      "dtype: int64\n",
      "Null counts for test dataset:\n",
      "id             0\n",
      "keyword       26\n",
      "location    1105\n",
      "text           0\n",
      "dtype: int64\n"
     ]
    }
   ],
   "source": [
    "# null count\n",
    "print(\"Null counts for train dataset:\")\n",
    "print(train.isna().sum())\n",
    "print(\"Null counts for test dataset:\")\n",
    "print(test.isna().sum())"
   ]
  },
  {
   "cell_type": "markdown",
   "id": "edf9447a",
   "metadata": {},
   "source": [
    "Plotting Null counts by dataset"
   ]
  },
  {
   "cell_type": "code",
   "execution_count": 8,
   "id": "915c8063",
   "metadata": {},
   "outputs": [
    {
     "data": {
      "text/plain": [
       "Text(0.5, 1.0, 'NaN Counts by Dataset')"
      ]
     },
     "execution_count": 8,
     "metadata": {},
     "output_type": "execute_result"
    },
    {
     "data": {
      "image/png": "[encoded data removed]",
      "text/plain": [
       "<Figure size 432x288 with 1 Axes>"
      ]
     },
     "metadata": {},
     "output_type": "display_data"
    }
   ],
   "source": [
    "# plot null count by dataset\n",
    "train_null_count = int(train['keyword'].isna().sum()) + int(train['location'].isna().sum())\n",
    "test_null_count = int(train['keyword'].isna().sum()) + + int(test['location'].isna().sum())\n",
    "\n",
    "nullcount = [[\"Train\", train_null_count], [\"Test\", test_null_count]]\n",
    "nulldf = pd.DataFrame(nullcount, columns = [\"Dataset\", \"NaN Count\"])\n",
    "\n",
    "plt.style.use('ggplot')\n",
    "\n",
    "sns.barplot(x='NaN Count', y='Dataset', data = nulldf)\n",
    "plt.title('NaN Counts by Dataset')"
   ]
  },
  {
   "cell_type": "markdown",
   "id": "39ecf220",
   "metadata": {},
   "source": [
    "Plotting Null counts by feature"
   ]
  },
  {
   "cell_type": "code",
   "execution_count": 9,
   "id": "adbc73c7",
   "metadata": {},
   "outputs": [
    {
     "data": {
      "text/plain": [
       "Text(0.5, 1.0, 'NaN Counts by Feature')"
      ]
     },
     "execution_count": 9,
     "metadata": {},
     "output_type": "execute_result"
    },
    {
     "data": {
      "image/png": "[encoded data removed]",
      "text/plain": [
       "<Figure size 432x288 with 1 Axes>"
      ]
     },
     "metadata": {},
     "output_type": "display_data"
    }
   ],
   "source": [
    "# count null values by feature\n",
    "counts = []\n",
    "\n",
    "for i in range(len(train.columns) - 1):\n",
    "    counts.append(0)\n",
    "for i in range(len(train.columns) - 1):\n",
    "    counts[i] += train[train.columns[i]].isna().sum()\n",
    "    counts[i] += test[test.columns[i]].isna().sum()\n",
    "\n",
    "# build dataframe for nan counts\n",
    "d = {\"Feature\": train.columns[:len(train.columns)-1], \"NaN Counts\": counts}\n",
    "null_feat_df = pd.DataFrame(data=d)\n",
    "\n",
    "# plotting \n",
    "plt.style.use('ggplot')\n",
    "sns.barplot(x='NaN Counts', y='Feature', data = null_feat_df)\n",
    "plt.title('NaN Counts by Feature')"
   ]
  },
  {
   "cell_type": "markdown",
   "id": "241ad60a",
   "metadata": {},
   "source": [
    "Each tweet gets classified as a disaster tweet or not, which is represented as a binary value"
   ]
  },
  {
   "cell_type": "code",
   "execution_count": 10,
   "id": "25168683",
   "metadata": {},
   "outputs": [
    {
     "data": {
      "text/plain": [
       "Text(0.5, 1.0, 'Target Class Label Count')"
      ]
     },
     "execution_count": 10,
     "metadata": {},
     "output_type": "execute_result"
    },
    {
     "data": {
      "image/png": "[encoded data removed]",
      "text/plain": [
       "<Figure size 432x288 with 1 Axes>"
      ]
     },
     "metadata": {},
     "output_type": "display_data"
    }
   ],
   "source": [
    "# plot target label count\n",
    "plt.style.use('ggplot')\n",
    "\n",
    "sns.countplot('target', data = train)\n",
    "plt.title('Target Class Label Count')"
   ]
  },
  {
   "cell_type": "markdown",
   "id": "9e9a3d1a",
   "metadata": {},
   "source": [
    "A WordCould Image of the keywords feature. Bigger words represent higher occurance in the dataset"
   ]
  },
  {
   "cell_type": "code",
   "execution_count": 11,
   "id": "4346fd1e",
   "metadata": {},
   "outputs": [],
   "source": [
    "# generate wordcloud image of keywords\n",
    "keys = train['keyword'].dropna().tolist()\n",
    "\n",
    "for i in range(len(keys)):\n",
    "    keys[i] = keys[i].replace(\"%20\", ' ')\n",
    "    \n",
    "keys = ' '.join(keys)"
   ]
  },
  {
   "cell_type": "code",
   "execution_count": 12,
   "id": "e87f881f",
   "metadata": {},
   "outputs": [
    {
     "data": {
      "text/plain": [
       "<function matplotlib.pyplot.imshow(X, cmap=None, norm=None, *, aspect=None, interpolation=None, alpha=None, vmin=None, vmax=None, origin=None, extent=None, interpolation_stage=None, filternorm=True, filterrad=4.0, resample=None, url=None, data=None, **kwargs)>"
      ]
     },
     "execution_count": 12,
     "metadata": {},
     "output_type": "execute_result"
    },
    {
     "data": {
      "image/png": "[encoded data removed]",
      "text/plain": [
       "<Figure size 432x288 with 1 Axes>"
      ]
     },
     "metadata": {},
     "output_type": "display_data"
    }
   ],
   "source": [
    "wordcloud = WordCloud().generate(keys)\n",
    "plt.imshow(wordcloud)\n",
    "plt.axis('off')\n",
    "plt.imshow"
   ]
  },
  {
   "cell_type": "markdown",
   "id": "8fe8e8a1",
   "metadata": {},
   "source": [
    "Analyzing the stop word count"
   ]
  },
  {
   "cell_type": "code",
   "execution_count": 13,
   "id": "10a7128d",
   "metadata": {},
   "outputs": [
    {
     "name": "stderr",
     "output_type": "stream",
     "text": [
      "[nltk_data] Downloading package stopwords to\n",
      "[nltk_data]     C:\\Users\\Aaron\\AppData\\Roaming\\nltk_data...\n",
      "[nltk_data]   Package stopwords is already up-to-date!\n"
     ]
    },
    {
     "name": "stdout",
     "output_type": "stream",
     "text": [
      "Ratio of stop words in train set:  0.25155780400313765\n",
      "Ratio of stop words in test set:  0.2466005897771953\n"
     ]
    }
   ],
   "source": [
    "import nltk\n",
    "from nltk.corpus import stopwords\n",
    "nltk.download('stopwords')\n",
    "\n",
    "# count stopwords in train/test\n",
    "stopwords= stopwords.words('english')\n",
    "\n",
    "train_text = train['text'].tolist()\n",
    "test_text = test['text'].tolist()\n",
    "\n",
    "tot_train_ctr = 0\n",
    "tot_test_ctr = 0\n",
    "train_ctr = 0\n",
    "test_ctr = 0\n",
    "\n",
    "for i in range(len(train_text)):\n",
    "    words = train_text[i].split()\n",
    "    for word in words:\n",
    "        if word in stopwords:\n",
    "            train_ctr += 1\n",
    "        tot_train_ctr += 1\n",
    "for i in range(len(test_text)):\n",
    "    words = test_text[i].split()\n",
    "    for word in words:\n",
    "        if word in stopwords:\n",
    "            test_ctr += 1\n",
    "        tot_test_ctr += 1\n",
    "\n",
    "# get the ratio of stop words to total words\n",
    "print(\"Ratio of stop words in train set: \", train_ctr / tot_train_ctr)\n",
    "print(\"Ratio of stop words in test set: \", test_ctr / tot_test_ctr)"
   ]
  },
  {
   "cell_type": "markdown",
   "id": "17ac8e8f",
   "metadata": {},
   "source": [
    "Approx. 25% of all words in both the training and test sets are made of stop words (irrelevant words). In order to create more accurate embeddings, we'll have to get rid of all the irrelevant words. This will greatly help for appraoches that use word embeddings/vectorization. "
   ]
  },
  {
   "cell_type": "markdown",
   "id": "3ab51060",
   "metadata": {},
   "source": [
    "# Pre-Processing"
   ]
  },
  {
   "cell_type": "markdown",
   "id": "40e8201c",
   "metadata": {},
   "source": [
    "Helper Functions to apply on the text feature of the dataframe\n",
    "\n",
    "First, a function to expand all contractions in text"
   ]
  },
  {
   "cell_type": "code",
   "execution_count": 14,
   "id": "ecfcb14f",
   "metadata": {},
   "outputs": [],
   "source": [
    "import contractions # expands contractions (ex: I'll => I will)"
   ]
  },
  {
   "cell_type": "code",
   "execution_count": 15,
   "id": "637abe6b",
   "metadata": {},
   "outputs": [],
   "source": [
    "def contraction_expand(df):\n",
    "    return contractions.fix(df)"
   ]
  },
  {
   "cell_type": "markdown",
   "id": "c1ffdabb",
   "metadata": {},
   "source": [
    "Next, a function to convert text to lower case"
   ]
  },
  {
   "cell_type": "code",
   "execution_count": 16,
   "id": "0f8b69c2",
   "metadata": {},
   "outputs": [],
   "source": [
    "def lowercase_text(df):\n",
    "    return df.lower()"
   ]
  },
  {
   "cell_type": "markdown",
   "id": "88c10b0d",
   "metadata": {},
   "source": [
    "A function to cast everything to a string type"
   ]
  },
  {
   "cell_type": "code",
   "execution_count": 17,
   "id": "c5b46988",
   "metadata": {},
   "outputs": [],
   "source": [
    "def string_text(df):\n",
    "    return str(df)"
   ]
  },
  {
   "cell_type": "markdown",
   "id": "ae29742c",
   "metadata": {},
   "source": [
    "A function to remove twitter handles"
   ]
  },
  {
   "cell_type": "code",
   "execution_count": 18,
   "id": "ff23ef9c",
   "metadata": {},
   "outputs": [],
   "source": [
    "def remove_user(df):\n",
    "    return re.sub('@[^\\s]+','', df)"
   ]
  },
  {
   "cell_type": "markdown",
   "id": "40ab3ed2",
   "metadata": {},
   "source": [
    "A function to remove links"
   ]
  },
  {
   "cell_type": "code",
   "execution_count": 19,
   "id": "6e339de8",
   "metadata": {},
   "outputs": [],
   "source": [
    "def remove_link(df):\n",
    "    return re.sub(r'(http|https|ftp|ssh)://([\\w_-]+(?:(?:\\.[\\w_-]+)+))([\\w.,@?^=%&:/~+#-]*[\\w@?^=%&/~+#-])?', '' , df)"
   ]
  },
  {
   "cell_type": "markdown",
   "id": "ba48c0e2",
   "metadata": {},
   "source": [
    "A function to remove all emails"
   ]
  },
  {
   "cell_type": "code",
   "execution_count": 20,
   "id": "02199714",
   "metadata": {},
   "outputs": [],
   "source": [
    "def remove_email(df):\n",
    "    return re.sub(r'([a-z0-9+._-]+@[a-z0-9+._-]+\\.[a-z0-9+_-]+)',\"\", df)"
   ]
  },
  {
   "cell_type": "markdown",
   "id": "c51ded6d",
   "metadata": {},
   "source": [
    "A function to remove retweets"
   ]
  },
  {
   "cell_type": "code",
   "execution_count": 21,
   "id": "bdd5ea58",
   "metadata": {},
   "outputs": [],
   "source": [
    "def remove_rt(df):\n",
    "    return re.sub(r'\\brt\\b', \"\", df).strip()"
   ]
  },
  {
   "cell_type": "markdown",
   "id": "0ac55b44",
   "metadata": {},
   "source": [
    "A function to strip all text of leading and trailing white space"
   ]
  },
  {
   "cell_type": "code",
   "execution_count": 22,
   "id": "ffafda43",
   "metadata": {},
   "outputs": [],
   "source": [
    "def strip_text(df):\n",
    "    return df.strip()"
   ]
  },
  {
   "cell_type": "markdown",
   "id": "e7bbfc64",
   "metadata": {},
   "source": [
    "A function to remove special characters"
   ]
  },
  {
   "cell_type": "code",
   "execution_count": 23,
   "id": "a3e44abb",
   "metadata": {},
   "outputs": [],
   "source": [
    "def remove_special_chars(df):\n",
    "    df = re.sub(r'[^\\w]+', \" \", df)\n",
    "    df = ' '.join(df.split())\n",
    "    return df"
   ]
  },
  {
   "cell_type": "markdown",
   "id": "a8d21f33",
   "metadata": {},
   "source": [
    "A driver function to apply all the preprocessing steps at once onto a dataframe"
   ]
  },
  {
   "cell_type": "code",
   "execution_count": 24,
   "id": "13814f77",
   "metadata": {},
   "outputs": [],
   "source": [
    "def clean_data(df):\n",
    "    df = string_text(df)\n",
    "    df = contraction_expand(df)\n",
    "    df = lowercase_text(df)\n",
    "    df = remove_email(df)\n",
    "    df = remove_link(df)\n",
    "    df = remove_rt(df)\n",
    "    df = remove_user(df)\n",
    "    df = strip_text(df)\n",
    "    return df"
   ]
  },
  {
   "cell_type": "markdown",
   "id": "ac77d857",
   "metadata": {},
   "source": [
    "Apply the driver function onto the train and test sets"
   ]
  },
  {
   "cell_type": "code",
   "execution_count": 25,
   "id": "aeeca21f",
   "metadata": {},
   "outputs": [],
   "source": [
    "train['text'] = train['text'].apply(clean_data)\n",
    "test['text'] = test['text'].apply(clean_data)\n",
    "train['keyword'] = train['keyword'].apply(clean_data)\n",
    "test['keyword'] = test['keyword'].apply(clean_data)"
   ]
  },
  {
   "cell_type": "markdown",
   "id": "3ac075e4",
   "metadata": {},
   "source": [
    "Apply the special characters function on the train and test set"
   ]
  },
  {
   "cell_type": "code",
   "execution_count": 26,
   "id": "a5833d6b",
   "metadata": {},
   "outputs": [],
   "source": [
    "train['text'] = train['text'].apply(remove_special_chars)\n",
    "test['text'] = test['text'].apply(remove_special_chars)\n",
    "train['keyword'] = train['keyword'].apply(remove_special_chars)\n",
    "test['keyword'] = test['keyword'].apply(remove_special_chars)"
   ]
  },
  {
   "cell_type": "markdown",
   "id": "f6833ec4",
   "metadata": {},
   "source": [
    "Remove all digits from the train and test set"
   ]
  },
  {
   "cell_type": "code",
   "execution_count": 27,
   "id": "b0244a74",
   "metadata": {},
   "outputs": [],
   "source": [
    "# Replacing digit characters with empty strings\n",
    "train['text'] = train['text'].str.replace('\\d+', '')\n",
    "test['text'] = test['text'].str.replace('\\d+', '')\n",
    "train['keyword'] = train['keyword'].str.replace('\\d+', '')\n",
    "test['keyword'] = test['keyword'].str.replace('\\d+', '')"
   ]
  },
  {
   "cell_type": "markdown",
   "id": "7026e51e",
   "metadata": {},
   "source": [
    "Remove all stop words"
   ]
  },
  {
   "cell_type": "code",
   "execution_count": 28,
   "id": "6a161dab",
   "metadata": {},
   "outputs": [],
   "source": [
    "# python module based of Numpy and Scipy for NLP preprocessing\n",
    "from gensim.parsing.preprocessing import STOPWORDS\n",
    "# handy function for removing stopwords\n",
    "# simply have to apply this function to the dataset\n",
    "from gensim.parsing.preprocessing import remove_stopwords"
   ]
  },
  {
   "cell_type": "code",
   "execution_count": 29,
   "id": "9e0c0679",
   "metadata": {},
   "outputs": [],
   "source": [
    "#remove stopwords from the train/test set\n",
    "train['text'] = train['text'].apply(remove_stopwords)\n",
    "test['text'] = test['text'].apply(remove_stopwords)"
   ]
  },
  {
   "cell_type": "markdown",
   "id": "019a7e0d",
   "metadata": {},
   "source": [
    "The id feature is irrelevant for this problem, so we can ignore it. The location feature contains the most amount of NaN values, so we can just ignore it. \n",
    "\n",
    "The keyword feature is a feature that indicates the most relevant word in the tweet. Basically it is the word that would indicate that a given tweet is a potential diaster tweet. There are a multiple ways to deal with this feature. The two ways I will try is first to ignore the keword feature entirely, and then to try and combine the keyword and text features (concatenate the keyword onto the tweet's text). It will be interesting to see how different the results will be, if at all. \n"
   ]
  },
  {
   "cell_type": "markdown",
   "id": "07bedef8",
   "metadata": {},
   "source": [
    "Merge keyword and text features into one content feature. We'll only merge keywords and text if the keyword is not a NaN. If it is, we don't need to do anything"
   ]
  },
  {
   "cell_type": "code",
   "execution_count": 30,
   "id": "e6d9a1fe",
   "metadata": {},
   "outputs": [],
   "source": [
    "train_content = train['text'].tolist()\n",
    "test_content = test['text'].tolist()\n",
    "\n",
    "train_keywords = train['keyword'].tolist()\n",
    "test_keywords = test['keyword'].tolist()\n",
    "\n",
    "for i in range(len(train_keywords)):\n",
    "    if train_keywords[i] != \"nan\":\n",
    "        train_content[i] = train_keywords[i] + \" \" + train_content[i]\n",
    "    \n",
    "for i in range(len(test_keywords)):\n",
    "    if test_keywords[i] != \"nan\":\n",
    "        test_content[i] = test_keywords[i] + \" \" + test_content[i]\n",
    "    \n",
    "train['content'] = train_content\n",
    "test['content'] = test_content"
   ]
  },
  {
   "cell_type": "markdown",
   "id": "bb6b8542",
   "metadata": {},
   "source": [
    "### Word Embeddings\n",
    "\n",
    "One common and effective approach to NLP classification problems is to create word embeddings. There are multiple ways to create word embeddings. The two ways I will use is the CountVectorizer and the TF-IDF Vectorizer. \n",
    "\n",
    "**Count Vectorizer** - A word embedding based on the counts of a specific word in a vocabulary for each text document. Produces a sparse matrix of token counts.\n",
    "\n",
    "\n",
    "**vs.**\n",
    "\n",
    "\n",
    "**TF-IDF Vectorizer** - Similar to the Count Vectorizer, it is a word embedding based on counts. But each word has a term frequency and a document frequency, so the new embeddings are created by multiplying the term frequency and the inverse of the document frequency. \n",
    "\n",
    "\n",
    "\n",
    "**Both vectorizers** are useful ways of creating a numbeical representation of text. The Count Vectorizer is inherently biased towards words that appear most frequently. This can be a problem, expecially in cases where the document size differs greatly. This issue is fized by the TF-IDF apprach, which which weights each count by the inverse of the occurances in the whole corpus. \n",
    "\n",
    "I think in this specific problem, we shouldn't expect to see a noticable difference when using either embedding, because Twitter puts a character limit on tweets. This means that documents in the corpus will not differ by a large amount. \n",
    "\n",
    "Both embeddings also produce a sparce matrix, which could limit the robustness of models.\n"
   ]
  },
  {
   "cell_type": "markdown",
   "id": "fe991c7e",
   "metadata": {},
   "source": [
    "Get the corpus data and target data"
   ]
  },
  {
   "cell_type": "code",
   "execution_count": 31,
   "id": "62aeb945",
   "metadata": {},
   "outputs": [],
   "source": [
    "text_corpus = train['text']\n",
    "content_corpus = train['content']\n",
    "y = train['target']"
   ]
  },
  {
   "cell_type": "markdown",
   "id": "a4caa07d",
   "metadata": {},
   "source": [
    "Establish word embeddors from scikit learn. "
   ]
  },
  {
   "cell_type": "code",
   "execution_count": 32,
   "id": "e825770c",
   "metadata": {},
   "outputs": [],
   "source": [
    "tfidf = TfidfVectorizer()\n",
    "countVec = CountVectorizer()"
   ]
  },
  {
   "cell_type": "markdown",
   "id": "f7c523ac",
   "metadata": {},
   "source": [
    "### Vectorize the text corpus"
   ]
  },
  {
   "cell_type": "code",
   "execution_count": 33,
   "id": "f6236c81",
   "metadata": {},
   "outputs": [],
   "source": [
    "X_text_tfidf = tfidf.fit_transform(text_corpus)\n",
    "X_text_count = countVec.fit_transform(text_corpus)"
   ]
  },
  {
   "cell_type": "markdown",
   "id": "ed04146f",
   "metadata": {},
   "source": [
    "# Testing on Various Baseline models - Text Corpus\n",
    "\n",
    "**Logistic Regression** - Regression model based on estimating values using the Logit Function. It is a fast and flexible model that can perform binary classification tasks, and can work with Discrete and continuous data.\n",
    "\n",
    "**Random Forest Classifier** - An ensemble learning model that uses multiple Decision Trees on various subsets of data to find the best classification. It is suitable for binary classification problems, can handle discrete and continuous data, and offers higher accuracy than the regular decision tree classifier. \n",
    "\n",
    "**Naive Bayes Algorithms** - A proabilistic model that is based off the Bayes theorem of conditional probability. It is very fast, and and offers great accuracy, especially in the context of Natural Language Processing, and text classification. It is also able to handle discrete and continuous data. "
   ]
  },
  {
   "cell_type": "code",
   "execution_count": 34,
   "id": "1a499411",
   "metadata": {},
   "outputs": [],
   "source": [
    "# for computing accuracy of prediction \n",
    "from sklearn.metrics import accuracy_score"
   ]
  },
  {
   "cell_type": "markdown",
   "id": "d8ea5687",
   "metadata": {},
   "source": [
    "## Testing baseline models on the count vectorizer embedded data.\n",
    "\n",
    "First - Train-Val-Split"
   ]
  },
  {
   "cell_type": "code",
   "execution_count": 35,
   "id": "4c5f6cde",
   "metadata": {},
   "outputs": [],
   "source": [
    "# Train Test Split\n",
    "X_train, X_val, y_train, y_val = train_test_split(X_text_count, y, test_size=0.2, random_state=0)"
   ]
  },
  {
   "cell_type": "markdown",
   "id": "20d84814",
   "metadata": {},
   "source": [
    "### Logistic Regression \n",
    "\n",
    "Train and evaluate model"
   ]
  },
  {
   "cell_type": "code",
   "execution_count": 36,
   "id": "63c3ba24",
   "metadata": {},
   "outputs": [],
   "source": [
    "# Logistic Regression\n",
    "from sklearn.linear_model import LogisticRegression\n",
    "\n",
    "def LogReg(X_train, y_train, X_val, y_val):\n",
    "    start_time = time.time()\n",
    "    \n",
    "    logreg_clf = LogisticRegression()\n",
    "    logreg_clf.fit(X_train, y_train)\n",
    "    y_pred = logreg_clf.predict(X_val)\n",
    "    print(\"Logistic Regression [Count Vectorizer, Text Feature]\\n\")\n",
    "    print(classification_report(y_val, y_pred))\n",
    "    print(\"Execution Time:\", time.time() - start_time, \"seconds\")\n",
    "    return\n",
    "\n",
    "\n"
   ]
  },
  {
   "cell_type": "markdown",
   "id": "80ae8ccf",
   "metadata": {},
   "source": [
    "Logistic Regression with Count Vectorizer and Text Feature"
   ]
  },
  {
   "cell_type": "code",
   "execution_count": 37,
   "id": "8a874f25",
   "metadata": {},
   "outputs": [
    {
     "name": "stdout",
     "output_type": "stream",
     "text": [
      "Logistic Regression [Count Vectorizer, Text Feature]\n",
      "\n",
      "              precision    recall  f1-score   support\n",
      "\n",
      "           0       0.80      0.90      0.85       886\n",
      "           1       0.83      0.68      0.75       637\n",
      "\n",
      "    accuracy                           0.81      1523\n",
      "   macro avg       0.81      0.79      0.80      1523\n",
      "weighted avg       0.81      0.81      0.81      1523\n",
      "\n",
      "Execution Time: 0.10870361328125 seconds\n"
     ]
    }
   ],
   "source": [
    "LogReg(X_train, y_train, X_val, y_val)"
   ]
  },
  {
   "cell_type": "markdown",
   "id": "b38afe80",
   "metadata": {},
   "source": [
    "### Random Forest Classifier\n",
    "\n",
    "Function to Train and Evaluate Model given train and validation sets"
   ]
  },
  {
   "cell_type": "code",
   "execution_count": 38,
   "id": "53c38d0d",
   "metadata": {},
   "outputs": [],
   "source": [
    "#Random Forest Classifier\n",
    "from sklearn.ensemble import RandomForestClassifier\n",
    "\n",
    "def RandomForest(X_train, y_train, X_val, y_val):\n",
    "    \n",
    "\n",
    "    start_time = time.time()\n",
    "\n",
    "    rf_clf = RandomForestClassifier()\n",
    "    rf_clf.fit(X_train, y_train)\n",
    "    y_pred = rf_clf.predict(X_val)\n",
    "    print(\"Random Forest Classifier [Count Vectorizer, Text Feature]\\n\")\n",
    "    print(classification_report(y_val, y_pred))\n",
    "    print(\"Execution Time:\", time.time() - start_time, \"seconds\")\n",
    "    return "
   ]
  },
  {
   "cell_type": "markdown",
   "id": "2acb389d",
   "metadata": {},
   "source": [
    "Random Forest with Count Vectorizer and Text Feature"
   ]
  },
  {
   "cell_type": "code",
   "execution_count": 39,
   "id": "e1f44fa0",
   "metadata": {},
   "outputs": [
    {
     "name": "stdout",
     "output_type": "stream",
     "text": [
      "Random Forest Classifier [Count Vectorizer, Text Feature]\n",
      "\n",
      "              precision    recall  f1-score   support\n",
      "\n",
      "           0       0.77      0.89      0.83       886\n",
      "           1       0.81      0.64      0.71       637\n",
      "\n",
      "    accuracy                           0.79      1523\n",
      "   macro avg       0.79      0.77      0.77      1523\n",
      "weighted avg       0.79      0.79      0.78      1523\n",
      "\n",
      "Execution Time: 13.370379447937012 seconds\n"
     ]
    }
   ],
   "source": [
    "RandomForest(X_train, y_train, X_val, y_val)"
   ]
  },
  {
   "cell_type": "markdown",
   "id": "40874931",
   "metadata": {},
   "source": [
    "### Naive Bayes Algorithms\n",
    "\n",
    "Function to Train and Evaluate Model given train and validation sets"
   ]
  },
  {
   "cell_type": "code",
   "execution_count": 40,
   "id": "fffa2ccc",
   "metadata": {},
   "outputs": [],
   "source": [
    "from sklearn.naive_bayes import MultinomialNB,GaussianNB,BernoulliNB"
   ]
  },
  {
   "cell_type": "markdown",
   "id": "fe099275",
   "metadata": {},
   "source": [
    "Multinomial Naive Bayes Algorithm"
   ]
  },
  {
   "cell_type": "code",
   "execution_count": 41,
   "id": "f7bd7d70",
   "metadata": {},
   "outputs": [],
   "source": [
    "def MultiNB(X_train, y_train, X_val, y_val):\n",
    "    start_time = time.time()\n",
    "\n",
    "    mnb_clf = MultinomialNB()\n",
    "    mnb_clf.fit(X_train, y_train)\n",
    "    y_pred = mnb_clf.predict(X_val)\n",
    "    print(\"Multinomial Naive Bayes [Count Vectorizer, Text Feature]\\n\")\n",
    "    print(classification_report(y_val, y_pred))\n",
    "    print(\"Execution Time:\", time.time() - start_time, \"seconds\")\n",
    "    \n",
    "    return\n",
    "    "
   ]
  },
  {
   "cell_type": "markdown",
   "id": "b3a2785d",
   "metadata": {},
   "source": [
    "Gaussian Naive Bayes Algorithm"
   ]
  },
  {
   "cell_type": "code",
   "execution_count": 42,
   "id": "825939b5",
   "metadata": {},
   "outputs": [],
   "source": [
    "def GaussNB(X_train, y_train, X_val, y_val):\n",
    "    start_time = time.time()\n",
    "\n",
    "    gnb_clf = sklearn.naive_bayes.GaussianNB()\n",
    "    gnb_clf.fit(X_train.toarray(), y_train)\n",
    "    y_pred = gnb_clf.predict(X_val.toarray())\n",
    "    print(\"Gaussian Naive Bayes [Count Vectorizer, Text Feature]\\n\")\n",
    "    print(classification_report(y_val, y_pred))\n",
    "    print(\"Execution Time:\", time.time() - start_time, \"seconds\")\n",
    "    \n",
    "    return"
   ]
  },
  {
   "cell_type": "markdown",
   "id": "08204640",
   "metadata": {},
   "source": [
    "Bernoulli Naive Bayes Algorithm"
   ]
  },
  {
   "cell_type": "code",
   "execution_count": 43,
   "id": "d35bbe1c",
   "metadata": {},
   "outputs": [],
   "source": [
    "def BernNB(X_train, y_train, X_val, y_val):\n",
    "    start_time = time.time()\n",
    "\n",
    "    bnb_clf = sklearn.naive_bayes.BernoulliNB()\n",
    "    bnb_clf.fit(X_train.toarray(), y_train)\n",
    "    y_pred = bnb_clf.predict(X_val.toarray())\n",
    "    print(\"Bernoulli Naive Bayes [Count Vectorizer, Text Feature]\\n\")\n",
    "    print(classification_report(y_val, y_pred))\n",
    "    print(\"Execution Time:\", time.time() - start_time, \"seconds\")"
   ]
  },
  {
   "cell_type": "markdown",
   "id": "ea2bd5fd",
   "metadata": {},
   "source": [
    "Run the three naive bayes algorithms on the text feature embedded with the count vectorizer"
   ]
  },
  {
   "cell_type": "code",
   "execution_count": 44,
   "id": "24c34f88",
   "metadata": {},
   "outputs": [
    {
     "name": "stdout",
     "output_type": "stream",
     "text": [
      "Multinomial Naive Bayes [Count Vectorizer, Text Feature]\n",
      "\n",
      "              precision    recall  f1-score   support\n",
      "\n",
      "           0       0.81      0.85      0.83       886\n",
      "           1       0.77      0.72      0.75       637\n",
      "\n",
      "    accuracy                           0.79      1523\n",
      "   macro avg       0.79      0.78      0.79      1523\n",
      "weighted avg       0.79      0.79      0.79      1523\n",
      "\n",
      "Execution Time: 0.005984067916870117 seconds\n"
     ]
    }
   ],
   "source": [
    "MultiNB(X_train, y_train, X_val, y_val)"
   ]
  },
  {
   "cell_type": "code",
   "execution_count": 45,
   "id": "137e6f87",
   "metadata": {},
   "outputs": [
    {
     "name": "stdout",
     "output_type": "stream",
     "text": [
      "Gaussian Naive Bayes [Count Vectorizer, Text Feature]\n",
      "\n",
      "              precision    recall  f1-score   support\n",
      "\n",
      "           0       0.79      0.48      0.59       886\n",
      "           1       0.53      0.83      0.65       637\n",
      "\n",
      "    accuracy                           0.62      1523\n",
      "   macro avg       0.66      0.65      0.62      1523\n",
      "weighted avg       0.68      0.62      0.62      1523\n",
      "\n",
      "Execution Time: 1.3194622993469238 seconds\n"
     ]
    }
   ],
   "source": [
    "GaussNB(X_train, y_train, X_val, y_val)"
   ]
  },
  {
   "cell_type": "code",
   "execution_count": 46,
   "id": "ca813bb4",
   "metadata": {},
   "outputs": [
    {
     "name": "stdout",
     "output_type": "stream",
     "text": [
      "Bernoulli Naive Bayes [Count Vectorizer, Text Feature]\n",
      "\n",
      "              precision    recall  f1-score   support\n",
      "\n",
      "           0       0.78      0.90      0.84       886\n",
      "           1       0.83      0.65      0.72       637\n",
      "\n",
      "    accuracy                           0.79      1523\n",
      "   macro avg       0.80      0.77      0.78      1523\n",
      "weighted avg       0.80      0.79      0.79      1523\n",
      "\n",
      "Execution Time: 1.7542462348937988 seconds\n"
     ]
    }
   ],
   "source": [
    "BernNB(X_train, y_train, X_val, y_val)"
   ]
  },
  {
   "cell_type": "markdown",
   "id": "8f4205f8",
   "metadata": {},
   "source": [
    "## Testing baseline models on the TF-IDF vectorizer embedded data.\n",
    "\n",
    "Split the other embedded data"
   ]
  },
  {
   "cell_type": "code",
   "execution_count": 47,
   "id": "c6f34337",
   "metadata": {},
   "outputs": [],
   "source": [
    "# Train Test Split\n",
    "X_train, X_val, y_train, y_val = train_test_split(X_text_tfidf, y, test_size=0.2, random_state=0)"
   ]
  },
  {
   "cell_type": "markdown",
   "id": "c727e401",
   "metadata": {},
   "source": [
    "Logistic Regression with the TF-IDF Vectorizer and the Text Feature"
   ]
  },
  {
   "cell_type": "code",
   "execution_count": 48,
   "id": "742af8e9",
   "metadata": {},
   "outputs": [
    {
     "name": "stdout",
     "output_type": "stream",
     "text": [
      "Logistic Regression [Count Vectorizer, Text Feature]\n",
      "\n",
      "              precision    recall  f1-score   support\n",
      "\n",
      "           0       0.78      0.93      0.84       886\n",
      "           1       0.86      0.63      0.72       637\n",
      "\n",
      "    accuracy                           0.80      1523\n",
      "   macro avg       0.82      0.78      0.78      1523\n",
      "weighted avg       0.81      0.80      0.79      1523\n",
      "\n",
      "Execution Time: 0.07380247116088867 seconds\n"
     ]
    }
   ],
   "source": [
    "LogReg(X_train, y_train, X_val, y_val)"
   ]
  },
  {
   "cell_type": "markdown",
   "id": "f75abe81",
   "metadata": {},
   "source": [
    "Random Forest with the TF-IDF Vectorizer and the Text Feature"
   ]
  },
  {
   "cell_type": "code",
   "execution_count": 49,
   "id": "e53b2869",
   "metadata": {},
   "outputs": [
    {
     "name": "stdout",
     "output_type": "stream",
     "text": [
      "Random Forest Classifier [Count Vectorizer, Text Feature]\n",
      "\n",
      "              precision    recall  f1-score   support\n",
      "\n",
      "           0       0.77      0.90      0.83       886\n",
      "           1       0.82      0.63      0.71       637\n",
      "\n",
      "    accuracy                           0.79      1523\n",
      "   macro avg       0.80      0.77      0.77      1523\n",
      "weighted avg       0.79      0.79      0.78      1523\n",
      "\n",
      "Execution Time: 12.500625610351562 seconds\n"
     ]
    }
   ],
   "source": [
    "RandomForest(X_train, y_train, X_val, y_val)"
   ]
  },
  {
   "cell_type": "markdown",
   "id": "916e6724",
   "metadata": {},
   "source": [
    "Multinomial Naive Bayes with the TF-IDF Vectorizer and the Text Feature"
   ]
  },
  {
   "cell_type": "code",
   "execution_count": 50,
   "id": "0c5eee98",
   "metadata": {},
   "outputs": [
    {
     "name": "stdout",
     "output_type": "stream",
     "text": [
      "Multinomial Naive Bayes [Count Vectorizer, Text Feature]\n",
      "\n",
      "              precision    recall  f1-score   support\n",
      "\n",
      "           0       0.78      0.89      0.83       886\n",
      "           1       0.81      0.66      0.72       637\n",
      "\n",
      "    accuracy                           0.79      1523\n",
      "   macro avg       0.80      0.77      0.78      1523\n",
      "weighted avg       0.79      0.79      0.79      1523\n",
      "\n",
      "Execution Time: 0.005983829498291016 seconds\n"
     ]
    }
   ],
   "source": [
    "MultiNB(X_train, y_train, X_val, y_val)"
   ]
  },
  {
   "cell_type": "markdown",
   "id": "27699fe9",
   "metadata": {},
   "source": [
    "Gaussian Naive Bayes with the TF-IDF Vectorizer and the Text Feature"
   ]
  },
  {
   "cell_type": "code",
   "execution_count": 51,
   "id": "53cb97d2",
   "metadata": {},
   "outputs": [
    {
     "name": "stdout",
     "output_type": "stream",
     "text": [
      "Gaussian Naive Bayes [Count Vectorizer, Text Feature]\n",
      "\n",
      "              precision    recall  f1-score   support\n",
      "\n",
      "           0       0.76      0.50      0.61       886\n",
      "           1       0.53      0.78      0.63       637\n",
      "\n",
      "    accuracy                           0.62      1523\n",
      "   macro avg       0.65      0.64      0.62      1523\n",
      "weighted avg       0.67      0.62      0.62      1523\n",
      "\n",
      "Execution Time: 1.2716219425201416 seconds\n"
     ]
    }
   ],
   "source": [
    "GaussNB(X_train, y_train, X_val, y_val)"
   ]
  },
  {
   "cell_type": "markdown",
   "id": "2de27ed9",
   "metadata": {},
   "source": [
    "Bernoulli with the TF-IDF Vectorizer and the Text Feature"
   ]
  },
  {
   "cell_type": "code",
   "execution_count": 52,
   "id": "1c3d5d80",
   "metadata": {},
   "outputs": [
    {
     "name": "stdout",
     "output_type": "stream",
     "text": [
      "Bernoulli Naive Bayes [Count Vectorizer, Text Feature]\n",
      "\n",
      "              precision    recall  f1-score   support\n",
      "\n",
      "           0       0.78      0.90      0.84       886\n",
      "           1       0.83      0.65      0.72       637\n",
      "\n",
      "    accuracy                           0.79      1523\n",
      "   macro avg       0.80      0.77      0.78      1523\n",
      "weighted avg       0.80      0.79      0.79      1523\n",
      "\n",
      "Execution Time: 0.8247623443603516 seconds\n"
     ]
    }
   ],
   "source": [
    "BernNB(X_train, y_train, X_val, y_val)"
   ]
  },
  {
   "cell_type": "markdown",
   "id": "6c509f85",
   "metadata": {},
   "source": [
    "# Testing on Various Baseline models - Content Corpus"
   ]
  },
  {
   "cell_type": "markdown",
   "id": "0e043a48",
   "metadata": {},
   "source": [
    "### Vectorize the Content Corpus"
   ]
  },
  {
   "cell_type": "code",
   "execution_count": 53,
   "id": "7d5f9339",
   "metadata": {},
   "outputs": [],
   "source": [
    "tfidf = TfidfVectorizer()\n",
    "countVec = CountVectorizer()\n",
    "X_content_tfidf = tfidf.fit_transform(content_corpus)\n",
    "X_content_count = countVec.fit_transform(content_corpus)"
   ]
  },
  {
   "cell_type": "markdown",
   "id": "435e39ff",
   "metadata": {},
   "source": [
    "## Testing baseline models on the count vectorizer embedded data."
   ]
  },
  {
   "cell_type": "code",
   "execution_count": 54,
   "id": "96a347c5",
   "metadata": {},
   "outputs": [],
   "source": [
    "# Train Test Split\n",
    "X_train, X_val, y_train, y_val = train_test_split(X_content_count, y, test_size=0.2, random_state=0)"
   ]
  },
  {
   "cell_type": "markdown",
   "id": "6fcdd031",
   "metadata": {},
   "source": [
    "Logistic Regression with the Count Vectorizer and the Content Feature"
   ]
  },
  {
   "cell_type": "code",
   "execution_count": 55,
   "id": "9737c2b2",
   "metadata": {},
   "outputs": [
    {
     "name": "stdout",
     "output_type": "stream",
     "text": [
      "Logistic Regression [Count Vectorizer, Text Feature]\n",
      "\n",
      "              precision    recall  f1-score   support\n",
      "\n",
      "           0       0.80      0.89      0.84       886\n",
      "           1       0.82      0.70      0.75       637\n",
      "\n",
      "    accuracy                           0.81      1523\n",
      "   macro avg       0.81      0.79      0.80      1523\n",
      "weighted avg       0.81      0.81      0.81      1523\n",
      "\n",
      "Execution Time: 0.0937504768371582 seconds\n"
     ]
    }
   ],
   "source": [
    "LogReg(X_train, y_train, X_val, y_val)"
   ]
  },
  {
   "cell_type": "markdown",
   "id": "710150ba",
   "metadata": {},
   "source": [
    "Random Forest with the Count Vectorizer and the Content Feature"
   ]
  },
  {
   "cell_type": "code",
   "execution_count": 56,
   "id": "8cdbc182",
   "metadata": {},
   "outputs": [
    {
     "name": "stdout",
     "output_type": "stream",
     "text": [
      "Random Forest Classifier [Count Vectorizer, Text Feature]\n",
      "\n",
      "              precision    recall  f1-score   support\n",
      "\n",
      "           0       0.77      0.89      0.83       886\n",
      "           1       0.81      0.63      0.71       637\n",
      "\n",
      "    accuracy                           0.78      1523\n",
      "   macro avg       0.79      0.76      0.77      1523\n",
      "weighted avg       0.79      0.78      0.78      1523\n",
      "\n",
      "Execution Time: 12.473658323287964 seconds\n"
     ]
    }
   ],
   "source": [
    "RandomForest(X_train, y_train, X_val, y_val)"
   ]
  },
  {
   "cell_type": "markdown",
   "id": "0b24420e",
   "metadata": {},
   "source": [
    "Multinomial Naive Bayes with the Count Vectorizer and the Content Feature"
   ]
  },
  {
   "cell_type": "code",
   "execution_count": 57,
   "id": "2657deab",
   "metadata": {},
   "outputs": [
    {
     "name": "stdout",
     "output_type": "stream",
     "text": [
      "Multinomial Naive Bayes [Count Vectorizer, Text Feature]\n",
      "\n",
      "              precision    recall  f1-score   support\n",
      "\n",
      "           0       0.81      0.84      0.82       886\n",
      "           1       0.76      0.72      0.74       637\n",
      "\n",
      "    accuracy                           0.79      1523\n",
      "   macro avg       0.79      0.78      0.78      1523\n",
      "weighted avg       0.79      0.79      0.79      1523\n",
      "\n",
      "Execution Time: 0.004979133605957031 seconds\n"
     ]
    }
   ],
   "source": [
    "MultiNB(X_train, y_train, X_val, y_val)"
   ]
  },
  {
   "cell_type": "markdown",
   "id": "098b3fd6",
   "metadata": {},
   "source": [
    "Gaussian Naive Bayes with the Count Vectorizer and the Content Feature"
   ]
  },
  {
   "cell_type": "code",
   "execution_count": 58,
   "id": "7d74afe4",
   "metadata": {},
   "outputs": [
    {
     "name": "stdout",
     "output_type": "stream",
     "text": [
      "Gaussian Naive Bayes [Count Vectorizer, Text Feature]\n",
      "\n",
      "              precision    recall  f1-score   support\n",
      "\n",
      "           0       0.79      0.48      0.60       886\n",
      "           1       0.53      0.83      0.65       637\n",
      "\n",
      "    accuracy                           0.62      1523\n",
      "   macro avg       0.66      0.65      0.62      1523\n",
      "weighted avg       0.68      0.62      0.62      1523\n",
      "\n",
      "Execution Time: 1.3065366744995117 seconds\n"
     ]
    }
   ],
   "source": [
    "GaussNB(X_train, y_train, X_val, y_val)"
   ]
  },
  {
   "cell_type": "markdown",
   "id": "4f3b18e9",
   "metadata": {},
   "source": [
    "Bernoulli with the Count Vectorizer and the Content Feature"
   ]
  },
  {
   "cell_type": "code",
   "execution_count": 59,
   "id": "03a84dfe",
   "metadata": {},
   "outputs": [
    {
     "name": "stdout",
     "output_type": "stream",
     "text": [
      "Bernoulli Naive Bayes [Count Vectorizer, Text Feature]\n",
      "\n",
      "              precision    recall  f1-score   support\n",
      "\n",
      "           0       0.78      0.90      0.84       886\n",
      "           1       0.83      0.65      0.72       637\n",
      "\n",
      "    accuracy                           0.80      1523\n",
      "   macro avg       0.80      0.77      0.78      1523\n",
      "weighted avg       0.80      0.80      0.79      1523\n",
      "\n",
      "Execution Time: 1.7723867893218994 seconds\n"
     ]
    }
   ],
   "source": [
    "BernNB(X_train, y_train, X_val, y_val)"
   ]
  },
  {
   "cell_type": "markdown",
   "id": "71178852",
   "metadata": {},
   "source": [
    "## Testing baseline models on the TF-IDF vectorizer embedded data."
   ]
  },
  {
   "cell_type": "code",
   "execution_count": 60,
   "id": "25e48593",
   "metadata": {},
   "outputs": [],
   "source": [
    "# Train Test Split\n",
    "X_train, X_val, y_train, y_val = train_test_split(X_content_tfidf, y, test_size=0.2, random_state=0)"
   ]
  },
  {
   "cell_type": "markdown",
   "id": "dac4a379",
   "metadata": {},
   "source": [
    "Logistic Regression with the TF-IDF Vectorizer and the Content Feature"
   ]
  },
  {
   "cell_type": "code",
   "execution_count": 61,
   "id": "bf0086a0",
   "metadata": {},
   "outputs": [
    {
     "name": "stdout",
     "output_type": "stream",
     "text": [
      "Logistic Regression [Count Vectorizer, Text Feature]\n",
      "\n",
      "              precision    recall  f1-score   support\n",
      "\n",
      "           0       0.78      0.90      0.84       886\n",
      "           1       0.83      0.65      0.73       637\n",
      "\n",
      "    accuracy                           0.80      1523\n",
      "   macro avg       0.80      0.77      0.78      1523\n",
      "weighted avg       0.80      0.80      0.79      1523\n",
      "\n",
      "Execution Time: 0.06283164024353027 seconds\n"
     ]
    }
   ],
   "source": [
    "LogReg(X_train, y_train, X_val, y_val)"
   ]
  },
  {
   "cell_type": "markdown",
   "id": "82692534",
   "metadata": {},
   "source": [
    "Random Forest Classifier with the TF-IDF Vectorizer and the Content Feature"
   ]
  },
  {
   "cell_type": "code",
   "execution_count": 62,
   "id": "1b8135be",
   "metadata": {},
   "outputs": [
    {
     "name": "stdout",
     "output_type": "stream",
     "text": [
      "Random Forest Classifier [Count Vectorizer, Text Feature]\n",
      "\n",
      "              precision    recall  f1-score   support\n",
      "\n",
      "           0       0.77      0.92      0.84       886\n",
      "           1       0.85      0.61      0.71       637\n",
      "\n",
      "    accuracy                           0.79      1523\n",
      "   macro avg       0.81      0.77      0.77      1523\n",
      "weighted avg       0.80      0.79      0.78      1523\n",
      "\n",
      "Execution Time: 12.244332075119019 seconds\n"
     ]
    }
   ],
   "source": [
    "RandomForest(X_train, y_train, X_val, y_val)"
   ]
  },
  {
   "cell_type": "markdown",
   "id": "613e51e3",
   "metadata": {},
   "source": [
    "Multinomial Naive Bayes with the TF-IDF Vectorizer and the Content Feature"
   ]
  },
  {
   "cell_type": "code",
   "execution_count": 63,
   "id": "031b5ab4",
   "metadata": {},
   "outputs": [
    {
     "name": "stdout",
     "output_type": "stream",
     "text": [
      "Multinomial Naive Bayes [Count Vectorizer, Text Feature]\n",
      "\n",
      "              precision    recall  f1-score   support\n",
      "\n",
      "           0       0.78      0.88      0.83       886\n",
      "           1       0.80      0.65      0.72       637\n",
      "\n",
      "    accuracy                           0.79      1523\n",
      "   macro avg       0.79      0.77      0.77      1523\n",
      "weighted avg       0.79      0.79      0.78      1523\n",
      "\n",
      "Execution Time: 0.0059854984283447266 seconds\n"
     ]
    }
   ],
   "source": [
    "MultiNB(X_train, y_train, X_val, y_val)"
   ]
  },
  {
   "cell_type": "markdown",
   "id": "fd83a194",
   "metadata": {},
   "source": [
    "Gaussian Naive Bayes with the TF-IDF Vectorizer and the Content Feature"
   ]
  },
  {
   "cell_type": "code",
   "execution_count": 64,
   "id": "d591da37",
   "metadata": {},
   "outputs": [
    {
     "name": "stdout",
     "output_type": "stream",
     "text": [
      "Gaussian Naive Bayes [Count Vectorizer, Text Feature]\n",
      "\n",
      "              precision    recall  f1-score   support\n",
      "\n",
      "           0       0.76      0.50      0.61       886\n",
      "           1       0.53      0.78      0.63       637\n",
      "\n",
      "    accuracy                           0.62      1523\n",
      "   macro avg       0.65      0.64      0.62      1523\n",
      "weighted avg       0.67      0.62      0.62      1523\n",
      "\n",
      "Execution Time: 1.3344566822052002 seconds\n"
     ]
    }
   ],
   "source": [
    "GaussNB(X_train, y_train, X_val, y_val)"
   ]
  },
  {
   "cell_type": "markdown",
   "id": "ce3eed62",
   "metadata": {},
   "source": [
    "Bernoulli Naive Bayes with the TF-IDF Vectorizer and the Content Feature"
   ]
  },
  {
   "cell_type": "code",
   "execution_count": 65,
   "id": "6502401e",
   "metadata": {},
   "outputs": [
    {
     "name": "stdout",
     "output_type": "stream",
     "text": [
      "Bernoulli Naive Bayes [Count Vectorizer, Text Feature]\n",
      "\n",
      "              precision    recall  f1-score   support\n",
      "\n",
      "           0       0.78      0.90      0.84       886\n",
      "           1       0.83      0.65      0.72       637\n",
      "\n",
      "    accuracy                           0.80      1523\n",
      "   macro avg       0.80      0.77      0.78      1523\n",
      "weighted avg       0.80      0.80      0.79      1523\n",
      "\n",
      "Execution Time: 0.7709736824035645 seconds\n"
     ]
    }
   ],
   "source": [
    "BernNB(X_train, y_train, X_val, y_val)"
   ]
  },
  {
   "cell_type": "markdown",
   "id": "fbcea007",
   "metadata": {},
   "source": [
    "# Dimensionality Reduction\n",
    "\n",
    "As mentioned above, both the CountVectorizer and the TF-IDF produce sparce matrices. In general sparce data is not good, as they indicate that there is missing information, and they are less memory efficient. \n",
    "\n",
    "One way I will attempt to solve this is with dimensionality reduction via Singular Value Decomposition (SVD). SVD will take a sparce matrix and prduce a denser lower dimensionality representation of the matrix. \n",
    "\n",
    "I will be using the TruncatedSVD from sklearn, which performs a linear dimensionality reduction via truncated singular value decomposition. In the docs, this works with both CountVectorizer and TFD-IDF Vectorizer matrices. Using the TruncatedSVD in the context of word vectorizers is known as Latent Semantic Analysis, or **LSA**\n",
    "\n",
    "It is **not recommended** to use any Naive Bayes algorithm on the TruncatedSVD, because the algorithm applied Matrix Factorization. Since the Naive Bayes applied the bayes theorem with the naive assumption of strong independance between features, matrix factorization will not work with Naive Bayes. Thus, I will only use the Logistic Regression and Random Forest Classifier.   \n",
    "\n",
    "For this section, I will use the TruncatedSVD on both Vectorizers, using the content feature that was created above. "
   ]
  },
  {
   "cell_type": "code",
   "execution_count": 66,
   "id": "3930f6e5",
   "metadata": {},
   "outputs": [],
   "source": [
    "from sklearn.decomposition import TruncatedSVD"
   ]
  },
  {
   "cell_type": "markdown",
   "id": "a280f846",
   "metadata": {},
   "source": [
    "According to the docs, it is recommended to use an output dimensionality of 100 for LSA. First, I will use the defual of 2 to create a visualization of what the reduced dimensionality data looks like. \n",
    "\n",
    "### Visualizing Reduced Dimensionality Data\n",
    "\n",
    "First, get the reduced CountVectorizer Data"
   ]
  },
  {
   "cell_type": "code",
   "execution_count": 67,
   "id": "60d8a8bd",
   "metadata": {},
   "outputs": [],
   "source": [
    "svd = TruncatedSVD(n_components=2, random_state=42)\n",
    "dense_count_2 = svd.fit_transform(X_content_count)"
   ]
  },
  {
   "cell_type": "markdown",
   "id": "d254b4a9",
   "metadata": {},
   "source": [
    "Plot the reduced data"
   ]
  },
  {
   "cell_type": "code",
   "execution_count": 68,
   "id": "a804a1db",
   "metadata": {},
   "outputs": [
    {
     "data": {
      "image/png": "[encoded data removed]",
      "text/plain": [
       "<Figure size 432x288 with 1 Axes>"
      ]
     },
     "metadata": {},
     "output_type": "display_data"
    }
   ],
   "source": [
    "x1 = dense_count_2[:, 0]\n",
    "y1 = dense_count_2[:, 1]\n",
    "\n",
    "plt.scatter(x1, y1, c =\"blue\")\n",
    " \n",
    "# To show the plot\n",
    "plt.show()"
   ]
  },
  {
   "cell_type": "markdown",
   "id": "f2d9f716",
   "metadata": {},
   "source": [
    "Now let's get the reduced TF-IDF data"
   ]
  },
  {
   "cell_type": "code",
   "execution_count": 69,
   "id": "7b792436",
   "metadata": {},
   "outputs": [],
   "source": [
    "svd = TruncatedSVD(n_components=2, random_state=42)\n",
    "dense_tfidf_2 = svd.fit_transform(X_content_tfidf)"
   ]
  },
  {
   "cell_type": "markdown",
   "id": "3c247d04",
   "metadata": {},
   "source": [
    "Plot the data"
   ]
  },
  {
   "cell_type": "code",
   "execution_count": 70,
   "id": "1229d258",
   "metadata": {},
   "outputs": [
    {
     "data": {
      "image/png": "[encoded data removed]",
      "text/plain": [
       "<Figure size 432x288 with 1 Axes>"
      ]
     },
     "metadata": {},
     "output_type": "display_data"
    }
   ],
   "source": [
    "x1 = dense_tfidf_2[:, 0]\n",
    "y1 = dense_tfidf_2[:, 1]\n",
    "\n",
    "plt.scatter(x1, y1, c =\"blue\")\n",
    " \n",
    "# To show the plot\n",
    "plt.show()"
   ]
  },
  {
   "cell_type": "markdown",
   "id": "3a8459db",
   "metadata": {},
   "source": [
    "These graphs show the affect of the TF-IDF principle of scaling each value by the inverse of the document frequency. There certainly seems to be less scatter among the points from the TF-IDF Vectorizer."
   ]
  },
  {
   "cell_type": "markdown",
   "id": "90a57b1c",
   "metadata": {},
   "source": [
    "Now I'll use the recommended dimensionality of 100 to get the new data for each word embedding. After, I will re split the data and re-evaluate the models on the reduced data. "
   ]
  },
  {
   "cell_type": "markdown",
   "id": "1d3fefe6",
   "metadata": {},
   "source": [
    "### LSA Using TruncatedSVD"
   ]
  },
  {
   "cell_type": "markdown",
   "id": "a9621218",
   "metadata": {},
   "source": [
    "Reduce Dimensionality"
   ]
  },
  {
   "cell_type": "code",
   "execution_count": 71,
   "id": "d03309e2",
   "metadata": {},
   "outputs": [],
   "source": [
    "svd = TruncatedSVD(n_components=100, random_state=42)\n",
    "X_dense_count = svd.fit_transform(X_content_count)\n",
    "svd = TruncatedSVD(n_components=100, random_state=42)\n",
    "X_dense_tfidf = svd.fit_transform(X_content_tfidf)"
   ]
  },
  {
   "cell_type": "markdown",
   "id": "11745960",
   "metadata": {},
   "source": [
    "Split datasets"
   ]
  },
  {
   "cell_type": "code",
   "execution_count": 72,
   "id": "91b5fb34",
   "metadata": {},
   "outputs": [],
   "source": [
    "# Train Test Split\n",
    "\n",
    "X_train_count, X_val_count, y_train_count, y_val_count = train_test_split(X_dense_count, y, test_size=0.2, random_state=0)\n",
    "\n",
    "X_train_tfidf, X_val_tfidf, y_train_tfidf, y_val_tfidf = train_test_split(X_dense_tfidf, y, test_size=0.2, random_state=0)"
   ]
  },
  {
   "cell_type": "markdown",
   "id": "51b40b91",
   "metadata": {},
   "source": [
    "Evaluate Models on Reduced Count Vectorizer data"
   ]
  },
  {
   "cell_type": "code",
   "execution_count": 73,
   "id": "61bd2731",
   "metadata": {},
   "outputs": [
    {
     "name": "stdout",
     "output_type": "stream",
     "text": [
      "Logistic Regression [Count Vectorizer, Text Feature]\n",
      "\n",
      "              precision    recall  f1-score   support\n",
      "\n",
      "           0       0.75      0.87      0.80       886\n",
      "           1       0.76      0.59      0.66       637\n",
      "\n",
      "    accuracy                           0.75      1523\n",
      "   macro avg       0.75      0.73      0.73      1523\n",
      "weighted avg       0.75      0.75      0.75      1523\n",
      "\n",
      "Execution Time: 0.015958547592163086 seconds\n"
     ]
    }
   ],
   "source": [
    "LogReg(X_train_count, y_train_count, X_val_count, y_val_count)"
   ]
  },
  {
   "cell_type": "code",
   "execution_count": 74,
   "id": "6f6ff150",
   "metadata": {},
   "outputs": [
    {
     "name": "stdout",
     "output_type": "stream",
     "text": [
      "Random Forest Classifier [Count Vectorizer, Text Feature]\n",
      "\n",
      "              precision    recall  f1-score   support\n",
      "\n",
      "           0       0.78      0.84      0.81       886\n",
      "           1       0.75      0.66      0.71       637\n",
      "\n",
      "    accuracy                           0.77      1523\n",
      "   macro avg       0.76      0.75      0.76      1523\n",
      "weighted avg       0.77      0.77      0.77      1523\n",
      "\n",
      "Execution Time: 2.8423025608062744 seconds\n"
     ]
    }
   ],
   "source": [
    "RandomForest(X_train_count, y_train_count, X_val_count, y_val_count)"
   ]
  },
  {
   "cell_type": "markdown",
   "id": "6a7951a0",
   "metadata": {},
   "source": [
    "Evaluate Models of the dense TF-IDF Vectorizer data "
   ]
  },
  {
   "cell_type": "code",
   "execution_count": 75,
   "id": "ba058ef5",
   "metadata": {},
   "outputs": [
    {
     "name": "stdout",
     "output_type": "stream",
     "text": [
      "Logistic Regression [Count Vectorizer, Text Feature]\n",
      "\n",
      "              precision    recall  f1-score   support\n",
      "\n",
      "           0       0.74      0.88      0.81       886\n",
      "           1       0.78      0.58      0.66       637\n",
      "\n",
      "    accuracy                           0.76      1523\n",
      "   macro avg       0.76      0.73      0.74      1523\n",
      "weighted avg       0.76      0.76      0.75      1523\n",
      "\n",
      "Execution Time: 0.019977092742919922 seconds\n"
     ]
    }
   ],
   "source": [
    "LogReg(X_train_tfidf, y_train_tfidf, X_val_tfidf, y_val_tfidf)"
   ]
  },
  {
   "cell_type": "code",
   "execution_count": 76,
   "id": "5b705219",
   "metadata": {},
   "outputs": [
    {
     "name": "stdout",
     "output_type": "stream",
     "text": [
      "Random Forest Classifier [Count Vectorizer, Text Feature]\n",
      "\n",
      "              precision    recall  f1-score   support\n",
      "\n",
      "           0       0.79      0.87      0.83       886\n",
      "           1       0.79      0.67      0.73       637\n",
      "\n",
      "    accuracy                           0.79      1523\n",
      "   macro avg       0.79      0.77      0.78      1523\n",
      "weighted avg       0.79      0.79      0.78      1523\n",
      "\n",
      "Execution Time: 2.8294637203216553 seconds\n"
     ]
    }
   ],
   "source": [
    "RandomForest(X_train_tfidf, y_train_tfidf, X_val_tfidf, y_val_tfidf)"
   ]
  },
  {
   "cell_type": "markdown",
   "id": "6523aaa3",
   "metadata": {},
   "source": [
    "Compared to the results above, the SVD doesn't seem to have much positive impact on the accuracy score in this case. It does provide benefits to the execution time, particularly for the Random Forest Classifier.  \n",
    "\n",
    "Let's redo the process with a few different target values for dimensionality reduction, and see how it affects the accuracy of the models. "
   ]
  },
  {
   "cell_type": "markdown",
   "id": "85d4d698",
   "metadata": {},
   "source": [
    "**LSA with a dimensionality of 50**"
   ]
  },
  {
   "cell_type": "code",
   "execution_count": 77,
   "id": "abc90576",
   "metadata": {},
   "outputs": [],
   "source": [
    "# get new reductions\n",
    "svd = TruncatedSVD(n_components=50, random_state=42)\n",
    "X_dense_count = svd.fit_transform(X_content_count)\n",
    "svd = TruncatedSVD(n_components=50, random_state=42)\n",
    "X_dense_tfidf = svd.fit_transform(X_content_tfidf)\n",
    "\n",
    "# re-split the data\n",
    "X_train_count, X_val_count, y_train_count, y_val_count = train_test_split(X_dense_count, y, test_size=0.2, random_state=0)\n",
    "\n",
    "X_train_tfidf, X_val_tfidf, y_train_tfidf, y_val_tfidf = train_test_split(X_dense_tfidf, y, test_size=0.2, random_state=0)"
   ]
  },
  {
   "cell_type": "markdown",
   "id": "49cb8799",
   "metadata": {},
   "source": [
    "Model Evaluations"
   ]
  },
  {
   "cell_type": "code",
   "execution_count": 78,
   "id": "e33e988f",
   "metadata": {},
   "outputs": [
    {
     "name": "stdout",
     "output_type": "stream",
     "text": [
      "Logistic Regression [Count Vectorizer, Text Feature]\n",
      "\n",
      "              precision    recall  f1-score   support\n",
      "\n",
      "           0       0.72      0.88      0.79       886\n",
      "           1       0.76      0.52      0.62       637\n",
      "\n",
      "    accuracy                           0.73      1523\n",
      "   macro avg       0.74      0.70      0.71      1523\n",
      "weighted avg       0.74      0.73      0.72      1523\n",
      "\n",
      "Execution Time: 0.01296544075012207 seconds\n"
     ]
    }
   ],
   "source": [
    "LogReg(X_train_count, y_train_count, X_val_count, y_val_count)"
   ]
  },
  {
   "cell_type": "code",
   "execution_count": 79,
   "id": "b0869ac9",
   "metadata": {},
   "outputs": [
    {
     "name": "stdout",
     "output_type": "stream",
     "text": [
      "Random Forest Classifier [Count Vectorizer, Text Feature]\n",
      "\n",
      "              precision    recall  f1-score   support\n",
      "\n",
      "           0       0.77      0.85      0.81       886\n",
      "           1       0.76      0.65      0.70       637\n",
      "\n",
      "    accuracy                           0.77      1523\n",
      "   macro avg       0.77      0.75      0.76      1523\n",
      "weighted avg       0.77      0.77      0.77      1523\n",
      "\n",
      "Execution Time: 2.0076634883880615 seconds\n"
     ]
    }
   ],
   "source": [
    "RandomForest(X_train_count, y_train_count, X_val_count, y_val_count)"
   ]
  },
  {
   "cell_type": "code",
   "execution_count": 80,
   "id": "562e80b1",
   "metadata": {},
   "outputs": [
    {
     "name": "stdout",
     "output_type": "stream",
     "text": [
      "Logistic Regression [Count Vectorizer, Text Feature]\n",
      "\n",
      "              precision    recall  f1-score   support\n",
      "\n",
      "           0       0.71      0.92      0.80       886\n",
      "           1       0.80      0.47      0.59       637\n",
      "\n",
      "    accuracy                           0.73      1523\n",
      "   macro avg       0.75      0.69      0.70      1523\n",
      "weighted avg       0.75      0.73      0.71      1523\n",
      "\n",
      "Execution Time: 0.017951488494873047 seconds\n"
     ]
    }
   ],
   "source": [
    "LogReg(X_train_tfidf, y_train_tfidf, X_val_tfidf, y_val_tfidf)"
   ]
  },
  {
   "cell_type": "code",
   "execution_count": 81,
   "id": "9c66f084",
   "metadata": {},
   "outputs": [
    {
     "name": "stdout",
     "output_type": "stream",
     "text": [
      "Random Forest Classifier [Count Vectorizer, Text Feature]\n",
      "\n",
      "              precision    recall  f1-score   support\n",
      "\n",
      "           0       0.78      0.86      0.82       886\n",
      "           1       0.78      0.67      0.72       637\n",
      "\n",
      "    accuracy                           0.78      1523\n",
      "   macro avg       0.78      0.77      0.77      1523\n",
      "weighted avg       0.78      0.78      0.78      1523\n",
      "\n",
      "Execution Time: 1.9647777080535889 seconds\n"
     ]
    }
   ],
   "source": [
    "RandomForest(X_train_tfidf, y_train_tfidf, X_val_tfidf, y_val_tfidf)"
   ]
  },
  {
   "cell_type": "markdown",
   "id": "c5da9fc8",
   "metadata": {},
   "source": [
    "**LSA with a dimensionality of 250**"
   ]
  },
  {
   "cell_type": "code",
   "execution_count": 82,
   "id": "f72299c1",
   "metadata": {},
   "outputs": [],
   "source": [
    "# get new reductions\n",
    "svd = TruncatedSVD(n_components=250, random_state=42)\n",
    "X_dense_count = svd.fit_transform(X_content_count)\n",
    "svd = TruncatedSVD(n_components=250, random_state=42)\n",
    "X_dense_tfidf = svd.fit_transform(X_content_tfidf)\n",
    "\n",
    "# re-split the data\n",
    "X_train_count, X_val_count, y_train_count, y_val_count = train_test_split(X_dense_count, y, test_size=0.2, random_state=0)\n",
    "\n",
    "X_train_tfidf, X_val_tfidf, y_train_tfidf, y_val_tfidf = train_test_split(X_dense_tfidf, y, test_size=0.2, random_state=0)"
   ]
  },
  {
   "cell_type": "markdown",
   "id": "e73b893a",
   "metadata": {},
   "source": [
    "Model Evaluations"
   ]
  },
  {
   "cell_type": "code",
   "execution_count": 83,
   "id": "eed45781",
   "metadata": {},
   "outputs": [
    {
     "name": "stdout",
     "output_type": "stream",
     "text": [
      "Logistic Regression [Count Vectorizer, Text Feature]\n",
      "\n",
      "              precision    recall  f1-score   support\n",
      "\n",
      "           0       0.78      0.87      0.83       886\n",
      "           1       0.79      0.67      0.72       637\n",
      "\n",
      "    accuracy                           0.79      1523\n",
      "   macro avg       0.79      0.77      0.77      1523\n",
      "weighted avg       0.79      0.79      0.78      1523\n",
      "\n",
      "Execution Time: 0.027958154678344727 seconds\n"
     ]
    }
   ],
   "source": [
    "LogReg(X_train_count, y_train_count, X_val_count, y_val_count)"
   ]
  },
  {
   "cell_type": "code",
   "execution_count": 84,
   "id": "f96f5df2",
   "metadata": {},
   "outputs": [
    {
     "name": "stdout",
     "output_type": "stream",
     "text": [
      "Random Forest Classifier [Count Vectorizer, Text Feature]\n",
      "\n",
      "              precision    recall  f1-score   support\n",
      "\n",
      "           0       0.77      0.85      0.81       886\n",
      "           1       0.76      0.66      0.70       637\n",
      "\n",
      "    accuracy                           0.77      1523\n",
      "   macro avg       0.77      0.75      0.76      1523\n",
      "weighted avg       0.77      0.77      0.76      1523\n",
      "\n",
      "Execution Time: 4.758310794830322 seconds\n"
     ]
    }
   ],
   "source": [
    "RandomForest(X_train_count, y_train_count, X_val_count, y_val_count)"
   ]
  },
  {
   "cell_type": "code",
   "execution_count": 85,
   "id": "e73a603e",
   "metadata": {},
   "outputs": [
    {
     "name": "stdout",
     "output_type": "stream",
     "text": [
      "Logistic Regression [Count Vectorizer, Text Feature]\n",
      "\n",
      "              precision    recall  f1-score   support\n",
      "\n",
      "           0       0.77      0.87      0.82       886\n",
      "           1       0.78      0.64      0.70       637\n",
      "\n",
      "    accuracy                           0.77      1523\n",
      "   macro avg       0.77      0.75      0.76      1523\n",
      "weighted avg       0.77      0.77      0.77      1523\n",
      "\n",
      "Execution Time: 0.03690075874328613 seconds\n"
     ]
    }
   ],
   "source": [
    "LogReg(X_train_tfidf, y_train_tfidf, X_val_tfidf, y_val_tfidf)"
   ]
  },
  {
   "cell_type": "code",
   "execution_count": 86,
   "id": "470902cc",
   "metadata": {},
   "outputs": [
    {
     "name": "stdout",
     "output_type": "stream",
     "text": [
      "Random Forest Classifier [Count Vectorizer, Text Feature]\n",
      "\n",
      "              precision    recall  f1-score   support\n",
      "\n",
      "           0       0.79      0.87      0.82       886\n",
      "           1       0.78      0.67      0.72       637\n",
      "\n",
      "    accuracy                           0.79      1523\n",
      "   macro avg       0.78      0.77      0.77      1523\n",
      "weighted avg       0.79      0.79      0.78      1523\n",
      "\n",
      "Execution Time: 4.490027189254761 seconds\n"
     ]
    }
   ],
   "source": [
    "RandomForest(X_train_tfidf, y_train_tfidf, X_val_tfidf, y_val_tfidf)"
   ]
  },
  {
   "cell_type": "markdown",
   "id": "8463009d",
   "metadata": {},
   "source": [
    "**LSA with a dimensionality of 500**"
   ]
  },
  {
   "cell_type": "code",
   "execution_count": 87,
   "id": "f8bc553a",
   "metadata": {},
   "outputs": [],
   "source": [
    "# get new reductions\n",
    "svd = TruncatedSVD(n_components=500, random_state=42)\n",
    "X_dense_count = svd.fit_transform(X_content_count)\n",
    "svd = TruncatedSVD(n_components=500, random_state=42)\n",
    "X_dense_tfidf = svd.fit_transform(X_content_tfidf)\n",
    "\n",
    "# re-split the data\n",
    "X_train_count, X_val_count, y_train_count, y_val_count = train_test_split(X_dense_count, y, test_size=0.2, random_state=0)\n",
    "\n",
    "X_train_tfidf, X_val_tfidf, y_train_tfidf, y_val_tfidf = train_test_split(X_dense_tfidf, y, test_size=0.2, random_state=0)"
   ]
  },
  {
   "cell_type": "markdown",
   "id": "a9b731f0",
   "metadata": {},
   "source": [
    "Model Evaluations"
   ]
  },
  {
   "cell_type": "code",
   "execution_count": 88,
   "id": "1aac9263",
   "metadata": {},
   "outputs": [
    {
     "name": "stdout",
     "output_type": "stream",
     "text": [
      "Logistic Regression [Count Vectorizer, Text Feature]\n",
      "\n",
      "              precision    recall  f1-score   support\n",
      "\n",
      "           0       0.79      0.87      0.83       886\n",
      "           1       0.79      0.67      0.73       637\n",
      "\n",
      "    accuracy                           0.79      1523\n",
      "   macro avg       0.79      0.77      0.78      1523\n",
      "weighted avg       0.79      0.79      0.79      1523\n",
      "\n",
      "Execution Time: 0.0907895565032959 seconds\n"
     ]
    }
   ],
   "source": [
    "LogReg(X_train_count, y_train_count, X_val_count, y_val_count)"
   ]
  },
  {
   "cell_type": "code",
   "execution_count": 89,
   "id": "e05240af",
   "metadata": {},
   "outputs": [
    {
     "name": "stdout",
     "output_type": "stream",
     "text": [
      "Random Forest Classifier [Count Vectorizer, Text Feature]\n",
      "\n",
      "              precision    recall  f1-score   support\n",
      "\n",
      "           0       0.78      0.85      0.82       886\n",
      "           1       0.77      0.67      0.72       637\n",
      "\n",
      "    accuracy                           0.78      1523\n",
      "   macro avg       0.77      0.76      0.77      1523\n",
      "weighted avg       0.78      0.78      0.77      1523\n",
      "\n",
      "Execution Time: 6.775887966156006 seconds\n"
     ]
    }
   ],
   "source": [
    "RandomForest(X_train_count, y_train_count, X_val_count, y_val_count)"
   ]
  },
  {
   "cell_type": "code",
   "execution_count": 90,
   "id": "130ffbea",
   "metadata": {},
   "outputs": [
    {
     "name": "stdout",
     "output_type": "stream",
     "text": [
      "Logistic Regression [Count Vectorizer, Text Feature]\n",
      "\n",
      "              precision    recall  f1-score   support\n",
      "\n",
      "           0       0.77      0.89      0.83       886\n",
      "           1       0.81      0.64      0.71       637\n",
      "\n",
      "    accuracy                           0.79      1523\n",
      "   macro avg       0.79      0.77      0.77      1523\n",
      "weighted avg       0.79      0.79      0.78      1523\n",
      "\n",
      "Execution Time: 0.07280421257019043 seconds\n"
     ]
    }
   ],
   "source": [
    "LogReg(X_train_tfidf, y_train_tfidf, X_val_tfidf, y_val_tfidf)"
   ]
  },
  {
   "cell_type": "code",
   "execution_count": 91,
   "id": "b4e6fd3e",
   "metadata": {},
   "outputs": [
    {
     "name": "stdout",
     "output_type": "stream",
     "text": [
      "Random Forest Classifier [Count Vectorizer, Text Feature]\n",
      "\n",
      "              precision    recall  f1-score   support\n",
      "\n",
      "           0       0.78      0.87      0.82       886\n",
      "           1       0.79      0.65      0.71       637\n",
      "\n",
      "    accuracy                           0.78      1523\n",
      "   macro avg       0.78      0.76      0.77      1523\n",
      "weighted avg       0.78      0.78      0.78      1523\n",
      "\n",
      "Execution Time: 6.735025882720947 seconds\n"
     ]
    }
   ],
   "source": [
    "RandomForest(X_train_tfidf, y_train_tfidf, X_val_tfidf, y_val_tfidf)"
   ]
  },
  {
   "cell_type": "markdown",
   "id": "125da8e5",
   "metadata": {},
   "source": [
    "**LSA with a dimensionality of 1000**\n",
    "\n",
    "1000 dimensions is certainly not a small number of dimensions, but it is still an order of magnitude smaller than the 13K+ dimensions of the original vectorizers. Even larger datasets will have even higher orders of dimensions on the original vectorizers."
   ]
  },
  {
   "cell_type": "code",
   "execution_count": 92,
   "id": "f760177a",
   "metadata": {},
   "outputs": [],
   "source": [
    "# get new reductions\n",
    "svd = TruncatedSVD(n_components=1000, random_state=42)\n",
    "X_dense_count = svd.fit_transform(X_content_count)\n",
    "svd = TruncatedSVD(n_components=1000, random_state=42)\n",
    "X_dense_tfidf = svd.fit_transform(X_content_tfidf)\n",
    "\n",
    "# re-split the data\n",
    "X_train_count, X_val_count, y_train_count, y_val_count = train_test_split(X_dense_count, y, test_size=0.2, random_state=0)\n",
    "\n",
    "X_train_tfidf, X_val_tfidf, y_train_tfidf, y_val_tfidf = train_test_split(X_dense_tfidf, y, test_size=0.2, random_state=0)"
   ]
  },
  {
   "cell_type": "markdown",
   "id": "f5173564",
   "metadata": {},
   "source": [
    "Model Evaluations"
   ]
  },
  {
   "cell_type": "code",
   "execution_count": 93,
   "id": "90844457",
   "metadata": {},
   "outputs": [
    {
     "name": "stdout",
     "output_type": "stream",
     "text": [
      "Logistic Regression [Count Vectorizer, Text Feature]\n",
      "\n",
      "              precision    recall  f1-score   support\n",
      "\n",
      "           0       0.79      0.89      0.84       886\n",
      "           1       0.81      0.68      0.74       637\n",
      "\n",
      "    accuracy                           0.80      1523\n",
      "   macro avg       0.80      0.78      0.79      1523\n",
      "weighted avg       0.80      0.80      0.80      1523\n",
      "\n",
      "Execution Time: 0.23241209983825684 seconds\n"
     ]
    }
   ],
   "source": [
    "LogReg(X_train_count, y_train_count, X_val_count, y_val_count)"
   ]
  },
  {
   "cell_type": "code",
   "execution_count": 94,
   "id": "9d50339d",
   "metadata": {},
   "outputs": [
    {
     "name": "stdout",
     "output_type": "stream",
     "text": [
      "Random Forest Classifier [Count Vectorizer, Text Feature]\n",
      "\n",
      "              precision    recall  f1-score   support\n",
      "\n",
      "           0       0.76      0.85      0.80       886\n",
      "           1       0.75      0.64      0.69       637\n",
      "\n",
      "    accuracy                           0.76      1523\n",
      "   macro avg       0.76      0.74      0.75      1523\n",
      "weighted avg       0.76      0.76      0.76      1523\n",
      "\n",
      "Execution Time: 9.639333009719849 seconds\n"
     ]
    }
   ],
   "source": [
    "RandomForest(X_train_count, y_train_count, X_val_count, y_val_count)"
   ]
  },
  {
   "cell_type": "code",
   "execution_count": 95,
   "id": "aa6dca0a",
   "metadata": {},
   "outputs": [
    {
     "name": "stdout",
     "output_type": "stream",
     "text": [
      "Logistic Regression [Count Vectorizer, Text Feature]\n",
      "\n",
      "              precision    recall  f1-score   support\n",
      "\n",
      "           0       0.78      0.90      0.83       886\n",
      "           1       0.82      0.64      0.72       637\n",
      "\n",
      "    accuracy                           0.79      1523\n",
      "   macro avg       0.80      0.77      0.78      1523\n",
      "weighted avg       0.80      0.79      0.79      1523\n",
      "\n",
      "Execution Time: 0.2104332447052002 seconds\n"
     ]
    }
   ],
   "source": [
    "LogReg(X_train_tfidf, y_train_tfidf, X_val_tfidf, y_val_tfidf)"
   ]
  },
  {
   "cell_type": "code",
   "execution_count": 96,
   "id": "23faea40",
   "metadata": {},
   "outputs": [
    {
     "name": "stdout",
     "output_type": "stream",
     "text": [
      "Random Forest Classifier [Count Vectorizer, Text Feature]\n",
      "\n",
      "              precision    recall  f1-score   support\n",
      "\n",
      "           0       0.77      0.88      0.82       886\n",
      "           1       0.79      0.63      0.70       637\n",
      "\n",
      "    accuracy                           0.77      1523\n",
      "   macro avg       0.78      0.75      0.76      1523\n",
      "weighted avg       0.78      0.77      0.77      1523\n",
      "\n",
      "Execution Time: 9.907516479492188 seconds\n"
     ]
    }
   ],
   "source": [
    "RandomForest(X_train_tfidf, y_train_tfidf, X_val_tfidf, y_val_tfidf)"
   ]
  },
  {
   "cell_type": "markdown",
   "id": "70f27bf5",
   "metadata": {},
   "source": [
    "Overall, the models seem to do better on the data with higher dimensions, but the execution time also increases. \n",
    "\n",
    "Interestingly, the Logistic Regression's performance was greater impacted by the number of dimensions. At just 50 dimensions, the model achieved an accuracy of approx. 73%, but at 1000 dimensions, the model achieved an accuracy of approx 80%. \n",
    "\n",
    "The Random Forest Classifier's accuracy score across all tests did not change nearly as much. The random forest classifier seems to perform better on the TF-IDF vectorizer data than the count vectorizer, but the difference is marginal. The target dimensionality of the SVD output also seems to play little role in the performance of the model. The biggest impact SVD has on the model was the execution time, with the 50 dimension data executing several times faster than the original 13K+ dimension data. "
   ]
  },
  {
   "cell_type": "markdown",
   "id": "e0056d8d",
   "metadata": {},
   "source": [
    "# Conclusion \n",
    "\n",
    "My hope for this project was to explore various ways to tackle an NLP problem via different preprocessing methods, word embeddings and model selections. The problem of text classification is certainly not an easy problem to solve, but there exist a variety of ways to model this problem with math and various regression/classification algorithms.\n",
    "\n",
    "There is more to explore in the realm of text classification. Currently, there exists deep learning models that are capable of solving this problem, using the same types of word embeddings used in this project. Some robust and popular choices are the Bidirectional-LSTM model for sentence classification, or the BERT model which is a bidirectional encoder that uses transfer learning to solve a variety of NLP tasks, including text classification. \n",
    "\n",
    "In the context of this problem, I decided againt using these models as Deep Learning models are often the slowest models. When dealing with potential disaster tweets, the idea is to make accurate predictions as fast as possible, so that emergency response time is minimized. With deep learning models, training often is a very slow process. \n",
    "\n",
    "Model choice aside, there also exist other ways to pre-process and embed the text data. One pre-processing technique that comes to mind that I didn't do in this specific project is auto-correct. Since this is real twitter data, there is certainly going to be typos, so auto-correcting words may be another step to more accurately represent the data. \n",
    "\n",
    "Doing this project led me to interesting observations about text classification problems, but there is still so much more to learn. "
   ]
  },
  {
   "cell_type": "code",
   "execution_count": null,
   "id": "b8dbcd96",
   "metadata": {},
   "outputs": [],
   "source": []
  }
 ],
 "metadata": {
  "kernelspec": {
   "display_name": "Python 3 (ipykernel)",
   "language": "python",
   "name": "python3"
  },
  "language_info": {
   "codemirror_mode": {
    "name": "ipython",
    "version": 3
   },
   "file_extension": ".py",
   "mimetype": "text/x-python",
   "name": "python",
   "nbconvert_exporter": "python",
   "pygments_lexer": "ipython3",
   "version": "3.9.12"
  }
 },
 "nbformat": 4,
 "nbformat_minor": 5
}
