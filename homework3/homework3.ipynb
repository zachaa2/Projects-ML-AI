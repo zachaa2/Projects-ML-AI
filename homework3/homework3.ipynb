{
 "cells": [
  {
   "cell_type": "markdown",
   "id": "c91c1231",
   "metadata": {},
   "source": [
    "# Homework 3"
   ]
  },
  {
   "cell_type": "code",
   "execution_count": 1,
   "id": "33b5679f",
   "metadata": {},
   "outputs": [],
   "source": [
    "import numpy as np\n",
    "import pandas as pd\n",
    "import tensorflow as tf\n",
    "from tensorflow import keras\n",
    "import matplotlib.pyplot as plt\n",
    "from tensorflow.keras.optimizers import Adam\n",
    "from tensorflow.keras.utils import to_categorical\n",
    "from tensorflow.keras.datasets import mnist\n",
    "from tensorflow.keras.optimizers import Adam\n",
    "import sys\n",
    "import time"
   ]
  },
  {
   "cell_type": "markdown",
   "id": "81a81995",
   "metadata": {},
   "source": [
    "The Problem I chose to solve using Neural Networks is image classification. For this problem, I will be using the MNIST dataset, a popular and large dataset containing handwritten digits. Using the handwritten digits, I will develop a model to classify the digits for a number 0-9. The dataset contains roughly 70,000 images. There's 60k images for training and 10k images for testing.\n",
    "\n",
    "[Source](http://yann.lecun.com/exdb/mnist/)\n",
    "\n"
   ]
  },
  {
   "cell_type": "markdown",
   "id": "0005bdf1",
   "metadata": {},
   "source": [
    "Creating the dataset object"
   ]
  },
  {
   "cell_type": "code",
   "execution_count": 2,
   "id": "50e32f5c",
   "metadata": {},
   "outputs": [
    {
     "data": {
      "text/plain": [
       "<module 'keras.api._v2.keras.datasets.mnist' from 'C:\\\\Users\\\\Aaron\\\\anaconda3\\\\lib\\\\site-packages\\\\keras\\\\api\\\\_v2\\\\keras\\\\datasets\\\\mnist\\\\__init__.py'>"
      ]
     },
     "execution_count": 2,
     "metadata": {},
     "output_type": "execute_result"
    }
   ],
   "source": [
    "mnist = keras.datasets.mnist\n",
    "mnist"
   ]
  },
  {
   "cell_type": "markdown",
   "id": "92ce71a4",
   "metadata": {},
   "source": [
    "Loading the dataset and splitting into train and test sets"
   ]
  },
  {
   "cell_type": "code",
   "execution_count": 3,
   "id": "2812a6be",
   "metadata": {},
   "outputs": [],
   "source": [
    "(x_train, y_train), (x_test, y_test) = mnist.load_data()"
   ]
  },
  {
   "cell_type": "code",
   "execution_count": 4,
   "id": "1ab5de64",
   "metadata": {},
   "outputs": [
    {
     "name": "stdout",
     "output_type": "stream",
     "text": [
      "Training Set Shape: (60000, 28, 28)\n",
      "Testing Set Shape: (10000, 28, 28)\n"
     ]
    }
   ],
   "source": [
    "print(\"Training Set Shape:\", x_train.shape)\n",
    "print(\"Testing Set Shape:\", x_test.shape)"
   ]
  },
  {
   "cell_type": "markdown",
   "id": "e8ecacd3",
   "metadata": {},
   "source": [
    "# Task 1: Researching Tensorflow Docs and other Resources\n",
    "\n",
    "To implement a neural network to solve this problem, I decided to use the tensorflow/keras packages. BElow are some of the resources I used to learn more about the packages and about Neural Networks in general. "
   ]
  },
  {
   "cell_type": "markdown",
   "id": "b807eac6",
   "metadata": {},
   "source": [
    "NN Layers: \n",
    "\n",
    "[Softmax Activation Function](https://www.tensorflow.org/api_docs/python/tf/keras/layers/Softmax)\n",
    "\n",
    "[Dense Layer](https://www.tensorflow.org/api_docs/python/tf/keras/layers/Dense)\n",
    "\n",
    "[Flatten Layer](https://www.tensorflow.org/api_docs/python/tf/keras/layers/Flatten)\n",
    "\n",
    "Model:\n",
    "\n",
    "[Sequential](https://www.tensorflow.org/api_docs/python/tf/keras/Sequential)\n",
    "\n",
    "The sequential model just groups a stack of layers in a linear fashion. \n",
    "\n",
    "[keras.Model](https://keras.io/api/models/model/)\n",
    "\n",
    "You can create a custom class that inherits from this class, which will allow you to have greater control over the model.\n",
    "\n",
    "Some more useful TensorFlow docs pages:\n",
    "\n",
    "[AutoDiff](https://www.tensorflow.org/guide/autodiff#gradients_with_respect_to_a_model)\n",
    "\n",
    "[GradientTape](https://www.tensorflow.org/api_docs/python/tf/GradientTape#used-in-the-notebooks)\n",
    "\n",
    "[Customizing Fit Function](https://www.tensorflow.org/guide/keras/customizing_what_happens_in_fit)"
   ]
  },
  {
   "cell_type": "markdown",
   "id": "74794fb4",
   "metadata": {},
   "source": [
    "# Task 2: EDA and Model Implementation"
   ]
  },
  {
   "cell_type": "markdown",
   "id": "d15bf068",
   "metadata": {},
   "source": [
    "We will first explore the data and visualize it, then build and compile the model. "
   ]
  },
  {
   "cell_type": "markdown",
   "id": "4215a909",
   "metadata": {},
   "source": [
    "### EDA"
   ]
  },
  {
   "cell_type": "markdown",
   "id": "7912c1b6",
   "metadata": {},
   "source": [
    "Let's try and show what some of the images in the training set look like"
   ]
  },
  {
   "cell_type": "code",
   "execution_count": 5,
   "id": "39c0c494",
   "metadata": {},
   "outputs": [
    {
     "data": {
      "image/png": "[encoded data removed]",
      "text/plain": [
       "<Figure size 432x288 with 6 Axes>"
      ]
     },
     "metadata": {
      "needs_background": "light"
     },
     "output_type": "display_data"
    }
   ],
   "source": [
    "for i in range(6):\n",
    "    plt.subplot(2, 3, i+1)\n",
    "    plt.imshow(x_train[i], cmap='gray')\n",
    "plt.show()"
   ]
  },
  {
   "cell_type": "markdown",
   "id": "cf7ca857",
   "metadata": {},
   "source": [
    "Let's see the unique values in the training data"
   ]
  },
  {
   "cell_type": "code",
   "execution_count": 6,
   "id": "9dab453e",
   "metadata": {},
   "outputs": [
    {
     "data": {
      "text/plain": [
       "array([  0,   1,   2,   3,   4,   5,   6,   7,   8,   9,  10,  11,  12,\n",
       "        13,  14,  15,  16,  17,  18,  19,  20,  21,  22,  23,  24,  25,\n",
       "        26,  27,  28,  29,  30,  31,  32,  33,  34,  35,  36,  37,  38,\n",
       "        39,  40,  41,  42,  43,  44,  45,  46,  47,  48,  49,  50,  51,\n",
       "        52,  53,  54,  55,  56,  57,  58,  59,  60,  61,  62,  63,  64,\n",
       "        65,  66,  67,  68,  69,  70,  71,  72,  73,  74,  75,  76,  77,\n",
       "        78,  79,  80,  81,  82,  83,  84,  85,  86,  87,  88,  89,  90,\n",
       "        91,  92,  93,  94,  95,  96,  97,  98,  99, 100, 101, 102, 103,\n",
       "       104, 105, 106, 107, 108, 109, 110, 111, 112, 113, 114, 115, 116,\n",
       "       117, 118, 119, 120, 121, 122, 123, 124, 125, 126, 127, 128, 129,\n",
       "       130, 131, 132, 133, 134, 135, 136, 137, 138, 139, 140, 141, 142,\n",
       "       143, 144, 145, 146, 147, 148, 149, 150, 151, 152, 153, 154, 155,\n",
       "       156, 157, 158, 159, 160, 161, 162, 163, 164, 165, 166, 167, 168,\n",
       "       169, 170, 171, 172, 173, 174, 175, 176, 177, 178, 179, 180, 181,\n",
       "       182, 183, 184, 185, 186, 187, 188, 189, 190, 191, 192, 193, 194,\n",
       "       195, 196, 197, 198, 199, 200, 201, 202, 203, 204, 205, 206, 207,\n",
       "       208, 209, 210, 211, 212, 213, 214, 215, 216, 217, 218, 219, 220,\n",
       "       221, 222, 223, 224, 225, 226, 227, 228, 229, 230, 231, 232, 233,\n",
       "       234, 235, 236, 237, 238, 239, 240, 241, 242, 243, 244, 245, 246,\n",
       "       247, 248, 249, 250, 251, 252, 253, 254, 255], dtype=uint8)"
      ]
     },
     "execution_count": 6,
     "metadata": {},
     "output_type": "execute_result"
    }
   ],
   "source": [
    "np.unique(x_train)"
   ]
  },
  {
   "cell_type": "markdown",
   "id": "4cf4a496",
   "metadata": {},
   "source": [
    "The unique values are all integers ranging from 0-255. This makes sense, as images are typically represented by color values ranging from 0-255. \n",
    "\n",
    "What about the target labels?\n"
   ]
  },
  {
   "cell_type": "code",
   "execution_count": 7,
   "id": "4911f767",
   "metadata": {},
   "outputs": [
    {
     "data": {
      "text/plain": [
       "array([0, 1, 2, 3, 4, 5, 6, 7, 8, 9], dtype=uint8)"
      ]
     },
     "execution_count": 7,
     "metadata": {},
     "output_type": "execute_result"
    }
   ],
   "source": [
    "np.unique(y_train)"
   ]
  },
  {
   "cell_type": "markdown",
   "id": "75992b62",
   "metadata": {},
   "source": [
    "The target labels for our problem are integers from 0-9. This is what we are trying to predict with our model. "
   ]
  },
  {
   "cell_type": "markdown",
   "id": "a144444b",
   "metadata": {},
   "source": [
    "We can also try and plot the target labels as a histogram to see the distribution over the training set"
   ]
  },
  {
   "cell_type": "code",
   "execution_count": 8,
   "id": "3e78e5f1",
   "metadata": {},
   "outputs": [
    {
     "data": {
      "text/plain": [
       "(array([5923., 6742., 5958., 6131., 5842., 5421., 5918., 6265., 5851.,\n",
       "        5949.]),\n",
       " array([0. , 0.9, 1.8, 2.7, 3.6, 4.5, 5.4, 6.3, 7.2, 8.1, 9. ]),\n",
       " <BarContainer object of 10 artists>)"
      ]
     },
     "execution_count": 8,
     "metadata": {},
     "output_type": "execute_result"
    },
    {
     "data": {
      "image/png": "[encoded data removed]",
      "text/plain": [
       "<Figure size 432x288 with 1 Axes>"
      ]
     },
     "metadata": {
      "needs_background": "light"
     },
     "output_type": "display_data"
    }
   ],
   "source": [
    "plt.hist(y_train, bins=10)"
   ]
  },
  {
   "cell_type": "markdown",
   "id": "4c0d3b70",
   "metadata": {},
   "source": [
    "There appears to be a roughly uniform distribution over all possible target labels in the training set. This is good, as it means the model will have roughly the same aound of data to learn from for all target labels. "
   ]
  },
  {
   "cell_type": "markdown",
   "id": "fd7a2fb7",
   "metadata": {},
   "source": [
    "### Creating the Sequential Model Structure\n",
    "\n",
    "We can create an instance of the Sequential model class which will group network layers in a stack. The first layer will be to flatten the data, which will reduce the dimensionality of the data. Optionally, you could flatten the data using the reshape operation. \n",
    "\n",
    "I will add Dense layers, which are the standard densly connected neural network layer. "
   ]
  },
  {
   "cell_type": "markdown",
   "id": "fe3fcbf8",
   "metadata": {},
   "source": [
    "Below is a custom Classback class. This is passed into the model when fitting the model to the data. This will aloow us to view and/or save information while the training step is in process. By overriding the on_epoch_end, we can view information about the model when an epoch finishes. \n",
    "\n",
    "This callback class is simple. It will just print the weights matrix and the bias vector after each epoch. Seeing the updated trainable variables as well as the loss at each epoch should be an empirical indication of the convergance of the model. "
   ]
  },
  {
   "cell_type": "code",
   "execution_count": 9,
   "id": "96f94196",
   "metadata": {},
   "outputs": [],
   "source": [
    "class myCallback(tf.keras.callbacks.Callback):\n",
    "    def on_epoch_end(self, epoch, logs={}):\n",
    "        print(\"\\nEpoch:\", epoch, \"\\nWeights and Bias: \\n\", model.trainable_variables)\n",
    "    \n",
    "    def set_model(self, model):\n",
    "        self.model = model\n",
    "\n",
    "my_callback = myCallback()"
   ]
  },
  {
   "cell_type": "markdown",
   "id": "e494f70e",
   "metadata": {},
   "source": [
    "Now I will establish the structure of the model. The model will be built using the keras Sequential API. I firsst add a Flatten layer which will change the input shape from (28,28) to (,784)\n",
    "\n",
    "Next there's two hidden dense layers, using the ReLU activation function. The final dense layer will have a shape of 10, because we have 10 possible target labels to predict."
   ]
  },
  {
   "cell_type": "code",
   "execution_count": 10,
   "id": "268bf22b",
   "metadata": {},
   "outputs": [
    {
     "name": "stdout",
     "output_type": "stream",
     "text": [
      "Model: \"sequential\"\n",
      "_________________________________________________________________\n",
      " Layer (type)                Output Shape              Param #   \n",
      "=================================================================\n",
      " flatten (Flatten)           (None, 784)               0         \n",
      "                                                                 \n",
      " dense (Dense)               (None, 128)               100480    \n",
      "                                                                 \n",
      " dense_1 (Dense)             (None, 128)               16512     \n",
      "                                                                 \n",
      " dense_2 (Dense)             (None, 10)                1290      \n",
      "                                                                 \n",
      "=================================================================\n",
      "Total params: 118,282\n",
      "Trainable params: 118,282\n",
      "Non-trainable params: 0\n",
      "_________________________________________________________________\n"
     ]
    }
   ],
   "source": [
    "model = keras.Sequential([\n",
    "    # layer to take input and flatten the shape\n",
    "    keras.layers.Flatten(input_shape=(28,28)),\n",
    "    \n",
    "    # two dense hidden layers with ReLU activation function\n",
    "    keras.layers.Dense(128, activation='relu'),\n",
    "    keras.layers.Dense(128, activation='relu'),\n",
    "    \n",
    "    # final layer of shape (,10) \n",
    "    keras.layers.Dense(10)  \n",
    "    \n",
    "])\n",
    "model.summary()     "
   ]
  },
  {
   "cell_type": "markdown",
   "id": "710ec013",
   "metadata": {},
   "source": [
    "Now we can assign a loss function and a gradient descent algorithm to our model. For the loss function, I use Spare Categorical Crossentrpy since we are dealing with categorical data. The optimizer will be the ADAM optimizer (Adapotive Moment Estimation)\n",
    "\n",
    "See section 4.6 of [this paper](https://arxiv.org/pdf/1609.04747.pdf) for info on ADAM optimized alogrithm. ADAM uses alearning rate, which is an imporant tuning parameter. I initially choose a rate of 1e-3."
   ]
  },
  {
   "cell_type": "code",
   "execution_count": 11,
   "id": "2eb86566",
   "metadata": {},
   "outputs": [],
   "source": [
    "# I set from_logits=True becuase there is no Softmax layer to normalize the last output of the NN\n",
    "# This can be done by the loss function\n",
    "loss_function = keras.losses.SparseCategoricalCrossentropy(from_logits=True)\n",
    "optim = keras.optimizers.Adam(learning_rate=0.001)"
   ]
  },
  {
   "cell_type": "markdown",
   "id": "9f144535",
   "metadata": {},
   "source": [
    "Now that we've established the model structure, loss function and gradient descent alogrithm, we can compile the model with these parameters. "
   ]
  },
  {
   "cell_type": "code",
   "execution_count": 12,
   "id": "f81de1e0",
   "metadata": {},
   "outputs": [],
   "source": [
    "model.compile(optimizer=optim, loss=loss_function, metrics=[\"accuracy\"])"
   ]
  },
  {
   "cell_type": "markdown",
   "id": "995277a5",
   "metadata": {},
   "source": [
    "This is the train step. The accuracy of the train-dev set and the loss gets automatically printed, and the callback object also prints the weights and bias at each epoch. "
   ]
  },
  {
   "cell_type": "code",
   "execution_count": 13,
   "id": "29575d31",
   "metadata": {},
   "outputs": [
    {
     "name": "stdout",
     "output_type": "stream",
     "text": [
      "Epoch 1/3\n",
      "1850/1875 [============================>.] - ETA: 0s - loss: 1.7340 - accuracy: 0.8763\n",
      "Epoch: 0 \n",
      "Weights and Bias: \n",
      " [<tf.Variable 'dense/kernel:0' shape=(784, 128) dtype=float32, numpy=\n",
      "array([[-0.0290429 , -0.07434016,  0.05383185, ...,  0.06791159,\n",
      "        -0.07406383, -0.00083948],\n",
      "       [-0.00341306, -0.04872555,  0.07632641, ..., -0.00431782,\n",
      "         0.0748656 , -0.06475297],\n",
      "       [-0.04258145, -0.03561103, -0.06391864, ...,  0.07608018,\n",
      "         0.02269492, -0.08061688],\n",
      "       ...,\n",
      "       [-0.07865026, -0.07112232, -0.06028879, ..., -0.05582137,\n",
      "        -0.05563801,  0.05940155],\n",
      "       [-0.05566164,  0.04676985, -0.02946233, ...,  0.05205358,\n",
      "        -0.01026798, -0.03355665],\n",
      "       [-0.06728154, -0.05630093, -0.06812032, ..., -0.03156614,\n",
      "         0.04599058, -0.06836499]], dtype=float32)>, <tf.Variable 'dense/bias:0' shape=(128,) dtype=float32, numpy=\n",
      "array([-0.01990358, -0.01392844, -0.00866197, -0.02223401, -0.02158568,\n",
      "       -0.00622281, -0.00038687, -0.03239794, -0.0029563 ,  0.00798397,\n",
      "        0.00414821, -0.00818664, -0.01984901, -0.01449372, -0.0030331 ,\n",
      "       -0.01610287, -0.00892901, -0.01399823, -0.00047904, -0.02504591,\n",
      "       -0.0159359 , -0.02714437, -0.02662092, -0.02234868, -0.01320638,\n",
      "       -0.01563989, -0.03391603, -0.02022113, -0.01115007,  0.00227652,\n",
      "       -0.01689444, -0.01978132, -0.01143486, -0.00776915, -0.00673209,\n",
      "       -0.02240446, -0.01360987, -0.03704994, -0.02513293, -0.01555846,\n",
      "        0.0049267 , -0.028076  , -0.01834617, -0.00974598, -0.01262883,\n",
      "       -0.01952297, -0.01828196, -0.0103985 , -0.00469401, -0.01565722,\n",
      "       -0.01628567, -0.0061431 , -0.01084141, -0.01696512, -0.00612005,\n",
      "       -0.0044524 , -0.02155747, -0.00102928, -0.01063406, -0.00888027,\n",
      "       -0.01424615, -0.01727133, -0.01496241, -0.01840798, -0.011798  ,\n",
      "       -0.00943515, -0.02177927, -0.02235302, -0.02034862, -0.02076966,\n",
      "       -0.02053669, -0.00210085, -0.01736986, -0.03064338, -0.01913788,\n",
      "       -0.02182895,  0.01240402, -0.0395823 , -0.01800179, -0.02640069,\n",
      "       -0.01624332, -0.01108157, -0.01416207, -0.01024751, -0.0163622 ,\n",
      "       -0.01323996, -0.03794217, -0.01610785, -0.01501829, -0.03236048,\n",
      "       -0.00665244, -0.0112114 , -0.00675111, -0.02332063,  0.00057297,\n",
      "       -0.02663895, -0.0181491 , -0.01793961, -0.00951856, -0.01341729,\n",
      "       -0.02594841, -0.01199735, -0.02009856, -0.01490595, -0.00021159,\n",
      "       -0.01265488, -0.02005532, -0.01700673, -0.02915148, -0.01516985,\n",
      "       -0.01021951, -0.02216548, -0.02482697, -0.02601692, -0.0135404 ,\n",
      "       -0.02657652, -0.02795261, -0.01357624, -0.03281244, -0.02302685,\n",
      "       -0.01173993, -0.02965672, -0.02502541, -0.03513929, -0.01060366,\n",
      "       -0.02434883, -0.01649923, -0.02408637], dtype=float32)>, <tf.Variable 'dense_1/kernel:0' shape=(128, 128) dtype=float32, numpy=\n",
      "array([[-0.11179835,  0.13161577,  0.02987692, ...,  0.06616518,\n",
      "        -0.0457485 , -0.14319293],\n",
      "       [-0.10538325, -0.07919795, -0.14222872, ..., -0.12127265,\n",
      "        -0.14098379, -0.01618835],\n",
      "       [ 0.03019987,  0.02926166, -0.12627384, ..., -0.06389613,\n",
      "        -0.08921184,  0.06247218],\n",
      "       ...,\n",
      "       [-0.05917039, -0.1208215 ,  0.11463039, ..., -0.1090778 ,\n",
      "         0.06518599, -0.03541034],\n",
      "       [-0.01342067, -0.15067865, -0.07560899, ..., -0.14951022,\n",
      "         0.02807274,  0.03662366],\n",
      "       [ 0.05154084,  0.05849626, -0.06466574, ...,  0.13438807,\n",
      "        -0.00719374,  0.08405656]], dtype=float32)>, <tf.Variable 'dense_1/bias:0' shape=(128,) dtype=float32, numpy=\n",
      "array([-0.0193683 , -0.05765457, -0.03857868, -0.08133087,  0.01700776,\n",
      "       -0.00630795,  0.00308582, -0.02890208,  0.00169606, -0.00374766,\n",
      "       -0.0672524 , -0.02308327, -0.06514034, -0.04123346, -0.0658401 ,\n",
      "       -0.05184912, -0.05946545, -0.01653068, -0.03281264, -0.0088073 ,\n",
      "       -0.04283309, -0.01844819, -0.01411504, -0.02365463, -0.06520259,\n",
      "        0.01702346, -0.00874123, -0.09306938, -0.08146636,  0.00810078,\n",
      "       -0.0071696 , -0.03581421, -0.0490399 , -0.03742089, -0.06639355,\n",
      "       -0.06705557, -0.09281721, -0.02003269, -0.02392576, -0.07817177,\n",
      "       -0.00787737, -0.06093718, -0.05788609, -0.00652696, -0.02720863,\n",
      "       -0.0287349 , -0.02756721, -0.02229772, -0.06242992, -0.08142133,\n",
      "       -0.06496983, -0.0321993 , -0.0007523 , -0.05808578,  0.00457501,\n",
      "       -0.04494612, -0.06714834, -0.05382237, -0.03050168, -0.07609168,\n",
      "       -0.00490631,  0.01140983, -0.03174944, -0.06873906, -0.1051852 ,\n",
      "       -0.07242437, -0.06629679, -0.04761648, -0.03695058, -0.02232984,\n",
      "       -0.07346705, -0.02975113, -0.0346918 , -0.01324487, -0.00743033,\n",
      "       -0.0692656 , -0.04183357, -0.05591641, -0.0271737 , -0.03513808,\n",
      "       -0.00917026, -0.03489363, -0.12184739,  0.00503433, -0.05065355,\n",
      "       -0.01987695,  0.00434776, -0.03445778, -0.00968629, -0.07737146,\n",
      "       -0.00805494, -0.01603583, -0.00839719, -0.04770768, -0.06750902,\n",
      "       -0.0147569 , -0.03331865, -0.06713116, -0.05559325, -0.1013428 ,\n",
      "       -0.06499324, -0.05301942, -0.00537379, -0.04402861, -0.06587595,\n",
      "       -0.06522955, -0.0574874 , -0.01890237, -0.08732349, -0.06616586,\n",
      "       -0.01719279, -0.04137686, -0.00352951, -0.08483244, -0.06222016,\n",
      "       -0.01250368, -0.0441012 , -0.01171628, -0.04322024, -0.038447  ,\n",
      "       -0.05703557, -0.02896992, -0.05179442, -0.03374235, -0.02702136,\n",
      "       -0.0017462 , -0.09043871, -0.04015108], dtype=float32)>, <tf.Variable 'dense_2/kernel:0' shape=(128, 10) dtype=float32, numpy=\n",
      "array([[-0.12425896,  0.19688126, -0.06435505, ...,  0.13501683,\n",
      "         0.09007193,  0.08152125],\n",
      "       [-0.08035357, -0.06662166, -0.09106815, ...,  0.11000908,\n",
      "         0.16401105, -0.1079717 ],\n",
      "       [-0.10862604, -0.05581828,  0.07899289, ..., -0.09564263,\n",
      "         0.04261788, -0.11939279],\n",
      "       ...,\n",
      "       [-0.00385873, -0.06167296,  0.11017707, ..., -0.10102308,\n",
      "         0.00148399, -0.18581638],\n",
      "       [-0.09057549,  0.16819698,  0.20052738, ..., -0.03821959,\n",
      "        -0.17646347,  0.1440792 ],\n",
      "       [ 0.02449934, -0.13604687, -0.10758197, ..., -0.0805341 ,\n",
      "        -0.10616361,  0.15572861]], dtype=float32)>, <tf.Variable 'dense_2/bias:0' shape=(10,) dtype=float32, numpy=\n",
      "array([-0.0127704 , -0.00636422, -0.01654453, -0.0047969 ,  0.01357609,\n",
      "       -0.01670466,  0.0080326 ,  0.01337084,  0.02005448,  0.00159348],\n",
      "      dtype=float32)>]\n",
      "1875/1875 [==============================] - 2s 900us/step - loss: 1.7166 - accuracy: 0.8767\n",
      "Epoch 2/3\n",
      "1854/1875 [============================>.] - ETA: 0s - loss: 0.3851 - accuracy: 0.9200\n",
      "Epoch: 1 \n",
      "Weights and Bias: \n",
      " [<tf.Variable 'dense/kernel:0' shape=(784, 128) dtype=float32, numpy=\n",
      "array([[-0.0290429 , -0.07434016,  0.05383185, ...,  0.06791159,\n",
      "        -0.07406383, -0.00083948],\n",
      "       [-0.00341306, -0.04872555,  0.07632641, ..., -0.00431782,\n",
      "         0.0748656 , -0.06475297],\n",
      "       [-0.04258145, -0.03561103, -0.06391864, ...,  0.07608018,\n",
      "         0.02269492, -0.08061688],\n",
      "       ...,\n",
      "       [-0.07865026, -0.07112232, -0.06028879, ..., -0.05582137,\n",
      "        -0.05563801,  0.05940155],\n",
      "       [-0.05566164,  0.04676985, -0.02946233, ...,  0.05205358,\n",
      "        -0.01026798, -0.03355665],\n",
      "       [-0.06728154, -0.05630093, -0.06812032, ..., -0.03156614,\n",
      "         0.04599058, -0.06836499]], dtype=float32)>, <tf.Variable 'dense/bias:0' shape=(128,) dtype=float32, numpy=\n",
      "array([-2.18445919e-02, -6.07562438e-03, -2.08002180e-02, -2.02510562e-02,\n",
      "       -1.60928108e-02, -1.22800628e-02, -5.80538390e-03, -3.89464907e-02,\n",
      "       -4.60314471e-03,  6.30683592e-03, -7.55346660e-03, -4.93346201e-03,\n",
      "       -1.99758615e-02, -3.73543985e-02,  3.23161250e-03, -1.09216813e-02,\n",
      "       -4.22236975e-03, -1.45466812e-02,  1.23797385e-02, -9.53688566e-03,\n",
      "       -2.58430503e-02, -2.71442924e-02, -2.83259787e-02, -1.49493124e-02,\n",
      "       -1.43318344e-02, -2.36004200e-02, -3.25994864e-02, -2.79092882e-02,\n",
      "       -2.53798459e-02,  7.02094170e-04, -2.05772929e-02, -3.20332870e-02,\n",
      "       -1.07501065e-02, -2.61967769e-03, -1.65181998e-02, -2.20038481e-02,\n",
      "       -2.08472461e-02, -4.20657694e-02, -2.27280036e-02, -2.69364547e-02,\n",
      "        1.44676305e-02, -4.59630974e-02, -2.05089860e-02, -1.03383409e-02,\n",
      "       -8.21130257e-03, -2.37727817e-02, -2.45333686e-02, -1.17793987e-02,\n",
      "       -1.28769670e-02, -1.99707467e-02, -3.09847035e-02, -8.16513132e-03,\n",
      "       -2.83859596e-02, -1.95600223e-02, -6.82777585e-03, -6.01684116e-03,\n",
      "       -2.59628072e-02, -2.76129485e-05, -1.22479545e-02, -1.65357720e-02,\n",
      "       -2.06768587e-02, -3.28917578e-02, -2.18306147e-02, -1.70091949e-02,\n",
      "       -1.28746200e-02, -1.10375686e-02, -1.91991739e-02, -1.71920881e-02,\n",
      "       -2.54620425e-02, -2.07696613e-02, -3.92509177e-02, -1.44932233e-02,\n",
      "       -1.89124625e-02, -2.28144564e-02, -3.00979093e-02, -4.09943387e-02,\n",
      "        8.52884725e-03, -5.34672141e-02, -1.89073943e-02, -4.40234803e-02,\n",
      "       -1.95007510e-02, -1.50594125e-02, -1.81055330e-02, -1.22468416e-02,\n",
      "       -2.56981775e-02, -2.14782618e-02, -4.03512381e-02, -2.34472696e-02,\n",
      "       -1.32604847e-02, -3.99759561e-02, -5.72339864e-03, -1.65087041e-02,\n",
      "       -6.46857871e-03, -2.58306265e-02,  3.01416535e-02, -3.34486067e-02,\n",
      "       -2.32723430e-02, -1.97673216e-02, -1.09938150e-02, -1.45430956e-02,\n",
      "       -2.71973964e-02, -1.46065038e-02, -1.70979220e-02, -3.16630937e-02,\n",
      "       -3.27549851e-03, -1.63530856e-02, -4.34818156e-02, -1.83361992e-02,\n",
      "       -3.21191885e-02, -1.43356118e-02, -4.94785700e-03, -1.53337698e-02,\n",
      "       -2.52173804e-02, -3.16914469e-02, -2.75307484e-02, -3.54979075e-02,\n",
      "       -3.49893980e-02, -9.25080664e-03, -4.03633788e-02, -2.67572999e-02,\n",
      "       -2.84920651e-02, -3.44360210e-02, -2.37572156e-02, -3.71298678e-02,\n",
      "       -1.81472246e-02, -1.48196109e-02, -1.50513500e-02, -3.24200615e-02],\n",
      "      dtype=float32)>, <tf.Variable 'dense_1/kernel:0' shape=(128, 128) dtype=float32, numpy=\n",
      "array([[-0.11169388,  0.1314499 ,  0.02987692, ...,  0.06740674,\n",
      "        -0.0457485 , -0.14289938],\n",
      "       [-0.12776221, -0.06175535, -0.13599451, ..., -0.11855701,\n",
      "        -0.1692864 , -0.01977451],\n",
      "       [ 0.02507611,  0.0167683 , -0.13221562, ..., -0.04421621,\n",
      "        -0.08921184,  0.08283973],\n",
      "       ...,\n",
      "       [-0.0602791 , -0.11827361,  0.11489159, ..., -0.13163942,\n",
      "         0.06557038, -0.0333278 ],\n",
      "       [-0.04120081, -0.15197022, -0.08811666, ..., -0.17565413,\n",
      "         0.02759196,  0.00994141],\n",
      "       [ 0.06277055,  0.05079066, -0.06491231, ...,  0.11054538,\n",
      "        -0.0067812 ,  0.09631796]], dtype=float32)>, <tf.Variable 'dense_1/bias:0' shape=(128,) dtype=float32, numpy=\n",
      "array([-9.96300131e-02, -8.99557546e-02, -9.39490423e-02, -1.07739963e-01,\n",
      "        4.20720084e-03,  1.75167836e-04,  1.21958666e-02, -8.55740458e-02,\n",
      "       -1.69791840e-02, -3.57110314e-02, -1.32455438e-01, -4.46515791e-02,\n",
      "       -8.24488401e-02, -9.64943841e-02, -1.10981740e-01, -8.17445815e-02,\n",
      "       -1.05326712e-01, -4.83647510e-02, -8.76895636e-02, -3.67713422e-02,\n",
      "       -5.12541980e-02, -3.88463773e-02, -3.57967727e-02, -4.99322563e-02,\n",
      "       -8.73871073e-02,  1.42741231e-02, -2.57786103e-02, -1.22780696e-01,\n",
      "       -1.17404632e-01,  4.35293419e-03, -3.56568135e-02, -1.05661407e-01,\n",
      "       -1.00976288e-01, -8.48983750e-02, -1.47906974e-01, -1.16078816e-01,\n",
      "       -1.45798564e-01, -3.51497307e-02, -5.51482663e-02, -1.41987205e-01,\n",
      "       -1.75362788e-02, -1.33931652e-01, -4.66175489e-02, -2.00706404e-02,\n",
      "       -7.40188882e-02, -6.13142215e-02, -8.65151212e-02, -4.55609374e-02,\n",
      "       -1.29163623e-01, -1.06020689e-01, -8.80517960e-02, -4.72564511e-02,\n",
      "       -3.27595808e-02, -9.67367217e-02,  1.40019534e-02, -4.83512208e-02,\n",
      "       -9.79145244e-02, -9.57042426e-02, -4.13903855e-02, -1.45695001e-01,\n",
      "       -1.03445631e-02, -3.99025111e-03, -5.36547080e-02, -1.14711531e-01,\n",
      "       -1.40222102e-01, -9.34035406e-02, -1.08382910e-01, -8.81168023e-02,\n",
      "       -6.16264641e-02, -3.91809717e-02, -9.55241323e-02, -5.00624031e-02,\n",
      "       -5.39665334e-02, -6.43875971e-02, -4.76834029e-02, -1.07317135e-01,\n",
      "       -4.05281037e-02, -8.45562965e-02, -4.92322370e-02, -6.66632205e-02,\n",
      "       -6.25207052e-02, -8.74023661e-02, -1.89475685e-01,  3.91907692e-02,\n",
      "       -6.08946308e-02, -7.26849660e-02, -4.72494308e-03, -1.85924787e-02,\n",
      "       -4.94819283e-02, -1.21821605e-01, -2.86732875e-02, -4.75348793e-02,\n",
      "       -3.98630314e-02, -1.05645567e-01, -8.49966705e-02, -5.79939783e-02,\n",
      "       -7.97783360e-02, -1.15354039e-01, -1.05678111e-01, -1.30618468e-01,\n",
      "       -1.05967812e-01, -1.01042978e-01, -3.21954265e-02, -6.91536814e-02,\n",
      "       -1.01717457e-01, -8.28585476e-02, -1.03758737e-01, -7.59149045e-02,\n",
      "       -1.40347093e-01, -6.87331334e-02, -2.88424529e-02, -6.38717711e-02,\n",
      "       -1.16027305e-02, -1.42147884e-01, -9.65085626e-02, -1.47956191e-02,\n",
      "       -7.13320896e-02, -3.19781974e-02, -7.20001832e-02, -5.22590280e-02,\n",
      "       -9.30387005e-02, -5.02499156e-02, -1.27665669e-01, -6.12475015e-02,\n",
      "       -4.70058583e-02, -2.80655138e-02, -5.22479862e-02, -7.05744177e-02],\n",
      "      dtype=float32)>, <tf.Variable 'dense_2/kernel:0' shape=(128, 10) dtype=float32, numpy=\n",
      "array([[-0.10674836,  0.19241731, -0.03838589, ...,  0.11003049,\n",
      "         0.08906691,  0.09234355],\n",
      "       [-0.0559057 , -0.04436271, -0.05471472, ...,  0.06780189,\n",
      "         0.12598506, -0.07837351],\n",
      "       [-0.06572284, -0.02786732,  0.0577385 , ..., -0.09279996,\n",
      "         0.03294563, -0.11943477],\n",
      "       ...,\n",
      "       [-0.0127996 , -0.0630147 ,  0.09019623, ..., -0.1026158 ,\n",
      "         0.00896122, -0.19668554],\n",
      "       [-0.1243268 ,  0.1325807 ,  0.20683923, ...,  0.03530401,\n",
      "        -0.19039351,  0.11611439],\n",
      "       [ 0.00925033, -0.12392084, -0.10175513, ..., -0.06108075,\n",
      "        -0.08597632,  0.12948292]], dtype=float32)>, <tf.Variable 'dense_2/bias:0' shape=(10,) dtype=float32, numpy=\n",
      "array([-0.03085447,  0.00691964, -0.03865593, -0.00523042,  0.01732922,\n",
      "       -0.04181726, -0.02837104,  0.00933219,  0.07844578,  0.01452551],\n",
      "      dtype=float32)>]\n",
      "1875/1875 [==============================] - 2s 853us/step - loss: 0.3852 - accuracy: 0.9198\n"
     ]
    },
    {
     "name": "stdout",
     "output_type": "stream",
     "text": [
      "Epoch 3/3\n",
      "1860/1875 [============================>.] - ETA: 0s - loss: 0.2659 - accuracy: 0.9367\n",
      "Epoch: 2 \n",
      "Weights and Bias: \n",
      " [<tf.Variable 'dense/kernel:0' shape=(784, 128) dtype=float32, numpy=\n",
      "array([[-0.0290429 , -0.07434016,  0.05383185, ...,  0.06791159,\n",
      "        -0.07406383, -0.00083948],\n",
      "       [-0.00341306, -0.04872555,  0.07632641, ..., -0.00431782,\n",
      "         0.0748656 , -0.06475297],\n",
      "       [-0.04258145, -0.03561103, -0.06391864, ...,  0.07608018,\n",
      "         0.02269492, -0.08061688],\n",
      "       ...,\n",
      "       [-0.07865026, -0.07112232, -0.06028879, ..., -0.05582137,\n",
      "        -0.05563801,  0.05940155],\n",
      "       [-0.05566164,  0.04676985, -0.02946233, ...,  0.05205358,\n",
      "        -0.01026798, -0.03355665],\n",
      "       [-0.06728154, -0.05630093, -0.06812032, ..., -0.03156614,\n",
      "         0.04599058, -0.06836499]], dtype=float32)>, <tf.Variable 'dense/bias:0' shape=(128,) dtype=float32, numpy=\n",
      "array([-0.03263706, -0.01400839, -0.02344826, -0.02079244, -0.02892002,\n",
      "       -0.0113265 , -0.00817079, -0.05019202, -0.01608184,  0.00768249,\n",
      "       -0.02314247, -0.01997226, -0.04069498, -0.04729348,  0.0039298 ,\n",
      "       -0.0271451 , -0.00223695, -0.02988881,  0.01238696, -0.00471117,\n",
      "       -0.0246967 , -0.02715413, -0.02914258, -0.02212682, -0.0078482 ,\n",
      "       -0.02360254, -0.04515817, -0.02875669, -0.02432616,  0.00405367,\n",
      "       -0.01940483, -0.03645474, -0.02239513,  0.00042797, -0.01859244,\n",
      "       -0.03318299, -0.03849478, -0.06696162, -0.02279932, -0.03454672,\n",
      "        0.02895718, -0.05137909, -0.02079769, -0.01697245, -0.00911897,\n",
      "       -0.02454099, -0.02642206, -0.01536894, -0.02097871, -0.02158653,\n",
      "       -0.02304149, -0.00541842, -0.03778563, -0.02174171, -0.01030829,\n",
      "       -0.0165211 , -0.04502222, -0.00522189, -0.0187784 , -0.02604798,\n",
      "       -0.02061657, -0.03641075, -0.01743855, -0.01981257, -0.02016996,\n",
      "       -0.01026435, -0.03149802, -0.02054737, -0.02448671, -0.02076966,\n",
      "       -0.04258164, -0.02558228, -0.0190596 , -0.03349122, -0.0131617 ,\n",
      "       -0.03592488,  0.01295764, -0.0841026 , -0.01489619, -0.04767759,\n",
      "       -0.01812584, -0.02455795, -0.01797661, -0.03208281, -0.0332126 ,\n",
      "       -0.02130189, -0.05002311, -0.026601  , -0.02332207, -0.03255921,\n",
      "       -0.01358891, -0.0095153 , -0.01156093, -0.02582159,  0.07290854,\n",
      "       -0.03470507, -0.03867908, -0.04765642, -0.01099744, -0.01221241,\n",
      "       -0.04047491, -0.01529841, -0.01999376, -0.06268281, -0.0039246 ,\n",
      "       -0.02054891, -0.06137533, -0.02104353, -0.0387722 , -0.02225765,\n",
      "        0.00319941, -0.01395609, -0.02671243, -0.0258695 , -0.02752911,\n",
      "       -0.03111562, -0.04306994, -0.02615908, -0.03605143, -0.0267573 ,\n",
      "       -0.03916477, -0.03708255, -0.02571571, -0.03838286, -0.02604759,\n",
      "       -0.02398824, -0.01959209, -0.03084542], dtype=float32)>, <tf.Variable 'dense_1/kernel:0' shape=(128, 128) dtype=float32, numpy=\n",
      "array([[-0.11923262,  0.11263184,  0.02842987, ...,  0.09145638,\n",
      "        -0.0390246 , -0.13995402],\n",
      "       [-0.16645811, -0.00552106, -0.17118675, ..., -0.12335308,\n",
      "        -0.16956043, -0.02863881],\n",
      "       [ 0.02456912,  0.01764509, -0.13192357, ..., -0.04970521,\n",
      "        -0.08921184,  0.07326904],\n",
      "       ...,\n",
      "       [-0.05740825, -0.11734758,  0.1238673 , ..., -0.13121073,\n",
      "         0.07064776, -0.03747737],\n",
      "       [-0.0423125 , -0.10243578, -0.08272552, ..., -0.16468778,\n",
      "         0.01628302, -0.01377949],\n",
      "       [ 0.07659775,  0.05367789, -0.06430629, ...,  0.13254482,\n",
      "         0.01346748,  0.0930995 ]], dtype=float32)>, <tf.Variable 'dense_1/bias:0' shape=(128,) dtype=float32, numpy=\n",
      "array([-0.13479325, -0.10167819, -0.12039891, -0.13046087, -0.01608954,\n",
      "        0.00248953,  0.00896825, -0.10318314, -0.02915695, -0.04502329,\n",
      "       -0.1479247 , -0.07205617, -0.10781058, -0.10322394, -0.13016294,\n",
      "       -0.09112601, -0.12109177, -0.04651061, -0.1180437 , -0.07547558,\n",
      "       -0.06983947, -0.07211562, -0.06973748, -0.08800974, -0.1252479 ,\n",
      "       -0.01452371, -0.03380536, -0.12111744, -0.16598271, -0.02544201,\n",
      "       -0.06179496, -0.16546208, -0.13092597, -0.10636557, -0.1836857 ,\n",
      "       -0.15142047, -0.16119885, -0.09582594, -0.06114284, -0.1668696 ,\n",
      "       -0.05756938, -0.13182741, -0.03496207, -0.03227911, -0.14067587,\n",
      "       -0.08115742, -0.1193973 , -0.0932257 , -0.17147593, -0.13867877,\n",
      "       -0.12402375, -0.03416554, -0.04667821, -0.13253191,  0.00177533,\n",
      "       -0.05918743, -0.14143914, -0.08806488, -0.11181056, -0.17529273,\n",
      "       -0.03770231, -0.04732884, -0.04594046, -0.17782861, -0.17351854,\n",
      "       -0.13048357, -0.13653179, -0.11389977, -0.06783734, -0.07516297,\n",
      "       -0.1283917 , -0.09341648, -0.07010189, -0.09638689, -0.08577272,\n",
      "       -0.10321394, -0.08361796, -0.17204791, -0.07212511, -0.12689227,\n",
      "       -0.10190535, -0.0972073 , -0.23661152,  0.03863842, -0.067773  ,\n",
      "       -0.12132997,  0.01131081, -0.04807063, -0.08411199, -0.15867242,\n",
      "       -0.05468889, -0.08490594, -0.07735146, -0.16352451, -0.09283418,\n",
      "       -0.09833224, -0.11549231, -0.13290492, -0.12563622, -0.15315562,\n",
      "       -0.10014503, -0.14399968, -0.06395046, -0.10509067, -0.13824873,\n",
      "       -0.11874676, -0.12624446, -0.13442959, -0.22672684, -0.07006115,\n",
      "       -0.01682727, -0.07763443, -0.02135221, -0.16400197, -0.12617245,\n",
      "       -0.03229372, -0.0909386 , -0.04019705, -0.10191125, -0.08372632,\n",
      "       -0.14170122, -0.0910344 , -0.17879999, -0.08231336, -0.06597155,\n",
      "       -0.02324436, -0.06739482, -0.08755258], dtype=float32)>, <tf.Variable 'dense_2/kernel:0' shape=(128, 10) dtype=float32, numpy=\n",
      "array([[-0.09476245,  0.15722924, -0.02323884, ...,  0.12293543,\n",
      "         0.10163311,  0.08633956],\n",
      "       [-0.05632696, -0.03394677, -0.05904766, ...,  0.06280237,\n",
      "         0.12656695, -0.05985105],\n",
      "       [-0.02801582, -0.04320116,  0.02122776, ..., -0.11644452,\n",
      "         0.06697353, -0.11145711],\n",
      "       ...,\n",
      "       [-0.02210399, -0.07099009,  0.08116224, ..., -0.08250734,\n",
      "         0.00323139, -0.20187412],\n",
      "       [-0.14316714,  0.118279  ,  0.23190157, ...,  0.0146833 ,\n",
      "        -0.18588218,  0.0782175 ],\n",
      "       [ 0.0138471 , -0.09994041, -0.09247477, ..., -0.03526993,\n",
      "        -0.0469265 ,  0.10412616]], dtype=float32)>, <tf.Variable 'dense_2/bias:0' shape=(10,) dtype=float32, numpy=\n",
      "array([-0.0214444 ,  0.02134986, -0.06034401, -0.01007799,  0.02656961,\n",
      "       -0.04957062, -0.08758651,  0.01730077,  0.09603078,  0.03854476],\n",
      "      dtype=float32)>]\n",
      "1875/1875 [==============================] - 2s 852us/step - loss: 0.2663 - accuracy: 0.9366\n"
     ]
    }
   ],
   "source": [
    "training_step = model.fit(x_train, y_train, epochs=3, callbacks=[myCallback()])"
   ]
  },
  {
   "cell_type": "markdown",
   "id": "377678de",
   "metadata": {},
   "source": [
    "Now that the model is trained, we can evaluate it against the test set to see how well it performs. "
   ]
  },
  {
   "cell_type": "code",
   "execution_count": 14,
   "id": "8092cf51",
   "metadata": {},
   "outputs": [
    {
     "name": "stdout",
     "output_type": "stream",
     "text": [
      "313/313 [==============================] - 0s 665us/step - loss: 0.3254 - accuracy: 0.9270\n",
      "Test accuracy: 0.9270\n"
     ]
    }
   ],
   "source": [
    "(loss, acc) = model.evaluate(x_test, y_test)\n",
    "print(\"Test accuracy: {:.4f}\".format(acc))"
   ]
  },
  {
   "cell_type": "markdown",
   "id": "9c092ae0",
   "metadata": {},
   "source": [
    "To further prove convergance we can also plot the loss of the model"
   ]
  },
  {
   "cell_type": "code",
   "execution_count": 19,
   "id": "e5ba0d67",
   "metadata": {},
   "outputs": [
    {
     "data": {
      "text/plain": [
       "[<matplotlib.lines.Line2D at 0x217514586a0>]"
      ]
     },
     "execution_count": 19,
     "metadata": {},
     "output_type": "execute_result"
    },
    {
     "data": {
      "image/png": "[encoded data removed]",
      "text/plain": [
       "<Figure size 432x288 with 1 Axes>"
      ]
     },
     "metadata": {
      "needs_background": "light"
     },
     "output_type": "display_data"
    }
   ],
   "source": [
    "plt.title(\"Loss\")\n",
    "plt.plot(training_step.history['loss'])"
   ]
  },
  {
   "cell_type": "markdown",
   "id": "b96027b9",
   "metadata": {},
   "source": [
    "Since we have only 3 epochs we don't have many data points for the plot, but this could be something to change when tuning the model."
   ]
  },
  {
   "cell_type": "markdown",
   "id": "97131925",
   "metadata": {},
   "source": [
    "### Normalizing the Data"
   ]
  },
  {
   "cell_type": "markdown",
   "id": "8b39c2e5",
   "metadata": {},
   "source": [
    "Let's do a common technique and normalize the data. This will  "
   ]
  },
  {
   "cell_type": "code",
   "execution_count": 22,
   "id": "4b0cfe25",
   "metadata": {},
   "outputs": [],
   "source": [
    "x_train_norm = x_train / 255\n",
    "x_test_norm = x_test / 255"
   ]
  },
  {
   "cell_type": "markdown",
   "id": "01e02d46",
   "metadata": {},
   "source": [
    "Now the minimum and maximum values should fall between [0,1]"
   ]
  },
  {
   "cell_type": "code",
   "execution_count": 23,
   "id": "9c42d23f",
   "metadata": {},
   "outputs": [
    {
     "name": "stdout",
     "output_type": "stream",
     "text": [
      "0.0\n",
      "1.0\n"
     ]
    }
   ],
   "source": [
    "print(np.min(x_train_norm))\n",
    "print(np.max(x_train_norm))"
   ]
  },
  {
   "cell_type": "markdown",
   "id": "5a36aa80",
   "metadata": {},
   "source": [
    "Let's re-train and evaluate the model (without the callback, for cleaner output). "
   ]
  },
  {
   "cell_type": "code",
   "execution_count": 25,
   "id": "cc5e7b82",
   "metadata": {},
   "outputs": [
    {
     "name": "stdout",
     "output_type": "stream",
     "text": [
      "Epoch 1/3\n",
      "1875/1875 [==============================] - 2s 821us/step - loss: 0.4937 - accuracy: 0.8885\n",
      "Epoch 2/3\n",
      "1875/1875 [==============================] - 2s 807us/step - loss: 0.1297 - accuracy: 0.9618\n",
      "Epoch 3/3\n",
      "1875/1875 [==============================] - 2s 806us/step - loss: 0.0935 - accuracy: 0.9719\n"
     ]
    }
   ],
   "source": [
    "training_step_2 = model.fit(x_train_norm, y_train, epochs=3)"
   ]
  },
  {
   "cell_type": "code",
   "execution_count": 27,
   "id": "8f6a4d14",
   "metadata": {},
   "outputs": [
    {
     "name": "stdout",
     "output_type": "stream",
     "text": [
      "313/313 [==============================] - 0s 658us/step - loss: 0.0965 - accuracy: 0.9695\n",
      "Test accuracy: 0.9695\n"
     ]
    }
   ],
   "source": [
    "(loss, acc) = model.evaluate(x_test_norm, y_test)\n",
    "print(\"Test accuracy: {:.4f}\".format(acc))"
   ]
  },
  {
   "cell_type": "markdown",
   "id": "a132405e",
   "metadata": {},
   "source": [
    "It looks like normalizing the data yeilded slightly better performance from the model. \n",
    "\n",
    "### Changing the Number of Epochs\n",
    "\n",
    "Another parameter we can control is the number of epochs run during the training step. Let's try to increase the number of epoch and observe the accuracy and loss. "
   ]
  },
  {
   "cell_type": "code",
   "execution_count": 28,
   "id": "8aaa5850",
   "metadata": {},
   "outputs": [
    {
     "name": "stdout",
     "output_type": "stream",
     "text": [
      "Epoch 1/50\n",
      "1875/1875 [==============================] - 2s 836us/step - loss: 0.0722 - accuracy: 0.9777\n",
      "Epoch 2/50\n",
      "1875/1875 [==============================] - 2s 838us/step - loss: 0.0594 - accuracy: 0.9807\n",
      "Epoch 3/50\n",
      "1875/1875 [==============================] - 2s 820us/step - loss: 0.0459 - accuracy: 0.9853\n",
      "Epoch 4/50\n",
      "1875/1875 [==============================] - 2s 811us/step - loss: 0.0388 - accuracy: 0.9875\n",
      "Epoch 5/50\n",
      "1875/1875 [==============================] - 2s 812us/step - loss: 0.0316 - accuracy: 0.9893\n",
      "Epoch 6/50\n",
      "1875/1875 [==============================] - 2s 815us/step - loss: 0.0273 - accuracy: 0.9910\n",
      "Epoch 7/50\n",
      "1875/1875 [==============================] - 2s 814us/step - loss: 0.0232 - accuracy: 0.9924\n",
      "Epoch 8/50\n",
      "1875/1875 [==============================] - 2s 829us/step - loss: 0.0211 - accuracy: 0.9929\n",
      "Epoch 9/50\n",
      "1875/1875 [==============================] - 2s 824us/step - loss: 0.0174 - accuracy: 0.9944\n",
      "Epoch 10/50\n",
      "1875/1875 [==============================] - 2s 817us/step - loss: 0.0158 - accuracy: 0.9948\n",
      "Epoch 11/50\n",
      "1875/1875 [==============================] - 2s 815us/step - loss: 0.0142 - accuracy: 0.9952\n",
      "Epoch 12/50\n",
      "1875/1875 [==============================] - 2s 819us/step - loss: 0.0154 - accuracy: 0.9947\n",
      "Epoch 13/50\n",
      "1875/1875 [==============================] - 2s 821us/step - loss: 0.0109 - accuracy: 0.9959\n",
      "Epoch 14/50\n",
      "1875/1875 [==============================] - 2s 828us/step - loss: 0.0110 - accuracy: 0.9965\n",
      "Epoch 15/50\n",
      "1875/1875 [==============================] - 2s 823us/step - loss: 0.0122 - accuracy: 0.9961\n",
      "Epoch 16/50\n",
      "1875/1875 [==============================] - 2s 821us/step - loss: 0.0106 - accuracy: 0.9968\n",
      "Epoch 17/50\n",
      "1875/1875 [==============================] - 2s 817us/step - loss: 0.0107 - accuracy: 0.9965\n",
      "Epoch 18/50\n",
      "1875/1875 [==============================] - 2s 816us/step - loss: 0.0105 - accuracy: 0.9966\n",
      "Epoch 19/50\n",
      "1875/1875 [==============================] - 2s 821us/step - loss: 0.0078 - accuracy: 0.9973\n",
      "Epoch 20/50\n",
      "1875/1875 [==============================] - 2s 819us/step - loss: 0.0089 - accuracy: 0.9972\n",
      "Epoch 21/50\n",
      "1875/1875 [==============================] - 2s 831us/step - loss: 0.0091 - accuracy: 0.9972\n",
      "Epoch 22/50\n",
      "1875/1875 [==============================] - 2s 822us/step - loss: 0.0082 - accuracy: 0.9972\n",
      "Epoch 23/50\n",
      "1875/1875 [==============================] - 2s 827us/step - loss: 0.0084 - accuracy: 0.9975\n",
      "Epoch 24/50\n",
      "1875/1875 [==============================] - 2s 830us/step - loss: 0.0088 - accuracy: 0.9974\n",
      "Epoch 25/50\n",
      "1875/1875 [==============================] - 2s 845us/step - loss: 0.0067 - accuracy: 0.9978\n",
      "Epoch 26/50\n",
      "1875/1875 [==============================] - 2s 830us/step - loss: 0.0068 - accuracy: 0.9977\n",
      "Epoch 27/50\n",
      "1875/1875 [==============================] - 2s 832us/step - loss: 0.0071 - accuracy: 0.9979\n",
      "Epoch 28/50\n",
      "1875/1875 [==============================] - 2s 833us/step - loss: 0.0070 - accuracy: 0.9977\n",
      "Epoch 29/50\n",
      "1875/1875 [==============================] - 2s 844us/step - loss: 0.0057 - accuracy: 0.9984\n",
      "Epoch 30/50\n",
      "1875/1875 [==============================] - 2s 837us/step - loss: 0.0055 - accuracy: 0.9982\n",
      "Epoch 31/50\n",
      "1875/1875 [==============================] - 2s 828us/step - loss: 0.0089 - accuracy: 0.9973\n",
      "Epoch 32/50\n",
      "1875/1875 [==============================] - 2s 833us/step - loss: 0.0070 - accuracy: 0.9980\n",
      "Epoch 33/50\n",
      "1875/1875 [==============================] - 2s 844us/step - loss: 0.0058 - accuracy: 0.9983\n",
      "Epoch 34/50\n",
      "1875/1875 [==============================] - 2s 846us/step - loss: 0.0072 - accuracy: 0.9977\n",
      "Epoch 35/50\n",
      "1875/1875 [==============================] - 2s 830us/step - loss: 0.0062 - accuracy: 0.9981\n",
      "Epoch 36/50\n",
      "1875/1875 [==============================] - 2s 825us/step - loss: 0.0050 - accuracy: 0.9984\n",
      "Epoch 37/50\n",
      "1875/1875 [==============================] - 2s 821us/step - loss: 0.0046 - accuracy: 0.9987\n",
      "Epoch 38/50\n",
      "1875/1875 [==============================] - 2s 838us/step - loss: 0.0066 - accuracy: 0.9980\n",
      "Epoch 39/50\n",
      "1875/1875 [==============================] - 2s 849us/step - loss: 0.0063 - accuracy: 0.9982\n",
      "Epoch 40/50\n",
      "1875/1875 [==============================] - 2s 833us/step - loss: 0.0057 - accuracy: 0.9982\n",
      "Epoch 41/50\n",
      "1875/1875 [==============================] - 2s 847us/step - loss: 0.0048 - accuracy: 0.9987\n",
      "Epoch 42/50\n",
      "1875/1875 [==============================] - 2s 828us/step - loss: 0.0075 - accuracy: 0.9980\n",
      "Epoch 43/50\n",
      "1875/1875 [==============================] - 2s 829us/step - loss: 0.0052 - accuracy: 0.9985\n",
      "Epoch 44/50\n",
      "1875/1875 [==============================] - 2s 843us/step - loss: 0.0047 - accuracy: 0.9987\n",
      "Epoch 45/50\n",
      "1875/1875 [==============================] - 2s 832us/step - loss: 0.0055 - accuracy: 0.9982\n",
      "Epoch 46/50\n",
      "1875/1875 [==============================] - 2s 828us/step - loss: 0.0050 - accuracy: 0.9987\n",
      "Epoch 47/50\n",
      "1875/1875 [==============================] - 2s 840us/step - loss: 0.0043 - accuracy: 0.9987\n",
      "Epoch 48/50\n",
      "1875/1875 [==============================] - 2s 825us/step - loss: 0.0054 - accuracy: 0.9987\n",
      "Epoch 49/50\n",
      "1875/1875 [==============================] - 2s 825us/step - loss: 0.0065 - accuracy: 0.9984\n",
      "Epoch 50/50\n",
      "1875/1875 [==============================] - 2s 826us/step - loss: 0.0063 - accuracy: 0.9984\n"
     ]
    }
   ],
   "source": [
    "training_step_3 = model.fit(x_train_norm, y_train, epochs=50)"
   ]
  },
  {
   "cell_type": "markdown",
   "id": "69c9f74e",
   "metadata": {},
   "source": [
    "Let's re-evaluate the model against the test set"
   ]
  },
  {
   "cell_type": "code",
   "execution_count": 29,
   "id": "06a4ec41",
   "metadata": {},
   "outputs": [
    {
     "name": "stdout",
     "output_type": "stream",
     "text": [
      "313/313 [==============================] - 0s 674us/step - loss: 0.2202 - accuracy: 0.9793\n",
      "Test accuracy: 0.9793\n"
     ]
    }
   ],
   "source": [
    "(loss, acc) = model.evaluate(x_test_norm, y_test)\n",
    "print(\"Test accuracy: {:.4f}\".format(acc))"
   ]
  },
  {
   "cell_type": "markdown",
   "id": "3a4e8ef6",
   "metadata": {},
   "source": [
    "Let's plot the loss as a function of epochs"
   ]
  },
  {
   "cell_type": "code",
   "execution_count": 31,
   "id": "2608fa26",
   "metadata": {},
   "outputs": [
    {
     "data": {
      "text/plain": [
       "[<matplotlib.lines.Line2D at 0x217634941f0>]"
      ]
     },
     "execution_count": 31,
     "metadata": {},
     "output_type": "execute_result"
    },
    {
     "data": {
      "image/png": "[encoded data removed]",
      "text/plain": [
       "<Figure size 432x288 with 1 Axes>"
      ]
     },
     "metadata": {
      "needs_background": "light"
     },
     "output_type": "display_data"
    }
   ],
   "source": [
    "plt.title(\"Loss\")\n",
    "plt.plot(training_step_3.history['loss'])"
   ]
  },
  {
   "cell_type": "markdown",
   "id": "3fb6cc01",
   "metadata": {},
   "source": [
    "Clearly 50 epochs is excessive, as it yeilds minimal performance increase, while taking a lot of extra time. it each epoch takes 2 seconds, the whole training step took roughly 100 seconds (94 more seconds than the first two training steps). Comapring the results, we certainly observe better accuracy, but the accuracy increase between the previous training steps and this one is small (about 1%).\n",
    "\n",
    "By observing the loss plot, we can observe the asymptotic behavior, which is good. It seems to plateau around 20 or so epochs. However, considering how accurate the model already is with just three epochs, there's certainly a strong argument that the increase in execution time for an increased number of epochs is simply not worth the benefits. "
   ]
  },
  {
   "cell_type": "markdown",
   "id": "2bacda16",
   "metadata": {},
   "source": [
    "### Learning Rate Tuning\n",
    "\n",
    "Let's expiriment with a few different learning rates for the ADAM optimizer. I'll also go back to using just 3 epochs for the training step. Since we're changing the hyperparameter for the gradient descent algorithm, we'll have to recompile the model with the new hyperparameter. \n",
    "\n",
    "first lets try a higher learning rate"
   ]
  },
  {
   "cell_type": "code",
   "execution_count": 48,
   "id": "e55da9df",
   "metadata": {},
   "outputs": [],
   "source": [
    "model = keras.Sequential([\n",
    "    # layer to take input and flatten the shape\n",
    "    keras.layers.Flatten(input_shape=(28,28)),\n",
    "    \n",
    "    # two dense hidden layers with ReLU activation function\n",
    "    keras.layers.Dense(128, activation='relu'),\n",
    "    keras.layers.Dense(128, activation='relu'),\n",
    "    \n",
    "    # final layer of shape (,10) \n",
    "    keras.layers.Dense(10)  \n",
    "    \n",
    "])\n",
    "loss_function = keras.losses.SparseCategoricalCrossentropy(from_logits=True)\n",
    "optim = keras.optimizers.Adam(learning_rate=0.01)\n",
    "model.compile(optimizer=optim, loss=loss_function, metrics=[\"accuracy\"])"
   ]
  },
  {
   "cell_type": "code",
   "execution_count": 49,
   "id": "035c4848",
   "metadata": {},
   "outputs": [
    {
     "name": "stdout",
     "output_type": "stream",
     "text": [
      "Epoch 1/3\n",
      "1875/1875 [==============================] - 2s 838us/step - loss: 0.2726 - accuracy: 0.9204\n",
      "Epoch 2/3\n",
      "1875/1875 [==============================] - 1s 796us/step - loss: 0.1893 - accuracy: 0.9506\n",
      "Epoch 3/3\n",
      "1875/1875 [==============================] - 1s 796us/step - loss: 0.1564 - accuracy: 0.9582\n",
      "313/313 [==============================] - 0s 636us/step - loss: 0.1894 - accuracy: 0.9513\n",
      "Test accuracy: 0.9513\n"
     ]
    }
   ],
   "source": [
    "training_step_4 = model.fit(x_train_norm, y_train, epochs=3)\n",
    "(loss, acc) = model.evaluate(x_test_norm, y_test)\n",
    "print(\"Test accuracy: {:.4f}\".format(acc))"
   ]
  },
  {
   "cell_type": "markdown",
   "id": "d4ea61ac",
   "metadata": {},
   "source": [
    "A learning rate of 1e-2 seems like a decent number, but it results in a slightly lower accuracy and higher loss than our bnase value of 1e-3.\n",
    "\n",
    "Let's try and go with a lower learning rate"
   ]
  },
  {
   "cell_type": "code",
   "execution_count": 50,
   "id": "f207be3f",
   "metadata": {},
   "outputs": [],
   "source": [
    "model = keras.Sequential([\n",
    "    # layer to take input and flatten the shape\n",
    "    keras.layers.Flatten(input_shape=(28,28)),\n",
    "    \n",
    "    # two dense hidden layers with ReLU activation function\n",
    "    keras.layers.Dense(128, activation='relu'),\n",
    "    keras.layers.Dense(128, activation='relu'),\n",
    "    \n",
    "    # final layer of shape (,10) \n",
    "    keras.layers.Dense(10)  \n",
    "    \n",
    "])\n",
    "loss_function = keras.losses.SparseCategoricalCrossentropy(from_logits=True)\n",
    "optim = keras.optimizers.Adam(learning_rate=0.0001)\n",
    "model.compile(optimizer=optim, loss=loss_function, metrics=[\"accuracy\"])"
   ]
  },
  {
   "cell_type": "code",
   "execution_count": 51,
   "id": "37c2c0c5",
   "metadata": {},
   "outputs": [
    {
     "name": "stdout",
     "output_type": "stream",
     "text": [
      "Epoch 1/3\n",
      "1875/1875 [==============================] - 2s 797us/step - loss: 0.5319 - accuracy: 0.8598\n",
      "Epoch 2/3\n",
      "1875/1875 [==============================] - 2s 950us/step - loss: 0.2373 - accuracy: 0.9332\n",
      "Epoch 3/3\n",
      "1875/1875 [==============================] - 2s 975us/step - loss: 0.1840 - accuracy: 0.9474\n",
      "313/313 [==============================] - 0s 633us/step - loss: 0.1628 - accuracy: 0.9531\n",
      "Test accuracy: 0.9531\n"
     ]
    }
   ],
   "source": [
    "training_step_4 = model.fit(x_train_norm, y_train, epochs=3)\n",
    "(loss, acc) = model.evaluate(x_test_norm, y_test)\n",
    "print(\"Test accuracy: {:.4f}\".format(acc))"
   ]
  },
  {
   "cell_type": "markdown",
   "id": "518f60d7",
   "metadata": {},
   "source": [
    "We observe similar results, the accuracy is slightly lower and the loss is higher. Since we are trying to achieve the opposite, a learning rate an order of magnitude higher or lower than 1e-3 does not seem like a good choice. \n",
    "\n",
    "Let's try a few more that are closer to 1e-3"
   ]
  },
  {
   "cell_type": "markdown",
   "id": "965f7cd0",
   "metadata": {},
   "source": [
    "**learning rate = 0.0075**"
   ]
  },
  {
   "cell_type": "code",
   "execution_count": 58,
   "id": "0090e018",
   "metadata": {},
   "outputs": [
    {
     "name": "stdout",
     "output_type": "stream",
     "text": [
      "Epoch 1/3\n",
      "1875/1875 [==============================] - 2s 871us/step - loss: 0.2512 - accuracy: 0.9266\n",
      "Epoch 2/3\n",
      "1875/1875 [==============================] - 2s 848us/step - loss: 0.1579 - accuracy: 0.9551\n",
      "Epoch 3/3\n",
      "1875/1875 [==============================] - 2s 845us/step - loss: 0.1441 - accuracy: 0.9603\n",
      "313/313 [==============================] - 0s 665us/step - loss: 0.1754 - accuracy: 0.9515\n",
      "Test accuracy: 0.9515\n"
     ]
    }
   ],
   "source": [
    "model = keras.Sequential([\n",
    "    # layer to take input and flatten the shape\n",
    "    keras.layers.Flatten(input_shape=(28,28)),\n",
    "    \n",
    "    # two dense hidden layers with ReLU activation function\n",
    "    keras.layers.Dense(128, activation='relu'),\n",
    "    keras.layers.Dense(128, activation='relu'),\n",
    "    \n",
    "    # final layer of shape (,10) \n",
    "    keras.layers.Dense(10)  \n",
    "    \n",
    "])\n",
    "loss_function = keras.losses.SparseCategoricalCrossentropy(from_logits=True)\n",
    "optim = keras.optimizers.Adam(learning_rate=0.0075)\n",
    "model.compile(optimizer=optim, loss=loss_function, metrics=[\"accuracy\"])\n",
    "\n",
    "training_step_4 = model.fit(x_train_norm, y_train, epochs=3)\n",
    "(loss, acc) = model.evaluate(x_test_norm, y_test)\n",
    "print(\"Test accuracy: {:.4f}\".format(acc))"
   ]
  },
  {
   "cell_type": "markdown",
   "id": "8f8d913c",
   "metadata": {},
   "source": [
    "**learning rate = 0.00075**"
   ]
  },
  {
   "cell_type": "code",
   "execution_count": 59,
   "id": "13765619",
   "metadata": {},
   "outputs": [
    {
     "name": "stdout",
     "output_type": "stream",
     "text": [
      "Epoch 1/3\n",
      "1875/1875 [==============================] - 2s 830us/step - loss: 0.2550 - accuracy: 0.9252\n",
      "Epoch 2/3\n",
      "1875/1875 [==============================] - 2s 831us/step - loss: 0.1074 - accuracy: 0.9676\n",
      "Epoch 3/3\n",
      "1875/1875 [==============================] - 2s 822us/step - loss: 0.0719 - accuracy: 0.9776\n",
      "313/313 [==============================] - 0s 646us/step - loss: 0.0837 - accuracy: 0.9735\n",
      "Test accuracy: 0.9735\n"
     ]
    }
   ],
   "source": [
    "model = keras.Sequential([\n",
    "    # layer to take input and flatten the shape\n",
    "    keras.layers.Flatten(input_shape=(28,28)),\n",
    "    \n",
    "    # two dense hidden layers with ReLU activation function\n",
    "    keras.layers.Dense(128, activation='relu'),\n",
    "    keras.layers.Dense(128, activation='relu'),\n",
    "    \n",
    "    # final layer of shape (,10) \n",
    "    keras.layers.Dense(10)  \n",
    "    \n",
    "])\n",
    "loss_function = keras.losses.SparseCategoricalCrossentropy(from_logits=True)\n",
    "optim = keras.optimizers.Adam(learning_rate=0.00075)\n",
    "model.compile(optimizer=optim, loss=loss_function, metrics=[\"accuracy\"])\n",
    "\n",
    "training_step_4 = model.fit(x_train_norm, y_train, epochs=3)\n",
    "(loss, acc) = model.evaluate(x_test_norm, y_test)\n",
    "print(\"Test accuracy: {:.4f}\".format(acc))"
   ]
  },
  {
   "cell_type": "markdown",
   "id": "0bb68719",
   "metadata": {},
   "source": [
    "**learning rate = 0.0009**"
   ]
  },
  {
   "cell_type": "code",
   "execution_count": 60,
   "id": "53d0cc83",
   "metadata": {},
   "outputs": [
    {
     "name": "stdout",
     "output_type": "stream",
     "text": [
      "Epoch 1/3\n",
      "1875/1875 [==============================] - 2s 831us/step - loss: 0.2399 - accuracy: 0.9300\n",
      "Epoch 2/3\n",
      "1875/1875 [==============================] - 2s 823us/step - loss: 0.1017 - accuracy: 0.9691\n",
      "Epoch 3/3\n",
      "1875/1875 [==============================] - 2s 831us/step - loss: 0.0692 - accuracy: 0.9788\n",
      "313/313 [==============================] - 0s 646us/step - loss: 0.0869 - accuracy: 0.9736\n",
      "Test accuracy: 0.9736\n"
     ]
    }
   ],
   "source": [
    "model = keras.Sequential([\n",
    "    # layer to take input and flatten the shape\n",
    "    keras.layers.Flatten(input_shape=(28,28)),\n",
    "    \n",
    "    # two dense hidden layers with ReLU activation function\n",
    "    keras.layers.Dense(128, activation='relu'),\n",
    "    keras.layers.Dense(128, activation='relu'),\n",
    "    \n",
    "    # final layer of shape (,10) \n",
    "    keras.layers.Dense(10)  \n",
    "    \n",
    "])\n",
    "loss_function = keras.losses.SparseCategoricalCrossentropy(from_logits=True)\n",
    "optim = keras.optimizers.Adam(learning_rate=0.0009)\n",
    "model.compile(optimizer=optim, loss=loss_function, metrics=[\"accuracy\"])\n",
    "\n",
    "training_step_4 = model.fit(x_train_norm, y_train, epochs=3)\n",
    "(loss, acc) = model.evaluate(x_test_norm, y_test)\n",
    "print(\"Test accuracy: {:.4f}\".format(acc))"
   ]
  },
  {
   "cell_type": "markdown",
   "id": "fcf45367",
   "metadata": {},
   "source": [
    "Based off these results, it seems like an ideal learning rate for the optimized gradient descent is a value just below 1e-3. Changing the learning rate doesn't seem to have a large impact in this case, but it the results suggest that a value near the range of 0.00075 - 0.0009 is the best. Both offer nearly the same accuracy. The original model with a learning rate of 0.001 also performs very well, but it seems clear that it is not the best choice for a learnin rate. \n",
    "\n",
    "The loss of the original model is a tad higher, and the accuracy a tad lower. Since our goal is to minimize loss and maximize accuracy, we can safely assume we have found a more ideal range of possible learning rates. "
   ]
  },
  {
   "cell_type": "markdown",
   "id": "d4def833",
   "metadata": {},
   "source": [
    "# Task 3: Rationale"
   ]
  },
  {
   "cell_type": "markdown",
   "id": "95f61a29",
   "metadata": {},
   "source": [
    "**Learning Rate Choice:** My original choice for a learning rate was 1e-3. Based off my own expoerience and other online examples, 1e-3 seemed like a good strating point for the learnin rate. It was neither too high or too low. As shown in Task2, the initial learning rate did not end up being the most ideal learning rate. A way to find the most ideal learnin rate is to try various values and observe the metric and parameters. I went through that process in Task 2, trying various higher and lower learnin rates. In the end, I setteled for a range of learning rates between [0.00075 and 0.0009] Both learning rates offer similar accuracy and loss, and both outperform the initial learnin rate of 0.001\n",
    "\n",
    "I did consider adding learning rate decay to the optimizer, but I decided that it would not be neccesary for this specific project. Learning rate decay helps to prevent divergance in loss at a certain point. Since I only used 3 epochs for the training step, a decay is likely to have little effect. Decay could certainly prove useful in other use cases however.\n",
    "\n",
    "**Epoch Choice:** My original model used just three epochs in the training step. I eventually tried a training step with more epochs to observe the behavior of the loss and to see how much it would impact accuracy. I used 50 epochs, which yeilded better accuracy, but also greatly increased execution time. The dataset is relatively large (60k data points), so each epoch will take some time. In the end, I decided that 3 epochs was fine for the model, but I also mention that slighly higher values are also acceptable. In the end, one must consider the tradeoff between the performance gain and execution time. I decided that the performane gain was too minimal to justify the execution time of higher epoch values. \n",
    "\n",
    "**Normalization:** Normalization is a common technique used in Machine Learning. In the case of this problem, normalizing the data maps elements from a range of [0,255] to [0,1]. This ended up being a very imporant decision, as the model performed noticably better with the normalized data points. \n",
    "\n",
    "**Model Structure:** I built a simple model structure for this problem. For the API, I used keras.Sequential, which is a simple and effective API that linearly stacks layers in the network. I first used a Flatten layer which transforms the input layer from (28,28) to (,28 * 28) or (,784). I then used 2 Dense layers with 128 units. This could be another paramater to modify, but it seems like optimal values lie between 32 and 512. I just chose 128. the final layer is a Dense layer with 10 units, since we are predicting 10 possible class labels. I did not have a Soltmax Activation function in the model, but instead used the \"from_logits\" argument in the loss function, which produces the same effect. \n",
    "\n",
    "**Regularization/Optimization:** I did not use Regularization in this project. I already use a low learning rate for the gradient descent, and the model is not too complex so Regularization would'nt provide much benefit. I chose the ADAM optimized algoorithm for graident descent. ADAM is both effecive and efficient, making it a great choice for many projects. there may be other option that might generalize better, but the ADAM optimizer serves well in this project. In image classification it's important for a model to be able to generalize, but ADAM can egenralize well. I also use a low learning rate. This means slower convergance but better generalization. ADAM works well with this, since ADAM offers fast convergance (This can be seen in the graphs of the loss). "
   ]
  },
  {
   "cell_type": "markdown",
   "id": "bd4a377e",
   "metadata": {},
   "source": [
    "# Task4: Another Baseline Model"
   ]
  },
  {
   "cell_type": "code",
   "execution_count": null,
   "id": "e067f74d",
   "metadata": {},
   "outputs": [],
   "source": []
  }
 ],
 "metadata": {
  "kernelspec": {
   "display_name": "Python 3 (ipykernel)",
   "language": "python",
   "name": "python3"
  },
  "language_info": {
   "codemirror_mode": {
    "name": "ipython",
    "version": 3
   },
   "file_extension": ".py",
   "mimetype": "text/x-python",
   "name": "python",
   "nbconvert_exporter": "python",
   "pygments_lexer": "ipython3",
   "version": "3.9.12"
  }
 },
 "nbformat": 4,
 "nbformat_minor": 5
}
