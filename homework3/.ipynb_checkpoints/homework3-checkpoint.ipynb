{
 "cells": [
  {
   "cell_type": "markdown",
   "id": "c91c1231",
   "metadata": {},
   "source": [
    "# Homework 3"
   ]
  },
  {
   "cell_type": "code",
   "execution_count": 1,
   "id": "33b5679f",
   "metadata": {},
   "outputs": [],
   "source": [
    "import numpy as np\n",
    "import pandas as pd\n",
    "import tensorflow as tf\n",
    "from tensorflow import keras\n",
    "import matplotlib.pyplot as plt\n",
    "from tensorflow.keras.optimizers import Adam\n",
    "from tensorflow.keras.utils import to_categorical\n",
    "from tensorflow.keras.datasets import mnist\n",
    "from tensorflow.keras.optimizers import Adam\n",
    "import sys\n",
    "import time"
   ]
  },
  {
   "cell_type": "markdown",
   "id": "163e1850",
   "metadata": {},
   "source": [
    "The Problem I chose to solve using Neural Networks is image classification. For this problem, I will be using the MNIST dataset, a popular and large dataset containing handwritten digits. Using the handwritten digits, I will develop a model to classify the digits for a number 0-9. The dataset contains roughly 70,000 images. There's 60k images for training and 10k images for testing.\n",
    "\n",
    "[Source](http://yann.lecun.com/exdb/mnist/)\n",
    "\n"
   ]
  },
  {
   "cell_type": "markdown",
   "id": "73e654a1",
   "metadata": {},
   "source": [
    "Creating the dataset object"
   ]
  },
  {
   "cell_type": "code",
   "execution_count": 2,
   "id": "57f872fd",
   "metadata": {},
   "outputs": [
    {
     "data": {
      "text/plain": [
       "<module 'keras.api._v2.keras.datasets.mnist' from 'C:\\\\Users\\\\Aaron\\\\anaconda3\\\\lib\\\\site-packages\\\\keras\\\\api\\\\_v2\\\\keras\\\\datasets\\\\mnist\\\\__init__.py'>"
      ]
     },
     "execution_count": 2,
     "metadata": {},
     "output_type": "execute_result"
    }
   ],
   "source": [
    "mnist = keras.datasets.mnist\n",
    "mnist"
   ]
  },
  {
   "cell_type": "markdown",
   "id": "6f4324c7",
   "metadata": {},
   "source": [
    "Loading the dataset and splitting into train and test sets"
   ]
  },
  {
   "cell_type": "code",
   "execution_count": 3,
   "id": "2a4392a2",
   "metadata": {},
   "outputs": [],
   "source": [
    "(x_train, y_train), (x_test, y_test) = mnist.load_data()"
   ]
  },
  {
   "cell_type": "code",
   "execution_count": 4,
   "id": "bf3733bc",
   "metadata": {},
   "outputs": [
    {
     "name": "stdout",
     "output_type": "stream",
     "text": [
      "Training Set Shape: (60000, 28, 28)\n",
      "Testing Set Shape: (10000, 28, 28)\n"
     ]
    }
   ],
   "source": [
    "print(\"Training Set Shape:\", x_train.shape)\n",
    "print(\"Testing Set Shape:\", x_test.shape)"
   ]
  },
  {
   "cell_type": "markdown",
   "id": "2e6ba504",
   "metadata": {},
   "source": [
    "# Task 1: Researching Tensorflow Docs and other Resources\n",
    "\n",
    "To implement a neural network to solve this problem, I decided to use the tensorflow/keras packages. BElow are some of the resources I used to learn more about the packages and about Neural Networks in general. "
   ]
  },
  {
   "cell_type": "markdown",
   "id": "82e72d2a",
   "metadata": {},
   "source": [
    "NN Layers: \n",
    "\n",
    "[Softmax Activation Function](https://www.tensorflow.org/api_docs/python/tf/keras/layers/Softmax)\n",
    "\n",
    "[Dense Layer](https://www.tensorflow.org/api_docs/python/tf/keras/layers/Dense)\n",
    "\n",
    "[Flatten Layer](https://www.tensorflow.org/api_docs/python/tf/keras/layers/Flatten)\n",
    "\n",
    "Model:\n",
    "\n",
    "[Sequential](https://www.tensorflow.org/api_docs/python/tf/keras/Sequential)\n",
    "\n",
    "The sequential model just groups a stack of layers in a linear fashion. \n",
    "\n",
    "[keras.Model](https://keras.io/api/models/model/)\n",
    "\n",
    "You can create a custom class that inherits from this class, which will allow you to have greater control over the model.\n",
    "\n",
    "Some more useful TensorFlow docs pages:\n",
    "\n",
    "[AutoDiff](https://www.tensorflow.org/guide/autodiff#gradients_with_respect_to_a_model)\n",
    "\n",
    "[GradientTape](https://www.tensorflow.org/api_docs/python/tf/GradientTape#used-in-the-notebooks)\n",
    "\n",
    "[Customizing Fit Function](https://www.tensorflow.org/guide/keras/customizing_what_happens_in_fit)"
   ]
  },
  {
   "cell_type": "markdown",
   "id": "eaec3c43",
   "metadata": {},
   "source": [
    "# Task 2: EDA and Model Implementation"
   ]
  },
  {
   "cell_type": "markdown",
   "id": "e0b2a8b3",
   "metadata": {},
   "source": [
    "We will first explore the data and visualize it, then build and compile the model. "
   ]
  },
  {
   "cell_type": "markdown",
   "id": "6c81362b",
   "metadata": {},
   "source": [
    "### EDA"
   ]
  },
  {
   "cell_type": "markdown",
   "id": "fa863503",
   "metadata": {},
   "source": [
    "Let's try and show what some of the images in the training set look like"
   ]
  },
  {
   "cell_type": "code",
   "execution_count": 5,
   "id": "2d040737",
   "metadata": {},
   "outputs": [
    {
     "data": {
      "image/png": "[encoded data removed]",
      "text/plain": [
       "<Figure size 432x288 with 6 Axes>"
      ]
     },
     "metadata": {
      "needs_background": "light"
     },
     "output_type": "display_data"
    }
   ],
   "source": [
    "for i in range(6):\n",
    "    plt.subplot(2, 3, i+1)\n",
    "    plt.imshow(x_train[i], cmap='gray')\n",
    "plt.show()"
   ]
  },
  {
   "cell_type": "markdown",
   "id": "f5e02862",
   "metadata": {},
   "source": [
    "Let's see the unique values in the training data"
   ]
  },
  {
   "cell_type": "code",
   "execution_count": 6,
   "id": "20cadd75",
   "metadata": {},
   "outputs": [
    {
     "data": {
      "text/plain": [
       "array([  0,   1,   2,   3,   4,   5,   6,   7,   8,   9,  10,  11,  12,\n",
       "        13,  14,  15,  16,  17,  18,  19,  20,  21,  22,  23,  24,  25,\n",
       "        26,  27,  28,  29,  30,  31,  32,  33,  34,  35,  36,  37,  38,\n",
       "        39,  40,  41,  42,  43,  44,  45,  46,  47,  48,  49,  50,  51,\n",
       "        52,  53,  54,  55,  56,  57,  58,  59,  60,  61,  62,  63,  64,\n",
       "        65,  66,  67,  68,  69,  70,  71,  72,  73,  74,  75,  76,  77,\n",
       "        78,  79,  80,  81,  82,  83,  84,  85,  86,  87,  88,  89,  90,\n",
       "        91,  92,  93,  94,  95,  96,  97,  98,  99, 100, 101, 102, 103,\n",
       "       104, 105, 106, 107, 108, 109, 110, 111, 112, 113, 114, 115, 116,\n",
       "       117, 118, 119, 120, 121, 122, 123, 124, 125, 126, 127, 128, 129,\n",
       "       130, 131, 132, 133, 134, 135, 136, 137, 138, 139, 140, 141, 142,\n",
       "       143, 144, 145, 146, 147, 148, 149, 150, 151, 152, 153, 154, 155,\n",
       "       156, 157, 158, 159, 160, 161, 162, 163, 164, 165, 166, 167, 168,\n",
       "       169, 170, 171, 172, 173, 174, 175, 176, 177, 178, 179, 180, 181,\n",
       "       182, 183, 184, 185, 186, 187, 188, 189, 190, 191, 192, 193, 194,\n",
       "       195, 196, 197, 198, 199, 200, 201, 202, 203, 204, 205, 206, 207,\n",
       "       208, 209, 210, 211, 212, 213, 214, 215, 216, 217, 218, 219, 220,\n",
       "       221, 222, 223, 224, 225, 226, 227, 228, 229, 230, 231, 232, 233,\n",
       "       234, 235, 236, 237, 238, 239, 240, 241, 242, 243, 244, 245, 246,\n",
       "       247, 248, 249, 250, 251, 252, 253, 254, 255], dtype=uint8)"
      ]
     },
     "execution_count": 6,
     "metadata": {},
     "output_type": "execute_result"
    }
   ],
   "source": [
    "np.unique(x_train)"
   ]
  },
  {
   "cell_type": "markdown",
   "id": "d2426323",
   "metadata": {},
   "source": [
    "The unique values are all integers ranging from 0-255. This makes sense, as images are typically represented by color values ranging from 0-255. \n",
    "\n",
    "What about the target labels?\n"
   ]
  },
  {
   "cell_type": "code",
   "execution_count": 7,
   "id": "8f31b2e2",
   "metadata": {},
   "outputs": [
    {
     "data": {
      "text/plain": [
       "array([0, 1, 2, 3, 4, 5, 6, 7, 8, 9], dtype=uint8)"
      ]
     },
     "execution_count": 7,
     "metadata": {},
     "output_type": "execute_result"
    }
   ],
   "source": [
    "np.unique(y_train)"
   ]
  },
  {
   "cell_type": "markdown",
   "id": "ddf78910",
   "metadata": {},
   "source": [
    "The target labels for our problem are integers from 0-9. This is what we are trying to predict with our model. "
   ]
  },
  {
   "cell_type": "markdown",
   "id": "760223f5",
   "metadata": {},
   "source": [
    "We can also try and plot the target labels as a histogram to see the distribution over the training set"
   ]
  },
  {
   "cell_type": "code",
   "execution_count": 8,
   "id": "4a03c03a",
   "metadata": {},
   "outputs": [
    {
     "data": {
      "text/plain": [
       "(array([5923., 6742., 5958., 6131., 5842., 5421., 5918., 6265., 5851.,\n",
       "        5949.]),\n",
       " array([0. , 0.9, 1.8, 2.7, 3.6, 4.5, 5.4, 6.3, 7.2, 8.1, 9. ]),\n",
       " <BarContainer object of 10 artists>)"
      ]
     },
     "execution_count": 8,
     "metadata": {},
     "output_type": "execute_result"
    },
    {
     "data": {
      "image/png": "[encoded data removed]",
      "text/plain": [
       "<Figure size 432x288 with 1 Axes>"
      ]
     },
     "metadata": {
      "needs_background": "light"
     },
     "output_type": "display_data"
    }
   ],
   "source": [
    "plt.hist(y_train, bins=10)"
   ]
  },
  {
   "cell_type": "markdown",
   "id": "38165e38",
   "metadata": {},
   "source": [
    "There appears to be a roughly uniform distribution over all possible target labels in the training set. This is good, as it means the model will have roughly the same aound of data to learn from for all target labels. "
   ]
  },
  {
   "cell_type": "markdown",
   "id": "b8cddb8f",
   "metadata": {},
   "source": [
    "### Creating the Sequential Model Structure\n",
    "\n",
    "We can create an instance of the Sequential model class which will group network layers in a stack. The first layer will be to flatten the data, which will reduce the dimensionality of the data. Optionally, you could flatten the data using the reshape operation. \n",
    "\n",
    "I will add Dense layers, which are the standard densly connected neural network layer. "
   ]
  },
  {
   "cell_type": "markdown",
   "id": "4018e7ac",
   "metadata": {},
   "source": [
    "Below is a custom Classback class. This is passed into the model when fitting the model to the data. This will aloow us to view and/or save information while the training step is in process. By overriding the on_epoch_end, we can view information about the model when an epoch finishes. \n",
    "\n",
    "This callback class is simple. It will just print the weights and the bias after each epoch. Seeing the updated trainable variables as well as the loss at each epoch should be an empirical indication of the convergance of the model. "
   ]
  },
  {
   "cell_type": "code",
   "execution_count": 9,
   "id": "f6233b97",
   "metadata": {},
   "outputs": [],
   "source": [
    "class myCallback(tf.keras.callbacks.Callback):\n",
    "    def on_epoch_end(self, epoch, logs={}):\n",
    "        print(\"\\nEpoch:\", epoch, \"\\nWeights and Bias: \\n\", model.trainable_variables)\n",
    "    \n",
    "    def set_model(self, model):\n",
    "        self.model = model\n",
    "\n",
    "my_callback = myCallback()"
   ]
  },
  {
   "cell_type": "markdown",
   "id": "bfe9f4e6",
   "metadata": {},
   "source": [
    "Now I will establish the structure of the model. The model will be built using the keras Sequential API. I firsst add a Flatten layer which will change the input shape from (28,28) to (,784)\n",
    "\n",
    "Next there's two hidden dense layers, using the ReLU activation function. The final dense layer will have a shape of 10, because we have 10 possible target labels to predict."
   ]
  },
  {
   "cell_type": "code",
   "execution_count": 10,
   "id": "58e47eaa",
   "metadata": {},
   "outputs": [
    {
     "name": "stdout",
     "output_type": "stream",
     "text": [
      "Model: \"sequential\"\n",
      "_________________________________________________________________\n",
      " Layer (type)                Output Shape              Param #   \n",
      "=================================================================\n",
      " flatten (Flatten)           (None, 784)               0         \n",
      "                                                                 \n",
      " dense (Dense)               (None, 128)               100480    \n",
      "                                                                 \n",
      " dense_1 (Dense)             (None, 128)               16512     \n",
      "                                                                 \n",
      " dense_2 (Dense)             (None, 10)                1290      \n",
      "                                                                 \n",
      "=================================================================\n",
      "Total params: 118,282\n",
      "Trainable params: 118,282\n",
      "Non-trainable params: 0\n",
      "_________________________________________________________________\n"
     ]
    }
   ],
   "source": [
    "model = keras.Sequential([\n",
    "    # layer to take input and flatten the shape\n",
    "    keras.layers.Flatten(input_shape=(28,28)),\n",
    "    \n",
    "    # two dense hidden layers with ReLU activation function\n",
    "    keras.layers.Dense(128, activation='relu'),\n",
    "    keras.layers.Dense(128, activation='relu'),\n",
    "    \n",
    "    # final layer of shape (,10) \n",
    "    keras.layers.Dense(10)  \n",
    "    \n",
    "])\n",
    "model.summary()     "
   ]
  },
  {
   "cell_type": "markdown",
   "id": "cedcb805",
   "metadata": {},
   "source": [
    "Now we can assign a loss function and a gradient descent algorithm to our model. For the loss function, I use Spare Categorical Crossentrpy since we are dealing with categorical data. The optimizer will be the ADAM optimizer (Adapotive Moment Estimation)\n",
    "\n",
    "See section 4.6 of [this paper](https://arxiv.org/pdf/1609.04747.pdf) for info on ADAM optimized alogrithm. ADAM uses alearning rate, which is an imporant tuning parameter. I initially choose a rate of 1e-3."
   ]
  },
  {
   "cell_type": "code",
   "execution_count": 11,
   "id": "50bb321c",
   "metadata": {},
   "outputs": [],
   "source": [
    "# I set from_logits=True becuase there is no Softmax layer to normalize the last output of the NN\n",
    "# This can be done by the loss function\n",
    "loss_function = keras.losses.SparseCategoricalCrossentropy(from_logits=True)\n",
    "optim = keras.optimizers.Adam(learning_rate=0.001)"
   ]
  },
  {
   "cell_type": "markdown",
   "id": "c58638ea",
   "metadata": {},
   "source": [
    "Now that we've established the model structure, loss function and gradient descent alogrithm, we can compile the model with these parameters. "
   ]
  },
  {
   "cell_type": "code",
   "execution_count": 12,
   "id": "cbe132c6",
   "metadata": {},
   "outputs": [],
   "source": [
    "model.compile(optimizer=optim, loss=loss_function, metrics=[\"accuracy\"])"
   ]
  },
  {
   "cell_type": "markdown",
   "id": "45aa27b1",
   "metadata": {},
   "source": [
    "This is the train step. The accuracy of the train-dev set and the loss gets automatically printed, and the callback object also prints the weights and bias at each epoch. "
   ]
  },
  {
   "cell_type": "code",
   "execution_count": 13,
   "id": "16a1310f",
   "metadata": {},
   "outputs": [
    {
     "name": "stdout",
     "output_type": "stream",
     "text": [
      "Epoch 1/3\n",
      "1832/1875 [============================>.] - ETA: 0s - loss: 1.8096 - accuracy: 0.8708\n",
      "Epoch: 0 \n",
      "Weights and Bias: \n",
      " [<tf.Variable 'dense/kernel:0' shape=(784, 128) dtype=float32, numpy=\n",
      "array([[ 0.05310886, -0.04961504,  0.05547019, ..., -0.04338668,\n",
      "         0.01543616,  0.03468991],\n",
      "       [ 0.0329029 ,  0.07782104,  0.06925527, ...,  0.06640259,\n",
      "        -0.04433326, -0.03716446],\n",
      "       [-0.01985357, -0.0025181 ,  0.05274964, ...,  0.04138512,\n",
      "         0.0329486 , -0.02959587],\n",
      "       ...,\n",
      "       [-0.05266693, -0.06011479,  0.04451676, ..., -0.02542242,\n",
      "         0.00623679, -0.07376018],\n",
      "       [-0.07205021, -0.01758613,  0.0379208 , ..., -0.05209264,\n",
      "        -0.07665008,  0.00867669],\n",
      "       [-0.01137245, -0.04263793, -0.04484012, ...,  0.07212051,\n",
      "        -0.00686744,  0.0100252 ]], dtype=float32)>, <tf.Variable 'dense/bias:0' shape=(128,) dtype=float32, numpy=\n",
      "array([-0.01464095, -0.02610727, -0.0223193 , -0.0220071 , -0.00971164,\n",
      "       -0.029026  , -0.01148605,  0.03456392, -0.01685316, -0.02344058,\n",
      "       -0.03365821, -0.01428691, -0.02346563, -0.01045605, -0.02012691,\n",
      "       -0.01895179, -0.02048667, -0.01321662, -0.02038177,  0.01457431,\n",
      "       -0.02632096, -0.01704169, -0.03333978, -0.03102601, -0.0072663 ,\n",
      "       -0.02013153, -0.03340783, -0.01332195, -0.00979662, -0.02670754,\n",
      "       -0.01193759, -0.02014411, -0.02947452, -0.01350164, -0.01291159,\n",
      "       -0.015829  , -0.0300751 , -0.0153174 , -0.0191037 , -0.01435201,\n",
      "       -0.00885229, -0.02128097, -0.01939934,  0.0303858 , -0.01733843,\n",
      "       -0.01999852, -0.01633593, -0.01698606, -0.00797563, -0.0282402 ,\n",
      "       -0.01507441, -0.01171761, -0.0112315 , -0.01718954,  0.00639942,\n",
      "       -0.02436155, -0.02347937, -0.02624241, -0.0130394 , -0.01954401,\n",
      "       -0.02942608, -0.01837296, -0.02118282,  0.00136354, -0.00778517,\n",
      "       -0.0102056 , -0.01688037, -0.03730644, -0.03871052, -0.01551389,\n",
      "       -0.02167064, -0.0163011 , -0.01474425, -0.0296113 , -0.00947588,\n",
      "       -0.02113942, -0.01940035, -0.00688639, -0.01589269,  0.00015232,\n",
      "       -0.02364807, -0.02261479, -0.01603055, -0.01823853, -0.02359722,\n",
      "       -0.00184825, -0.02667733, -0.02177377, -0.02725874, -0.00229177,\n",
      "       -0.02317923, -0.01297864,  0.00019131, -0.02023171, -0.03971352,\n",
      "       -0.0048145 , -0.01629045, -0.00517247, -0.01340009, -0.02646445,\n",
      "        0.01101341, -0.03554401, -0.02144324, -0.00633327, -0.02704361,\n",
      "       -0.01263663, -0.02443733, -0.00380112, -0.0085474 , -0.02957687,\n",
      "       -0.02016431, -0.02227109, -0.01181767, -0.01997519, -0.02291301,\n",
      "        0.00478702, -0.01517408, -0.01432475, -0.01920581, -0.01182923,\n",
      "       -0.02029198, -0.0044624 , -0.01222489, -0.02556618, -0.02501281,\n",
      "       -0.01586044, -0.00464831, -0.00991671], dtype=float32)>, <tf.Variable 'dense_1/kernel:0' shape=(128, 128) dtype=float32, numpy=\n",
      "array([[-0.00941031,  0.07840389,  0.11794002, ...,  0.13768002,\n",
      "        -0.05151112, -0.04375222],\n",
      "       [-0.11768842,  0.11095534,  0.01346731, ..., -0.11776777,\n",
      "        -0.03949942, -0.043785  ],\n",
      "       [-0.09239021,  0.09923972,  0.00985674, ..., -0.08180057,\n",
      "         0.05228184, -0.06458629],\n",
      "       ...,\n",
      "       [-0.08932485, -0.00875311,  0.13415933, ...,  0.00217542,\n",
      "        -0.0978185 ,  0.1173759 ],\n",
      "       [-0.01994458,  0.14325489, -0.01338293, ..., -0.1425102 ,\n",
      "         0.04918794, -0.00334686],\n",
      "       [-0.15016362,  0.05202767,  0.01987738, ..., -0.06839013,\n",
      "        -0.00476209, -0.05160079]], dtype=float32)>, <tf.Variable 'dense_1/bias:0' shape=(128,) dtype=float32, numpy=\n",
      "array([-0.0481052 , -0.04117782, -0.04226372, -0.03909344, -0.03711176,\n",
      "        0.0154912 , -0.02514073, -0.0261944 , -0.03151914, -0.05231633,\n",
      "       -0.05151511,  0.00059433, -0.03531225, -0.03688794, -0.03167216,\n",
      "       -0.0169794 , -0.06675878, -0.02043665, -0.0293244 , -0.02674199,\n",
      "       -0.04656636, -0.04036916,  0.00599154, -0.04426853, -0.04851527,\n",
      "       -0.03232659, -0.01015927, -0.00040779, -0.03159182, -0.05097176,\n",
      "       -0.0327015 , -0.03088271, -0.02928499,  0.00952175, -0.04465885,\n",
      "       -0.02315634, -0.07082801, -0.0095901 , -0.05753849, -0.04625626,\n",
      "       -0.03821163,  0.01082393, -0.03820929, -0.02592006, -0.04269737,\n",
      "       -0.07854037, -0.04727117, -0.05255256, -0.00758238, -0.00606878,\n",
      "       -0.01262058, -0.03794387,  0.01276638, -0.01628554, -0.00520324,\n",
      "       -0.03319331, -0.04428772, -0.05325801, -0.06129846, -0.0286101 ,\n",
      "       -0.04990933, -0.02449067, -0.05564725, -0.0384532 , -0.00421787,\n",
      "       -0.02642582, -0.04368297, -0.00179701, -0.06317838, -0.03897735,\n",
      "       -0.02625421, -0.03864725, -0.04726771,  0.00197616, -0.03639489,\n",
      "       -0.04673533, -0.05037422, -0.05085687, -0.05004391, -0.05990376,\n",
      "       -0.02792708, -0.02762928, -0.00620884, -0.02829878, -0.02745751,\n",
      "       -0.01076958, -0.02710323, -0.04919197, -0.02710301, -0.05613949,\n",
      "       -0.08032192, -0.03752639, -0.00681805, -0.04004004,  0.00299351,\n",
      "       -0.05015936, -0.05134244, -0.01760585, -0.04156889, -0.02581014,\n",
      "       -0.01972025, -0.01071952, -0.01617415, -0.05191287, -0.06084611,\n",
      "       -0.04187152, -0.06794277, -0.04825205, -0.00441077, -0.02284539,\n",
      "       -0.01873231, -0.03360452,  0.03462305, -0.02114544, -0.02821416,\n",
      "       -0.00785261, -0.02527059, -0.04327714, -0.06366712, -0.01873136,\n",
      "       -0.04810786, -0.02763027, -0.02101603, -0.04350137, -0.036644  ,\n",
      "       -0.04528592, -0.02365033, -0.01302211], dtype=float32)>, <tf.Variable 'dense_2/kernel:0' shape=(128, 10) dtype=float32, numpy=\n",
      "array([[ 0.03964229, -0.03272888, -0.0561561 , ..., -0.03352614,\n",
      "        -0.06146299,  0.09942358],\n",
      "       [ 0.01854429, -0.13735443, -0.02204667, ...,  0.03753065,\n",
      "        -0.1272658 ,  0.15519193],\n",
      "       [ 0.17023315, -0.0444639 , -0.0656155 , ..., -0.17600416,\n",
      "        -0.14097759, -0.13534357],\n",
      "       ...,\n",
      "       [-0.07287267, -0.02604688, -0.08977403, ..., -0.1437057 ,\n",
      "        -0.17214489, -0.05400031],\n",
      "       [-0.17693642, -0.07331357,  0.02041325, ...,  0.01660808,\n",
      "        -0.09355328, -0.15383692],\n",
      "       [-0.0262816 ,  0.05328028,  0.1493356 , ...,  0.05419528,\n",
      "         0.1399268 , -0.00855183]], dtype=float32)>, <tf.Variable 'dense_2/bias:0' shape=(10,) dtype=float32, numpy=\n",
      "array([ 0.00340872, -0.01811151,  0.00496485, -0.01337815,  0.02334531,\n",
      "       -0.00119825, -0.00266296, -0.00688914, -0.00373873,  0.02049537],\n",
      "      dtype=float32)>]\n",
      "1875/1875 [==============================] - 2s 855us/step - loss: 1.7790 - accuracy: 0.8717\n",
      "Epoch 2/3\n",
      "1830/1875 [============================>.] - ETA: 0s - loss: 0.3686 - accuracy: 0.9232\n",
      "Epoch: 1 \n",
      "Weights and Bias: \n",
      " [<tf.Variable 'dense/kernel:0' shape=(784, 128) dtype=float32, numpy=\n",
      "array([[ 0.05310886, -0.04961504,  0.05547019, ..., -0.04338668,\n",
      "         0.01543616,  0.03468991],\n",
      "       [ 0.0329029 ,  0.07782104,  0.06925527, ...,  0.06640259,\n",
      "        -0.04433326, -0.03716446],\n",
      "       [-0.01985357, -0.0025181 ,  0.05274964, ...,  0.04138512,\n",
      "         0.0329486 , -0.02959587],\n",
      "       ...,\n",
      "       [-0.05266693, -0.06011479,  0.04451676, ..., -0.02542242,\n",
      "         0.00623679, -0.07376018],\n",
      "       [-0.07205021, -0.01758613,  0.0379208 , ..., -0.05209264,\n",
      "        -0.07665008,  0.00867669],\n",
      "       [-0.01137245, -0.04263793, -0.04484012, ...,  0.07212051,\n",
      "        -0.00686744,  0.0100252 ]], dtype=float32)>, <tf.Variable 'dense/bias:0' shape=(128,) dtype=float32, numpy=\n",
      "array([-1.75371952e-02, -2.77839117e-02, -2.42090076e-02, -3.03231832e-02,\n",
      "       -1.28913242e-02, -3.88038270e-02, -2.32880544e-02,  6.40161559e-02,\n",
      "       -1.76496841e-02, -2.97174454e-02, -4.86555621e-02, -1.95283014e-02,\n",
      "       -2.88950484e-02, -1.49984276e-02, -2.38880441e-02, -2.52473187e-02,\n",
      "       -2.42477469e-02, -1.08831469e-02, -2.12024637e-02,  1.12914387e-02,\n",
      "       -2.64599472e-02, -1.96314100e-02, -4.65212651e-02, -4.77271676e-02,\n",
      "       -7.99076539e-03, -1.87991858e-02, -4.81432863e-02, -2.37161182e-02,\n",
      "       -1.90570503e-02, -3.95317972e-02, -2.11564731e-02, -2.46451963e-02,\n",
      "       -3.62997763e-02, -1.64226405e-02, -1.01127960e-02, -1.53987892e-02,\n",
      "       -4.11542766e-02, -1.42520359e-02, -4.08755429e-02, -1.19075477e-02,\n",
      "       -2.17147563e-02, -2.12809741e-02, -1.94118675e-02,  5.89834154e-02,\n",
      "       -2.48286873e-02, -2.70611495e-02, -3.26733328e-02, -1.69860646e-02,\n",
      "       -6.21724641e-03, -2.68330667e-02, -1.70169827e-02, -1.49413347e-02,\n",
      "       -1.96382701e-02, -1.34453624e-02,  5.27352234e-03, -2.43643150e-02,\n",
      "       -2.34793723e-02, -2.62146574e-02, -2.78715678e-02, -2.38437839e-02,\n",
      "       -2.88382098e-02, -1.50060588e-02, -3.62988040e-02, -8.53012316e-03,\n",
      "       -2.37149857e-02, -2.69388165e-02, -2.44697407e-02, -3.30984667e-02,\n",
      "       -3.73557769e-02, -2.07307227e-02, -2.16572247e-02, -1.56123275e-02,\n",
      "       -2.92924214e-02, -2.16942877e-02, -1.24776270e-02, -2.38591153e-02,\n",
      "       -3.74427289e-02, -1.98434182e-02, -2.29642112e-02,  2.18845060e-04,\n",
      "       -4.44952771e-02, -2.82890424e-02, -1.89540293e-02, -1.23687284e-02,\n",
      "       -2.41808984e-02, -7.90028309e-04, -3.78467664e-02, -2.54372340e-02,\n",
      "       -2.98482850e-02, -1.45521620e-02, -2.39354279e-02, -2.45965202e-05,\n",
      "       -6.80923602e-03, -2.06364691e-02, -3.37455161e-02,  4.11663350e-05,\n",
      "       -1.31004192e-02, -1.09503521e-02, -1.57991946e-02, -4.15308438e-02,\n",
      "        2.82127149e-02, -3.38827521e-02, -2.14432385e-02, -6.65247720e-03,\n",
      "       -3.42012271e-02, -2.40028254e-03, -2.38683764e-02, -2.13561729e-02,\n",
      "       -2.38015484e-02, -3.53029035e-02, -2.11768243e-02, -2.55148951e-02,\n",
      "       -1.73285287e-02, -2.08039414e-02, -2.94356290e-02, -1.95094792e-03,\n",
      "       -2.71223672e-02, -1.16459774e-02, -3.14523093e-02, -1.67467482e-02,\n",
      "       -2.00678334e-02, -7.54189445e-03, -2.17203032e-02, -3.37110385e-02,\n",
      "       -3.74627076e-02, -1.60116740e-02, -5.51833957e-03, -2.12311372e-02],\n",
      "      dtype=float32)>, <tf.Variable 'dense_1/kernel:0' shape=(128, 128) dtype=float32, numpy=\n",
      "array([[-0.00941031,  0.0902014 ,  0.11506119, ...,  0.14041993,\n",
      "        -0.05065529, -0.04456376],\n",
      "       [-0.0864226 ,  0.11664007,  0.0261406 , ..., -0.14389308,\n",
      "        -0.02969727, -0.0410316 ],\n",
      "       [-0.09239021,  0.09923972,  0.00985674, ..., -0.08180057,\n",
      "         0.05229366, -0.06458642],\n",
      "       ...,\n",
      "       [-0.08932485, -0.00837796,  0.13293014, ...,  0.00393369,\n",
      "        -0.09713438,  0.11797519],\n",
      "       [-0.04899943,  0.15930285, -0.01820672, ..., -0.14506316,\n",
      "         0.00544593, -0.02539258],\n",
      "       [-0.15016362,  0.05712641,  0.0201648 , ..., -0.05160019,\n",
      "         0.03877093, -0.05338456]], dtype=float32)>, <tf.Variable 'dense_1/bias:0' shape=(128,) dtype=float32, numpy=\n",
      "array([-0.06045315, -0.05600722, -0.03230178, -0.06001941, -0.06374811,\n",
      "        0.01260048, -0.0315555 , -0.05369737, -0.06764475, -0.07161991,\n",
      "       -0.05916602,  0.02152971, -0.05600781, -0.07682741, -0.03998879,\n",
      "       -0.02050658, -0.09405437, -0.02091947, -0.03474749, -0.07775243,\n",
      "       -0.0675867 , -0.06177351, -0.00391951, -0.07471051, -0.04838135,\n",
      "       -0.06700759, -0.0298734 ,  0.01578942, -0.05090864, -0.05601342,\n",
      "       -0.07254611, -0.09071851, -0.0382793 ,  0.03604994, -0.08812607,\n",
      "       -0.06338394, -0.11053831,  0.01143256, -0.09217781, -0.0850506 ,\n",
      "       -0.08750454,  0.04783506, -0.02962806, -0.04907   , -0.05763541,\n",
      "       -0.13152736, -0.06221771, -0.08624083, -0.00930087, -0.05439065,\n",
      "       -0.01742691, -0.07147429,  0.02572775, -0.05618604, -0.00798468,\n",
      "       -0.08309978, -0.07590386, -0.06589957, -0.09855244, -0.05725873,\n",
      "       -0.10923017, -0.04310976, -0.02548566, -0.08056305, -0.04365592,\n",
      "       -0.05462016, -0.05355297, -0.02696595, -0.09243981, -0.06209448,\n",
      "       -0.05550807, -0.08773781, -0.03788296,  0.03234819, -0.0687457 ,\n",
      "       -0.05949293, -0.1058288 , -0.07656809, -0.08305575, -0.09846308,\n",
      "       -0.05669309, -0.05409081, -0.00921199, -0.05210278, -0.0484836 ,\n",
      "       -0.0584541 , -0.05583506, -0.06544706, -0.05465094, -0.10596962,\n",
      "       -0.13336417, -0.06650873, -0.01242079, -0.07752784, -0.04500359,\n",
      "       -0.08546658, -0.08353683, -0.02790381, -0.07723936, -0.05016387,\n",
      "       -0.034938  , -0.06742173, -0.03270023, -0.06423684, -0.10153878,\n",
      "       -0.03923874, -0.1252745 , -0.07074756, -0.03511108, -0.07419796,\n",
      "       -0.04219987, -0.0468866 ,  0.05675108, -0.0262201 , -0.06385319,\n",
      "       -0.01906279, -0.05510493, -0.07041386, -0.11689347, -0.02945193,\n",
      "       -0.09056208, -0.06285968, -0.03426704, -0.07329916, -0.02905796,\n",
      "       -0.05722127, -0.05205533, -0.04495854], dtype=float32)>, <tf.Variable 'dense_2/kernel:0' shape=(128, 10) dtype=float32, numpy=\n",
      "array([[ 0.08439123, -0.03645544, -0.05617405, ..., -0.0412792 ,\n",
      "        -0.05647166,  0.1101193 ],\n",
      "       [ 0.004068  , -0.13224962, -0.01524658, ...,  0.02650752,\n",
      "        -0.13064192,  0.13481767],\n",
      "       [ 0.16780567, -0.05076674, -0.06619432, ..., -0.19429715,\n",
      "        -0.13585831, -0.12345695],\n",
      "       ...,\n",
      "       [-0.10139722,  0.00197505, -0.08520587, ..., -0.12469823,\n",
      "        -0.18034348, -0.04852376],\n",
      "       [-0.16684112, -0.06374261,  0.01420433, ...,  0.005854  ,\n",
      "        -0.08121318, -0.11550995],\n",
      "       [-0.03156924,  0.05621555,  0.14049342, ...,  0.05456292,\n",
      "         0.13021815,  0.00831927]], dtype=float32)>, <tf.Variable 'dense_2/bias:0' shape=(10,) dtype=float32, numpy=\n",
      "array([ 0.01730862, -0.04649944,  0.00268238, -0.04564977,  0.06311995,\n",
      "       -0.02876679, -0.04284993, -0.01433095,  0.0267307 ,  0.04952259],\n",
      "      dtype=float32)>]\n",
      "1875/1875 [==============================] - 2s 836us/step - loss: 0.3668 - accuracy: 0.9234\n"
     ]
    },
    {
     "name": "stdout",
     "output_type": "stream",
     "text": [
      "Epoch 3/3\n",
      "1826/1875 [============================>.] - ETA: 0s - loss: 0.2471 - accuracy: 0.9409\n",
      "Epoch: 2 \n",
      "Weights and Bias: \n",
      " [<tf.Variable 'dense/kernel:0' shape=(784, 128) dtype=float32, numpy=\n",
      "array([[ 0.05310886, -0.04961504,  0.05547019, ..., -0.04338668,\n",
      "         0.01543616,  0.03468991],\n",
      "       [ 0.0329029 ,  0.07782104,  0.06925527, ...,  0.06640259,\n",
      "        -0.04433326, -0.03716446],\n",
      "       [-0.01985357, -0.0025181 ,  0.05274964, ...,  0.04138512,\n",
      "         0.0329486 , -0.02959587],\n",
      "       ...,\n",
      "       [-0.05266693, -0.06011479,  0.04451676, ..., -0.02542242,\n",
      "         0.00623679, -0.07376018],\n",
      "       [-0.07205021, -0.01758613,  0.0379208 , ..., -0.05209264,\n",
      "        -0.07665008,  0.00867669],\n",
      "       [-0.01137245, -0.04263793, -0.04484012, ...,  0.07212051,\n",
      "        -0.00686744,  0.0100252 ]], dtype=float32)>, <tf.Variable 'dense/bias:0' shape=(128,) dtype=float32, numpy=\n",
      "array([-0.02248263, -0.04487573, -0.02481429, -0.02990231, -0.01634298,\n",
      "       -0.0465573 , -0.0212883 ,  0.07761479, -0.01813895, -0.0396793 ,\n",
      "       -0.05951606, -0.01510477, -0.04048095, -0.01801049, -0.02388804,\n",
      "       -0.02102597, -0.02074253, -0.0154396 , -0.02417991,  0.00899262,\n",
      "       -0.0278432 , -0.02207208, -0.03508696, -0.04812498, -0.00597134,\n",
      "       -0.01894908, -0.06639107, -0.02144763, -0.01777515, -0.05907874,\n",
      "       -0.01933936, -0.02602561, -0.0307007 , -0.02710223, -0.00668848,\n",
      "       -0.02357451, -0.0366874 , -0.01690037, -0.05084297, -0.01748778,\n",
      "       -0.04677788, -0.02128097, -0.02010363,  0.07778951, -0.02211192,\n",
      "       -0.02552592, -0.03731733, -0.01698611, -0.00420177, -0.02773966,\n",
      "       -0.01832103, -0.01495305, -0.01931052, -0.02354394,  0.00455596,\n",
      "       -0.02481787, -0.02347937, -0.02673157, -0.03997754, -0.0239905 ,\n",
      "       -0.04572556, -0.01906429, -0.03375977, -0.00046432, -0.04784569,\n",
      "       -0.04251717, -0.04014139, -0.05272699, -0.04477748, -0.01572041,\n",
      "       -0.02176687, -0.01880506, -0.02889886, -0.03642676, -0.01648591,\n",
      "       -0.02385904, -0.04309656, -0.02108589, -0.03330115,  0.00650363,\n",
      "       -0.03537076, -0.02773447, -0.01895403, -0.01714763, -0.02418558,\n",
      "       -0.007394  , -0.04981826, -0.03182611, -0.03315327, -0.02430603,\n",
      "       -0.03752548,  0.02100033, -0.00186759, -0.02460391, -0.05225097,\n",
      "       -0.00637078, -0.02600547, -0.00862448, -0.02139261, -0.04131685,\n",
      "        0.04939159, -0.04746385, -0.02144324, -0.00665451, -0.04555912,\n",
      "       -0.00490765, -0.03401763, -0.03301475, -0.04342693, -0.0297784 ,\n",
      "       -0.02117585, -0.02819297, -0.01827027, -0.02672494, -0.02418235,\n",
      "       -0.01619953, -0.02705673,  0.0005238 , -0.03838182, -0.02849206,\n",
      "       -0.00381206, -0.00793327, -0.02172006, -0.04365592, -0.03924749,\n",
      "       -0.00947035, -0.00353855, -0.00713876], dtype=float32)>, <tf.Variable 'dense_1/kernel:0' shape=(128, 128) dtype=float32, numpy=\n",
      "array([[-0.00941031,  0.0902014 ,  0.11506119, ...,  0.14041993,\n",
      "        -0.05065529, -0.04456376],\n",
      "       [-0.12994146,  0.08295418,  0.01801891, ..., -0.15896292,\n",
      "        -0.05556609, -0.02346826],\n",
      "       [-0.09239021,  0.09866757,  0.00985674, ..., -0.08180057,\n",
      "         0.05233719, -0.06458642],\n",
      "       ...,\n",
      "       [-0.09002368, -0.00837796,  0.13339372, ...,  0.00403242,\n",
      "        -0.06932778,  0.12014898],\n",
      "       [-0.04918296,  0.12322096, -0.02763923, ..., -0.15732543,\n",
      "         0.03414227, -0.02196359],\n",
      "       [-0.15016362,  0.0568914 ,  0.02016485, ..., -0.05168035,\n",
      "         0.03740458, -0.05534807]], dtype=float32)>, <tf.Variable 'dense_1/bias:0' shape=(128,) dtype=float32, numpy=\n",
      "array([-0.09758645, -0.08788756, -0.05657362, -0.08349684, -0.06093147,\n",
      "       -0.01042088, -0.04472138, -0.09213408, -0.0960431 , -0.07095963,\n",
      "       -0.096383  ,  0.008633  , -0.04596325, -0.10243687, -0.04249343,\n",
      "       -0.03216036, -0.13222067,  0.02017432, -0.07279024, -0.08458268,\n",
      "       -0.09152065, -0.1325001 , -0.00243453, -0.09601327, -0.05297064,\n",
      "       -0.09236641, -0.05501528, -0.00174172, -0.05935126, -0.08276617,\n",
      "       -0.1285272 , -0.15353818, -0.03791681,  0.06040869, -0.13105218,\n",
      "       -0.06895816, -0.14268483,  0.00818015, -0.13071841, -0.09688086,\n",
      "       -0.11935913,  0.09226286, -0.06007871, -0.06408571, -0.0906029 ,\n",
      "       -0.16752407, -0.11829655, -0.12087208, -0.02896339, -0.07372217,\n",
      "       -0.02638887, -0.11419315,  0.03250441, -0.11128601, -0.01561614,\n",
      "       -0.12650596, -0.11233871, -0.09722899, -0.11551666, -0.07720256,\n",
      "       -0.16463777, -0.0537529 , -0.04329192, -0.12471821, -0.06833222,\n",
      "       -0.07320853, -0.08194204, -0.05890316, -0.14089687, -0.05615046,\n",
      "       -0.07449081, -0.10530102, -0.04853242,  0.05772526, -0.09586442,\n",
      "       -0.08500131, -0.1373924 , -0.1189917 , -0.09978858, -0.11598914,\n",
      "       -0.0854552 , -0.06325605, -0.00755497, -0.0451428 , -0.05967793,\n",
      "       -0.07309198, -0.09777769, -0.07535261, -0.05382475, -0.10524821,\n",
      "       -0.16467799, -0.09324425, -0.05043064, -0.08959081, -0.08389074,\n",
      "       -0.10871271, -0.10964599, -0.02328512, -0.13537735, -0.07665555,\n",
      "       -0.04397515, -0.09611841, -0.0422074 , -0.10137762, -0.11510019,\n",
      "       -0.05171386, -0.15375106, -0.09593378, -0.04417895, -0.08974025,\n",
      "       -0.05203967, -0.07734412,  0.05016225, -0.01990899, -0.07578593,\n",
      "       -0.02445569, -0.06274342, -0.08041544, -0.12394255, -0.0523774 ,\n",
      "       -0.10227741, -0.10180619, -0.0467518 , -0.11311084, -0.03034118,\n",
      "       -0.06010286, -0.05489092, -0.03354755], dtype=float32)>, <tf.Variable 'dense_2/kernel:0' shape=(128, 10) dtype=float32, numpy=\n",
      "array([[ 0.09482936, -0.06056583, -0.0281109 , ..., -0.07822901,\n",
      "        -0.07533844,  0.13877106],\n",
      "       [-0.00052745, -0.12383836, -0.01371195, ...,  0.04038668,\n",
      "        -0.12370604,  0.11753599],\n",
      "       [ 0.1450031 , -0.04745091, -0.06620753, ..., -0.19002844,\n",
      "        -0.14300057, -0.11752619],\n",
      "       ...,\n",
      "       [-0.11878616, -0.01030865, -0.10237437, ..., -0.11706477,\n",
      "        -0.19972584, -0.0623735 ],\n",
      "       [-0.13166775, -0.05864144, -0.01571105, ...,  0.00530499,\n",
      "        -0.10179445, -0.08844114],\n",
      "       [-0.00851542,  0.04583656,  0.1364778 , ...,  0.04586203,\n",
      "         0.12373132,  0.01114761]], dtype=float32)>, <tf.Variable 'dense_2/bias:0' shape=(10,) dtype=float32, numpy=\n",
      "array([ 0.07389515, -0.10688105,  0.01698489, -0.08730707,  0.07196113,\n",
      "       -0.03801596, -0.07668685, -0.05210344,  0.05318123,  0.09569573],\n",
      "      dtype=float32)>]\n",
      "1875/1875 [==============================] - 2s 838us/step - loss: 0.2473 - accuracy: 0.9408\n"
     ]
    }
   ],
   "source": [
    "training_step = model.fit(x_train, y_train, epochs=3, callbacks=[myCallback()])"
   ]
  },
  {
   "cell_type": "markdown",
   "id": "1af2a4a7",
   "metadata": {},
   "source": [
    "Now that the model is trained, we can evaluate it against the test set to see how well it performs. "
   ]
  },
  {
   "cell_type": "code",
   "execution_count": 14,
   "id": "5fe28907",
   "metadata": {},
   "outputs": [
    {
     "name": "stdout",
     "output_type": "stream",
     "text": [
      "313/313 [==============================] - 0s 643us/step - loss: 0.3013 - accuracy: 0.9317\n",
      "Test accuracy: 0.9317\n"
     ]
    }
   ],
   "source": [
    "(loss, acc) = model.evaluate(x_test, y_test)\n",
    "print(\"Test accuracy: {:.4f}\".format(acc))"
   ]
  },
  {
   "cell_type": "markdown",
   "id": "ff8a67ad",
   "metadata": {},
   "source": [
    "To further prove convergance we can also plot the loss of the model"
   ]
  },
  {
   "cell_type": "code",
   "execution_count": 15,
   "id": "19a0c2c5",
   "metadata": {},
   "outputs": [
    {
     "data": {
      "text/plain": [
       "[<matplotlib.lines.Line2D at 0x151697552b0>]"
      ]
     },
     "execution_count": 15,
     "metadata": {},
     "output_type": "execute_result"
    },
    {
     "data": {
      "image/png": "[encoded data removed]",
      "text/plain": [
       "<Figure size 432x288 with 1 Axes>"
      ]
     },
     "metadata": {
      "needs_background": "light"
     },
     "output_type": "display_data"
    }
   ],
   "source": [
    "plt.title(\"Loss\")\n",
    "plt.plot(training_step.history['loss'])"
   ]
  },
  {
   "cell_type": "markdown",
   "id": "7a2783d6",
   "metadata": {},
   "source": [
    "Since we have only 3 epochs we don't have many data points for the plot, but this could be something to change when tuning the model."
   ]
  },
  {
   "cell_type": "markdown",
   "id": "063b9902",
   "metadata": {},
   "source": [
    "### Normalizing the Data"
   ]
  },
  {
   "cell_type": "markdown",
   "id": "b593b891",
   "metadata": {},
   "source": [
    "Let's do a common technique and normalize the data. This will  "
   ]
  },
  {
   "cell_type": "code",
   "execution_count": 16,
   "id": "815620c2",
   "metadata": {},
   "outputs": [],
   "source": [
    "x_train_norm = x_train / 255\n",
    "x_test_norm = x_test / 255"
   ]
  },
  {
   "cell_type": "markdown",
   "id": "d31b9f2a",
   "metadata": {},
   "source": [
    "Now the minimum and maximum values should fall between [0,1]"
   ]
  },
  {
   "cell_type": "code",
   "execution_count": 17,
   "id": "51b102d9",
   "metadata": {},
   "outputs": [
    {
     "name": "stdout",
     "output_type": "stream",
     "text": [
      "0.0\n",
      "1.0\n"
     ]
    }
   ],
   "source": [
    "print(np.min(x_train_norm))\n",
    "print(np.max(x_train_norm))"
   ]
  },
  {
   "cell_type": "markdown",
   "id": "7109d316",
   "metadata": {},
   "source": [
    "Let's re-train and evaluate the model (without the callback, for cleaner output). "
   ]
  },
  {
   "cell_type": "code",
   "execution_count": 18,
   "id": "0d8ac1a4",
   "metadata": {},
   "outputs": [
    {
     "name": "stdout",
     "output_type": "stream",
     "text": [
      "Epoch 1/3\n",
      "1875/1875 [==============================] - 2s 785us/step - loss: 0.4505 - accuracy: 0.9057\n",
      "Epoch 2/3\n",
      "1875/1875 [==============================] - 1s 799us/step - loss: 0.1145 - accuracy: 0.9657\n",
      "Epoch 3/3\n",
      "1875/1875 [==============================] - 1s 791us/step - loss: 0.0853 - accuracy: 0.9739\n"
     ]
    }
   ],
   "source": [
    "training_step_2 = model.fit(x_train_norm, y_train, epochs=3)"
   ]
  },
  {
   "cell_type": "code",
   "execution_count": 19,
   "id": "4686f2d4",
   "metadata": {},
   "outputs": [
    {
     "name": "stdout",
     "output_type": "stream",
     "text": [
      "313/313 [==============================] - 0s 617us/step - loss: 0.0945 - accuracy: 0.9695\n",
      "Test accuracy: 0.9695\n"
     ]
    }
   ],
   "source": [
    "(loss, acc) = model.evaluate(x_test_norm, y_test)\n",
    "print(\"Test accuracy: {:.4f}\".format(acc))"
   ]
  },
  {
   "cell_type": "markdown",
   "id": "25e0052d",
   "metadata": {},
   "source": [
    "It looks like normalizing the data yeilded slightly better performance from the model. \n",
    "\n",
    "### Changing the Number of Epochs\n",
    "\n",
    "Another parameter we can control is the number of epochs run during the training step. Let's try to increase the number of epoch and observe the accuracy and loss. "
   ]
  },
  {
   "cell_type": "code",
   "execution_count": 20,
   "id": "4fa01441",
   "metadata": {},
   "outputs": [
    {
     "name": "stdout",
     "output_type": "stream",
     "text": [
      "Epoch 1/50\n",
      "1875/1875 [==============================] - 2s 808us/step - loss: 0.0694 - accuracy: 0.9778\n",
      "Epoch 2/50\n",
      "1875/1875 [==============================] - 1s 795us/step - loss: 0.0555 - accuracy: 0.9824\n",
      "Epoch 3/50\n",
      "1875/1875 [==============================] - 2s 826us/step - loss: 0.0448 - accuracy: 0.9857\n",
      "Epoch 4/50\n",
      "1875/1875 [==============================] - 2s 808us/step - loss: 0.0367 - accuracy: 0.9882\n",
      "Epoch 5/50\n",
      "1875/1875 [==============================] - 2s 829us/step - loss: 0.0303 - accuracy: 0.9898\n",
      "Epoch 6/50\n",
      "1875/1875 [==============================] - 2s 825us/step - loss: 0.0241 - accuracy: 0.9922\n",
      "Epoch 7/50\n",
      "1875/1875 [==============================] - 2s 800us/step - loss: 0.0215 - accuracy: 0.9931\n",
      "Epoch 8/50\n",
      "1875/1875 [==============================] - 2s 805us/step - loss: 0.0201 - accuracy: 0.9932\n",
      "Epoch 9/50\n",
      "1875/1875 [==============================] - 2s 812us/step - loss: 0.0175 - accuracy: 0.9941\n",
      "Epoch 10/50\n",
      "1875/1875 [==============================] - 2s 802us/step - loss: 0.0158 - accuracy: 0.9947\n",
      "Epoch 11/50\n",
      "1875/1875 [==============================] - 2s 803us/step - loss: 0.0137 - accuracy: 0.9958\n",
      "Epoch 12/50\n",
      "1875/1875 [==============================] - 2s 801us/step - loss: 0.0146 - accuracy: 0.9952\n",
      "Epoch 13/50\n",
      "1875/1875 [==============================] - 2s 806us/step - loss: 0.0123 - accuracy: 0.9957\n",
      "Epoch 14/50\n",
      "1875/1875 [==============================] - 2s 879us/step - loss: 0.0133 - accuracy: 0.9956\n",
      "Epoch 15/50\n",
      "1875/1875 [==============================] - 2s 857us/step - loss: 0.0106 - accuracy: 0.9965\n",
      "Epoch 16/50\n",
      "1875/1875 [==============================] - 2s 863us/step - loss: 0.0100 - accuracy: 0.9965\n",
      "Epoch 17/50\n",
      "1875/1875 [==============================] - 2s 899us/step - loss: 0.0098 - accuracy: 0.9967\n",
      "Epoch 18/50\n",
      "1875/1875 [==============================] - 2s 866us/step - loss: 0.0086 - accuracy: 0.9970\n",
      "Epoch 19/50\n",
      "1875/1875 [==============================] - 2s 843us/step - loss: 0.0080 - accuracy: 0.9974\n",
      "Epoch 20/50\n",
      "1875/1875 [==============================] - 2s 938us/step - loss: 0.0082 - accuracy: 0.9973\n",
      "Epoch 21/50\n",
      "1875/1875 [==============================] - 2s 869us/step - loss: 0.0081 - accuracy: 0.9974\n",
      "Epoch 22/50\n",
      "1875/1875 [==============================] - 2s 892us/step - loss: 0.0099 - accuracy: 0.9969\n",
      "Epoch 23/50\n",
      "1875/1875 [==============================] - 2s 883us/step - loss: 0.0071 - accuracy: 0.9974\n",
      "Epoch 24/50\n",
      "1875/1875 [==============================] - 2s 828us/step - loss: 0.0092 - accuracy: 0.9972\n",
      "Epoch 25/50\n",
      "1875/1875 [==============================] - 2s 822us/step - loss: 0.0075 - accuracy: 0.9978\n",
      "Epoch 26/50\n",
      "1875/1875 [==============================] - 2s 821us/step - loss: 0.0083 - accuracy: 0.9974\n",
      "Epoch 27/50\n",
      "1875/1875 [==============================] - 2s 845us/step - loss: 0.0071 - accuracy: 0.9980\n",
      "Epoch 28/50\n",
      "1875/1875 [==============================] - 2s 842us/step - loss: 0.0077 - accuracy: 0.9975\n",
      "Epoch 29/50\n",
      "1875/1875 [==============================] - 2s 824us/step - loss: 0.0068 - accuracy: 0.9980\n",
      "Epoch 30/50\n",
      "1875/1875 [==============================] - 2s 810us/step - loss: 0.0089 - accuracy: 0.9974\n",
      "Epoch 31/50\n",
      "1875/1875 [==============================] - 2s 809us/step - loss: 0.0057 - accuracy: 0.9985\n",
      "Epoch 32/50\n",
      "1875/1875 [==============================] - 2s 815us/step - loss: 0.0074 - accuracy: 0.9979\n",
      "Epoch 33/50\n",
      "1875/1875 [==============================] - 2s 824us/step - loss: 0.0071 - accuracy: 0.9981\n",
      "Epoch 34/50\n",
      "1875/1875 [==============================] - 2s 838us/step - loss: 0.0076 - accuracy: 0.9977\n",
      "Epoch 35/50\n",
      "1875/1875 [==============================] - 2s 834us/step - loss: 0.0052 - accuracy: 0.9984\n",
      "Epoch 36/50\n",
      "1875/1875 [==============================] - 2s 809us/step - loss: 0.0058 - accuracy: 0.9983\n",
      "Epoch 37/50\n",
      "1875/1875 [==============================] - 2s 823us/step - loss: 0.0061 - accuracy: 0.9983\n",
      "Epoch 38/50\n",
      "1875/1875 [==============================] - 2s 812us/step - loss: 0.0062 - accuracy: 0.9982\n",
      "Epoch 39/50\n",
      "1875/1875 [==============================] - 2s 824us/step - loss: 0.0053 - accuracy: 0.9984\n",
      "Epoch 40/50\n",
      "1875/1875 [==============================] - 2s 823us/step - loss: 0.0044 - accuracy: 0.9987\n",
      "Epoch 41/50\n",
      "1875/1875 [==============================] - 2s 852us/step - loss: 0.0064 - accuracy: 0.9983\n",
      "Epoch 42/50\n",
      "1875/1875 [==============================] - 2s 825us/step - loss: 0.0072 - accuracy: 0.9981\n",
      "Epoch 43/50\n",
      "1875/1875 [==============================] - 2s 865us/step - loss: 0.0058 - accuracy: 0.9983\n",
      "Epoch 44/50\n",
      "1875/1875 [==============================] - 2s 838us/step - loss: 0.0072 - accuracy: 0.9982\n",
      "Epoch 45/50\n",
      "1875/1875 [==============================] - 2s 856us/step - loss: 0.0049 - accuracy: 0.9986\n",
      "Epoch 46/50\n",
      "1875/1875 [==============================] - 2s 865us/step - loss: 0.0035 - accuracy: 0.9989\n",
      "Epoch 47/50\n",
      "1875/1875 [==============================] - 2s 850us/step - loss: 0.0066 - accuracy: 0.9984\n",
      "Epoch 48/50\n",
      "1875/1875 [==============================] - 2s 866us/step - loss: 0.0046 - accuracy: 0.9988\n",
      "Epoch 49/50\n",
      "1875/1875 [==============================] - 2s 865us/step - loss: 0.0054 - accuracy: 0.9985\n",
      "Epoch 50/50\n",
      "1875/1875 [==============================] - 2s 861us/step - loss: 0.0060 - accuracy: 0.9985\n"
     ]
    }
   ],
   "source": [
    "training_step_3 = model.fit(x_train_norm, y_train, epochs=50)"
   ]
  },
  {
   "cell_type": "markdown",
   "id": "b705e17d",
   "metadata": {},
   "source": [
    "Let's re-evaluate the model against the test set"
   ]
  },
  {
   "cell_type": "code",
   "execution_count": 21,
   "id": "e58de740",
   "metadata": {},
   "outputs": [
    {
     "name": "stdout",
     "output_type": "stream",
     "text": [
      "313/313 [==============================] - 0s 627us/step - loss: 0.2120 - accuracy: 0.9773\n",
      "Test accuracy: 0.9773\n"
     ]
    }
   ],
   "source": [
    "(loss, acc) = model.evaluate(x_test_norm, y_test)\n",
    "print(\"Test accuracy: {:.4f}\".format(acc))"
   ]
  },
  {
   "cell_type": "markdown",
   "id": "466af27c",
   "metadata": {},
   "source": [
    "Let's plot the loss as a function of epochs"
   ]
  },
  {
   "cell_type": "code",
   "execution_count": 22,
   "id": "89b41c22",
   "metadata": {},
   "outputs": [
    {
     "data": {
      "text/plain": [
       "[<matplotlib.lines.Line2D at 0x1517e091bb0>]"
      ]
     },
     "execution_count": 22,
     "metadata": {},
     "output_type": "execute_result"
    },
    {
     "data": {
      "image/png": "[encoded data removed]",
      "text/plain": [
       "<Figure size 432x288 with 1 Axes>"
      ]
     },
     "metadata": {
      "needs_background": "light"
     },
     "output_type": "display_data"
    }
   ],
   "source": [
    "plt.title(\"Loss\")\n",
    "plt.plot(training_step_3.history['loss'])"
   ]
  },
  {
   "cell_type": "markdown",
   "id": "4d1c9b67",
   "metadata": {},
   "source": [
    "Clearly 50 epochs is excessive, as it yeilds minimal performance increase, while taking a lot of extra time. it each epoch takes 2 seconds, the whole training step took roughly 100 seconds (94 more seconds than the first two training steps). Comapring the results, we certainly observe better accuracy, but the accuracy increase between the previous training steps and this one is small (about 1%).\n",
    "\n",
    "By observing the loss plot, we can observe the asymptotic behavior, which is good. It seems to plateau around 20 or so epochs. However, considering how accurate the model already is with just three epochs, there's certainly a strong argument that the increase in execution time for an increased number of epochs is simply not worth the benefits. "
   ]
  },
  {
   "cell_type": "markdown",
   "id": "cac273ff",
   "metadata": {},
   "source": [
    "### Learning Rate Tuning\n",
    "\n",
    "Let's expiriment with a few different learning rates for the ADAM optimizer. I'll also go back to using just 3 epochs for the training step. Since we're changing the hyperparameter for the gradient descent algorithm, we'll have to recompile the model with the new hyperparameter. \n",
    "\n",
    "first lets try a higher learning rate **(0.01)**"
   ]
  },
  {
   "cell_type": "code",
   "execution_count": 23,
   "id": "8d7c0fb1",
   "metadata": {},
   "outputs": [],
   "source": [
    "model = keras.Sequential([\n",
    "    # layer to take input and flatten the shape\n",
    "    keras.layers.Flatten(input_shape=(28,28)),\n",
    "    \n",
    "    # two dense hidden layers with ReLU activation function\n",
    "    keras.layers.Dense(128, activation='relu'),\n",
    "    keras.layers.Dense(128, activation='relu'),\n",
    "    \n",
    "    # final layer of shape (,10) \n",
    "    keras.layers.Dense(10)  \n",
    "    \n",
    "])\n",
    "loss_function = keras.losses.SparseCategoricalCrossentropy(from_logits=True)\n",
    "optim = keras.optimizers.Adam(learning_rate=0.01)\n",
    "model.compile(optimizer=optim, loss=loss_function, metrics=[\"accuracy\"])"
   ]
  },
  {
   "cell_type": "code",
   "execution_count": 24,
   "id": "60bcd0e8",
   "metadata": {},
   "outputs": [
    {
     "name": "stdout",
     "output_type": "stream",
     "text": [
      "Epoch 1/3\n",
      "1875/1875 [==============================] - 2s 805us/step - loss: 0.2746 - accuracy: 0.9224\n",
      "Epoch 2/3\n",
      "1875/1875 [==============================] - 2s 815us/step - loss: 0.1867 - accuracy: 0.9493\n",
      "Epoch 3/3\n",
      "1875/1875 [==============================] - 1s 798us/step - loss: 0.1682 - accuracy: 0.9556\n",
      "313/313 [==============================] - 0s 658us/step - loss: 0.1598 - accuracy: 0.9551\n",
      "Test accuracy: 0.9551\n"
     ]
    }
   ],
   "source": [
    "training_step_4 = model.fit(x_train_norm, y_train, epochs=3)\n",
    "(loss, acc) = model.evaluate(x_test_norm, y_test)\n",
    "print(\"Test accuracy: {:.4f}\".format(acc))"
   ]
  },
  {
   "cell_type": "markdown",
   "id": "e221c2bb",
   "metadata": {},
   "source": [
    "A learning rate of 1e-2 seems like a decent number, but it results in a slightly lower accuracy and higher loss than our bnase value of 1e-3.\n",
    "\n",
    "Let's try and go with a lower learning rate **(0.0001)**"
   ]
  },
  {
   "cell_type": "code",
   "execution_count": 25,
   "id": "e7707572",
   "metadata": {},
   "outputs": [],
   "source": [
    "model = keras.Sequential([\n",
    "    # layer to take input and flatten the shape\n",
    "    keras.layers.Flatten(input_shape=(28,28)),\n",
    "    \n",
    "    # two dense hidden layers with ReLU activation function\n",
    "    keras.layers.Dense(128, activation='relu'),\n",
    "    keras.layers.Dense(128, activation='relu'),\n",
    "    \n",
    "    # final layer of shape (,10) \n",
    "    keras.layers.Dense(10)  \n",
    "    \n",
    "])\n",
    "loss_function = keras.losses.SparseCategoricalCrossentropy(from_logits=True)\n",
    "optim = keras.optimizers.Adam(learning_rate=0.0001)\n",
    "model.compile(optimizer=optim, loss=loss_function, metrics=[\"accuracy\"])"
   ]
  },
  {
   "cell_type": "code",
   "execution_count": 26,
   "id": "db9bbc98",
   "metadata": {},
   "outputs": [
    {
     "name": "stdout",
     "output_type": "stream",
     "text": [
      "Epoch 1/3\n",
      "1875/1875 [==============================] - 2s 797us/step - loss: 0.5394 - accuracy: 0.8596\n",
      "Epoch 2/3\n",
      "1875/1875 [==============================] - 1s 797us/step - loss: 0.2324 - accuracy: 0.9341\n",
      "Epoch 3/3\n",
      "1875/1875 [==============================] - 2s 804us/step - loss: 0.1792 - accuracy: 0.9490\n",
      "313/313 [==============================] - 0s 630us/step - loss: 0.1636 - accuracy: 0.9515\n",
      "Test accuracy: 0.9515\n"
     ]
    }
   ],
   "source": [
    "training_step_4 = model.fit(x_train_norm, y_train, epochs=3)\n",
    "(loss, acc) = model.evaluate(x_test_norm, y_test)\n",
    "print(\"Test accuracy: {:.4f}\".format(acc))"
   ]
  },
  {
   "cell_type": "markdown",
   "id": "d85319f6",
   "metadata": {},
   "source": [
    "We observe similar results, the accuracy is slightly lower and the loss is higher. Since we are trying to achieve the opposite, a learning rate an order of magnitude higher or lower than 1e-3 does not seem like a good choice. \n",
    "\n",
    "Let's try a few more that are closer to 1e-3"
   ]
  },
  {
   "cell_type": "markdown",
   "id": "78ca63ef",
   "metadata": {},
   "source": [
    "**learning rate = 0.0075**"
   ]
  },
  {
   "cell_type": "code",
   "execution_count": 27,
   "id": "02723b1e",
   "metadata": {},
   "outputs": [
    {
     "name": "stdout",
     "output_type": "stream",
     "text": [
      "Epoch 1/3\n",
      "1875/1875 [==============================] - 2s 794us/step - loss: 0.2433 - accuracy: 0.9285\n",
      "Epoch 2/3\n",
      "1875/1875 [==============================] - 1s 794us/step - loss: 0.1586 - accuracy: 0.9541\n",
      "Epoch 3/3\n",
      "1875/1875 [==============================] - 2s 806us/step - loss: 0.1357 - accuracy: 0.9624\n",
      "313/313 [==============================] - 0s 633us/step - loss: 0.1508 - accuracy: 0.9590\n",
      "Test accuracy: 0.9590\n"
     ]
    }
   ],
   "source": [
    "model = keras.Sequential([\n",
    "    # layer to take input and flatten the shape\n",
    "    keras.layers.Flatten(input_shape=(28,28)),\n",
    "    \n",
    "    # two dense hidden layers with ReLU activation function\n",
    "    keras.layers.Dense(128, activation='relu'),\n",
    "    keras.layers.Dense(128, activation='relu'),\n",
    "    \n",
    "    # final layer of shape (,10) \n",
    "    keras.layers.Dense(10)  \n",
    "    \n",
    "])\n",
    "loss_function = keras.losses.SparseCategoricalCrossentropy(from_logits=True)\n",
    "optim = keras.optimizers.Adam(learning_rate=0.0075)\n",
    "model.compile(optimizer=optim, loss=loss_function, metrics=[\"accuracy\"])\n",
    "\n",
    "training_step_4 = model.fit(x_train_norm, y_train, epochs=3)\n",
    "(loss, acc) = model.evaluate(x_test_norm, y_test)\n",
    "print(\"Test accuracy: {:.4f}\".format(acc))"
   ]
  },
  {
   "cell_type": "markdown",
   "id": "7bfdbdce",
   "metadata": {},
   "source": [
    "**learning rate = 0.00075**"
   ]
  },
  {
   "cell_type": "code",
   "execution_count": 28,
   "id": "ed4cb905",
   "metadata": {},
   "outputs": [
    {
     "name": "stdout",
     "output_type": "stream",
     "text": [
      "Epoch 1/3\n",
      "1875/1875 [==============================] - 2s 831us/step - loss: 0.2514 - accuracy: 0.9270\n",
      "Epoch 2/3\n",
      "1875/1875 [==============================] - 2s 837us/step - loss: 0.1020 - accuracy: 0.9687\n",
      "Epoch 3/3\n",
      "1875/1875 [==============================] - 2s 832us/step - loss: 0.0698 - accuracy: 0.9789\n",
      "313/313 [==============================] - 0s 649us/step - loss: 0.0906 - accuracy: 0.9704\n",
      "Test accuracy: 0.9704\n"
     ]
    }
   ],
   "source": [
    "model = keras.Sequential([\n",
    "    # layer to take input and flatten the shape\n",
    "    keras.layers.Flatten(input_shape=(28,28)),\n",
    "    \n",
    "    # two dense hidden layers with ReLU activation function\n",
    "    keras.layers.Dense(128, activation='relu'),\n",
    "    keras.layers.Dense(128, activation='relu'),\n",
    "    \n",
    "    # final layer of shape (,10) \n",
    "    keras.layers.Dense(10)  \n",
    "    \n",
    "])\n",
    "loss_function = keras.losses.SparseCategoricalCrossentropy(from_logits=True)\n",
    "optim = keras.optimizers.Adam(learning_rate=0.00075)\n",
    "model.compile(optimizer=optim, loss=loss_function, metrics=[\"accuracy\"])\n",
    "\n",
    "training_step_4 = model.fit(x_train_norm, y_train, epochs=3)\n",
    "(loss, acc) = model.evaluate(x_test_norm, y_test)\n",
    "print(\"Test accuracy: {:.4f}\".format(acc))"
   ]
  },
  {
   "cell_type": "markdown",
   "id": "667bc9d8",
   "metadata": {},
   "source": [
    "**learning rate = 0.0009**"
   ]
  },
  {
   "cell_type": "code",
   "execution_count": 29,
   "id": "978872f9",
   "metadata": {},
   "outputs": [
    {
     "name": "stdout",
     "output_type": "stream",
     "text": [
      "Epoch 1/3\n",
      "1875/1875 [==============================] - 2s 821us/step - loss: 0.2346 - accuracy: 0.9316\n",
      "Epoch 2/3\n",
      "1875/1875 [==============================] - 2s 822us/step - loss: 0.0974 - accuracy: 0.9699\n",
      "Epoch 3/3\n",
      "1875/1875 [==============================] - 2s 826us/step - loss: 0.0683 - accuracy: 0.9786\n",
      "313/313 [==============================] - 0s 674us/step - loss: 0.0791 - accuracy: 0.9744\n",
      "Test accuracy: 0.9744\n"
     ]
    }
   ],
   "source": [
    "model = keras.Sequential([\n",
    "    # layer to take input and flatten the shape\n",
    "    keras.layers.Flatten(input_shape=(28,28)),\n",
    "    \n",
    "    # two dense hidden layers with ReLU activation function\n",
    "    keras.layers.Dense(128, activation='relu'),\n",
    "    keras.layers.Dense(128, activation='relu'),\n",
    "    \n",
    "    # final layer of shape (,10) \n",
    "    keras.layers.Dense(10)  \n",
    "    \n",
    "])\n",
    "loss_function = keras.losses.SparseCategoricalCrossentropy(from_logits=True)\n",
    "optim = keras.optimizers.Adam(learning_rate=0.0009)\n",
    "model.compile(optimizer=optim, loss=loss_function, metrics=[\"accuracy\"])\n",
    "\n",
    "training_step_4 = model.fit(x_train_norm, y_train, epochs=3)\n",
    "(loss, acc) = model.evaluate(x_test_norm, y_test)\n",
    "print(\"Test accuracy: {:.4f}\".format(acc))"
   ]
  },
  {
   "cell_type": "markdown",
   "id": "0d7de87b",
   "metadata": {},
   "source": [
    "Based off these results, it seems like an ideal learning rate for the optimized gradient descent is a value just below 1e-3. Changing the learning rate doesn't seem to have a large impact in this case, but it the results suggest that a value near the range of 0.00075 - 0.0009 is the best. Both offer nearly the same accuracy. The original model with a learning rate of 0.001 also performs very well, but it seems clear that it is not the best choice for a learnin rate. \n",
    "\n",
    "The loss of the original model is a tad higher, and the accuracy a tad lower. Since our goal is to minimize loss and maximize accuracy, we can safely assume we have found a more ideal range of possible learning rates. "
   ]
  },
  {
   "cell_type": "markdown",
   "id": "35d6798c",
   "metadata": {},
   "source": [
    "# Task 3: Rationale"
   ]
  },
  {
   "cell_type": "markdown",
   "id": "1d84c436",
   "metadata": {},
   "source": [
    "**Learning Rate Choice:** My original choice for a learning rate was 1e-3. Based off my own expoerience and other online examples, 1e-3 seemed like a good strating point for the learnin rate. It was neither too high or too low. As shown in Task2, the initial learning rate did not end up being the most ideal learning rate. A way to find the most ideal learnin rate is to try various values and observe the metric and parameters. I went through that process in Task 2, trying various higher and lower learnin rates. In the end, I setteled for a range of learning rates between [0.00075 and 0.0009] Both learning rates offer similar accuracy and loss, and both outperform the initial learnin rate of 0.001\n",
    "\n",
    "I did consider adding learning rate decay to the optimizer, but I decided that it would not be neccesary for this specific project. Learning rate decay helps to prevent divergance in loss at a certain point. Since I only used 3 epochs for the training step, a decay is likely to have little effect. Decay could certainly prove useful in other use cases however.\n",
    "\n",
    "**Epoch Choice:** My original model used just three epochs in the training step. I eventually tried a training step with more epochs to observe the behavior of the loss and to see how much it would impact accuracy. I used 50 epochs, which yeilded better accuracy, but also greatly increased execution time. The dataset is relatively large (60k data points), so each epoch will take some time. In the end, I decided that 3 epochs was fine for the model, but I also mention that slighly higher values are also acceptable. In the end, one must consider the tradeoff between the performance gain and execution time. I decided that the performane gain was too minimal to justify the execution time of higher epoch values. \n",
    "\n",
    "**Normalization:** Normalization is a common technique used in Machine Learning. In the case of this problem, normalizing the data maps elements from a range of [0,255] to [0,1]. This ended up being a very imporant decision, as the model performed noticably better with the normalized data points. \n",
    "\n",
    "**Model Structure:** I built a simple model structure for this problem. For the API, I used keras.Sequential, which is a simple and effective API that linearly stacks layers in the network. I first used a Flatten layer which transforms the input layer from (28,28) to (,28 * 28) or (,784). I then used 2 Dense layers with 128 units. This could be another paramater to modify, but it seems like optimal values lie between 32 and 512. I just chose 128. the final layer is a Dense layer with 10 units, since we are predicting 10 possible class labels. I did not have a Soltmax Activation function in the model, but instead used the \"from_logits\" argument in the loss function, which produces the same effect. \n",
    "\n",
    "**Regularization/Optimization:** I did not use Regularization in this project. I already use a low learning rate for the gradient descent, and the model is not too complex so Regularization would'nt provide much benefit. I chose the ADAM optimized algoorithm for graident descent. ADAM is both effecive and efficient, making it a great choice for many projects. there may be other option that might generalize better, but the ADAM optimizer serves well in this project. In image classification it's important for a model to be able to generalize, but ADAM can egenralize well. I also use a low learning rate. This means slower convergance but better generalization. ADAM works well with this, since ADAM offers fast convergance (This can be seen in the graphs of the loss). "
   ]
  },
  {
   "cell_type": "markdown",
   "id": "fa52ba9c",
   "metadata": {},
   "source": [
    "# Task4: Another Baseline Model"
   ]
  },
  {
   "cell_type": "markdown",
   "id": "94009dff",
   "metadata": {},
   "source": [
    "Since this is a classification problem, I will use the Decision Tree classifier as another baseline model to solve this problem.\n",
    "\n",
    "First let's import the packages"
   ]
  },
  {
   "cell_type": "code",
   "execution_count": 30,
   "id": "731d9ca8",
   "metadata": {},
   "outputs": [],
   "source": [
    "from sklearn.tree import DecisionTreeClassifier\n",
    "from sklearn import tree\n",
    "from sklearn.metrics import accuracy_score"
   ]
  },
  {
   "cell_type": "markdown",
   "id": "e5d8a774",
   "metadata": {},
   "source": [
    "We've already split the dataset into train-test, and if we want to compare models, we should use the same splits and see how each model performs. Let's create the Decision Tree object."
   ]
  },
  {
   "cell_type": "code",
   "execution_count": 31,
   "id": "22ac0efb",
   "metadata": {},
   "outputs": [],
   "source": [
    "clf = tree.DecisionTreeClassifier()"
   ]
  },
  {
   "cell_type": "markdown",
   "id": "e8552433",
   "metadata": {},
   "source": [
    "We will have to manually flatten the input, so that the dimensionality of the input array is 2. The estimator expect dim <= 2"
   ]
  },
  {
   "cell_type": "code",
   "execution_count": 32,
   "id": "9d4f8894",
   "metadata": {},
   "outputs": [],
   "source": [
    "x_train_flatten = x_train_norm.reshape(60000,28*28)\n",
    "x_test_flatten = x_test_norm.reshape(10000,28*28)"
   ]
  },
  {
   "cell_type": "markdown",
   "id": "7a2f8982",
   "metadata": {},
   "source": [
    "Now we can train the model on the flattened input"
   ]
  },
  {
   "cell_type": "code",
   "execution_count": 33,
   "id": "3a685200",
   "metadata": {},
   "outputs": [],
   "source": [
    "clf = clf.fit(x_train_flatten, y_train)"
   ]
  },
  {
   "cell_type": "markdown",
   "id": "e57c8d8c",
   "metadata": {},
   "source": [
    "I usually like to plot the Decision Tree but this dataset is too large to plot the tree cleanly. We can move on to the prediction step. "
   ]
  },
  {
   "cell_type": "code",
   "execution_count": 34,
   "id": "ea4241ba",
   "metadata": {},
   "outputs": [
    {
     "name": "stdout",
     "output_type": "stream",
     "text": [
      "0.8774\n"
     ]
    }
   ],
   "source": [
    "y_pred = clf.predict(x_test_flatten)\n",
    "print(accuracy_score(y_pred, y_test))"
   ]
  },
  {
   "cell_type": "markdown",
   "id": "97e35bfd",
   "metadata": {},
   "source": [
    "The Decision Tree classifier achieves a 87.96% accuracy on the test set, which is doog but not as good as the Neural Network in task2, which achieved an accuracy of around 97-98%, depending on the parameters. \n",
    "\n",
    "The main reasons why I think the NN outperforms the Decision Tree is that it has optimization and hyperparameters which allow it to converge quickly, and since the training data is quite large, it allows the NN to outperform the Decision Tree. Since this is a classification problem, it is certainly a problem doable with a decision tree classifier, but there are other problem out there more suited to be handled by the decision tree classifier. The decision tree classifier excels in problems where each decision has explanations. They work well with categorical data. "
   ]
  },
  {
   "cell_type": "markdown",
   "id": "8a108612",
   "metadata": {},
   "source": [
    "Just so we can print out the decision tree, let's re-define the model with a max depth. "
   ]
  },
  {
   "cell_type": "code",
   "execution_count": 35,
   "id": "d9a6afe8",
   "metadata": {},
   "outputs": [],
   "source": [
    "clf = tree.DecisionTreeClassifier(max_depth=5)\n",
    "clf = clf.fit(x_train_flatten, y_train)"
   ]
  },
  {
   "cell_type": "markdown",
   "id": "2fa5153b",
   "metadata": {},
   "source": [
    "Now let's try and plot the decision tree."
   ]
  },
  {
   "cell_type": "code",
   "execution_count": 36,
   "id": "07f1ae14",
   "metadata": {},
   "outputs": [
    {
     "data": {
      "text/plain": [
       "[Text(0.5, 0.9166666666666666, 'X[350] <= 0.516\\ngini = 0.9\\nsamples = 60000\\nvalue = [5923, 6742, 5958, 6131, 5842, 5421, 5918, 6265, 5851\\n5949]'),\n",
       " Text(0.25, 0.75, 'X[568] <= 0.002\\ngini = 0.881\\nsamples = 39160\\nvalue = [5433, 623, 4772, 1312, 5353, 3266, 4775, 5773, 3081\\n4772]'),\n",
       " Text(0.125, 0.5833333333333334, 'X[430] <= 0.002\\ngini = 0.839\\nsamples = 24084\\nvalue = [697, 414, 904, 847, 5133, 1668, 2771, 5568, 1439\\n4643]'),\n",
       " Text(0.0625, 0.4166666666666667, 'X[405] <= 0.01\\ngini = 0.705\\nsamples = 9667\\nvalue = [258, 404, 565, 424, 503, 503, 315, 4974, 836, 885]'),\n",
       " Text(0.03125, 0.25, 'X[484] <= 0.002\\ngini = 0.475\\nsamples = 6717\\nvalue = [247, 71, 401, 93, 336, 92, 166, 4803, 18, 490]'),\n",
       " Text(0.015625, 0.08333333333333333, 'gini = 0.262\\nsamples = 5435\\nvalue = [131, 71, 318, 87, 14, 64, 19, 4655, 13, 63]'),\n",
       " Text(0.046875, 0.08333333333333333, 'gini = 0.787\\nsamples = 1282\\nvalue = [116, 0, 83, 6, 322, 28, 147, 148, 5, 427]'),\n",
       " Text(0.09375, 0.25, 'X[516] <= 0.057\\ngini = 0.848\\nsamples = 2950\\nvalue = [11, 333, 164, 331, 167, 411, 149, 171, 818, 395]'),\n",
       " Text(0.078125, 0.08333333333333333, 'gini = 0.788\\nsamples = 1269\\nvalue = [6, 36, 12, 302, 121, 379, 9, 38, 78, 288]'),\n",
       " Text(0.109375, 0.08333333333333333, 'gini = 0.748\\nsamples = 1681\\nvalue = [5, 297, 152, 29, 46, 32, 140, 133, 740, 107]'),\n",
       " Text(0.1875, 0.4166666666666667, 'X[211] <= 0.112\\ngini = 0.788\\nsamples = 14417\\nvalue = [439, 10, 339, 423, 4630, 1165, 2456, 594, 603, 3758]'),\n",
       " Text(0.15625, 0.25, 'X[98] <= 0.002\\ngini = 0.582\\nsamples = 6308\\nvalue = [88, 1, 139, 64, 3810, 285, 1369, 224, 103, 225]'),\n",
       " Text(0.140625, 0.08333333333333333, 'gini = 0.478\\nsamples = 5333\\nvalue = [82, 1, 115, 64, 3802, 281, 436, 224, 103, 225]'),\n",
       " Text(0.171875, 0.08333333333333333, 'gini = 0.084\\nsamples = 975\\nvalue = [6, 0, 24, 0, 8, 4, 933, 0, 0, 0]'),\n",
       " Text(0.21875, 0.25, 'X[156] <= 0.002\\ngini = 0.76\\nsamples = 8109\\nvalue = [351, 9, 200, 359, 820, 880, 1087, 370, 500, 3533]'),\n",
       " Text(0.203125, 0.08333333333333333, 'gini = 0.563\\nsamples = 5254\\nvalue = [91, 3, 99, 179, 391, 508, 45, 363, 196, 3379]'),\n",
       " Text(0.234375, 0.08333333333333333, 'gini = 0.799\\nsamples = 2855\\nvalue = [260, 6, 101, 180, 429, 372, 1042, 7, 304, 154]'),\n",
       " Text(0.375, 0.5833333333333334, 'X[435] <= 0.002\\ngini = 0.793\\nsamples = 15076\\nvalue = [4736, 209, 3868, 465, 220, 1598, 2004, 205, 1642\\n129]'),\n",
       " Text(0.3125, 0.4166666666666667, 'X[489] <= 0.088\\ngini = 0.403\\nsamples = 6018\\nvalue = [4596, 11, 476, 155, 36, 436, 198, 18, 66, 26]'),\n",
       " Text(0.28125, 0.25, 'X[380] <= 0.01\\ngini = 0.255\\nsamples = 5184\\nvalue = [4462, 6, 108, 142, 10, 266, 141, 11, 17, 21]'),\n",
       " Text(0.265625, 0.08333333333333333, 'gini = 0.146\\nsamples = 4702\\nvalue = [4343, 2, 72, 60, 6, 120, 72, 8, 1, 18]'),\n",
       " Text(0.296875, 0.08333333333333333, 'gini = 0.791\\nsamples = 482\\nvalue = [119, 4, 36, 82, 4, 146, 69, 3, 16, 3]'),\n",
       " Text(0.34375, 0.25, 'X[320] <= 0.004\\ngini = 0.728\\nsamples = 834\\nvalue = [134, 5, 368, 13, 26, 170, 57, 7, 49, 5]'),\n",
       " Text(0.328125, 0.08333333333333333, 'gini = 0.373\\nsamples = 424\\nvalue = [19, 4, 334, 4, 13, 14, 13, 7, 12, 4]'),\n",
       " Text(0.359375, 0.08333333333333333, 'gini = 0.749\\nsamples = 410\\nvalue = [115, 1, 34, 9, 13, 156, 44, 0, 37, 1]'),\n",
       " Text(0.4375, 0.4166666666666667, 'X[346] <= 0.002\\ngini = 0.77\\nsamples = 9058\\nvalue = [140, 198, 3392, 310, 184, 1162, 1806, 187, 1576, 103]'),\n",
       " Text(0.40625, 0.25, 'X[348] <= 0.375\\ngini = 0.506\\nsamples = 4505\\nvalue = [12, 191, 3111, 238, 25, 122, 238, 145, 392, 31]'),\n",
       " Text(0.390625, 0.08333333333333333, 'gini = 0.4\\nsamples = 4037\\nvalue = [8, 190, 3103, 225, 18, 43, 173, 145, 103, 29]'),\n",
       " Text(0.421875, 0.08333333333333333, 'gini = 0.569\\nsamples = 468\\nvalue = [4, 1, 8, 13, 7, 79, 65, 0, 289, 2]'),\n",
       " Text(0.46875, 0.25, 'X[655] <= 0.002\\ngini = 0.755\\nsamples = 4553\\nvalue = [128, 7, 281, 72, 159, 1040, 1568, 42, 1184, 72]'),\n",
       " Text(0.453125, 0.08333333333333333, 'gini = 0.595\\nsamples = 2526\\nvalue = [37, 6, 215, 13, 131, 435, 1523, 25, 96, 45]'),\n",
       " Text(0.484375, 0.08333333333333333, 'gini = 0.618\\nsamples = 2027\\nvalue = [91, 1, 66, 59, 28, 605, 45, 17, 1088, 27]'),\n",
       " Text(0.75, 0.75, 'X[489] <= 0.104\\ngini = 0.821\\nsamples = 20840\\nvalue = [490, 6119, 1186, 4819, 489, 2155, 1143, 492, 2770\\n1177]'),\n",
       " Text(0.625, 0.5833333333333334, 'X[290] <= 0.135\\ngini = 0.757\\nsamples = 10274\\nvalue = [397, 327, 328, 4413, 251, 1892, 499, 243, 1091, 833]'),\n",
       " Text(0.5625, 0.4166666666666667, 'X[486] <= 0.229\\ngini = 0.597\\nsamples = 6272\\nvalue = [162, 299, 302, 3866, 86, 618, 250, 54, 475, 160]'),\n",
       " Text(0.53125, 0.25, 'X[296] <= 0.01\\ngini = 0.446\\nsamples = 5042\\nvalue = [70, 259, 53, 3696, 76, 555, 28, 53, 101, 151]'),\n",
       " Text(0.515625, 0.08333333333333333, 'gini = 0.729\\nsamples = 1053\\nvalue = [6, 212, 24, 363, 21, 347, 19, 11, 33, 17]'),\n",
       " Text(0.546875, 0.08333333333333333, 'gini = 0.297\\nsamples = 3989\\nvalue = [64, 47, 29, 3333, 55, 208, 9, 42, 68, 134]'),\n",
       " Text(0.59375, 0.25, 'X[656] <= 0.002\\ngini = 0.805\\nsamples = 1230\\nvalue = [92, 40, 249, 170, 10, 63, 222, 1, 374, 9]'),\n",
       " Text(0.578125, 0.08333333333333333, 'gini = 0.753\\nsamples = 568\\nvalue = [23, 38, 187, 30, 10, 40, 197, 1, 36, 6]'),\n",
       " Text(0.609375, 0.08333333333333333, 'gini = 0.672\\nsamples = 662\\nvalue = [69, 2, 62, 140, 0, 23, 25, 0, 338, 3]'),\n",
       " Text(0.6875, 0.4166666666666667, 'X[297] <= 0.022\\ngini = 0.817\\nsamples = 4002\\nvalue = [235, 28, 26, 547, 165, 1274, 249, 189, 616, 673]'),\n",
       " Text(0.65625, 0.25, 'X[486] <= 0.227\\ngini = 0.598\\nsamples = 1653\\nvalue = [64, 25, 5, 150, 52, 1015, 152, 20, 110, 60]'),\n",
       " Text(0.640625, 0.08333333333333333, 'gini = 0.473\\nsamples = 1344\\nvalue = [44, 25, 1, 144, 51, 960, 12, 20, 30, 57]'),\n",
       " Text(0.671875, 0.08333333333333333, 'gini = 0.691\\nsamples = 309\\nvalue = [20, 0, 4, 6, 1, 55, 140, 0, 80, 3]'),\n",
       " Text(0.71875, 0.25, 'X[598] <= 0.002\\ngini = 0.83\\nsamples = 2349\\nvalue = [171, 3, 21, 397, 113, 259, 97, 169, 506, 613]'),\n",
       " Text(0.703125, 0.08333333333333333, 'gini = 0.664\\nsamples = 1052\\nvalue = [13, 1, 4, 89, 112, 37, 24, 161, 44, 567]'),\n",
       " Text(0.734375, 0.08333333333333333, 'gini = 0.768\\nsamples = 1297\\nvalue = [158, 2, 17, 308, 1, 222, 73, 8, 462, 46]'),\n",
       " Text(0.875, 0.5833333333333334, 'X[234] <= 0.002\\ngini = 0.66\\nsamples = 10566\\nvalue = [93, 5792, 858, 406, 238, 263, 644, 249, 1679, 344]'),\n",
       " Text(0.8125, 0.4166666666666667, 'X[402] <= 0.002\\ngini = 0.463\\nsamples = 7859\\nvalue = [57, 5690, 395, 151, 139, 227, 384, 60, 610, 146]'),\n",
       " Text(0.78125, 0.25, 'X[149] <= 0.01\\ngini = 0.285\\nsamples = 6612\\nvalue = [3, 5567, 268, 71, 15, 80, 93, 36, 429, 50]'),\n",
       " Text(0.765625, 0.08333333333333333, 'gini = 0.228\\nsamples = 6345\\nvalue = [3, 5558, 77, 54, 15, 79, 66, 34, 409, 50]'),\n",
       " Text(0.796875, 0.08333333333333333, 'gini = 0.467\\nsamples = 267\\nvalue = [0, 9, 191, 17, 0, 1, 27, 2, 20, 0]'),\n",
       " Text(0.84375, 0.25, 'X[103] <= 0.006\\ngini = 0.868\\nsamples = 1247\\nvalue = [54, 123, 127, 80, 124, 147, 291, 24, 181, 96]'),\n",
       " Text(0.828125, 0.08333333333333333, 'gini = 0.883\\nsamples = 1075\\nvalue = [51, 123, 114, 78, 122, 146, 142, 24, 179, 96]'),\n",
       " Text(0.859375, 0.08333333333333333, 'gini = 0.243\\nsamples = 172\\nvalue = [3, 0, 13, 2, 2, 1, 149, 0, 2, 0]'),\n",
       " Text(0.9375, 0.4166666666666667, 'X[658] <= 0.002\\ngini = 0.783\\nsamples = 2707\\nvalue = [36, 102, 463, 255, 99, 36, 260, 189, 1069, 198]'),\n",
       " Text(0.90625, 0.25, 'X[345] <= 0.071\\ngini = 0.783\\nsamples = 1048\\nvalue = [17, 45, 377, 43, 43, 7, 254, 56, 82, 124]'),\n",
       " Text(0.890625, 0.08333333333333333, 'gini = 0.597\\nsamples = 567\\nvalue = [1, 42, 349, 38, 5, 4, 30, 40, 40, 18]'),\n",
       " Text(0.921875, 0.08333333333333333, 'gini = 0.715\\nsamples = 481\\nvalue = [16, 3, 28, 5, 38, 3, 224, 16, 42, 106]'),\n",
       " Text(0.96875, 0.25, 'X[515] <= 0.331\\ngini = 0.616\\nsamples = 1659\\nvalue = [19, 57, 86, 212, 56, 29, 6, 133, 987, 74]'),\n",
       " Text(0.953125, 0.08333333333333333, 'gini = 0.797\\nsamples = 644\\nvalue = [3, 53, 5, 176, 46, 12, 0, 96, 185, 68]'),\n",
       " Text(0.984375, 0.08333333333333333, 'gini = 0.366\\nsamples = 1015\\nvalue = [16, 4, 81, 36, 10, 17, 6, 37, 802, 6]')]"
      ]
     },
     "execution_count": 36,
     "metadata": {},
     "output_type": "execute_result"
    },
    {
     "data": {
      "image/png": "[encoded data removed]",
      "text/plain": [
       "<Figure size 1080x1080 with 1 Axes>"
      ]
     },
     "metadata": {
      "needs_background": "light"
     },
     "output_type": "display_data"
    }
   ],
   "source": [
    "# plot tree\n",
    "plt.figure(figsize=(15,15))  # set plot size (denoted in inches)\n",
    "tree.plot_tree(clf, fontsize=10)"
   ]
  },
  {
   "cell_type": "markdown",
   "id": "36f3305c",
   "metadata": {},
   "source": [
    "We can also use this shortened tree to predict class labels."
   ]
  },
  {
   "cell_type": "code",
   "execution_count": 37,
   "id": "7aed8ab5",
   "metadata": {},
   "outputs": [
    {
     "name": "stdout",
     "output_type": "stream",
     "text": [
      "0.6747\n"
     ]
    }
   ],
   "source": [
    "y_pred = clf.predict(x_test_flatten)\n",
    "print(accuracy_score(y_pred, y_test))"
   ]
  },
  {
   "cell_type": "markdown",
   "id": "7074af38",
   "metadata": {},
   "source": [
    "Obviously, when we limit the max depth of the three, the performance will decrease. By default, the tree expands until all leaf nodes are pure, but when we limit the max depth, this is not the case. \n",
    "\n",
    "In general, I think the Decision Tree classifier could outperform the NN in problems involving lots of categorical data. This problem deals with numerical data, and the optimized and tuned NN will outperform the Decision Tree. "
   ]
  },
  {
   "cell_type": "code",
   "execution_count": null,
   "id": "473adeb6",
   "metadata": {},
   "outputs": [],
   "source": []
  }
 ],
 "metadata": {
  "kernelspec": {
   "display_name": "Python 3 (ipykernel)",
   "language": "python",
   "name": "python3"
  },
  "language_info": {
   "codemirror_mode": {
    "name": "ipython",
    "version": 3
   },
   "file_extension": ".py",
   "mimetype": "text/x-python",
   "name": "python",
   "nbconvert_exporter": "python",
   "pygments_lexer": "ipython3",
   "version": "3.9.12"
  }
 },
 "nbformat": 4,
 "nbformat_minor": 5
}
