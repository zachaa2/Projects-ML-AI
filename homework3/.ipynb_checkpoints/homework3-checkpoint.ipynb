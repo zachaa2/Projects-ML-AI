{
 "cells": [
  {
   "cell_type": "markdown",
   "id": "c91c1231",
   "metadata": {},
   "source": [
    "# Homework 3"
   ]
  },
  {
   "cell_type": "code",
   "execution_count": 5,
   "id": "33b5679f",
   "metadata": {},
   "outputs": [],
   "source": [
    "import numpy as np\n",
    "import pandas as pd\n",
    "import tensorflow as tf\n",
    "from tensorflow import keras\n",
    "import matplotlib.pyplot as plt"
   ]
  },
  {
   "cell_type": "markdown",
   "id": "b857718a",
   "metadata": {},
   "source": [
    "The Problem I chose to solve using Neural Networks is image classification. For this problem, I will be using the MNIST dataset, a popular and large dataset containing handwritten digits. Using the handwritten digits, I will develop a model to classify the digits for a number 0-9. The dataset contains roughly 70,000 images. There's 60k images for training and 10k images for testing.\n",
    "\n",
    "[Source](http://yann.lecun.com/exdb/mnist/)\n",
    "\n"
   ]
  },
  {
   "cell_type": "markdown",
   "id": "44c53862",
   "metadata": {},
   "source": [
    "Creating the dataset object"
   ]
  },
  {
   "cell_type": "code",
   "execution_count": 10,
   "id": "5beb6ac9",
   "metadata": {},
   "outputs": [
    {
     "data": {
      "text/plain": [
       "<module 'keras.api._v2.keras.datasets.mnist' from 'C:\\\\Users\\\\Aaron\\\\anaconda3\\\\lib\\\\site-packages\\\\keras\\\\api\\\\_v2\\\\keras\\\\datasets\\\\mnist\\\\__init__.py'>"
      ]
     },
     "execution_count": 10,
     "metadata": {},
     "output_type": "execute_result"
    }
   ],
   "source": [
    "mnist = keras.datasets.mnist\n",
    "mnist"
   ]
  },
  {
   "cell_type": "markdown",
   "id": "802fd04a",
   "metadata": {},
   "source": [
    "Loading the dataset and splitting into train and test sets"
   ]
  },
  {
   "cell_type": "code",
   "execution_count": 12,
   "id": "aeda5b1d",
   "metadata": {},
   "outputs": [],
   "source": [
    "(x_train, y_train), (x_test, y_test) = mnist.load_data()"
   ]
  },
  {
   "cell_type": "code",
   "execution_count": 19,
   "id": "efc29715",
   "metadata": {},
   "outputs": [
    {
     "name": "stdout",
     "output_type": "stream",
     "text": [
      "Training Set Shape: (60000, 28, 28)\n",
      "Testing Set Shape: (10000, 28, 28)\n"
     ]
    }
   ],
   "source": [
    "print(\"Training Set Shape:\", x_train.shape)\n",
    "print(\"Testing Set Shape:\", x_test.shape)"
   ]
  },
  {
   "cell_type": "markdown",
   "id": "d53747f3",
   "metadata": {},
   "source": [
    "# Task 1: Researching Tensorflow Docs and other Resources\n",
    "\n",
    "To implement a neural network to solve this problem, I decided to use the tensorflow/keras packages. BElow are some of the resources I used to learn more about the packages and about Neural Networks in general. "
   ]
  },
  {
   "cell_type": "markdown",
   "id": "f9738922",
   "metadata": {},
   "source": [
    "NN Layers: \n",
    "\n",
    "[Softmax Activation Function](https://www.tensorflow.org/api_docs/python/tf/keras/layers/Softmax)\n",
    "\n",
    "[Dense Layer](https://www.tensorflow.org/api_docs/python/tf/keras/layers/Dense)\n",
    "\n",
    "[Flatten Layer](https://www.tensorflow.org/api_docs/python/tf/keras/layers/Flatten)\n",
    "\n",
    "Model:\n",
    "\n",
    "[Sequential](https://www.tensorflow.org/api_docs/python/tf/keras/Sequential)\n",
    "\n",
    "The sequential model just groups a stack of layers in a linear fashion. \n",
    "\n",
    "[keras.Model](https://keras.io/api/models/model/)\n",
    "\n",
    "You can create a custom class that inherits from this class, which will allow you to have greater control over the model.\n",
    "\n",
    "Some more useful TensorFlow docs pages:\n",
    "\n",
    "[AutoDiff](https://www.tensorflow.org/guide/autodiff#gradients_with_respect_to_a_model)\n",
    "\n",
    "[GradientTape](https://www.tensorflow.org/api_docs/python/tf/GradientTape#used-in-the-notebooks)\n",
    "\n",
    "[Customizing Fit Function](https://www.tensorflow.org/guide/keras/customizing_what_happens_in_fit)"
   ]
  },
  {
   "cell_type": "markdown",
   "id": "0544c63c",
   "metadata": {},
   "source": [
    "# Task 2: EDA and Model Implementation"
   ]
  },
  {
   "cell_type": "markdown",
   "id": "4cee7fe8",
   "metadata": {},
   "source": [
    "We will first explore the data and visualize it, then build and compile the model. "
   ]
  },
  {
   "cell_type": "markdown",
   "id": "06e9e1ca",
   "metadata": {},
   "source": [
    "### EDA"
   ]
  },
  {
   "cell_type": "markdown",
   "id": "43649f9d",
   "metadata": {},
   "source": [
    "Let's try and show what some of the images in the training set look like"
   ]
  },
  {
   "cell_type": "code",
   "execution_count": 24,
   "id": "f567147b",
   "metadata": {},
   "outputs": [
    {
     "data": {
      "image/png": "[encoded data removed]",
      "text/plain": [
       "<Figure size 432x288 with 6 Axes>"
      ]
     },
     "metadata": {
      "needs_background": "light"
     },
     "output_type": "display_data"
    }
   ],
   "source": [
    "for i in range(6):\n",
    "    plt.subplot(2, 3, i+1)\n",
    "    plt.imshow(x_train[i], cmap='gray')\n",
    "plt.show()"
   ]
  },
  {
   "cell_type": "markdown",
   "id": "476cc52d",
   "metadata": {},
   "source": [
    "Let's see the unique values in the training data"
   ]
  },
  {
   "cell_type": "code",
   "execution_count": 25,
   "id": "71d20418",
   "metadata": {},
   "outputs": [
    {
     "data": {
      "text/plain": [
       "array([  0,   1,   2,   3,   4,   5,   6,   7,   8,   9,  10,  11,  12,\n",
       "        13,  14,  15,  16,  17,  18,  19,  20,  21,  22,  23,  24,  25,\n",
       "        26,  27,  28,  29,  30,  31,  32,  33,  34,  35,  36,  37,  38,\n",
       "        39,  40,  41,  42,  43,  44,  45,  46,  47,  48,  49,  50,  51,\n",
       "        52,  53,  54,  55,  56,  57,  58,  59,  60,  61,  62,  63,  64,\n",
       "        65,  66,  67,  68,  69,  70,  71,  72,  73,  74,  75,  76,  77,\n",
       "        78,  79,  80,  81,  82,  83,  84,  85,  86,  87,  88,  89,  90,\n",
       "        91,  92,  93,  94,  95,  96,  97,  98,  99, 100, 101, 102, 103,\n",
       "       104, 105, 106, 107, 108, 109, 110, 111, 112, 113, 114, 115, 116,\n",
       "       117, 118, 119, 120, 121, 122, 123, 124, 125, 126, 127, 128, 129,\n",
       "       130, 131, 132, 133, 134, 135, 136, 137, 138, 139, 140, 141, 142,\n",
       "       143, 144, 145, 146, 147, 148, 149, 150, 151, 152, 153, 154, 155,\n",
       "       156, 157, 158, 159, 160, 161, 162, 163, 164, 165, 166, 167, 168,\n",
       "       169, 170, 171, 172, 173, 174, 175, 176, 177, 178, 179, 180, 181,\n",
       "       182, 183, 184, 185, 186, 187, 188, 189, 190, 191, 192, 193, 194,\n",
       "       195, 196, 197, 198, 199, 200, 201, 202, 203, 204, 205, 206, 207,\n",
       "       208, 209, 210, 211, 212, 213, 214, 215, 216, 217, 218, 219, 220,\n",
       "       221, 222, 223, 224, 225, 226, 227, 228, 229, 230, 231, 232, 233,\n",
       "       234, 235, 236, 237, 238, 239, 240, 241, 242, 243, 244, 245, 246,\n",
       "       247, 248, 249, 250, 251, 252, 253, 254, 255], dtype=uint8)"
      ]
     },
     "execution_count": 25,
     "metadata": {},
     "output_type": "execute_result"
    }
   ],
   "source": [
    "np.unique(x_train)"
   ]
  },
  {
   "cell_type": "markdown",
   "id": "dcfdee76",
   "metadata": {},
   "source": [
    "The unique values are all integers ranging from 0-255. This makes sense, as images are typically represented by color values ranging from 0-255. \n",
    "\n",
    "What about the target labels?\n"
   ]
  },
  {
   "cell_type": "code",
   "execution_count": 26,
   "id": "7efd903f",
   "metadata": {},
   "outputs": [
    {
     "data": {
      "text/plain": [
       "array([0, 1, 2, 3, 4, 5, 6, 7, 8, 9], dtype=uint8)"
      ]
     },
     "execution_count": 26,
     "metadata": {},
     "output_type": "execute_result"
    }
   ],
   "source": [
    "np.unique(y_train)"
   ]
  },
  {
   "cell_type": "markdown",
   "id": "6fe96748",
   "metadata": {},
   "source": [
    "The target labels for our problem are integers from 0-9. This is what we are trying to predict with our model. "
   ]
  },
  {
   "cell_type": "markdown",
   "id": "13e00ff1",
   "metadata": {},
   "source": [
    "We can also try and plot the target labels as a histogram to see the distribution over the training set"
   ]
  },
  {
   "cell_type": "code",
   "execution_count": 37,
   "id": "d7d85ce1",
   "metadata": {},
   "outputs": [
    {
     "data": {
      "text/plain": [
       "(array([5923., 6742., 5958., 6131., 5842., 5421., 5918., 6265., 5851.,\n",
       "        5949.]),\n",
       " array([0. , 0.9, 1.8, 2.7, 3.6, 4.5, 5.4, 6.3, 7.2, 8.1, 9. ]),\n",
       " <BarContainer object of 10 artists>)"
      ]
     },
     "execution_count": 37,
     "metadata": {},
     "output_type": "execute_result"
    },
    {
     "data": {
      "image/png": "[encoded data removed]",
      "text/plain": [
       "<Figure size 432x288 with 1 Axes>"
      ]
     },
     "metadata": {
      "needs_background": "light"
     },
     "output_type": "display_data"
    }
   ],
   "source": [
    "plt.hist(y_train, bins=10)"
   ]
  },
  {
   "cell_type": "markdown",
   "id": "4f2f56b2",
   "metadata": {},
   "source": [
    "There appears to be a roughly uniform distribution over all possible target labels in the training set. This is good, as it means the model will have roughly the same aound of data to learn from for all target labels. "
   ]
  },
  {
   "cell_type": "markdown",
   "id": "3baf1a24",
   "metadata": {},
   "source": [
    "Before we build the model, let's normalize the data."
   ]
  },
  {
   "cell_type": "code",
   "execution_count": 95,
   "id": "ef15623e",
   "metadata": {},
   "outputs": [],
   "source": [
    "x_train = x_train / 255\n",
    "x_test = x_test / 255"
   ]
  },
  {
   "cell_type": "markdown",
   "id": "db86c4f2",
   "metadata": {},
   "source": [
    "### Creating the Sequential Model Structure\n",
    "\n",
    "We can create an instance of the Sequential model class which will group network layers in a stack. The first layer will be to flatten the data, which will reduce the dimensionality of the data. Optionally, you could flatten the data using the reshape operation. \n",
    "\n",
    "I will add Dense layers, which are the standard densly connected neural network layer. "
   ]
  },
  {
   "cell_type": "markdown",
   "id": "e4f8b865",
   "metadata": {},
   "source": [
    "Below is a custom Classback class. This is passed into the model when fitting the model to the data. This will aloow us to view and/or save information while the training step is in process. By overriding the on_epoch_end, we can view inforation about the model when an epoch finishes. "
   ]
  },
  {
   "cell_type": "code",
   "execution_count": 107,
   "id": "02f8f0be",
   "metadata": {},
   "outputs": [],
   "source": [
    "class myCallback(tf.keras.callbacks.Callback):\n",
    "    def on_epoch_end(self, epoch, logs={}):\n",
    "        print(\"\\nEpoch:\", epoch, \"\\nWeights and Bias: \\n\", model.trainable_variables)\n",
    "    \n",
    "    def set_model(self, model):\n",
    "        self.model = model\n",
    "\n",
    "my_callback = myCallback()"
   ]
  },
  {
   "cell_type": "code",
   "execution_count": 108,
   "id": "c10e4e51",
   "metadata": {},
   "outputs": [
    {
     "name": "stdout",
     "output_type": "stream",
     "text": [
      "Model: \"sequential_10\"\n",
      "_________________________________________________________________\n",
      " Layer (type)                Output Shape              Param #   \n",
      "=================================================================\n",
      " flatten_16 (Flatten)        (None, 784)               0         \n",
      "                                                                 \n",
      " dense_43 (Dense)            (None, 128)               100480    \n",
      "                                                                 \n",
      " dense_44 (Dense)            (None, 128)               16512     \n",
      "                                                                 \n",
      " dense_45 (Dense)            (None, 10)                1290      \n",
      "                                                                 \n",
      "=================================================================\n",
      "Total params: 118,282\n",
      "Trainable params: 118,282\n",
      "Non-trainable params: 0\n",
      "_________________________________________________________________\n"
     ]
    }
   ],
   "source": [
    "model = keras.Sequential([\n",
    "    \n",
    "    keras.layers.Flatten(input_shape=(28,28)),\n",
    "    keras.layers.Dense(128, activation='relu'),\n",
    "    keras.layers.Dense(128, activation='relu'),\n",
    "    keras.layers.Dense(10)\n",
    "    \n",
    "])\n",
    "model.summary()     "
   ]
  },
  {
   "cell_type": "code",
   "execution_count": 109,
   "id": "fbf99093",
   "metadata": {},
   "outputs": [],
   "source": [
    "loss_function = keras.losses.SparseCategoricalCrossentropy(from_logits=True)\n",
    "optim = keras.optimizers.Adam(learning_rate=0.001)\n",
    "\n",
    "model.compile(optimizer=optim, loss=loss_function, metrics=[\"accuracy\"])"
   ]
  },
  {
   "cell_type": "code",
   "execution_count": 110,
   "id": "60638e53",
   "metadata": {},
   "outputs": [
    {
     "name": "stdout",
     "output_type": "stream",
     "text": [
      "Epoch 1/3\n",
      "1824/1875 [============================>.] - ETA: 0s - loss: 0.2337 - accuracy: 0.9309\n",
      "Epoch: 0 \n",
      "Weights and Bias: \n",
      " [<tf.Variable 'dense_43/kernel:0' shape=(784, 128) dtype=float32, numpy=\n",
      "array([[-0.02548407,  0.04009113, -0.03103066, ..., -0.0773676 ,\n",
      "         0.07191829, -0.06044381],\n",
      "       [ 0.03136513,  0.00778463,  0.05199962, ..., -0.06420716,\n",
      "         0.04418596, -0.03335605],\n",
      "       [-0.03045221, -0.0302631 ,  0.04180745, ...,  0.02006146,\n",
      "         0.08062045, -0.04998732],\n",
      "       ...,\n",
      "       [ 0.0117726 ,  0.01141917, -0.05588916, ...,  0.06066183,\n",
      "        -0.00269359,  0.02520494],\n",
      "       [-0.07614417, -0.04000659, -0.04746464, ..., -0.071693  ,\n",
      "         0.03751628, -0.00770976],\n",
      "       [-0.06771292,  0.06160807, -0.06314001, ..., -0.06745139,\n",
      "        -0.00948375, -0.05200599]], dtype=float32)>, <tf.Variable 'dense_43/bias:0' shape=(128,) dtype=float32, numpy=\n",
      "array([ 5.20318598e-02,  3.17758806e-02,  3.63668650e-02, -2.88231894e-02,\n",
      "       -4.31845943e-03, -2.12036129e-02,  2.32775379e-02,  3.67756560e-02,\n",
      "       -3.52327563e-02,  3.21948864e-02,  7.29897767e-02, -6.11294135e-02,\n",
      "       -6.38017878e-02,  1.85605437e-02,  2.51505822e-02,  2.80464254e-02,\n",
      "        4.87568118e-02, -1.07748788e-02,  3.51920687e-02,  1.20662060e-02,\n",
      "       -1.93667586e-03,  4.48466763e-02,  3.71881165e-02, -1.33486409e-02,\n",
      "       -1.48565946e-02,  7.06392601e-02,  3.70270722e-02,  7.27767199e-02,\n",
      "        1.04700485e-02,  4.09191698e-02,  1.04335360e-02,  2.47140918e-02,\n",
      "        5.53018879e-03,  7.32423887e-02,  1.42143602e-02, -2.36484613e-02,\n",
      "       -2.45742928e-02,  3.02107986e-02, -2.10288465e-02,  2.31068041e-02,\n",
      "        8.69562663e-03,  3.53932604e-02,  1.92918759e-02, -1.17676333e-02,\n",
      "       -2.24954262e-03,  3.65692899e-02,  4.88538481e-02, -4.82227728e-02,\n",
      "        1.85699202e-02, -2.33545788e-02,  5.21921247e-05, -1.67657807e-02,\n",
      "        3.90936099e-02,  3.73984911e-02, -1.22284461e-02,  5.73037453e-02,\n",
      "        3.05382069e-02,  3.27070914e-02, -1.42389191e-02,  1.66004971e-02,\n",
      "       -1.00263860e-02,  8.01847801e-02,  6.87067062e-02,  1.92353651e-02,\n",
      "       -2.06777044e-02,  7.74517953e-02,  6.49853796e-02,  1.35205528e-02,\n",
      "       -3.99532542e-03, -3.13991271e-02,  3.02931927e-02,  4.85251062e-02,\n",
      "        4.40264232e-02, -3.14759538e-02, -1.39977746e-02,  2.72845160e-02,\n",
      "        2.34108623e-02, -7.69611541e-03,  6.50181323e-02,  4.63274382e-02,\n",
      "        3.36512849e-02,  5.10579906e-02,  9.31174532e-02,  3.57115492e-02,\n",
      "        2.16216594e-02,  2.96960529e-02,  3.45225669e-02,  2.45470321e-03,\n",
      "        6.07696436e-02,  7.63095245e-02,  4.05331030e-02,  6.97895279e-03,\n",
      "       -2.81614028e-02,  2.98192762e-02,  1.37630384e-02, -7.28256106e-02,\n",
      "       -3.87274027e-02,  2.03206926e-03,  1.51596433e-02, -2.47348137e-02,\n",
      "       -3.87743721e-03, -2.21298225e-02, -1.52091645e-02, -2.68761590e-02,\n",
      "       -2.96982448e-03, -6.50064612e-04,  6.26406074e-02,  1.61060467e-02,\n",
      "        1.54057071e-02, -2.01348308e-02,  2.40868628e-02,  2.73270346e-03,\n",
      "        2.01355014e-02,  3.72075289e-02,  2.64139213e-02,  1.31368181e-02,\n",
      "        3.30316462e-02,  2.15769075e-02, -5.32381050e-03,  6.04573041e-02,\n",
      "        1.15580028e-02,  2.19803266e-02, -2.39270441e-02,  9.75318719e-03,\n",
      "        2.25588270e-02, -2.46833805e-02,  9.13482159e-02, -2.33185310e-02],\n",
      "      dtype=float32)>, <tf.Variable 'dense_44/kernel:0' shape=(128, 128) dtype=float32, numpy=\n",
      "array([[-0.10060086,  0.07353991, -0.10247156, ...,  0.04116885,\n",
      "         0.01940802,  0.03438565],\n",
      "       [ 0.22331771,  0.11995129, -0.02205006, ..., -0.0574272 ,\n",
      "         0.07518995,  0.1833059 ],\n",
      "       [-0.01907145, -0.09882938, -0.25568858, ...,  0.13485777,\n",
      "         0.21315618,  0.07935023],\n",
      "       ...,\n",
      "       [-0.09918353,  0.09535319, -0.03103056, ...,  0.01810928,\n",
      "         0.11796173, -0.0264229 ],\n",
      "       [-0.08321741, -0.13458772,  0.12356167, ..., -0.00211896,\n",
      "         0.06739218, -0.0163081 ],\n",
      "       [ 0.07913312, -0.11926854,  0.05472081, ..., -0.15344417,\n",
      "        -0.05787198, -0.07625462]], dtype=float32)>, <tf.Variable 'dense_44/bias:0' shape=(128,) dtype=float32, numpy=\n",
      "array([ 3.25173587e-02,  4.43547405e-02,  5.15285842e-02, -2.29791421e-02,\n",
      "        5.05872965e-02,  2.41468474e-02,  2.55181231e-02,  3.32554057e-02,\n",
      "        2.20055934e-02,  6.73265457e-02,  5.14979698e-02, -1.77210197e-02,\n",
      "        1.19084008e-02,  3.96602713e-02, -1.96676776e-02,  1.53290830e-03,\n",
      "       -1.71942506e-02,  4.21026562e-05,  5.42510413e-02, -2.74867583e-02,\n",
      "       -1.48460371e-02, -1.62697881e-02,  3.33319120e-02,  2.01729182e-02,\n",
      "        1.95006002e-02, -3.81312370e-02,  1.48217976e-02,  5.73866535e-03,\n",
      "        1.15314629e-02,  1.03061949e-03,  5.40652350e-02, -1.86325945e-02,\n",
      "        5.69929332e-02, -1.19278263e-02,  1.57844853e-02,  3.68301459e-02,\n",
      "        8.65312666e-03, -1.96246114e-02,  6.52287304e-02, -8.46364908e-03,\n",
      "        1.02819148e-02, -1.46849535e-03, -5.36752027e-03,  2.71519814e-02,\n",
      "       -1.44766318e-02,  7.62455212e-03,  4.25595418e-02, -2.31828541e-03,\n",
      "        3.52957994e-02,  3.16274576e-02,  4.45889570e-02,  3.94803993e-02,\n",
      "        7.71619845e-03,  2.39801239e-02, -3.21576372e-02,  1.84865519e-02,\n",
      "        3.68626192e-02, -1.02199735e-02, -2.61295047e-02,  4.28629331e-02,\n",
      "       -2.41266321e-02,  5.44480048e-02,  3.86016592e-02, -1.85694788e-02,\n",
      "       -1.68000981e-02, -6.85882842e-05,  2.15642266e-02,  2.72370819e-02,\n",
      "        8.54657148e-04,  2.02659238e-02,  3.32115442e-02, -1.37731694e-02,\n",
      "       -2.25400142e-02,  3.05950437e-02,  5.10172360e-03,  4.52229343e-02,\n",
      "        5.87226860e-02,  4.83205495e-03, -1.26347123e-02, -2.66027525e-02,\n",
      "        8.51265565e-02,  1.73467379e-02,  2.15491019e-02, -1.64755806e-02,\n",
      "        4.16416163e-03,  6.24056943e-02,  3.87280844e-02, -3.64797004e-02,\n",
      "        3.30165364e-02, -1.99567117e-02,  2.99245585e-03,  1.07304212e-02,\n",
      "        8.50476045e-03,  3.23139969e-03,  1.87067892e-02,  5.30439205e-02,\n",
      "        5.16020246e-02, -7.44981982e-04, -2.36877520e-02,  1.13985036e-02,\n",
      "        5.84957451e-02,  4.28044535e-02,  3.06166857e-02, -1.30877104e-02,\n",
      "        2.13943459e-02,  7.29041873e-03,  6.30785227e-02,  1.17812296e-02,\n",
      "        3.25208530e-02,  3.88789587e-02,  1.09296348e-02,  1.69633031e-02,\n",
      "       -7.73374364e-03,  4.63861488e-02, -2.00655889e-02,  3.02886665e-02,\n",
      "        2.76244842e-02,  1.69166792e-02, -5.36917336e-02,  2.95033138e-02,\n",
      "        3.91363539e-02, -1.14031481e-02,  2.88609299e-03, -7.66406860e-03,\n",
      "        1.40140858e-02,  4.71450351e-02,  1.93834398e-02, -6.42486708e-03],\n",
      "      dtype=float32)>, <tf.Variable 'dense_45/kernel:0' shape=(128, 10) dtype=float32, numpy=\n",
      "array([[ 0.14508894, -0.18935052,  0.15066467, ...,  0.10897043,\n",
      "        -0.04800961,  0.0076373 ],\n",
      "       [-0.17400534,  0.09996801, -0.14787833, ..., -0.27192095,\n",
      "         0.14519398, -0.08617731],\n",
      "       [-0.16751316, -0.01602179, -0.02425344, ...,  0.05314054,\n",
      "        -0.0591625 ,  0.1215133 ],\n",
      "       ...,\n",
      "       [-0.15498997, -0.04068528, -0.12721995, ...,  0.00260541,\n",
      "         0.06279848,  0.1919106 ],\n",
      "       [-0.02408986, -0.13427971,  0.03650811, ..., -0.05549896,\n",
      "        -0.16482365,  0.24401014],\n",
      "       [ 0.15971635, -0.14120258,  0.20785627, ..., -0.02240813,\n",
      "        -0.18560472,  0.12659496]], dtype=float32)>, <tf.Variable 'dense_45/bias:0' shape=(10,) dtype=float32, numpy=\n",
      "array([-0.04582801,  0.0146467 ,  0.00134572, -0.04955739,  0.02017558,\n",
      "        0.02480453,  0.00379789,  0.01088574,  0.00426437,  0.00364262],\n",
      "      dtype=float32)>]\n",
      "1875/1875 [==============================] - 2s 810us/step - loss: 0.2301 - accuracy: 0.9318\n",
      "Epoch 2/3\n",
      "1818/1875 [============================>.] - ETA: 0s - loss: 0.0986 - accuracy: 0.9693\n",
      "Epoch: 1 \n",
      "Weights and Bias: \n",
      " [<tf.Variable 'dense_43/kernel:0' shape=(784, 128) dtype=float32, numpy=\n",
      "array([[-0.02548407,  0.04009113, -0.03103066, ..., -0.0773676 ,\n",
      "         0.07191829, -0.06044381],\n",
      "       [ 0.03136513,  0.00778463,  0.05199962, ..., -0.06420716,\n",
      "         0.04418596, -0.03335605],\n",
      "       [-0.03045221, -0.0302631 ,  0.04180745, ...,  0.02006146,\n",
      "         0.08062045, -0.04998732],\n",
      "       ...,\n",
      "       [ 0.0117726 ,  0.01141917, -0.05588916, ...,  0.06066183,\n",
      "        -0.00269359,  0.02520494],\n",
      "       [-0.07614417, -0.04000659, -0.04746464, ..., -0.071693  ,\n",
      "         0.03751628, -0.00770976],\n",
      "       [-0.06771292,  0.06160807, -0.06314001, ..., -0.06745139,\n",
      "        -0.00948375, -0.05200599]], dtype=float32)>, <tf.Variable 'dense_43/bias:0' shape=(128,) dtype=float32, numpy=\n",
      "array([ 0.05020462,  0.00102547,  0.04249543, -0.05152272, -0.00397982,\n",
      "       -0.035262  ,  0.06770859,  0.03975118, -0.04014527,  0.0480896 ,\n",
      "        0.07662076, -0.07931796, -0.08285698,  0.00560431,  0.02490841,\n",
      "        0.02363511,  0.07086413, -0.04154187,  0.04042897,  0.00333543,\n",
      "        0.00396994,  0.03945393,  0.05202835, -0.02259076, -0.03814137,\n",
      "        0.06447233,  0.03910389,  0.07003652, -0.01020123,  0.03915732,\n",
      "        0.01114745,  0.0338683 ,  0.00861942,  0.10157342,  0.00901509,\n",
      "       -0.0297146 , -0.01548941,  0.03837252, -0.01331386,  0.02145521,\n",
      "        0.00494494,  0.05454378, -0.00647267, -0.03998572,  0.003866  ,\n",
      "        0.02741655,  0.06626081, -0.05609245,  0.01720944, -0.02424427,\n",
      "        0.0035806 , -0.03808977,  0.05286079,  0.05750633, -0.03610362,\n",
      "        0.05688823,  0.00862863,  0.00802769, -0.03310432,  0.01677982,\n",
      "       -0.02290409,  0.10148337,  0.07519286,  0.01716016, -0.03250226,\n",
      "        0.09546062,  0.07229233,  0.01476457, -0.0169796 , -0.0579397 ,\n",
      "        0.03970909,  0.05394606,  0.06110045, -0.03735358, -0.02871923,\n",
      "        0.0349911 ,  0.02297586, -0.0076967 ,  0.08665548,  0.05089454,\n",
      "        0.03364979,  0.04062072,  0.11954644,  0.02609851,  0.03238635,\n",
      "        0.02619739,  0.04912161,  0.00120199,  0.06694693,  0.10187966,\n",
      "        0.07736576,  0.01404642, -0.01217637,  0.04137675, -0.01876506,\n",
      "       -0.08825951, -0.05925813, -0.00436116, -0.00808349, -0.02636937,\n",
      "       -0.04054219, -0.01657763, -0.03403988, -0.05346118, -0.00591274,\n",
      "       -0.00431516,  0.08938534,  0.03069296,  0.0293135 , -0.01937775,\n",
      "        0.01919108,  0.01268565,  0.02227274,  0.03800171,  0.03386029,\n",
      "        0.02103448,  0.03467029,  0.01511721, -0.01821047,  0.06860603,\n",
      "       -0.01919772,  0.03168285, -0.02867293, -0.00284997,  0.02284013,\n",
      "       -0.02481938,  0.11195347, -0.02071991], dtype=float32)>, <tf.Variable 'dense_44/kernel:0' shape=(128, 128) dtype=float32, numpy=\n",
      "array([[-0.12690963,  0.06573167, -0.12318052, ...,  0.0147285 ,\n",
      "        -0.00134186,  0.01494525],\n",
      "       [ 0.23169234,  0.1600742 , -0.04077745, ..., -0.058063  ,\n",
      "         0.11562638,  0.15625452],\n",
      "       [-0.00388238, -0.10286282, -0.31017607, ...,  0.141234  ,\n",
      "         0.26055157,  0.07911017],\n",
      "       ...,\n",
      "       [-0.08576122,  0.06566063, -0.02790502, ...,  0.01896481,\n",
      "         0.11683229, -0.0120775 ],\n",
      "       [-0.09643161, -0.1438955 ,  0.15903214, ...,  0.01173761,\n",
      "         0.06659725, -0.02112074],\n",
      "       [ 0.07574364, -0.09958266, -0.00810662, ..., -0.15252489,\n",
      "        -0.11743703, -0.09928078]], dtype=float32)>, <tf.Variable 'dense_44/bias:0' shape=(128,) dtype=float32, numpy=\n",
      "array([ 0.04404512,  0.07996376,  0.04985902, -0.04855979,  0.0906307 ,\n",
      "        0.04864867,  0.04155023,  0.06815113,  0.04852988,  0.07534504,\n",
      "        0.07194912, -0.02233616,  0.0160918 ,  0.03280261, -0.03028139,\n",
      "        0.01346037, -0.00486786,  0.01012203,  0.0403926 , -0.02238011,\n",
      "       -0.0372266 , -0.00354377,  0.02603994,  0.03618482,  0.04147799,\n",
      "       -0.05529929,  0.00298234, -0.01292904,  0.02864185, -0.03151641,\n",
      "        0.05889593,  0.02221989,  0.05889588, -0.00349744,  0.01058735,\n",
      "        0.0651388 ,  0.05433844, -0.02930513,  0.10262665, -0.01531213,\n",
      "        0.04283943, -0.03208848, -0.02872888,  0.06762978, -0.00687029,\n",
      "        0.0163749 ,  0.04608499, -0.01607035,  0.05390346,  0.03039904,\n",
      "        0.07148499,  0.03449403,  0.00839172,  0.01971163, -0.02320755,\n",
      "       -0.01268518,  0.07104603, -0.03441253, -0.05405451,  0.03593056,\n",
      "       -0.01814821,  0.04254489,  0.04821089, -0.06119449, -0.02840831,\n",
      "        0.0110451 , -0.00404625,  0.01858088, -0.01514713, -0.01421322,\n",
      "        0.06735847, -0.03690255, -0.04238142,  0.02480946,  0.00510963,\n",
      "        0.03711556,  0.06229202,  0.00080859, -0.00296191, -0.02036641,\n",
      "        0.09868331,  0.01483472,  0.02720996, -0.04618382,  0.01064323,\n",
      "        0.09072822,  0.04044556, -0.01517   ,  0.07197224,  0.0136527 ,\n",
      "        0.01543437,  0.04086384, -0.00445238,  0.01909345,  0.02552668,\n",
      "        0.05250114,  0.04580838,  0.00471401, -0.04468401, -0.00418418,\n",
      "        0.04893544,  0.03333934,  0.0529624 ,  0.02345386,  0.01402474,\n",
      "        0.03103482,  0.08286428,  0.03210793,  0.03080669,  0.02182607,\n",
      "        0.01457925,  0.01289609,  0.00561494,  0.04126129, -0.04303727,\n",
      "        0.0367425 ,  0.05010668,  0.01928522, -0.06258852,  0.04171724,\n",
      "        0.01203489, -0.01850709,  0.01352247, -0.01330725,  0.05638035,\n",
      "        0.06875469,  0.03124935, -0.03055937], dtype=float32)>, <tf.Variable 'dense_45/kernel:0' shape=(128, 10) dtype=float32, numpy=\n",
      "array([[ 1.39092252e-01, -1.66330993e-01,  1.70963243e-01, ...,\n",
      "         1.09261006e-01, -3.74909602e-02,  3.86760128e-03],\n",
      "       [-1.88357726e-01,  9.36924443e-02, -1.49851203e-01, ...,\n",
      "        -2.72599012e-01,  1.47614941e-01, -8.62154737e-02],\n",
      "       [-1.86192036e-01, -4.24107857e-05, -3.41728814e-02, ...,\n",
      "         5.03161326e-02, -6.85213879e-02,  1.27073124e-01],\n",
      "       ...,\n",
      "       [-1.94386154e-01, -6.22353442e-02, -1.20975494e-01, ...,\n",
      "        -1.28200074e-04,  6.36806637e-02,  1.96185485e-01],\n",
      "       [-3.16559374e-02, -1.53049201e-01,  4.93316725e-02, ...,\n",
      "        -7.24394619e-02, -1.70438364e-01,  2.43643954e-01],\n",
      "       [ 1.53340980e-01, -1.67952776e-01,  2.08256453e-01, ...,\n",
      "        -1.51682030e-02, -1.80587903e-01,  1.27600104e-01]], dtype=float32)>, <tf.Variable 'dense_45/bias:0' shape=(10,) dtype=float32, numpy=\n",
      "array([-0.07436056,  0.00257507, -0.00218021, -0.06355825,  0.02252008,\n",
      "        0.02175172,  0.00756348, -0.00607833,  0.04898374,  0.01199317],\n",
      "      dtype=float32)>]\n",
      "1875/1875 [==============================] - 2s 813us/step - loss: 0.0987 - accuracy: 0.9694\n"
     ]
    },
    {
     "name": "stdout",
     "output_type": "stream",
     "text": [
      "Epoch 3/3\n",
      "1828/1875 [============================>.] - ETA: 0s - loss: 0.0687 - accuracy: 0.9781\n",
      "Epoch: 2 \n",
      "Weights and Bias: \n",
      " [<tf.Variable 'dense_43/kernel:0' shape=(784, 128) dtype=float32, numpy=\n",
      "array([[-0.02548407,  0.04009113, -0.03103066, ..., -0.0773676 ,\n",
      "         0.07191829, -0.06044381],\n",
      "       [ 0.03136513,  0.00778463,  0.05199962, ..., -0.06420716,\n",
      "         0.04418596, -0.03335605],\n",
      "       [-0.03045221, -0.0302631 ,  0.04180745, ...,  0.02006146,\n",
      "         0.08062045, -0.04998732],\n",
      "       ...,\n",
      "       [ 0.0117726 ,  0.01141917, -0.05588916, ...,  0.06066183,\n",
      "        -0.00269359,  0.02520494],\n",
      "       [-0.07614417, -0.04000659, -0.04746464, ..., -0.071693  ,\n",
      "         0.03751628, -0.00770976],\n",
      "       [-0.06771292,  0.06160807, -0.06314001, ..., -0.06745139,\n",
      "        -0.00948375, -0.05200599]], dtype=float32)>, <tf.Variable 'dense_43/bias:0' shape=(128,) dtype=float32, numpy=\n",
      "array([ 5.11145815e-02, -6.46417169e-03,  5.79231977e-02, -5.28023504e-02,\n",
      "       -1.39647834e-02, -3.77804711e-02,  9.46114808e-02,  7.05330521e-02,\n",
      "       -2.06888225e-02,  7.32825324e-02,  1.04587279e-01, -6.62662312e-02,\n",
      "       -7.85280466e-02, -2.20281817e-02,  1.75572056e-02,  1.70074385e-02,\n",
      "        6.99636936e-02, -5.83444163e-02,  4.09306921e-02,  3.24101634e-02,\n",
      "        1.88934393e-02,  2.40251869e-02,  5.81097044e-02, -1.31911729e-02,\n",
      "       -4.15646173e-02,  6.44815639e-02,  3.90280746e-02,  6.70697764e-02,\n",
      "       -1.39817866e-02,  2.74932962e-02,  9.03640036e-03,  1.79128479e-02,\n",
      "        1.84250101e-02,  1.10631354e-01,  1.30533027e-02, -3.14367563e-02,\n",
      "       -8.69502220e-03,  3.59557047e-02, -1.45402113e-02, -1.05460910e-02,\n",
      "       -1.30263651e-02,  5.90461977e-02, -2.64518484e-02, -4.47877236e-02,\n",
      "       -1.02402801e-02,  3.14098373e-02,  7.77087584e-02, -4.34762463e-02,\n",
      "        6.74656406e-03, -1.02959583e-02,  2.88895331e-03, -5.42217419e-02,\n",
      "        5.31979725e-02,  6.80182576e-02, -3.51180062e-02,  5.20125404e-02,\n",
      "        6.45773206e-03,  2.60263700e-02, -3.71434055e-02,  2.24073902e-02,\n",
      "       -4.51612584e-02,  1.00788534e-01,  6.63409606e-02,  2.98894066e-02,\n",
      "       -4.55981046e-02,  1.26288623e-01,  1.06768385e-01,  3.70995328e-02,\n",
      "       -7.52528012e-03, -9.16226059e-02,  5.92661463e-02,  6.69544786e-02,\n",
      "        8.58060643e-02, -4.36753370e-02, -4.36743647e-02,  3.87634896e-02,\n",
      "        1.26755694e-02,  8.40855017e-03,  9.69378054e-02,  4.63359915e-02,\n",
      "        2.74014790e-02,  3.01632266e-02,  1.50684759e-01,  2.25338545e-02,\n",
      "        4.13493402e-02,  4.94999439e-02,  4.47397381e-02,  5.15982788e-03,\n",
      "        6.24860115e-02,  1.13022581e-01,  9.81009603e-02,  1.17533345e-05,\n",
      "       -7.69679621e-03,  4.02464159e-02, -2.86716502e-02, -1.19885512e-01,\n",
      "       -5.03515154e-02, -2.84326375e-02, -9.76864435e-03, -2.84646302e-02,\n",
      "       -5.62400259e-02, -1.22568198e-02, -3.92927639e-02, -6.88716099e-02,\n",
      "       -1.22385763e-03, -2.95471959e-03,  1.04410328e-01,  4.17562984e-02,\n",
      "        3.17223482e-02,  2.62234546e-02,  1.99329276e-02,  2.96289995e-02,\n",
      "        3.38186622e-02,  4.11060378e-02,  2.43537296e-02,  1.06854029e-02,\n",
      "        3.72466594e-02, -7.74790533e-03, -2.04177760e-02,  8.20777491e-02,\n",
      "       -5.25019784e-03,  1.81573778e-02, -2.83419415e-02, -2.16859058e-02,\n",
      "        2.39493512e-02, -1.41459126e-02,  1.15641020e-01, -3.68460082e-02],\n",
      "      dtype=float32)>, <tf.Variable 'dense_44/kernel:0' shape=(128, 128) dtype=float32, numpy=\n",
      "array([[-1.23120405e-01,  6.66133761e-02, -1.03866547e-01, ...,\n",
      "         2.19548941e-02,  8.34341190e-05,  3.56208049e-02],\n",
      "       [ 2.08673790e-01,  1.77245095e-01, -4.19624187e-02, ...,\n",
      "        -9.41182226e-02,  9.33441445e-02,  1.30701140e-01],\n",
      "       [-1.33787068e-02, -8.89241397e-02, -3.22519809e-01, ...,\n",
      "         1.59332737e-01,  2.78640449e-01,  1.22277401e-01],\n",
      "       ...,\n",
      "       [-9.67344120e-02,  6.09348416e-02, -6.63061738e-02, ...,\n",
      "         1.26052257e-02,  1.08963169e-01, -1.35172242e-02],\n",
      "       [-8.34805965e-02, -1.36644766e-01,  1.40131608e-01, ...,\n",
      "         1.68364011e-02,  5.87503165e-02, -2.10626684e-02],\n",
      "       [ 5.37222363e-02, -1.23521671e-01, -2.57390290e-02, ...,\n",
      "        -1.62082523e-01, -1.55893460e-01, -8.72771740e-02]], dtype=float32)>, <tf.Variable 'dense_44/bias:0' shape=(128,) dtype=float32, numpy=\n",
      "array([ 0.02127414,  0.10363548,  0.05348597, -0.04664943,  0.1397122 ,\n",
      "        0.07130806,  0.05350918,  0.07933207,  0.05201532,  0.05439631,\n",
      "        0.09269437, -0.03838405,  0.00220566,  0.01919215, -0.0198126 ,\n",
      "        0.02487497,  0.01540066,  0.02479212,  0.02081915, -0.06433631,\n",
      "       -0.0679302 , -0.00946579,  0.01009211,  0.02566499,  0.04034664,\n",
      "       -0.0677238 ,  0.00327604, -0.03406823,  0.0508715 , -0.04345703,\n",
      "        0.06388995,  0.03366949,  0.04265539, -0.01016616, -0.01107063,\n",
      "        0.07313023,  0.09833471,  0.01120786,  0.13728786, -0.02221796,\n",
      "        0.06465576, -0.03166423, -0.0589382 ,  0.10572854, -0.01425426,\n",
      "        0.01546639,  0.04551317, -0.01292317,  0.06756525,  0.00686559,\n",
      "        0.1073164 ,  0.03334047, -0.02773575,  0.00399054, -0.03308539,\n",
      "       -0.05027122,  0.07918704, -0.07223377, -0.05370617,  0.03664846,\n",
      "       -0.01614094,  0.05268057,  0.05843918, -0.09268767, -0.05163588,\n",
      "        0.03520105, -0.02731594,  0.02563146, -0.02957555, -0.03000104,\n",
      "        0.09853714, -0.03386244, -0.05708055,  0.01934755, -0.01614086,\n",
      "        0.02094975,  0.05086718,  0.01241079,  0.00434865, -0.01328743,\n",
      "        0.09362711,  0.01021426,  0.04403487, -0.07408939,  0.01289271,\n",
      "        0.10507981,  0.03332853,  0.00822514,  0.09127317,  0.0310654 ,\n",
      "       -0.00840811,  0.05213961, -0.00880053,  0.02744587,  0.01327545,\n",
      "        0.05747013,  0.03561207, -0.00982935, -0.00660699, -0.02555079,\n",
      "        0.03433016,  0.05055851,  0.07135127,  0.01840067,  0.00341852,\n",
      "        0.0551734 ,  0.1048201 ,  0.03708521,  0.02418464,  0.01101242,\n",
      "       -0.00545466, -0.00196376,  0.01232409,  0.02249087, -0.04873746,\n",
      "        0.04013182,  0.06873925,  0.01558851, -0.08636239,  0.04696818,\n",
      "       -0.02451899, -0.00761743,  0.02152197, -0.0126572 ,  0.0783859 ,\n",
      "        0.08047327,  0.0285352 , -0.03357556], dtype=float32)>, <tf.Variable 'dense_45/kernel:0' shape=(128, 10) dtype=float32, numpy=\n",
      "array([[ 0.15119216, -0.16558899,  0.17977637, ...,  0.09598812,\n",
      "        -0.01826579, -0.00525144],\n",
      "       [-0.19531974,  0.07705515, -0.14229916, ..., -0.2833687 ,\n",
      "         0.14992596, -0.06805297],\n",
      "       [-0.1975354 ,  0.00143946, -0.05150935, ...,  0.03917195,\n",
      "        -0.09208461,  0.14635347],\n",
      "       ...,\n",
      "       [-0.22125866, -0.07722361, -0.11952399, ..., -0.01121978,\n",
      "         0.06160161,  0.19472171],\n",
      "       [-0.03144249, -0.14790264,  0.0574961 , ..., -0.10315919,\n",
      "        -0.17641865,  0.2411709 ],\n",
      "       [ 0.15686667, -0.22487094,  0.20189767, ..., -0.01748678,\n",
      "        -0.1542623 ,  0.13936226]], dtype=float32)>, <tf.Variable 'dense_45/bias:0' shape=(10,) dtype=float32, numpy=\n",
      "array([-0.08118565, -0.02941027,  0.00019389, -0.06910668,  0.02677511,\n",
      "        0.01479862,  0.00469828, -0.02696669,  0.08433517,  0.02365739],\n",
      "      dtype=float32)>]\n",
      "1875/1875 [==============================] - 2s 811us/step - loss: 0.0685 - accuracy: 0.9782\n"
     ]
    },
    {
     "data": {
      "text/plain": [
       "<keras.callbacks.History at 0x1e9482a29d0>"
      ]
     },
     "execution_count": 110,
     "metadata": {},
     "output_type": "execute_result"
    }
   ],
   "source": [
    "model.fit(x_train, y_train, epochs=3, callbacks=[myCallback()])"
   ]
  },
  {
   "cell_type": "code",
   "execution_count": 112,
   "id": "f99c61f0",
   "metadata": {},
   "outputs": [
    {
     "name": "stdout",
     "output_type": "stream",
     "text": [
      "313/313 [==============================] - 0s 633us/step - loss: 0.0727 - accuracy: 0.9765\n",
      "[INFO] test accuracy: 0.9765\n"
     ]
    }
   ],
   "source": [
    "(loss, acc) = model.evaluate(x_test, y_test)\n",
    "print(\"Test accuracy: {:.4f}\".format(acc))"
   ]
  },
  {
   "cell_type": "code",
   "execution_count": null,
   "id": "efca56ce",
   "metadata": {},
   "outputs": [],
   "source": []
  }
 ],
 "metadata": {
  "kernelspec": {
   "display_name": "Python 3 (ipykernel)",
   "language": "python",
   "name": "python3"
  },
  "language_info": {
   "codemirror_mode": {
    "name": "ipython",
    "version": 3
   },
   "file_extension": ".py",
   "mimetype": "text/x-python",
   "name": "python",
   "nbconvert_exporter": "python",
   "pygments_lexer": "ipython3",
   "version": "3.9.12"
  }
 },
 "nbformat": 4,
 "nbformat_minor": 5
}
