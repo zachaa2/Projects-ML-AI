{
 "cells": [
  {
   "cell_type": "markdown",
   "id": "c91c1231",
   "metadata": {},
   "source": [
    "# Homework 3"
   ]
  },
  {
   "cell_type": "code",
   "execution_count": 5,
   "id": "33b5679f",
   "metadata": {},
   "outputs": [],
   "source": [
    "import numpy as np\n",
    "import pandas as pd\n",
    "import tensorflow as tf\n",
    "from tensorflow import keras\n",
    "import matplotlib.pyplot as plt"
   ]
  },
  {
   "cell_type": "markdown",
   "id": "1fc2a9a2",
   "metadata": {},
   "source": [
    "The Problem I chose to solve using Neural Networks is image classification. For this problem, I will be using the MNIST dataset, a popular and large dataset containing handwritten digits. Using the handwritten digits, I will develop a model to classify the digits for a number 0-9. The dataset contains roughly 70,000 images. There's 60k images for training and 10k images for testing.\n",
    "\n",
    "[Source](http://yann.lecun.com/exdb/mnist/)\n",
    "\n"
   ]
  },
  {
   "cell_type": "markdown",
   "id": "34fcf45f",
   "metadata": {},
   "source": [
    "Creating the dataset object"
   ]
  },
  {
   "cell_type": "code",
   "execution_count": 10,
   "id": "5151ba28",
   "metadata": {},
   "outputs": [
    {
     "data": {
      "text/plain": [
       "<module 'keras.api._v2.keras.datasets.mnist' from 'C:\\\\Users\\\\Aaron\\\\anaconda3\\\\lib\\\\site-packages\\\\keras\\\\api\\\\_v2\\\\keras\\\\datasets\\\\mnist\\\\__init__.py'>"
      ]
     },
     "execution_count": 10,
     "metadata": {},
     "output_type": "execute_result"
    }
   ],
   "source": [
    "mnist = keras.datasets.mnist\n",
    "mnist"
   ]
  },
  {
   "cell_type": "markdown",
   "id": "b73ce7b0",
   "metadata": {},
   "source": [
    "Loading the dataset and splitting into train and test sets"
   ]
  },
  {
   "cell_type": "code",
   "execution_count": 12,
   "id": "45cd7d32",
   "metadata": {},
   "outputs": [],
   "source": [
    "(x_train, y_train), (x_test, y_test) = mnist.load_data()"
   ]
  },
  {
   "cell_type": "code",
   "execution_count": 19,
   "id": "a6c65040",
   "metadata": {},
   "outputs": [
    {
     "name": "stdout",
     "output_type": "stream",
     "text": [
      "Training Set Shape: (60000, 28, 28)\n",
      "Testing Set Shape: (10000, 28, 28)\n"
     ]
    }
   ],
   "source": [
    "print(\"Training Set Shape:\", x_train.shape)\n",
    "print(\"Testing Set Shape:\", x_test.shape)"
   ]
  },
  {
   "cell_type": "markdown",
   "id": "9a8b6183",
   "metadata": {},
   "source": [
    "# Task 1: Researching Tensorflow Docs and other Resources\n",
    "\n",
    "To implement a neural network to solve this problem, I decided to use the tensorflow/keras packages. BElow are some of the resources I used to learn more about the packages and about Neural Networks in general. "
   ]
  },
  {
   "cell_type": "markdown",
   "id": "9b9f9c45",
   "metadata": {},
   "source": [
    "NN Layers: \n",
    "\n",
    "[Softmax Activation Function](https://www.tensorflow.org/api_docs/python/tf/keras/layers/Softmax)\n",
    "\n",
    "[Dense Layer](https://www.tensorflow.org/api_docs/python/tf/keras/layers/Dense)\n",
    "\n",
    "[Flatten Layer](https://www.tensorflow.org/api_docs/python/tf/keras/layers/Flatten)\n",
    "\n",
    "Model:\n",
    "\n",
    "[Sequential](https://www.tensorflow.org/api_docs/python/tf/keras/Sequential)\n",
    "\n",
    "The sequential model just groups a stack of layers in a linear fashion. \n",
    "\n",
    "[keras.Model](https://keras.io/api/models/model/)\n",
    "\n",
    "You can create a custom class that inherits from this class, which will allow you to have greater control over the model.\n",
    "\n",
    "Some more useful TensorFlow docs pages:\n",
    "\n",
    "[AutoDiff](https://www.tensorflow.org/guide/autodiff#gradients_with_respect_to_a_model)\n",
    "\n",
    "[GradientTape](https://www.tensorflow.org/api_docs/python/tf/GradientTape#used-in-the-notebooks)\n",
    "\n",
    "[Customizing Fit Function](https://www.tensorflow.org/guide/keras/customizing_what_happens_in_fit)"
   ]
  },
  {
   "cell_type": "markdown",
   "id": "768babf4",
   "metadata": {},
   "source": [
    "# Task 2: EDA and Model Implementation"
   ]
  },
  {
   "cell_type": "markdown",
   "id": "e13959f1",
   "metadata": {},
   "source": [
    "We will first explore the data and visualize it, then build and compile the model. "
   ]
  },
  {
   "cell_type": "markdown",
   "id": "772841e9",
   "metadata": {},
   "source": [
    "### EDA"
   ]
  },
  {
   "cell_type": "markdown",
   "id": "e9fa9740",
   "metadata": {},
   "source": [
    "Let's try and show what some of the images in the training set look like"
   ]
  },
  {
   "cell_type": "code",
   "execution_count": 24,
   "id": "ee0c348f",
   "metadata": {},
   "outputs": [
    {
     "data": {
      "image/png": "[encoded data removed]",
      "text/plain": [
       "<Figure size 432x288 with 6 Axes>"
      ]
     },
     "metadata": {
      "needs_background": "light"
     },
     "output_type": "display_data"
    }
   ],
   "source": [
    "for i in range(6):\n",
    "    plt.subplot(2, 3, i+1)\n",
    "    plt.imshow(x_train[i], cmap='gray')\n",
    "plt.show()"
   ]
  },
  {
   "cell_type": "markdown",
   "id": "d93cbfbf",
   "metadata": {},
   "source": [
    "Let's see the unique values in the training data"
   ]
  },
  {
   "cell_type": "code",
   "execution_count": 25,
   "id": "9763cea7",
   "metadata": {},
   "outputs": [
    {
     "data": {
      "text/plain": [
       "array([  0,   1,   2,   3,   4,   5,   6,   7,   8,   9,  10,  11,  12,\n",
       "        13,  14,  15,  16,  17,  18,  19,  20,  21,  22,  23,  24,  25,\n",
       "        26,  27,  28,  29,  30,  31,  32,  33,  34,  35,  36,  37,  38,\n",
       "        39,  40,  41,  42,  43,  44,  45,  46,  47,  48,  49,  50,  51,\n",
       "        52,  53,  54,  55,  56,  57,  58,  59,  60,  61,  62,  63,  64,\n",
       "        65,  66,  67,  68,  69,  70,  71,  72,  73,  74,  75,  76,  77,\n",
       "        78,  79,  80,  81,  82,  83,  84,  85,  86,  87,  88,  89,  90,\n",
       "        91,  92,  93,  94,  95,  96,  97,  98,  99, 100, 101, 102, 103,\n",
       "       104, 105, 106, 107, 108, 109, 110, 111, 112, 113, 114, 115, 116,\n",
       "       117, 118, 119, 120, 121, 122, 123, 124, 125, 126, 127, 128, 129,\n",
       "       130, 131, 132, 133, 134, 135, 136, 137, 138, 139, 140, 141, 142,\n",
       "       143, 144, 145, 146, 147, 148, 149, 150, 151, 152, 153, 154, 155,\n",
       "       156, 157, 158, 159, 160, 161, 162, 163, 164, 165, 166, 167, 168,\n",
       "       169, 170, 171, 172, 173, 174, 175, 176, 177, 178, 179, 180, 181,\n",
       "       182, 183, 184, 185, 186, 187, 188, 189, 190, 191, 192, 193, 194,\n",
       "       195, 196, 197, 198, 199, 200, 201, 202, 203, 204, 205, 206, 207,\n",
       "       208, 209, 210, 211, 212, 213, 214, 215, 216, 217, 218, 219, 220,\n",
       "       221, 222, 223, 224, 225, 226, 227, 228, 229, 230, 231, 232, 233,\n",
       "       234, 235, 236, 237, 238, 239, 240, 241, 242, 243, 244, 245, 246,\n",
       "       247, 248, 249, 250, 251, 252, 253, 254, 255], dtype=uint8)"
      ]
     },
     "execution_count": 25,
     "metadata": {},
     "output_type": "execute_result"
    }
   ],
   "source": [
    "np.unique(x_train)"
   ]
  },
  {
   "cell_type": "markdown",
   "id": "8482b75b",
   "metadata": {},
   "source": [
    "The unique values are all integers ranging from 0-255. This makes sense, as images are typically represented by color values ranging from 0-255. \n",
    "\n",
    "What about the target labels?\n"
   ]
  },
  {
   "cell_type": "code",
   "execution_count": 26,
   "id": "3c78bfbb",
   "metadata": {},
   "outputs": [
    {
     "data": {
      "text/plain": [
       "array([0, 1, 2, 3, 4, 5, 6, 7, 8, 9], dtype=uint8)"
      ]
     },
     "execution_count": 26,
     "metadata": {},
     "output_type": "execute_result"
    }
   ],
   "source": [
    "np.unique(y_train)"
   ]
  },
  {
   "cell_type": "markdown",
   "id": "9d5377b0",
   "metadata": {},
   "source": [
    "The target labels for our problem are integers from 0-9. This is what we are trying to predict with our model. "
   ]
  },
  {
   "cell_type": "markdown",
   "id": "5aed180b",
   "metadata": {},
   "source": [
    "We can also try and plot the target labels as a histogram to see the distribution over the training set"
   ]
  },
  {
   "cell_type": "code",
   "execution_count": 37,
   "id": "aab5a62f",
   "metadata": {},
   "outputs": [
    {
     "data": {
      "text/plain": [
       "(array([5923., 6742., 5958., 6131., 5842., 5421., 5918., 6265., 5851.,\n",
       "        5949.]),\n",
       " array([0. , 0.9, 1.8, 2.7, 3.6, 4.5, 5.4, 6.3, 7.2, 8.1, 9. ]),\n",
       " <BarContainer object of 10 artists>)"
      ]
     },
     "execution_count": 37,
     "metadata": {},
     "output_type": "execute_result"
    },
    {
     "data": {
      "image/png": "[encoded data removed]",
      "text/plain": [
       "<Figure size 432x288 with 1 Axes>"
      ]
     },
     "metadata": {
      "needs_background": "light"
     },
     "output_type": "display_data"
    }
   ],
   "source": [
    "plt.hist(y_train, bins=10)"
   ]
  },
  {
   "cell_type": "markdown",
   "id": "32b90c2a",
   "metadata": {},
   "source": [
    "There appears to be a roughly uniform distribution over all possible target labels in the training set. This is good, as it means the model will have roughly the same aound of data to learn from for all target labels. "
   ]
  },
  {
   "cell_type": "markdown",
   "id": "e73ab88d",
   "metadata": {},
   "source": [
    "### Creating the simple Model Class\n",
    "\n",
    "We can create an instance of the Sequential model class which will group network layers in a stack. The first layer will be to flatten the data, which will reduce the dimensionality of the data. Optionally, you could flatten the data using the reshape operation. \n",
    "\n",
    "I will add Dense layers, which are the standard densly connected neural network layer. "
   ]
  },
  {
   "cell_type": "markdown",
   "id": "44af61a6",
   "metadata": {},
   "source": [
    "Below is a custom Classback class. This is passed into the model when fitting the model to the data. This will aloow us to view and/or save information while the training step is in process. By overriding the on_epoch_end, we can view inforation about the model when an epoch finishes. "
   ]
  },
  {
   "cell_type": "code",
   "execution_count": 91,
   "id": "34bbbaca",
   "metadata": {},
   "outputs": [],
   "source": [
    "class myCallback(tf.keras.callbacks.Callback):\n",
    "    def on_epoch_end(self, epoch, logs={}):\n",
    "        print(model.trainable_variables)\n",
    "    \n",
    "    def set_model(self, model):\n",
    "        self.model = model\n",
    "\n",
    "my_callback = myCallback()"
   ]
  },
  {
   "cell_type": "code",
   "execution_count": 92,
   "id": "0f354521",
   "metadata": {},
   "outputs": [],
   "source": [
    "model = keras.Sequential([\n",
    "    \n",
    "    keras.layers.Flatten(input_shape=(28,28)),\n",
    "    keras.layers.Dense(128, activation='relu'),\n",
    "    keras.layers.Dense(10)\n",
    "    \n",
    "])\n",
    "\n",
    "loss_function = keras.losses.SparseCategoricalCrossentropy(from_logits=True)\n",
    "optim = keras.optimizers.Adam(learning_rate=0.001)\n",
    "\n",
    "model.compile(optimizer=optim, loss=loss_function, metrics=[\"accuracy\"])\n",
    "        "
   ]
  },
  {
   "cell_type": "code",
   "execution_count": 94,
   "id": "c9d3507d",
   "metadata": {},
   "outputs": [
    {
     "name": "stdout",
     "output_type": "stream",
     "text": [
      "Epoch 1/3\n",
      "1833/1875 [============================>.] - ETA: 0s - loss: 2.1944 - accuracy: 0.8484[<tf.Variable 'dense_33/kernel:0' shape=(784, 128) dtype=float32, numpy=\n",
      "array([[-0.07587786, -0.07035559, -0.06501492, ...,  0.00353643,\n",
      "        -0.0492812 , -0.00875257],\n",
      "       [ 0.07125523,  0.07710642, -0.05028335, ..., -0.07260936,\n",
      "         0.04186094,  0.05900831],\n",
      "       [-0.05353485,  0.02030499, -0.03572393, ...,  0.06138691,\n",
      "         0.08047857, -0.03352656],\n",
      "       ...,\n",
      "       [-0.02045466, -0.00840154,  0.04292041, ...,  0.05947185,\n",
      "        -0.02462029,  0.06144654],\n",
      "       [-0.02373786, -0.04184108,  0.07043902, ..., -0.0684202 ,\n",
      "         0.03198052,  0.03121585],\n",
      "       [ 0.02968199, -0.01221012, -0.05862112, ..., -0.04825339,\n",
      "         0.03890094, -0.02833127]], dtype=float32)>, <tf.Variable 'dense_33/bias:0' shape=(128,) dtype=float32, numpy=\n",
      "array([-1.37421340e-02, -1.78306401e-02, -2.48347558e-02, -1.33921010e-02,\n",
      "       -1.58922132e-02, -2.93047819e-02, -1.56044755e-02, -2.41550524e-02,\n",
      "       -1.53722083e-02, -2.29769386e-02, -2.83078905e-02, -2.16748156e-02,\n",
      "       -2.53003184e-02, -1.74044929e-02, -1.70926712e-02, -2.82312576e-02,\n",
      "       -2.05195397e-02, -1.75794885e-02, -8.59825686e-03, -1.38394516e-02,\n",
      "       -4.15933169e-02, -2.81513166e-02, -2.90451776e-02, -1.44108729e-02,\n",
      "       -2.79990956e-02, -2.74722558e-02, -2.86611971e-02, -6.12718798e-03,\n",
      "       -3.42422947e-02, -3.04554068e-02, -2.91629154e-02, -1.36802495e-02,\n",
      "       -1.81477442e-02, -2.79955380e-02, -1.59677807e-02, -2.05970425e-02,\n",
      "       -2.40778923e-02, -9.48707201e-03, -1.73110068e-02, -3.95426978e-05,\n",
      "       -1.51145505e-02, -2.44983211e-02, -1.93641596e-02, -4.28952910e-02,\n",
      "       -1.75679009e-02, -2.53822934e-02, -2.68247165e-02, -2.41672304e-02,\n",
      "       -2.31421292e-02, -1.75812393e-02, -9.93949920e-03, -3.58424895e-02,\n",
      "       -2.34235097e-02, -2.17653923e-02, -4.43802727e-03, -2.16747187e-02,\n",
      "       -1.29751302e-02, -1.99866854e-02, -2.66225040e-02, -1.81641169e-02,\n",
      "       -2.32024882e-02, -2.37320401e-02, -3.34707759e-02, -8.59343167e-03,\n",
      "       -3.33010517e-02, -2.37043258e-02, -1.77107770e-02, -2.35468354e-02,\n",
      "       -1.72125604e-02, -1.90722551e-02, -1.47428596e-02,  7.90868886e-03,\n",
      "       -2.26547513e-02, -3.21607739e-02, -8.69982224e-03, -3.98335680e-02,\n",
      "       -2.43334789e-02, -2.76124254e-02, -3.52164283e-02, -2.29550935e-02,\n",
      "       -2.80892290e-02, -1.14559419e-02, -2.87792310e-02, -1.25039648e-02,\n",
      "       -3.61115113e-02, -3.61827388e-02, -1.79961640e-02, -2.18555611e-02,\n",
      "       -2.39900704e-02, -1.91434771e-02,  7.01987091e-03, -2.55591404e-02,\n",
      "       -3.28623615e-02, -8.27405136e-03, -1.95777286e-02, -1.36044738e-03,\n",
      "       -1.54219791e-02, -3.09099276e-02, -2.23052725e-02, -2.63734385e-02,\n",
      "       -2.30904371e-02, -1.21020889e-02, -2.48659253e-02, -1.80071071e-02,\n",
      "       -3.52686830e-02, -1.21471249e-02, -2.22421549e-02, -3.33832204e-02,\n",
      "       -1.75534487e-02, -3.92290503e-02, -3.00635900e-02, -1.25444420e-02,\n",
      "       -1.73638295e-02, -2.63383891e-02, -2.42846478e-02, -2.47776732e-02,\n",
      "       -9.61596332e-03, -1.60553809e-02, -2.39343792e-02, -2.32237298e-02,\n",
      "       -1.49562564e-02, -2.38786116e-02, -2.51065623e-02, -3.62758432e-03,\n",
      "       -1.94481593e-02, -2.40575634e-02, -2.80528497e-02, -1.81745086e-02],\n",
      "      dtype=float32)>, <tf.Variable 'dense_34/kernel:0' shape=(128, 10) dtype=float32, numpy=\n",
      "array([[-0.10119224,  0.06875486,  0.12331318, ...,  0.12979203,\n",
      "         0.07342876, -0.12446223],\n",
      "       [ 0.1814504 , -0.01123382, -0.092162  , ...,  0.09136654,\n",
      "         0.08934   , -0.14974083],\n",
      "       [-0.03794931,  0.02442702, -0.08195817, ..., -0.16294096,\n",
      "        -0.17123169, -0.10047529],\n",
      "       ...,\n",
      "       [ 0.16551791,  0.03079576, -0.17243885, ...,  0.17009339,\n",
      "        -0.02552115, -0.16163498],\n",
      "       [-0.14627568,  0.13183719, -0.09692462, ..., -0.09505706,\n",
      "         0.1681679 ,  0.16966505],\n",
      "       [-0.00756189,  0.11805055, -0.02298425, ...,  0.1660474 ,\n",
      "         0.006662  , -0.05109731]], dtype=float32)>, <tf.Variable 'dense_34/bias:0' shape=(10,) dtype=float32, numpy=\n",
      "array([ 0.06210572, -0.40028659,  0.17936596,  0.0204202 , -0.03435943,\n",
      "       -0.11450867, -0.09648021, -0.11499254,  0.31006372, -0.00865021],\n",
      "      dtype=float32)>]\n",
      "1875/1875 [==============================] - 2s 780us/step - loss: 2.1558 - accuracy: 0.8492\n",
      "Epoch 2/3\n",
      "1855/1875 [============================>.] - ETA: 0s - loss: 0.3589 - accuracy: 0.9118[<tf.Variable 'dense_33/kernel:0' shape=(784, 128) dtype=float32, numpy=\n",
      "array([[-0.07587786, -0.07035559, -0.06501492, ...,  0.00353643,\n",
      "        -0.0492812 , -0.00875257],\n",
      "       [ 0.07125523,  0.07710642, -0.05028335, ..., -0.07260936,\n",
      "         0.04186094,  0.05900831],\n",
      "       [-0.05353485,  0.02030499, -0.03572393, ...,  0.06138691,\n",
      "         0.08047857, -0.03352656],\n",
      "       ...,\n",
      "       [-0.02045466, -0.00840154,  0.04292041, ...,  0.05947185,\n",
      "        -0.02462029,  0.06144654],\n",
      "       [-0.02373786, -0.04184108,  0.07043902, ..., -0.0684202 ,\n",
      "         0.03198052,  0.03121585],\n",
      "       [ 0.02968199, -0.01221012, -0.05862112, ..., -0.04825339,\n",
      "         0.03890094, -0.02833127]], dtype=float32)>, <tf.Variable 'dense_33/bias:0' shape=(128,) dtype=float32, numpy=\n",
      "array([-0.01374213, -0.02077286, -0.02422936, -0.03062061, -0.01422047,\n",
      "       -0.03290772, -0.03359953, -0.03189246, -0.01598606, -0.0338999 ,\n",
      "       -0.02836702, -0.0346249 , -0.03593497, -0.01560713, -0.01561112,\n",
      "       -0.03379967, -0.01828366, -0.02623451, -0.02532347, -0.00063909,\n",
      "       -0.05984353, -0.03024542, -0.03151374, -0.02676887, -0.02797992,\n",
      "       -0.02747116, -0.0360531 , -0.00898476, -0.03448064, -0.03191777,\n",
      "       -0.03326324, -0.01320001, -0.01856538, -0.02626546, -0.03307058,\n",
      "       -0.02726858, -0.03112326, -0.01247314, -0.01327104, -0.01932736,\n",
      "       -0.02464354, -0.02625363, -0.02694363, -0.06543484, -0.0271663 ,\n",
      "       -0.02538229, -0.04430545, -0.03165347, -0.01923767, -0.03042617,\n",
      "       -0.01866254, -0.04679986, -0.03889687, -0.0187285 , -0.02891554,\n",
      "       -0.02281925, -0.01298325, -0.02114215, -0.02091414, -0.02660495,\n",
      "       -0.03554992, -0.02373204, -0.03347078, -0.01156259, -0.0470578 ,\n",
      "       -0.03303877, -0.0214406 , -0.02782374, -0.02956168, -0.02787111,\n",
      "       -0.01356917,  0.0155291 , -0.01666838, -0.03714781, -0.00852892,\n",
      "       -0.04980272, -0.02706947, -0.04061022, -0.05178565, -0.02876754,\n",
      "       -0.02682608, -0.01725321, -0.0224166 , -0.02114063, -0.04921011,\n",
      "       -0.03669561, -0.0139334 , -0.02156501, -0.0293261 , -0.01935436,\n",
      "       -0.01202562, -0.02510197, -0.03756449, -0.00862512, -0.01895102,\n",
      "       -0.0019213 , -0.01338099, -0.02676001, -0.03570498, -0.02905206,\n",
      "       -0.0283924 , -0.02897208, -0.02487053, -0.01837642, -0.04275648,\n",
      "       -0.02084891, -0.04649832, -0.03338322, -0.02081101, -0.04356658,\n",
      "       -0.02680192, -0.01851544, -0.0255279 , -0.0263385 , -0.04639619,\n",
      "       -0.03997624, -0.01549007, -0.02725366, -0.02546104, -0.02321445,\n",
      "       -0.01495626, -0.03897994, -0.03976037, -0.01433568, -0.01753044,\n",
      "       -0.02453784, -0.02831705, -0.01144966], dtype=float32)>, <tf.Variable 'dense_34/kernel:0' shape=(128, 10) dtype=float32, numpy=\n",
      "array([[-0.10119224,  0.06875486,  0.12331318, ...,  0.12979203,\n",
      "         0.07342876, -0.12446223],\n",
      "       [ 0.18080573, -0.01125799, -0.09140156, ...,  0.0913036 ,\n",
      "         0.08909104, -0.14975968],\n",
      "       [-0.0374219 ,  0.02440108, -0.08195817, ..., -0.16294096,\n",
      "        -0.17123169, -0.1004871 ],\n",
      "       ...,\n",
      "       [ 0.15399571,  0.03067417, -0.17263265, ...,  0.16627721,\n",
      "        -0.02627603, -0.15900804],\n",
      "       [-0.14628613,  0.13183713, -0.09698848, ..., -0.09500489,\n",
      "         0.16828759,  0.16909254],\n",
      "       [ 0.01137256,  0.11944287, -0.02347318, ...,  0.15368316,\n",
      "         0.02728402, -0.05464373]], dtype=float32)>, <tf.Variable 'dense_34/bias:0' shape=(10,) dtype=float32, numpy=\n",
      "array([ 0.12737298, -0.5948735 ,  0.26986587,  0.08855911, -0.07004578,\n",
      "       -0.22807471, -0.1510486 , -0.16520314,  0.4266597 ,  0.00328233],\n",
      "      dtype=float32)>]\n",
      "1875/1875 [==============================] - 1s 769us/step - loss: 0.3587 - accuracy: 0.9117\n",
      "Epoch 3/3\n",
      "1810/1875 [===========================>..] - ETA: 0s - loss: 0.2731 - accuracy: 0.9301[<tf.Variable 'dense_33/kernel:0' shape=(784, 128) dtype=float32, numpy=\n",
      "array([[-0.07587786, -0.07035559, -0.06501492, ...,  0.00353643,\n",
      "        -0.0492812 , -0.00875257],\n",
      "       [ 0.07125523,  0.07710642, -0.05028335, ..., -0.07260936,\n",
      "         0.04186094,  0.05900831],\n",
      "       [-0.05353485,  0.02030499, -0.03572393, ...,  0.06138691,\n",
      "         0.08047857, -0.03352656],\n",
      "       ...,\n",
      "       [-0.02045466, -0.00840154,  0.04292041, ...,  0.05947185,\n",
      "        -0.02462029,  0.06144654],\n",
      "       [-0.02373786, -0.04184108,  0.07043902, ..., -0.0684202 ,\n",
      "         0.03198052,  0.03121585],\n",
      "       [ 0.02968199, -0.01221012, -0.05862112, ..., -0.04825339,\n",
      "         0.03890094, -0.02833127]], dtype=float32)>, <tf.Variable 'dense_33/bias:0' shape=(128,) dtype=float32, numpy=\n",
      "array([-0.0136151 , -0.0207108 , -0.02417526, -0.03062061, -0.04636598,\n",
      "       -0.03840274, -0.05739385, -0.03319078, -0.02532174, -0.03183598,\n",
      "       -0.03391005, -0.03429373, -0.03452792, -0.02766098, -0.03683624,\n",
      "       -0.0483568 , -0.01640521, -0.02849101, -0.03390194, -0.00117303,\n",
      "       -0.08011096, -0.03773132, -0.03151374, -0.03977435, -0.02798104,\n",
      "       -0.02747116, -0.04116479, -0.0132219 , -0.04006059, -0.03391384,\n",
      "       -0.04979518, -0.00662967, -0.02241178, -0.03843402, -0.05608885,\n",
      "       -0.05172661, -0.03202895, -0.02276702, -0.03218916, -0.0391433 ,\n",
      "       -0.02971042, -0.02965077, -0.02568744, -0.09874235, -0.03202482,\n",
      "       -0.02538229, -0.04430806, -0.03090697, -0.01893187, -0.0282276 ,\n",
      "       -0.02915358, -0.05514138, -0.04765702, -0.03049892, -0.03678169,\n",
      "       -0.02434067, -0.01222059, -0.02489137, -0.04751102, -0.04838005,\n",
      "       -0.04736238, -0.02373204, -0.03347078, -0.02188005, -0.06006344,\n",
      "       -0.03174914, -0.03208612, -0.03050401, -0.04327986, -0.02929885,\n",
      "       -0.01899491,  0.04440271, -0.00198854, -0.05093213, -0.01214458,\n",
      "       -0.0649151 , -0.03175319, -0.04070277, -0.07568418, -0.02928234,\n",
      "       -0.04354143, -0.02501366, -0.04271355, -0.0351247 , -0.05769098,\n",
      "       -0.05151352, -0.02501654, -0.0307422 , -0.03410013, -0.01971646,\n",
      "       -0.00811961, -0.01908875, -0.03466917, -0.01379203, -0.02008984,\n",
      "       -0.01778699, -0.02648838, -0.03888371, -0.03438285, -0.0388337 ,\n",
      "       -0.04753105, -0.03808329, -0.02618796, -0.02332986, -0.0558965 ,\n",
      "       -0.03976172, -0.06701744, -0.03338322, -0.02070267, -0.05481282,\n",
      "       -0.04170898, -0.02656004, -0.04147072, -0.02634498, -0.06563367,\n",
      "       -0.04126137, -0.02459115, -0.03064116, -0.05142812, -0.02318514,\n",
      "       -0.01495626, -0.03635861, -0.04968046, -0.02515237, -0.0107425 ,\n",
      "       -0.03125032, -0.03037404, -0.00818181], dtype=float32)>, <tf.Variable 'dense_34/kernel:0' shape=(128, 10) dtype=float32, numpy=\n",
      "array([[-0.10119224,  0.06875486,  0.12328702, ...,  0.12981296,\n",
      "         0.07342307, -0.12446223],\n",
      "       [ 0.18066515, -0.011258  , -0.09140166, ...,  0.09130262,\n",
      "         0.08899519, -0.14975968],\n",
      "       [-0.0374219 ,  0.02440108, -0.08195817, ..., -0.16294096,\n",
      "        -0.17123169, -0.10048711],\n",
      "       ...,\n",
      "       [ 0.14321135,  0.03003868, -0.17348997, ...,  0.15644868,\n",
      "        -0.02702803, -0.15555419],\n",
      "       [-0.14629439,  0.13183497, -0.09700087, ..., -0.09501911,\n",
      "         0.16813134,  0.1679945 ],\n",
      "       [ 0.01378138,  0.11865105, -0.02418476, ...,  0.15567568,\n",
      "         0.05540679, -0.0636307 ]], dtype=float32)>, <tf.Variable 'dense_34/bias:0' shape=(10,) dtype=float32, numpy=\n",
      "array([ 0.16489814, -0.66573423,  0.27123985,  0.11648936, -0.10666252,\n",
      "       -0.2708673 , -0.19379444, -0.23275307,  0.55465186,  0.01026786],\n",
      "      dtype=float32)>]\n",
      "1875/1875 [==============================] - 1s 759us/step - loss: 0.2722 - accuracy: 0.9304\n"
     ]
    },
    {
     "data": {
      "text/plain": [
       "<keras.callbacks.History at 0x1e9078a7ee0>"
      ]
     },
     "execution_count": 94,
     "metadata": {},
     "output_type": "execute_result"
    }
   ],
   "source": [
    "model.fit(x_train, y_train, epochs=3, callbacks=[myCallback()])"
   ]
  },
  {
   "cell_type": "code",
   "execution_count": null,
   "id": "f1d0baf5",
   "metadata": {},
   "outputs": [],
   "source": []
  }
 ],
 "metadata": {
  "kernelspec": {
   "display_name": "Python 3 (ipykernel)",
   "language": "python",
   "name": "python3"
  },
  "language_info": {
   "codemirror_mode": {
    "name": "ipython",
    "version": 3
   },
   "file_extension": ".py",
   "mimetype": "text/x-python",
   "name": "python",
   "nbconvert_exporter": "python",
   "pygments_lexer": "ipython3",
   "version": "3.9.12"
  }
 },
 "nbformat": 4,
 "nbformat_minor": 5
}
