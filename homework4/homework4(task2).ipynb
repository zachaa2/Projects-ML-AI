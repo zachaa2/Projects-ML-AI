{
 "cells": [
  {
   "cell_type": "markdown",
   "id": "295d7250",
   "metadata": {},
   "source": [
    "# Vectorization and Word Embeddings\n",
    "\n",
    "In this task, I will read 2 words as user input and vectorize them. Then, I will calculate the cosine simmilarity and the dissimilarity between the two vectorized words."
   ]
  },
  {
   "cell_type": "code",
   "execution_count": null,
   "id": "0c0c21e3",
   "metadata": {},
   "outputs": [],
   "source": []
  }
 ],
 "metadata": {
  "kernelspec": {
   "display_name": "Python 3 (ipykernel)",
   "language": "python",
   "name": "python3"
  },
  "language_info": {
   "codemirror_mode": {
    "name": "ipython",
    "version": 3
   },
   "file_extension": ".py",
   "mimetype": "text/x-python",
   "name": "python",
   "nbconvert_exporter": "python",
   "pygments_lexer": "ipython3",
   "version": "3.9.12"
  }
 },
 "nbformat": 4,
 "nbformat_minor": 5
}
