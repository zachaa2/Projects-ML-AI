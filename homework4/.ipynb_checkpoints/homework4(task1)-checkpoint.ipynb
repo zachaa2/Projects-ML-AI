{
 "cells": [
  {
   "cell_type": "markdown",
   "id": "3be360ec",
   "metadata": {},
   "source": [
    "# Import Dependncies"
   ]
  },
  {
   "cell_type": "code",
   "execution_count": 1,
   "id": "f74eb450",
   "metadata": {},
   "outputs": [],
   "source": [
    "import numpy as np\n",
    "import pandas as pd\n",
    "import tensorflow as tf\n",
    "from tensorflow import keras\n",
    "import matplotlib.pyplot as plt\n",
    "from sklearn.preprocessing import MinMaxScaler"
   ]
  },
  {
   "cell_type": "markdown",
   "id": "d30f684a",
   "metadata": {},
   "source": [
    "# Task1: Solving A Problem using RNNs"
   ]
  },
  {
   "cell_type": "markdown",
   "id": "274ece8c",
   "metadata": {},
   "source": [
    "A Recurrent Neural Network (RNN) is a neural network that can be used when your data is treated as a sequence, where the particular order of the data-points matter. For this task, I will pick a problem to solve with a time series dataset, then implement an RNN to solve it. \n",
    "\n",
    "The problem I will do it predicting future stock prices using RNN. I will use The Alphabet Inc stock price dataset (GOOG) and train a model on years of data, then predict the Open stock price for a certain time and see how well the RNN can model the behaviour of the stock price. \n",
    "\n",
    "[Dataset Source](https://finance.yahoo.com/quote/GOOG/history)"
   ]
  },
  {
   "cell_type": "markdown",
   "id": "888ba630",
   "metadata": {},
   "source": [
    "# EDA and Preprocessing\n",
    "\n",
    "First we'll conduct some basic EDA and preprocessing steps. There's not many features to the dataset, but some of them are irrelevant. I'll also standardize the data, and decide how to split it. "
   ]
  },
  {
   "cell_type": "code",
   "execution_count": 2,
   "id": "e1ef2e3a",
   "metadata": {},
   "outputs": [],
   "source": [
    "data = pd.read_csv(\"GOOG.csv\", date_parser=True)"
   ]
  },
  {
   "cell_type": "code",
   "execution_count": 3,
   "id": "1a1d2cc8",
   "metadata": {},
   "outputs": [
    {
     "data": {
      "text/html": [
       "<div>\n",
       "<style scoped>\n",
       "    .dataframe tbody tr th:only-of-type {\n",
       "        vertical-align: middle;\n",
       "    }\n",
       "\n",
       "    .dataframe tbody tr th {\n",
       "        vertical-align: top;\n",
       "    }\n",
       "\n",
       "    .dataframe thead th {\n",
       "        text-align: right;\n",
       "    }\n",
       "</style>\n",
       "<table border=\"1\" class=\"dataframe\">\n",
       "  <thead>\n",
       "    <tr style=\"text-align: right;\">\n",
       "      <th></th>\n",
       "      <th>Date</th>\n",
       "      <th>Open</th>\n",
       "      <th>High</th>\n",
       "      <th>Low</th>\n",
       "      <th>Close</th>\n",
       "      <th>Adj Close</th>\n",
       "      <th>Volume</th>\n",
       "    </tr>\n",
       "  </thead>\n",
       "  <tbody>\n",
       "    <tr>\n",
       "      <th>0</th>\n",
       "      <td>2004-08-20</td>\n",
       "      <td>2.515820</td>\n",
       "      <td>2.716817</td>\n",
       "      <td>2.503118</td>\n",
       "      <td>2.697639</td>\n",
       "      <td>2.697639</td>\n",
       "      <td>458857488</td>\n",
       "    </tr>\n",
       "    <tr>\n",
       "      <th>1</th>\n",
       "      <td>2004-08-23</td>\n",
       "      <td>2.758411</td>\n",
       "      <td>2.826406</td>\n",
       "      <td>2.716070</td>\n",
       "      <td>2.724787</td>\n",
       "      <td>2.724787</td>\n",
       "      <td>366857939</td>\n",
       "    </tr>\n",
       "    <tr>\n",
       "      <th>2</th>\n",
       "      <td>2004-08-24</td>\n",
       "      <td>2.770615</td>\n",
       "      <td>2.779581</td>\n",
       "      <td>2.579581</td>\n",
       "      <td>2.611960</td>\n",
       "      <td>2.611960</td>\n",
       "      <td>306396159</td>\n",
       "    </tr>\n",
       "    <tr>\n",
       "      <th>3</th>\n",
       "      <td>2004-08-25</td>\n",
       "      <td>2.614201</td>\n",
       "      <td>2.689918</td>\n",
       "      <td>2.587302</td>\n",
       "      <td>2.640104</td>\n",
       "      <td>2.640104</td>\n",
       "      <td>184645512</td>\n",
       "    </tr>\n",
       "    <tr>\n",
       "      <th>4</th>\n",
       "      <td>2004-08-26</td>\n",
       "      <td>2.613952</td>\n",
       "      <td>2.688672</td>\n",
       "      <td>2.606729</td>\n",
       "      <td>2.687676</td>\n",
       "      <td>2.687676</td>\n",
       "      <td>142572401</td>\n",
       "    </tr>\n",
       "  </tbody>\n",
       "</table>\n",
       "</div>"
      ],
      "text/plain": [
       "         Date      Open      High       Low     Close  Adj Close     Volume\n",
       "0  2004-08-20  2.515820  2.716817  2.503118  2.697639   2.697639  458857488\n",
       "1  2004-08-23  2.758411  2.826406  2.716070  2.724787   2.724787  366857939\n",
       "2  2004-08-24  2.770615  2.779581  2.579581  2.611960   2.611960  306396159\n",
       "3  2004-08-25  2.614201  2.689918  2.587302  2.640104   2.640104  184645512\n",
       "4  2004-08-26  2.613952  2.688672  2.606729  2.687676   2.687676  142572401"
      ]
     },
     "execution_count": 3,
     "metadata": {},
     "output_type": "execute_result"
    }
   ],
   "source": [
    "data.head()"
   ]
  },
  {
   "cell_type": "code",
   "execution_count": 4,
   "id": "4a565bef",
   "metadata": {},
   "outputs": [
    {
     "data": {
      "text/html": [
       "<div>\n",
       "<style scoped>\n",
       "    .dataframe tbody tr th:only-of-type {\n",
       "        vertical-align: middle;\n",
       "    }\n",
       "\n",
       "    .dataframe tbody tr th {\n",
       "        vertical-align: top;\n",
       "    }\n",
       "\n",
       "    .dataframe thead th {\n",
       "        text-align: right;\n",
       "    }\n",
       "</style>\n",
       "<table border=\"1\" class=\"dataframe\">\n",
       "  <thead>\n",
       "    <tr style=\"text-align: right;\">\n",
       "      <th></th>\n",
       "      <th>Date</th>\n",
       "      <th>Open</th>\n",
       "      <th>High</th>\n",
       "      <th>Low</th>\n",
       "      <th>Close</th>\n",
       "      <th>Adj Close</th>\n",
       "      <th>Volume</th>\n",
       "    </tr>\n",
       "  </thead>\n",
       "  <tbody>\n",
       "    <tr>\n",
       "      <th>4555</th>\n",
       "      <td>2022-09-23</td>\n",
       "      <td>100.059998</td>\n",
       "      <td>100.110001</td>\n",
       "      <td>98.010002</td>\n",
       "      <td>99.169998</td>\n",
       "      <td>99.169998</td>\n",
       "      <td>25645100</td>\n",
       "    </tr>\n",
       "    <tr>\n",
       "      <th>4556</th>\n",
       "      <td>2022-09-26</td>\n",
       "      <td>98.610001</td>\n",
       "      <td>100.440002</td>\n",
       "      <td>98.379997</td>\n",
       "      <td>98.809998</td>\n",
       "      <td>98.809998</td>\n",
       "      <td>22437900</td>\n",
       "    </tr>\n",
       "    <tr>\n",
       "      <th>4557</th>\n",
       "      <td>2022-09-27</td>\n",
       "      <td>99.910004</td>\n",
       "      <td>100.459999</td>\n",
       "      <td>97.339996</td>\n",
       "      <td>98.089996</td>\n",
       "      <td>98.089996</td>\n",
       "      <td>24225000</td>\n",
       "    </tr>\n",
       "    <tr>\n",
       "      <th>4558</th>\n",
       "      <td>2022-09-28</td>\n",
       "      <td>98.019997</td>\n",
       "      <td>101.400002</td>\n",
       "      <td>97.800003</td>\n",
       "      <td>100.739998</td>\n",
       "      <td>100.739998</td>\n",
       "      <td>24617000</td>\n",
       "    </tr>\n",
       "    <tr>\n",
       "      <th>4559</th>\n",
       "      <td>2022-09-29</td>\n",
       "      <td>99.300003</td>\n",
       "      <td>99.300003</td>\n",
       "      <td>96.519997</td>\n",
       "      <td>98.089996</td>\n",
       "      <td>98.089996</td>\n",
       "      <td>21921500</td>\n",
       "    </tr>\n",
       "  </tbody>\n",
       "</table>\n",
       "</div>"
      ],
      "text/plain": [
       "            Date        Open        High        Low       Close   Adj Close  \\\n",
       "4555  2022-09-23  100.059998  100.110001  98.010002   99.169998   99.169998   \n",
       "4556  2022-09-26   98.610001  100.440002  98.379997   98.809998   98.809998   \n",
       "4557  2022-09-27   99.910004  100.459999  97.339996   98.089996   98.089996   \n",
       "4558  2022-09-28   98.019997  101.400002  97.800003  100.739998  100.739998   \n",
       "4559  2022-09-29   99.300003   99.300003  96.519997   98.089996   98.089996   \n",
       "\n",
       "        Volume  \n",
       "4555  25645100  \n",
       "4556  22437900  \n",
       "4557  24225000  \n",
       "4558  24617000  \n",
       "4559  21921500  "
      ]
     },
     "execution_count": 4,
     "metadata": {},
     "output_type": "execute_result"
    }
   ],
   "source": [
    "data.tail()"
   ]
  },
  {
   "cell_type": "code",
   "execution_count": 5,
   "id": "4ee9050a",
   "metadata": {},
   "outputs": [
    {
     "name": "stdout",
     "output_type": "stream",
     "text": [
      "<class 'pandas.core.frame.DataFrame'>\n",
      "RangeIndex: 4560 entries, 0 to 4559\n",
      "Data columns (total 7 columns):\n",
      " #   Column     Non-Null Count  Dtype  \n",
      "---  ------     --------------  -----  \n",
      " 0   Date       4560 non-null   object \n",
      " 1   Open       4560 non-null   float64\n",
      " 2   High       4560 non-null   float64\n",
      " 3   Low        4560 non-null   float64\n",
      " 4   Close      4560 non-null   float64\n",
      " 5   Adj Close  4560 non-null   float64\n",
      " 6   Volume     4560 non-null   int64  \n",
      "dtypes: float64(5), int64(1), object(1)\n",
      "memory usage: 249.5+ KB\n"
     ]
    }
   ],
   "source": [
    "data.info()"
   ]
  },
  {
   "cell_type": "markdown",
   "id": "5be94662",
   "metadata": {},
   "source": [
    "I'll construct the training set using data from earlier than 01-01-2019. The training data will go from 08-20-2004 to 12-31-2018"
   ]
  },
  {
   "cell_type": "code",
   "execution_count": 6,
   "id": "fb87aeeb",
   "metadata": {},
   "outputs": [
    {
     "data": {
      "text/html": [
       "<div>\n",
       "<style scoped>\n",
       "    .dataframe tbody tr th:only-of-type {\n",
       "        vertical-align: middle;\n",
       "    }\n",
       "\n",
       "    .dataframe tbody tr th {\n",
       "        vertical-align: top;\n",
       "    }\n",
       "\n",
       "    .dataframe thead th {\n",
       "        text-align: right;\n",
       "    }\n",
       "</style>\n",
       "<table border=\"1\" class=\"dataframe\">\n",
       "  <thead>\n",
       "    <tr style=\"text-align: right;\">\n",
       "      <th></th>\n",
       "      <th>Date</th>\n",
       "      <th>Open</th>\n",
       "      <th>High</th>\n",
       "      <th>Low</th>\n",
       "      <th>Close</th>\n",
       "      <th>Adj Close</th>\n",
       "      <th>Volume</th>\n",
       "    </tr>\n",
       "  </thead>\n",
       "  <tbody>\n",
       "    <tr>\n",
       "      <th>0</th>\n",
       "      <td>2004-08-20</td>\n",
       "      <td>2.515820</td>\n",
       "      <td>2.716817</td>\n",
       "      <td>2.503118</td>\n",
       "      <td>2.697639</td>\n",
       "      <td>2.697639</td>\n",
       "      <td>458857488</td>\n",
       "    </tr>\n",
       "    <tr>\n",
       "      <th>1</th>\n",
       "      <td>2004-08-23</td>\n",
       "      <td>2.758411</td>\n",
       "      <td>2.826406</td>\n",
       "      <td>2.716070</td>\n",
       "      <td>2.724787</td>\n",
       "      <td>2.724787</td>\n",
       "      <td>366857939</td>\n",
       "    </tr>\n",
       "    <tr>\n",
       "      <th>2</th>\n",
       "      <td>2004-08-24</td>\n",
       "      <td>2.770615</td>\n",
       "      <td>2.779581</td>\n",
       "      <td>2.579581</td>\n",
       "      <td>2.611960</td>\n",
       "      <td>2.611960</td>\n",
       "      <td>306396159</td>\n",
       "    </tr>\n",
       "    <tr>\n",
       "      <th>3</th>\n",
       "      <td>2004-08-25</td>\n",
       "      <td>2.614201</td>\n",
       "      <td>2.689918</td>\n",
       "      <td>2.587302</td>\n",
       "      <td>2.640104</td>\n",
       "      <td>2.640104</td>\n",
       "      <td>184645512</td>\n",
       "    </tr>\n",
       "    <tr>\n",
       "      <th>4</th>\n",
       "      <td>2004-08-26</td>\n",
       "      <td>2.613952</td>\n",
       "      <td>2.688672</td>\n",
       "      <td>2.606729</td>\n",
       "      <td>2.687676</td>\n",
       "      <td>2.687676</td>\n",
       "      <td>142572401</td>\n",
       "    </tr>\n",
       "    <tr>\n",
       "      <th>...</th>\n",
       "      <td>...</td>\n",
       "      <td>...</td>\n",
       "      <td>...</td>\n",
       "      <td>...</td>\n",
       "      <td>...</td>\n",
       "      <td>...</td>\n",
       "      <td>...</td>\n",
       "    </tr>\n",
       "    <tr>\n",
       "      <th>3611</th>\n",
       "      <td>2018-12-24</td>\n",
       "      <td>48.695000</td>\n",
       "      <td>50.176998</td>\n",
       "      <td>48.505501</td>\n",
       "      <td>48.811001</td>\n",
       "      <td>48.811001</td>\n",
       "      <td>31806000</td>\n",
       "    </tr>\n",
       "    <tr>\n",
       "      <th>3612</th>\n",
       "      <td>2018-12-26</td>\n",
       "      <td>49.450500</td>\n",
       "      <td>52.000000</td>\n",
       "      <td>49.150002</td>\n",
       "      <td>51.973000</td>\n",
       "      <td>51.973000</td>\n",
       "      <td>47466000</td>\n",
       "    </tr>\n",
       "    <tr>\n",
       "      <th>3613</th>\n",
       "      <td>2018-12-27</td>\n",
       "      <td>50.857498</td>\n",
       "      <td>52.194500</td>\n",
       "      <td>49.849998</td>\n",
       "      <td>52.194000</td>\n",
       "      <td>52.194000</td>\n",
       "      <td>42196000</td>\n",
       "    </tr>\n",
       "    <tr>\n",
       "      <th>3614</th>\n",
       "      <td>2018-12-28</td>\n",
       "      <td>52.480999</td>\n",
       "      <td>52.778000</td>\n",
       "      <td>51.654999</td>\n",
       "      <td>51.854000</td>\n",
       "      <td>51.854000</td>\n",
       "      <td>28296000</td>\n",
       "    </tr>\n",
       "    <tr>\n",
       "      <th>3615</th>\n",
       "      <td>2018-12-31</td>\n",
       "      <td>52.548000</td>\n",
       "      <td>52.634998</td>\n",
       "      <td>51.179501</td>\n",
       "      <td>51.780499</td>\n",
       "      <td>51.780499</td>\n",
       "      <td>29866000</td>\n",
       "    </tr>\n",
       "  </tbody>\n",
       "</table>\n",
       "<p>3616 rows × 7 columns</p>\n",
       "</div>"
      ],
      "text/plain": [
       "            Date       Open       High        Low      Close  Adj Close  \\\n",
       "0     2004-08-20   2.515820   2.716817   2.503118   2.697639   2.697639   \n",
       "1     2004-08-23   2.758411   2.826406   2.716070   2.724787   2.724787   \n",
       "2     2004-08-24   2.770615   2.779581   2.579581   2.611960   2.611960   \n",
       "3     2004-08-25   2.614201   2.689918   2.587302   2.640104   2.640104   \n",
       "4     2004-08-26   2.613952   2.688672   2.606729   2.687676   2.687676   \n",
       "...          ...        ...        ...        ...        ...        ...   \n",
       "3611  2018-12-24  48.695000  50.176998  48.505501  48.811001  48.811001   \n",
       "3612  2018-12-26  49.450500  52.000000  49.150002  51.973000  51.973000   \n",
       "3613  2018-12-27  50.857498  52.194500  49.849998  52.194000  52.194000   \n",
       "3614  2018-12-28  52.480999  52.778000  51.654999  51.854000  51.854000   \n",
       "3615  2018-12-31  52.548000  52.634998  51.179501  51.780499  51.780499   \n",
       "\n",
       "         Volume  \n",
       "0     458857488  \n",
       "1     366857939  \n",
       "2     306396159  \n",
       "3     184645512  \n",
       "4     142572401  \n",
       "...         ...  \n",
       "3611   31806000  \n",
       "3612   47466000  \n",
       "3613   42196000  \n",
       "3614   28296000  \n",
       "3615   29866000  \n",
       "\n",
       "[3616 rows x 7 columns]"
      ]
     },
     "execution_count": 6,
     "metadata": {},
     "output_type": "execute_result"
    }
   ],
   "source": [
    "training_set = data[data['Date']<'2019-01-01'].copy()\n",
    "training_set"
   ]
  },
  {
   "cell_type": "markdown",
   "id": "e07f69aa",
   "metadata": {},
   "source": [
    "The testing data will be made from the remaining data points. This will be roughly an 80-20 split. "
   ]
  },
  {
   "cell_type": "code",
   "execution_count": 7,
   "id": "40560e5a",
   "metadata": {},
   "outputs": [
    {
     "data": {
      "text/html": [
       "<div>\n",
       "<style scoped>\n",
       "    .dataframe tbody tr th:only-of-type {\n",
       "        vertical-align: middle;\n",
       "    }\n",
       "\n",
       "    .dataframe tbody tr th {\n",
       "        vertical-align: top;\n",
       "    }\n",
       "\n",
       "    .dataframe thead th {\n",
       "        text-align: right;\n",
       "    }\n",
       "</style>\n",
       "<table border=\"1\" class=\"dataframe\">\n",
       "  <thead>\n",
       "    <tr style=\"text-align: right;\">\n",
       "      <th></th>\n",
       "      <th>Date</th>\n",
       "      <th>Open</th>\n",
       "      <th>High</th>\n",
       "      <th>Low</th>\n",
       "      <th>Close</th>\n",
       "      <th>Adj Close</th>\n",
       "      <th>Volume</th>\n",
       "    </tr>\n",
       "  </thead>\n",
       "  <tbody>\n",
       "    <tr>\n",
       "      <th>3616</th>\n",
       "      <td>2019-01-02</td>\n",
       "      <td>50.828499</td>\n",
       "      <td>52.616001</td>\n",
       "      <td>50.785500</td>\n",
       "      <td>52.292500</td>\n",
       "      <td>52.292500</td>\n",
       "      <td>30652000</td>\n",
       "    </tr>\n",
       "    <tr>\n",
       "      <th>3617</th>\n",
       "      <td>2019-01-03</td>\n",
       "      <td>52.049999</td>\n",
       "      <td>52.848999</td>\n",
       "      <td>50.703499</td>\n",
       "      <td>50.803001</td>\n",
       "      <td>50.803001</td>\n",
       "      <td>36822000</td>\n",
       "    </tr>\n",
       "    <tr>\n",
       "      <th>3618</th>\n",
       "      <td>2019-01-04</td>\n",
       "      <td>51.629501</td>\n",
       "      <td>53.542000</td>\n",
       "      <td>51.370899</td>\n",
       "      <td>53.535500</td>\n",
       "      <td>53.535500</td>\n",
       "      <td>41878000</td>\n",
       "    </tr>\n",
       "    <tr>\n",
       "      <th>3619</th>\n",
       "      <td>2019-01-07</td>\n",
       "      <td>53.575001</td>\n",
       "      <td>53.700001</td>\n",
       "      <td>52.737999</td>\n",
       "      <td>53.419498</td>\n",
       "      <td>53.419498</td>\n",
       "      <td>39638000</td>\n",
       "    </tr>\n",
       "    <tr>\n",
       "      <th>3620</th>\n",
       "      <td>2019-01-08</td>\n",
       "      <td>53.805500</td>\n",
       "      <td>54.228001</td>\n",
       "      <td>53.026501</td>\n",
       "      <td>53.813999</td>\n",
       "      <td>53.813999</td>\n",
       "      <td>35298000</td>\n",
       "    </tr>\n",
       "    <tr>\n",
       "      <th>...</th>\n",
       "      <td>...</td>\n",
       "      <td>...</td>\n",
       "      <td>...</td>\n",
       "      <td>...</td>\n",
       "      <td>...</td>\n",
       "      <td>...</td>\n",
       "      <td>...</td>\n",
       "    </tr>\n",
       "    <tr>\n",
       "      <th>4555</th>\n",
       "      <td>2022-09-23</td>\n",
       "      <td>100.059998</td>\n",
       "      <td>100.110001</td>\n",
       "      <td>98.010002</td>\n",
       "      <td>99.169998</td>\n",
       "      <td>99.169998</td>\n",
       "      <td>25645100</td>\n",
       "    </tr>\n",
       "    <tr>\n",
       "      <th>4556</th>\n",
       "      <td>2022-09-26</td>\n",
       "      <td>98.610001</td>\n",
       "      <td>100.440002</td>\n",
       "      <td>98.379997</td>\n",
       "      <td>98.809998</td>\n",
       "      <td>98.809998</td>\n",
       "      <td>22437900</td>\n",
       "    </tr>\n",
       "    <tr>\n",
       "      <th>4557</th>\n",
       "      <td>2022-09-27</td>\n",
       "      <td>99.910004</td>\n",
       "      <td>100.459999</td>\n",
       "      <td>97.339996</td>\n",
       "      <td>98.089996</td>\n",
       "      <td>98.089996</td>\n",
       "      <td>24225000</td>\n",
       "    </tr>\n",
       "    <tr>\n",
       "      <th>4558</th>\n",
       "      <td>2022-09-28</td>\n",
       "      <td>98.019997</td>\n",
       "      <td>101.400002</td>\n",
       "      <td>97.800003</td>\n",
       "      <td>100.739998</td>\n",
       "      <td>100.739998</td>\n",
       "      <td>24617000</td>\n",
       "    </tr>\n",
       "    <tr>\n",
       "      <th>4559</th>\n",
       "      <td>2022-09-29</td>\n",
       "      <td>99.300003</td>\n",
       "      <td>99.300003</td>\n",
       "      <td>96.519997</td>\n",
       "      <td>98.089996</td>\n",
       "      <td>98.089996</td>\n",
       "      <td>21921500</td>\n",
       "    </tr>\n",
       "  </tbody>\n",
       "</table>\n",
       "<p>944 rows × 7 columns</p>\n",
       "</div>"
      ],
      "text/plain": [
       "            Date        Open        High        Low       Close   Adj Close  \\\n",
       "3616  2019-01-02   50.828499   52.616001  50.785500   52.292500   52.292500   \n",
       "3617  2019-01-03   52.049999   52.848999  50.703499   50.803001   50.803001   \n",
       "3618  2019-01-04   51.629501   53.542000  51.370899   53.535500   53.535500   \n",
       "3619  2019-01-07   53.575001   53.700001  52.737999   53.419498   53.419498   \n",
       "3620  2019-01-08   53.805500   54.228001  53.026501   53.813999   53.813999   \n",
       "...          ...         ...         ...        ...         ...         ...   \n",
       "4555  2022-09-23  100.059998  100.110001  98.010002   99.169998   99.169998   \n",
       "4556  2022-09-26   98.610001  100.440002  98.379997   98.809998   98.809998   \n",
       "4557  2022-09-27   99.910004  100.459999  97.339996   98.089996   98.089996   \n",
       "4558  2022-09-28   98.019997  101.400002  97.800003  100.739998  100.739998   \n",
       "4559  2022-09-29   99.300003   99.300003  96.519997   98.089996   98.089996   \n",
       "\n",
       "        Volume  \n",
       "3616  30652000  \n",
       "3617  36822000  \n",
       "3618  41878000  \n",
       "3619  39638000  \n",
       "3620  35298000  \n",
       "...        ...  \n",
       "4555  25645100  \n",
       "4556  22437900  \n",
       "4557  24225000  \n",
       "4558  24617000  \n",
       "4559  21921500  \n",
       "\n",
       "[944 rows x 7 columns]"
      ]
     },
     "execution_count": 7,
     "metadata": {},
     "output_type": "execute_result"
    }
   ],
   "source": [
    "testing_set = data[data['Date']>='2019-01-01'].copy()\n",
    "testing_set"
   ]
  },
  {
   "cell_type": "markdown",
   "id": "55b9b58b",
   "metadata": {},
   "source": [
    "I will drop 2 features which will not be used for the problem. Date and Adj Close will not be used. "
   ]
  },
  {
   "cell_type": "code",
   "execution_count": 8,
   "id": "680c4c60",
   "metadata": {},
   "outputs": [
    {
     "data": {
      "text/html": [
       "<div>\n",
       "<style scoped>\n",
       "    .dataframe tbody tr th:only-of-type {\n",
       "        vertical-align: middle;\n",
       "    }\n",
       "\n",
       "    .dataframe tbody tr th {\n",
       "        vertical-align: top;\n",
       "    }\n",
       "\n",
       "    .dataframe thead th {\n",
       "        text-align: right;\n",
       "    }\n",
       "</style>\n",
       "<table border=\"1\" class=\"dataframe\">\n",
       "  <thead>\n",
       "    <tr style=\"text-align: right;\">\n",
       "      <th></th>\n",
       "      <th>Open</th>\n",
       "      <th>High</th>\n",
       "      <th>Low</th>\n",
       "      <th>Close</th>\n",
       "      <th>Volume</th>\n",
       "    </tr>\n",
       "  </thead>\n",
       "  <tbody>\n",
       "    <tr>\n",
       "      <th>0</th>\n",
       "      <td>2.515820</td>\n",
       "      <td>2.716817</td>\n",
       "      <td>2.503118</td>\n",
       "      <td>2.697639</td>\n",
       "      <td>458857488</td>\n",
       "    </tr>\n",
       "    <tr>\n",
       "      <th>1</th>\n",
       "      <td>2.758411</td>\n",
       "      <td>2.826406</td>\n",
       "      <td>2.716070</td>\n",
       "      <td>2.724787</td>\n",
       "      <td>366857939</td>\n",
       "    </tr>\n",
       "    <tr>\n",
       "      <th>2</th>\n",
       "      <td>2.770615</td>\n",
       "      <td>2.779581</td>\n",
       "      <td>2.579581</td>\n",
       "      <td>2.611960</td>\n",
       "      <td>306396159</td>\n",
       "    </tr>\n",
       "    <tr>\n",
       "      <th>3</th>\n",
       "      <td>2.614201</td>\n",
       "      <td>2.689918</td>\n",
       "      <td>2.587302</td>\n",
       "      <td>2.640104</td>\n",
       "      <td>184645512</td>\n",
       "    </tr>\n",
       "    <tr>\n",
       "      <th>4</th>\n",
       "      <td>2.613952</td>\n",
       "      <td>2.688672</td>\n",
       "      <td>2.606729</td>\n",
       "      <td>2.687676</td>\n",
       "      <td>142572401</td>\n",
       "    </tr>\n",
       "    <tr>\n",
       "      <th>...</th>\n",
       "      <td>...</td>\n",
       "      <td>...</td>\n",
       "      <td>...</td>\n",
       "      <td>...</td>\n",
       "      <td>...</td>\n",
       "    </tr>\n",
       "    <tr>\n",
       "      <th>3611</th>\n",
       "      <td>48.695000</td>\n",
       "      <td>50.176998</td>\n",
       "      <td>48.505501</td>\n",
       "      <td>48.811001</td>\n",
       "      <td>31806000</td>\n",
       "    </tr>\n",
       "    <tr>\n",
       "      <th>3612</th>\n",
       "      <td>49.450500</td>\n",
       "      <td>52.000000</td>\n",
       "      <td>49.150002</td>\n",
       "      <td>51.973000</td>\n",
       "      <td>47466000</td>\n",
       "    </tr>\n",
       "    <tr>\n",
       "      <th>3613</th>\n",
       "      <td>50.857498</td>\n",
       "      <td>52.194500</td>\n",
       "      <td>49.849998</td>\n",
       "      <td>52.194000</td>\n",
       "      <td>42196000</td>\n",
       "    </tr>\n",
       "    <tr>\n",
       "      <th>3614</th>\n",
       "      <td>52.480999</td>\n",
       "      <td>52.778000</td>\n",
       "      <td>51.654999</td>\n",
       "      <td>51.854000</td>\n",
       "      <td>28296000</td>\n",
       "    </tr>\n",
       "    <tr>\n",
       "      <th>3615</th>\n",
       "      <td>52.548000</td>\n",
       "      <td>52.634998</td>\n",
       "      <td>51.179501</td>\n",
       "      <td>51.780499</td>\n",
       "      <td>29866000</td>\n",
       "    </tr>\n",
       "  </tbody>\n",
       "</table>\n",
       "<p>3616 rows × 5 columns</p>\n",
       "</div>"
      ],
      "text/plain": [
       "           Open       High        Low      Close     Volume\n",
       "0      2.515820   2.716817   2.503118   2.697639  458857488\n",
       "1      2.758411   2.826406   2.716070   2.724787  366857939\n",
       "2      2.770615   2.779581   2.579581   2.611960  306396159\n",
       "3      2.614201   2.689918   2.587302   2.640104  184645512\n",
       "4      2.613952   2.688672   2.606729   2.687676  142572401\n",
       "...         ...        ...        ...        ...        ...\n",
       "3611  48.695000  50.176998  48.505501  48.811001   31806000\n",
       "3612  49.450500  52.000000  49.150002  51.973000   47466000\n",
       "3613  50.857498  52.194500  49.849998  52.194000   42196000\n",
       "3614  52.480999  52.778000  51.654999  51.854000   28296000\n",
       "3615  52.548000  52.634998  51.179501  51.780499   29866000\n",
       "\n",
       "[3616 rows x 5 columns]"
      ]
     },
     "execution_count": 8,
     "metadata": {},
     "output_type": "execute_result"
    }
   ],
   "source": [
    "training_set = training_set.drop(['Date', 'Adj Close'], axis=1)\n",
    "training_set"
   ]
  },
  {
   "cell_type": "code",
   "execution_count": 9,
   "id": "4df55b36",
   "metadata": {},
   "outputs": [
    {
     "data": {
      "text/html": [
       "<div>\n",
       "<style scoped>\n",
       "    .dataframe tbody tr th:only-of-type {\n",
       "        vertical-align: middle;\n",
       "    }\n",
       "\n",
       "    .dataframe tbody tr th {\n",
       "        vertical-align: top;\n",
       "    }\n",
       "\n",
       "    .dataframe thead th {\n",
       "        text-align: right;\n",
       "    }\n",
       "</style>\n",
       "<table border=\"1\" class=\"dataframe\">\n",
       "  <thead>\n",
       "    <tr style=\"text-align: right;\">\n",
       "      <th></th>\n",
       "      <th>Open</th>\n",
       "      <th>High</th>\n",
       "      <th>Low</th>\n",
       "      <th>Close</th>\n",
       "      <th>Volume</th>\n",
       "    </tr>\n",
       "  </thead>\n",
       "  <tbody>\n",
       "    <tr>\n",
       "      <th>3616</th>\n",
       "      <td>50.828499</td>\n",
       "      <td>52.616001</td>\n",
       "      <td>50.785500</td>\n",
       "      <td>52.292500</td>\n",
       "      <td>30652000</td>\n",
       "    </tr>\n",
       "    <tr>\n",
       "      <th>3617</th>\n",
       "      <td>52.049999</td>\n",
       "      <td>52.848999</td>\n",
       "      <td>50.703499</td>\n",
       "      <td>50.803001</td>\n",
       "      <td>36822000</td>\n",
       "    </tr>\n",
       "    <tr>\n",
       "      <th>3618</th>\n",
       "      <td>51.629501</td>\n",
       "      <td>53.542000</td>\n",
       "      <td>51.370899</td>\n",
       "      <td>53.535500</td>\n",
       "      <td>41878000</td>\n",
       "    </tr>\n",
       "    <tr>\n",
       "      <th>3619</th>\n",
       "      <td>53.575001</td>\n",
       "      <td>53.700001</td>\n",
       "      <td>52.737999</td>\n",
       "      <td>53.419498</td>\n",
       "      <td>39638000</td>\n",
       "    </tr>\n",
       "    <tr>\n",
       "      <th>3620</th>\n",
       "      <td>53.805500</td>\n",
       "      <td>54.228001</td>\n",
       "      <td>53.026501</td>\n",
       "      <td>53.813999</td>\n",
       "      <td>35298000</td>\n",
       "    </tr>\n",
       "    <tr>\n",
       "      <th>...</th>\n",
       "      <td>...</td>\n",
       "      <td>...</td>\n",
       "      <td>...</td>\n",
       "      <td>...</td>\n",
       "      <td>...</td>\n",
       "    </tr>\n",
       "    <tr>\n",
       "      <th>4555</th>\n",
       "      <td>100.059998</td>\n",
       "      <td>100.110001</td>\n",
       "      <td>98.010002</td>\n",
       "      <td>99.169998</td>\n",
       "      <td>25645100</td>\n",
       "    </tr>\n",
       "    <tr>\n",
       "      <th>4556</th>\n",
       "      <td>98.610001</td>\n",
       "      <td>100.440002</td>\n",
       "      <td>98.379997</td>\n",
       "      <td>98.809998</td>\n",
       "      <td>22437900</td>\n",
       "    </tr>\n",
       "    <tr>\n",
       "      <th>4557</th>\n",
       "      <td>99.910004</td>\n",
       "      <td>100.459999</td>\n",
       "      <td>97.339996</td>\n",
       "      <td>98.089996</td>\n",
       "      <td>24225000</td>\n",
       "    </tr>\n",
       "    <tr>\n",
       "      <th>4558</th>\n",
       "      <td>98.019997</td>\n",
       "      <td>101.400002</td>\n",
       "      <td>97.800003</td>\n",
       "      <td>100.739998</td>\n",
       "      <td>24617000</td>\n",
       "    </tr>\n",
       "    <tr>\n",
       "      <th>4559</th>\n",
       "      <td>99.300003</td>\n",
       "      <td>99.300003</td>\n",
       "      <td>96.519997</td>\n",
       "      <td>98.089996</td>\n",
       "      <td>21921500</td>\n",
       "    </tr>\n",
       "  </tbody>\n",
       "</table>\n",
       "<p>944 rows × 5 columns</p>\n",
       "</div>"
      ],
      "text/plain": [
       "            Open        High        Low       Close    Volume\n",
       "3616   50.828499   52.616001  50.785500   52.292500  30652000\n",
       "3617   52.049999   52.848999  50.703499   50.803001  36822000\n",
       "3618   51.629501   53.542000  51.370899   53.535500  41878000\n",
       "3619   53.575001   53.700001  52.737999   53.419498  39638000\n",
       "3620   53.805500   54.228001  53.026501   53.813999  35298000\n",
       "...          ...         ...        ...         ...       ...\n",
       "4555  100.059998  100.110001  98.010002   99.169998  25645100\n",
       "4556   98.610001  100.440002  98.379997   98.809998  22437900\n",
       "4557   99.910004  100.459999  97.339996   98.089996  24225000\n",
       "4558   98.019997  101.400002  97.800003  100.739998  24617000\n",
       "4559   99.300003   99.300003  96.519997   98.089996  21921500\n",
       "\n",
       "[944 rows x 5 columns]"
      ]
     },
     "execution_count": 9,
     "metadata": {},
     "output_type": "execute_result"
    }
   ],
   "source": [
    "testing_set = testing_set.drop(['Date', 'Adj Close'], axis=1)\n",
    "testing_set"
   ]
  },
  {
   "cell_type": "markdown",
   "id": "2e5366b8",
   "metadata": {},
   "source": [
    "Standardize the training data."
   ]
  },
  {
   "cell_type": "code",
   "execution_count": 10,
   "id": "2e926eee",
   "metadata": {},
   "outputs": [
    {
     "data": {
      "text/plain": [
       "array([[7.42147420e-04, 2.98910254e-03, 6.47726513e-04, 3.39309000e-03,\n",
       "        2.77885883e-01],\n",
       "       [4.71387221e-03, 4.78092902e-03, 4.19771124e-03, 3.83868275e-03,\n",
       "        2.22151354e-01],\n",
       "       [4.91367735e-03, 4.01532048e-03, 1.92239161e-03, 1.98680072e-03,\n",
       "        1.85522817e-01],\n",
       "       ...,\n",
       "       [7.92197069e-01, 8.11970138e-01, 7.89936866e-01, 8.15799887e-01,\n",
       "        2.54669070e-02],\n",
       "       [8.18777194e-01, 8.21510610e-01, 8.20026867e-01, 8.10219309e-01,\n",
       "        1.70461053e-02],\n",
       "       [8.19874141e-01, 8.19172467e-01, 8.12100148e-01, 8.09012903e-01,\n",
       "        1.79972318e-02]])"
      ]
     },
     "execution_count": 10,
     "metadata": {},
     "output_type": "execute_result"
    }
   ],
   "source": [
    "scaler = MinMaxScaler()\n",
    "training_set = scaler.fit_transform(training_set)\n",
    "training_set"
   ]
  },
  {
   "cell_type": "markdown",
   "id": "7302e9cf",
   "metadata": {},
   "source": [
    "Build the training dataset. \n",
    "\n",
    "I will augment the dataset by making each data point's x-value to be the 30 day history of the data. The y-value will be the 30th day's open stock price. Essentially, each day's open stock price will be associated with a 30 day history leading up to that day. "
   ]
  },
  {
   "cell_type": "code",
   "execution_count": 11,
   "id": "6de91cc6",
   "metadata": {},
   "outputs": [],
   "source": [
    "x_train = []\n",
    "y_train = []\n",
    "\n",
    "for i in range(30, training_set.shape[0]):\n",
    "    # append 30 day slice\n",
    "    x_train.append(training_set[i-30:i])\n",
    "    # append the 30th day, but only the target feature\n",
    "    y_train.append(training_set[i, 0])\n",
    "\n",
    "# turn the lists into numpy objects\n",
    "x_train = np.array(x_train)\n",
    "y_train = np.array(y_train)"
   ]
  },
  {
   "cell_type": "markdown",
   "id": "3f348e52",
   "metadata": {},
   "source": [
    "Now we see that the x train is made of roughly 3500 data points, where each point contains a 30 history of the 5 features we have in the dataset. "
   ]
  },
  {
   "cell_type": "code",
   "execution_count": 12,
   "id": "e93d9a39",
   "metadata": {},
   "outputs": [
    {
     "data": {
      "text/plain": [
       "(3586, 30, 5)"
      ]
     },
     "execution_count": 12,
     "metadata": {},
     "output_type": "execute_result"
    }
   ],
   "source": [
    "x_train.shape"
   ]
  },
  {
   "cell_type": "markdown",
   "id": "b8f1b1dd",
   "metadata": {},
   "source": [
    "The y train is similar, except it is just a vector corresponding to the 30th day's open stock price. "
   ]
  },
  {
   "cell_type": "code",
   "execution_count": 13,
   "id": "8027ea9a",
   "metadata": {},
   "outputs": [
    {
     "data": {
      "text/plain": [
       "(3586,)"
      ]
     },
     "execution_count": 13,
     "metadata": {},
     "output_type": "execute_result"
    }
   ],
   "source": [
    "y_train.shape"
   ]
  },
  {
   "cell_type": "markdown",
   "id": "d00d5898",
   "metadata": {},
   "source": [
    "Standardize the testing data"
   ]
  },
  {
   "cell_type": "code",
   "execution_count": 14,
   "id": "345060b7",
   "metadata": {},
   "outputs": [],
   "source": [
    "scaler = MinMaxScaler()\n",
    "testing_set = scaler.fit_transform(testing_set)"
   ]
  },
  {
   "cell_type": "markdown",
   "id": "6481f648",
   "metadata": {},
   "source": [
    "I'll build the testing set in the same way as the training dataset"
   ]
  },
  {
   "cell_type": "code",
   "execution_count": 15,
   "id": "edc6a9ac",
   "metadata": {},
   "outputs": [],
   "source": [
    "x_test = []\n",
    "y_test = []\n",
    "for i in range(30, testing_set.shape[0]):\n",
    "    x_test.append(testing_set[i-30:i])\n",
    "    y_test.append(testing_set[i, 0])\n",
    "\n",
    "x_test = np.array(x_test)\n",
    "y_test = np.array(y_test)"
   ]
  },
  {
   "cell_type": "markdown",
   "id": "c745b619",
   "metadata": {},
   "source": [
    "# Building the model - Simple RNN\n",
    "\n",
    "First, I will use the Simple RNN from tensorflow to model this problem."
   ]
  },
  {
   "cell_type": "code",
   "execution_count": 16,
   "id": "4da339de",
   "metadata": {},
   "outputs": [],
   "source": [
    "from tensorflow.keras import Sequential\n",
    "from tensorflow.keras.layers import Dense, SimpleRNN, Input"
   ]
  },
  {
   "cell_type": "code",
   "execution_count": 17,
   "id": "84895ae9",
   "metadata": {},
   "outputs": [],
   "source": [
    "# use the Sequential API\n",
    "model = Sequential()\n",
    "\n",
    "# add input layer\n",
    "model.add(Input(shape=(x_train.shape[1], 5)))\n",
    "\n",
    "# add two SimpleRNN layers\n",
    "model.add(SimpleRNN(64, return_sequences=True, activation='relu'))\n",
    "model.add(SimpleRNN(128, activation='relu'))\n",
    "\n",
    "# finally, add a Dense layer as output\n",
    "model.add(Dense(1))"
   ]
  },
  {
   "cell_type": "code",
   "execution_count": 18,
   "id": "3c3415dc",
   "metadata": {},
   "outputs": [
    {
     "name": "stdout",
     "output_type": "stream",
     "text": [
      "Model: \"sequential\"\n",
      "_________________________________________________________________\n",
      " Layer (type)                Output Shape              Param #   \n",
      "=================================================================\n",
      " simple_rnn (SimpleRNN)      (None, 30, 64)            4480      \n",
      "                                                                 \n",
      " simple_rnn_1 (SimpleRNN)    (None, 128)               24704     \n",
      "                                                                 \n",
      " dense (Dense)               (None, 1)                 129       \n",
      "                                                                 \n",
      "=================================================================\n",
      "Total params: 29,313\n",
      "Trainable params: 29,313\n",
      "Non-trainable params: 0\n",
      "_________________________________________________________________\n"
     ]
    }
   ],
   "source": [
    "model.summary()"
   ]
  },
  {
   "cell_type": "markdown",
   "id": "46c75a69",
   "metadata": {},
   "source": [
    "Establish the optimizer and loss function for the model"
   ]
  },
  {
   "cell_type": "code",
   "execution_count": 19,
   "id": "2b049f30",
   "metadata": {},
   "outputs": [],
   "source": [
    "loss = tf.keras.losses.MeanSquaredError()\n",
    "optim = keras.optimizers.Adam(learning_rate=0.001)"
   ]
  },
  {
   "cell_type": "markdown",
   "id": "c7258487",
   "metadata": {},
   "source": [
    "Compile the model"
   ]
  },
  {
   "cell_type": "code",
   "execution_count": 20,
   "id": "5b3dbd9f",
   "metadata": {},
   "outputs": [],
   "source": [
    "model.compile(optimizer=optim, loss=loss)"
   ]
  },
  {
   "cell_type": "markdown",
   "id": "2b095858",
   "metadata": {},
   "source": [
    "Fit the model to the training data"
   ]
  },
  {
   "cell_type": "code",
   "execution_count": 21,
   "id": "38d702e5",
   "metadata": {},
   "outputs": [
    {
     "name": "stdout",
     "output_type": "stream",
     "text": [
      "Epoch 1/10\n",
      "113/113 [==============================] - 2s 4ms/step - loss: 0.0098\n",
      "Epoch 2/10\n",
      "113/113 [==============================] - 0s 4ms/step - loss: 7.3729e-05\n",
      "Epoch 3/10\n",
      "113/113 [==============================] - 0s 4ms/step - loss: 5.9704e-05\n",
      "Epoch 4/10\n",
      "113/113 [==============================] - 0s 4ms/step - loss: 6.5706e-05\n",
      "Epoch 5/10\n",
      "113/113 [==============================] - 0s 4ms/step - loss: 5.1010e-05\n",
      "Epoch 6/10\n",
      "113/113 [==============================] - 0s 4ms/step - loss: 4.4745e-05\n",
      "Epoch 7/10\n",
      "113/113 [==============================] - 0s 4ms/step - loss: 6.0702e-05\n",
      "Epoch 8/10\n",
      "113/113 [==============================] - 0s 4ms/step - loss: 4.0580e-05\n",
      "Epoch 9/10\n",
      "113/113 [==============================] - 0s 4ms/step - loss: 5.0468e-05\n",
      "Epoch 10/10\n",
      "113/113 [==============================] - 0s 4ms/step - loss: 3.9640e-05\n"
     ]
    }
   ],
   "source": [
    "history = model.fit(x_train, y_train, epochs=10)"
   ]
  },
  {
   "cell_type": "markdown",
   "id": "1e63f593",
   "metadata": {},
   "source": [
    "Plotting the Loss"
   ]
  },
  {
   "cell_type": "code",
   "execution_count": 22,
   "id": "55d987cd",
   "metadata": {},
   "outputs": [
    {
     "data": {
      "text/plain": [
       "[<matplotlib.lines.Line2D at 0x281ffd7b9a0>]"
      ]
     },
     "execution_count": 22,
     "metadata": {},
     "output_type": "execute_result"
    },
    {
     "data": {
      "image/png": "[encoded data removed]",
      "text/plain": [
       "<Figure size 432x288 with 1 Axes>"
      ]
     },
     "metadata": {
      "needs_background": "light"
     },
     "output_type": "display_data"
    }
   ],
   "source": [
    "plt.title(\"Loss\")\n",
    "plt.plot(history.history['loss'])"
   ]
  },
  {
   "cell_type": "markdown",
   "id": "c3779b3e",
   "metadata": {},
   "source": [
    "Make predictions using the model"
   ]
  },
  {
   "cell_type": "code",
   "execution_count": 23,
   "id": "59702310",
   "metadata": {},
   "outputs": [
    {
     "name": "stdout",
     "output_type": "stream",
     "text": [
      "29/29 [==============================] - 0s 2ms/step\n"
     ]
    }
   ],
   "source": [
    "y_pred = model.predict(x_test)"
   ]
  },
  {
   "cell_type": "markdown",
   "id": "efb36987",
   "metadata": {},
   "source": [
    "Since we are predicting continuous values, a good metric to measure performance is mean squared error. In general, our goal is to minimize the mean squared error. "
   ]
  },
  {
   "cell_type": "code",
   "execution_count": 24,
   "id": "fb55132d",
   "metadata": {},
   "outputs": [
    {
     "name": "stdout",
     "output_type": "stream",
     "text": [
      "Mean Squared Error: tf.Tensor(0.19074188605789272, shape=(), dtype=float64)\n"
     ]
    }
   ],
   "source": [
    "print(\"Mean Squared Error:\", loss(y_pred, y_test))"
   ]
  },
  {
   "cell_type": "markdown",
   "id": "afe6ca63",
   "metadata": {},
   "source": [
    "We have calculated the mean squared error, but it's hard to determine how good or bad this value it. To see how the model does, it's best to visualize the actual and predicted values on a graph."
   ]
  },
  {
   "cell_type": "code",
   "execution_count": 33,
   "id": "150e92a3",
   "metadata": {},
   "outputs": [
    {
     "data": {
      "image/png": "[encoded data removed]",
      "text/plain": [
       "<Figure size 1008x360 with 1 Axes>"
      ]
     },
     "metadata": {
      "needs_background": "light"
     },
     "output_type": "display_data"
    }
   ],
   "source": [
    "plt.figure(figsize=(14, 5))\n",
    "plt.plot(y_test, color='green', label=\"Actual GOOG stock price (Standardized)\")\n",
    "plt.plot(y_pred, color='red', label=\"Predicted GOOG stock price (Standardized)\")\n",
    "plt.title(\"GOOG Stock Price Prediction\")\n",
    "plt.xlabel(\"Time\")\n",
    "plt.ylabel(\"GOOG Open Stock Price\")\n",
    "plt.legend()\n",
    "plt.show()"
   ]
  },
  {
   "cell_type": "markdown",
   "id": "d8da3f22",
   "metadata": {},
   "source": [
    "The Red curve is the predicted stock price, and the green curve is the actual stock price. There are a few spots where the red curve doesn't quote match the green curve, but it's mostly spot on. "
   ]
  },
  {
   "cell_type": "markdown",
   "id": "d8c3f492",
   "metadata": {},
   "source": [
    "# Building the Model - LSTM"
   ]
  },
  {
   "cell_type": "markdown",
   "id": "5d4ff106",
   "metadata": {},
   "source": [
    "Now, I will substitute the SimpleRNN layers for LSTM layers, from the keras package. "
   ]
  },
  {
   "cell_type": "code",
   "execution_count": 34,
   "id": "c860f359",
   "metadata": {},
   "outputs": [],
   "source": [
    "from tensorflow.keras.layers import LSTM"
   ]
  },
  {
   "cell_type": "markdown",
   "id": "67025fc1",
   "metadata": {},
   "source": [
    "Redefine model"
   ]
  },
  {
   "cell_type": "code",
   "execution_count": 35,
   "id": "550db5a0",
   "metadata": {},
   "outputs": [],
   "source": [
    "# use the Sequential API\n",
    "model = Sequential()\n",
    "\n",
    "# add input layer\n",
    "model.add(Input(shape=(x_train.shape[1], 5)))\n",
    "\n",
    "# add two SimpleRNN layers\n",
    "model.add(LSTM(64, return_sequences=True, activation='tanh'))\n",
    "model.add(LSTM(128, activation='tanh'))\n",
    "\n",
    "# finally, add a Dense layer as output\n",
    "model.add(Dense(1))"
   ]
  },
  {
   "cell_type": "code",
   "execution_count": 36,
   "id": "92b2638f",
   "metadata": {},
   "outputs": [
    {
     "name": "stdout",
     "output_type": "stream",
     "text": [
      "Model: \"sequential_1\"\n",
      "_________________________________________________________________\n",
      " Layer (type)                Output Shape              Param #   \n",
      "=================================================================\n",
      " lstm (LSTM)                 (None, 30, 64)            17920     \n",
      "                                                                 \n",
      " lstm_1 (LSTM)               (None, 128)               98816     \n",
      "                                                                 \n",
      " dense_1 (Dense)             (None, 1)                 129       \n",
      "                                                                 \n",
      "=================================================================\n",
      "Total params: 116,865\n",
      "Trainable params: 116,865\n",
      "Non-trainable params: 0\n",
      "_________________________________________________________________\n"
     ]
    }
   ],
   "source": [
    "model.summary()"
   ]
  },
  {
   "cell_type": "markdown",
   "id": "be1828ea",
   "metadata": {},
   "source": [
    "I will use the same optimizer and loss function as before, to make this a more fair comparison."
   ]
  },
  {
   "cell_type": "code",
   "execution_count": 37,
   "id": "f5166d68",
   "metadata": {},
   "outputs": [],
   "source": [
    "loss = tf.keras.losses.MeanSquaredError()\n",
    "optim = keras.optimizers.Adam(learning_rate=0.001)"
   ]
  },
  {
   "cell_type": "markdown",
   "id": "44ca8a69",
   "metadata": {},
   "source": [
    "Compile model"
   ]
  },
  {
   "cell_type": "code",
   "execution_count": 38,
   "id": "246ed679",
   "metadata": {},
   "outputs": [],
   "source": [
    "model.compile(optimizer=optim, loss=loss)"
   ]
  },
  {
   "cell_type": "markdown",
   "id": "e1225d64",
   "metadata": {},
   "source": [
    "Re-fit model to training data"
   ]
  },
  {
   "cell_type": "code",
   "execution_count": 39,
   "id": "c7eed1b4",
   "metadata": {},
   "outputs": [
    {
     "name": "stdout",
     "output_type": "stream",
     "text": [
      "Epoch 1/10\n",
      "113/113 [==============================] - 4s 16ms/step - loss: 0.0026\n",
      "Epoch 2/10\n",
      "113/113 [==============================] - 2s 16ms/step - loss: 1.9828e-04\n",
      "Epoch 3/10\n",
      "113/113 [==============================] - 2s 15ms/step - loss: 2.0806e-04\n",
      "Epoch 4/10\n",
      "113/113 [==============================] - 2s 15ms/step - loss: 1.8484e-04\n",
      "Epoch 5/10\n",
      "113/113 [==============================] - 2s 15ms/step - loss: 1.8166e-04\n",
      "Epoch 6/10\n",
      "113/113 [==============================] - 2s 16ms/step - loss: 1.6874e-04\n",
      "Epoch 7/10\n",
      "113/113 [==============================] - 2s 16ms/step - loss: 1.4612e-04\n",
      "Epoch 8/10\n",
      "113/113 [==============================] - 2s 16ms/step - loss: 1.3224e-04\n",
      "Epoch 9/10\n",
      "113/113 [==============================] - 2s 15ms/step - loss: 1.3150e-04\n",
      "Epoch 10/10\n",
      "113/113 [==============================] - 2s 15ms/step - loss: 1.2955e-04\n"
     ]
    }
   ],
   "source": [
    "history = model.fit(x_train, y_train, epochs=10)"
   ]
  },
  {
   "cell_type": "markdown",
   "id": "f58c6d7d",
   "metadata": {},
   "source": [
    "Plotting the Loss"
   ]
  },
  {
   "cell_type": "code",
   "execution_count": 40,
   "id": "c59f595b",
   "metadata": {},
   "outputs": [
    {
     "data": {
      "text/plain": [
       "[<matplotlib.lines.Line2D at 0x281831b1850>]"
      ]
     },
     "execution_count": 40,
     "metadata": {},
     "output_type": "execute_result"
    },
    {
     "data": {
      "image/png": "[encoded data removed]",
      "text/plain": [
       "<Figure size 432x288 with 1 Axes>"
      ]
     },
     "metadata": {
      "needs_background": "light"
     },
     "output_type": "display_data"
    }
   ],
   "source": [
    "plt.title(\"Loss\")\n",
    "plt.plot(history.history['loss'])"
   ]
  },
  {
   "cell_type": "markdown",
   "id": "bb118901",
   "metadata": {},
   "source": [
    "Now let's make our predictions and measure the mean squared error."
   ]
  },
  {
   "cell_type": "code",
   "execution_count": 41,
   "id": "5a9521cd",
   "metadata": {},
   "outputs": [
    {
     "name": "stdout",
     "output_type": "stream",
     "text": [
      "29/29 [==============================] - 1s 5ms/step\n"
     ]
    }
   ],
   "source": [
    "y_pred = model.predict(x_test)"
   ]
  },
  {
   "cell_type": "code",
   "execution_count": 42,
   "id": "2b3d07e2",
   "metadata": {},
   "outputs": [
    {
     "name": "stdout",
     "output_type": "stream",
     "text": [
      "Mean Squared Error: tf.Tensor(0.19371061644785492, shape=(), dtype=float64)\n"
     ]
    }
   ],
   "source": [
    "print(\"Mean Squared Error:\", loss(y_pred, y_test))"
   ]
  },
  {
   "cell_type": "markdown",
   "id": "0dd184b2",
   "metadata": {},
   "source": [
    "The mean squared error for the LSTM model is actually a little higher, though the difference is very minimal. We can probably expect the graph to look similar, so let's graph it. "
   ]
  },
  {
   "cell_type": "code",
   "execution_count": 43,
   "id": "cd1fac6f",
   "metadata": {},
   "outputs": [
    {
     "data": {
      "image/png": "[encoded data removed]",
      "text/plain": [
       "<Figure size 1008x360 with 1 Axes>"
      ]
     },
     "metadata": {
      "needs_background": "light"
     },
     "output_type": "display_data"
    }
   ],
   "source": [
    "plt.figure(figsize=(14, 5))\n",
    "plt.plot(y_test, color='green', label=\"Actual GOOG stock price (Standardized)\")\n",
    "plt.plot(y_pred, color='red', label=\"Predicted GOOG stock price (Standardized)\")\n",
    "plt.title(\"GOOG Stock Price Prediction\")\n",
    "plt.xlabel(\"Time\")\n",
    "plt.ylabel(\"GOOG Open Stock Price\")\n",
    "plt.legend()\n",
    "plt.show()"
   ]
  },
  {
   "cell_type": "markdown",
   "id": "60b0225b",
   "metadata": {},
   "source": [
    "As expected, the graph is similar to the SimpleRNN results, though this graph certainly has its differences. The major difference for the LSTM prediction is that there is a smooth contour for the predicted curve. This could indicate that the LSTM model will generalize better to other data. The SimpleRNN prediction seemed to model all the sharp changes in the GOOG dataset well, but this could indicate that the SimpleRNN has overfit."
   ]
  },
  {
   "cell_type": "markdown",
   "id": "541cfd29",
   "metadata": {},
   "source": [
    "# Building the Model - GRU"
   ]
  },
  {
   "cell_type": "markdown",
   "id": "be6e6324",
   "metadata": {},
   "source": [
    "Now I will substitute the LSTM layers for the GRU layers (keras)"
   ]
  },
  {
   "cell_type": "code",
   "execution_count": 45,
   "id": "8628a00c",
   "metadata": {},
   "outputs": [],
   "source": [
    "from tensorflow.keras.layers import GRU"
   ]
  },
  {
   "cell_type": "markdown",
   "id": "c9f3809b",
   "metadata": {},
   "source": [
    "Redefine model"
   ]
  },
  {
   "cell_type": "code",
   "execution_count": 46,
   "id": "ba38878d",
   "metadata": {},
   "outputs": [],
   "source": [
    "# use the Sequential API\n",
    "model = Sequential()\n",
    "\n",
    "# add input layer\n",
    "model.add(Input(shape=(x_train.shape[1], 5)))\n",
    "\n",
    "# add two SimpleRNN layers\n",
    "model.add(GRU(64, return_sequences=True, activation='tanh'))\n",
    "model.add(GRU(128, activation='tanh'))\n",
    "\n",
    "# finally, add a Dense layer as output\n",
    "model.add(Dense(1))"
   ]
  },
  {
   "cell_type": "code",
   "execution_count": 47,
   "id": "27bb05df",
   "metadata": {},
   "outputs": [
    {
     "name": "stdout",
     "output_type": "stream",
     "text": [
      "Model: \"sequential_2\"\n",
      "_________________________________________________________________\n",
      " Layer (type)                Output Shape              Param #   \n",
      "=================================================================\n",
      " gru (GRU)                   (None, 30, 64)            13632     \n",
      "                                                                 \n",
      " gru_1 (GRU)                 (None, 128)               74496     \n",
      "                                                                 \n",
      " dense_2 (Dense)             (None, 1)                 129       \n",
      "                                                                 \n",
      "=================================================================\n",
      "Total params: 88,257\n",
      "Trainable params: 88,257\n",
      "Non-trainable params: 0\n",
      "_________________________________________________________________\n"
     ]
    }
   ],
   "source": [
    "model.summary()"
   ]
  },
  {
   "cell_type": "markdown",
   "id": "473a9f44",
   "metadata": {},
   "source": [
    "I'll continue to use the same loss function and optimization"
   ]
  },
  {
   "cell_type": "code",
   "execution_count": 48,
   "id": "74d7d465",
   "metadata": {},
   "outputs": [],
   "source": [
    "loss = tf.keras.losses.MeanSquaredError()\n",
    "optim = keras.optimizers.Adam(learning_rate=0.001)"
   ]
  },
  {
   "cell_type": "markdown",
   "id": "a0110ba4",
   "metadata": {},
   "source": [
    "Compile model"
   ]
  },
  {
   "cell_type": "code",
   "execution_count": 49,
   "id": "2a333439",
   "metadata": {},
   "outputs": [],
   "source": [
    "model.compile(optimizer=optim, loss=loss)"
   ]
  },
  {
   "cell_type": "markdown",
   "id": "ca43ef22",
   "metadata": {},
   "source": [
    "Fit new model to training data"
   ]
  },
  {
   "cell_type": "code",
   "execution_count": 50,
   "id": "238a7326",
   "metadata": {},
   "outputs": [
    {
     "name": "stdout",
     "output_type": "stream",
     "text": [
      "Epoch 1/10\n",
      "113/113 [==============================] - 4s 14ms/step - loss: 0.0032\n",
      "Epoch 2/10\n",
      "113/113 [==============================] - 2s 14ms/step - loss: 6.8962e-05\n",
      "Epoch 3/10\n",
      "113/113 [==============================] - 2s 14ms/step - loss: 6.2079e-05\n",
      "Epoch 4/10\n",
      "113/113 [==============================] - 2s 14ms/step - loss: 5.9519e-05\n",
      "Epoch 5/10\n",
      "113/113 [==============================] - 2s 14ms/step - loss: 4.9218e-05\n",
      "Epoch 6/10\n",
      "113/113 [==============================] - 2s 14ms/step - loss: 5.0553e-05\n",
      "Epoch 7/10\n",
      "113/113 [==============================] - 2s 14ms/step - loss: 4.6146e-05\n",
      "Epoch 8/10\n",
      "113/113 [==============================] - 2s 14ms/step - loss: 4.3025e-05\n",
      "Epoch 9/10\n",
      "113/113 [==============================] - 2s 14ms/step - loss: 4.3222e-05\n",
      "Epoch 10/10\n",
      "113/113 [==============================] - 2s 14ms/step - loss: 3.6034e-05\n"
     ]
    }
   ],
   "source": [
    "history = model.fit(x_train, y_train, epochs=10)"
   ]
  },
  {
   "cell_type": "markdown",
   "id": "d36034a3",
   "metadata": {},
   "source": [
    "Plotting the Loss"
   ]
  },
  {
   "cell_type": "code",
   "execution_count": 51,
   "id": "93de6ed0",
   "metadata": {},
   "outputs": [
    {
     "data": {
      "text/plain": [
       "[<matplotlib.lines.Line2D at 0x281820f15b0>]"
      ]
     },
     "execution_count": 51,
     "metadata": {},
     "output_type": "execute_result"
    },
    {
     "data": {
      "image/png": "[encoded data removed]",
      "text/plain": [
       "<Figure size 432x288 with 1 Axes>"
      ]
     },
     "metadata": {
      "needs_background": "light"
     },
     "output_type": "display_data"
    }
   ],
   "source": [
    "plt.title(\"Loss\")\n",
    "plt.plot(history.history['loss'])"
   ]
  },
  {
   "cell_type": "markdown",
   "id": "35a50094",
   "metadata": {},
   "source": [
    "The Loss graphs for all three models are very similar in behavior. This makes sense, as the three models tested are build using the same API/structure, and all use some form of RNN layers."
   ]
  },
  {
   "cell_type": "markdown",
   "id": "6645fd0e",
   "metadata": {},
   "source": [
    "Let's make the predictions and calculate the MSE."
   ]
  },
  {
   "cell_type": "code",
   "execution_count": 52,
   "id": "394cf617",
   "metadata": {},
   "outputs": [
    {
     "name": "stdout",
     "output_type": "stream",
     "text": [
      "29/29 [==============================] - 1s 4ms/step\n"
     ]
    }
   ],
   "source": [
    "y_pred = model.predict(x_test)"
   ]
  },
  {
   "cell_type": "code",
   "execution_count": 53,
   "id": "74c0c8bc",
   "metadata": {},
   "outputs": [
    {
     "name": "stdout",
     "output_type": "stream",
     "text": [
      "Mean Squared Error: tf.Tensor(0.1904105653100564, shape=(), dtype=float64)\n"
     ]
    }
   ],
   "source": [
    "print(\"Mean Squared Error:\", loss(y_pred, y_test))"
   ]
  },
  {
   "cell_type": "markdown",
   "id": "5d853b11",
   "metadata": {},
   "source": [
    "The MSE for the GRU based model is the lowest of the three models, though the difference is quite minimal. "
   ]
  },
  {
   "cell_type": "markdown",
   "id": "c7b9fe2e",
   "metadata": {},
   "source": [
    "Finally, let's visualize the predictions, and observe the characteristics of the model's predicted curve."
   ]
  },
  {
   "cell_type": "code",
   "execution_count": 54,
   "id": "02a76cd5",
   "metadata": {},
   "outputs": [
    {
     "data": {
      "image/png": "[encoded data removed]",
      "text/plain": [
       "<Figure size 1008x360 with 1 Axes>"
      ]
     },
     "metadata": {
      "needs_background": "light"
     },
     "output_type": "display_data"
    }
   ],
   "source": [
    "plt.figure(figsize=(14, 5))\n",
    "plt.plot(y_test, color='green', label=\"Actual GOOG stock price (Standardized)\")\n",
    "plt.plot(y_pred, color='red', label=\"Predicted GOOG stock price (Standardized)\")\n",
    "plt.title(\"GOOG Stock Price Prediction\")\n",
    "plt.xlabel(\"Time\")\n",
    "plt.ylabel(\"GOOG Open Stock Price\")\n",
    "plt.legend()\n",
    "plt.show()"
   ]
  },
  {
   "cell_type": "markdown",
   "id": "3bd8ab47",
   "metadata": {},
   "source": [
    "It seems like this curve is somewhere in between the SimpleRNN model and the LSTM model. The contour of this curve is smoother than the SimpleRNN (though it is close), but this model clearly offers a better fit than the LSTM model. "
   ]
  },
  {
   "cell_type": "code",
   "execution_count": null,
   "id": "f0d5b0af",
   "metadata": {},
   "outputs": [],
   "source": []
  }
 ],
 "metadata": {
  "kernelspec": {
   "display_name": "Python 3 (ipykernel)",
   "language": "python",
   "name": "python3"
  },
  "language_info": {
   "codemirror_mode": {
    "name": "ipython",
    "version": 3
   },
   "file_extension": ".py",
   "mimetype": "text/x-python",
   "name": "python",
   "nbconvert_exporter": "python",
   "pygments_lexer": "ipython3",
   "version": "3.9.12"
  }
 },
 "nbformat": 4,
 "nbformat_minor": 5
}
