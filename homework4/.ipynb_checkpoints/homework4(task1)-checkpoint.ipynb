{
 "cells": [
  {
   "cell_type": "markdown",
   "id": "6f3c29bc",
   "metadata": {},
   "source": [
    "# Import Dependncies"
   ]
  },
  {
   "cell_type": "code",
   "execution_count": 1,
   "id": "b97e4f16",
   "metadata": {},
   "outputs": [],
   "source": [
    "import numpy as np\n",
    "import pandas as pd\n",
    "import tensorflow as tf\n",
    "from tensorflow import keras\n",
    "import matplotlib.pyplot as plt"
   ]
  },
  {
   "cell_type": "markdown",
   "id": "73087e73",
   "metadata": {},
   "source": [
    "# Task1: Solving A Problem using RNNs"
   ]
  },
  {
   "cell_type": "code",
   "execution_count": 2,
   "id": "44268a82",
   "metadata": {},
   "outputs": [],
   "source": [
    "data = pd.read_csv(\"GOOG.csv\", date_parser=True)"
   ]
  },
  {
   "cell_type": "code",
   "execution_count": 3,
   "id": "d34cd706",
   "metadata": {},
   "outputs": [
    {
     "data": {
      "text/html": [
       "<div>\n",
       "<style scoped>\n",
       "    .dataframe tbody tr th:only-of-type {\n",
       "        vertical-align: middle;\n",
       "    }\n",
       "\n",
       "    .dataframe tbody tr th {\n",
       "        vertical-align: top;\n",
       "    }\n",
       "\n",
       "    .dataframe thead th {\n",
       "        text-align: right;\n",
       "    }\n",
       "</style>\n",
       "<table border=\"1\" class=\"dataframe\">\n",
       "  <thead>\n",
       "    <tr style=\"text-align: right;\">\n",
       "      <th></th>\n",
       "      <th>Date</th>\n",
       "      <th>Open</th>\n",
       "      <th>High</th>\n",
       "      <th>Low</th>\n",
       "      <th>Close</th>\n",
       "      <th>Adj Close</th>\n",
       "      <th>Volume</th>\n",
       "    </tr>\n",
       "  </thead>\n",
       "  <tbody>\n",
       "    <tr>\n",
       "      <th>0</th>\n",
       "      <td>2004-08-20</td>\n",
       "      <td>2.515820</td>\n",
       "      <td>2.716817</td>\n",
       "      <td>2.503118</td>\n",
       "      <td>2.697639</td>\n",
       "      <td>2.697639</td>\n",
       "      <td>458857488</td>\n",
       "    </tr>\n",
       "    <tr>\n",
       "      <th>1</th>\n",
       "      <td>2004-08-23</td>\n",
       "      <td>2.758411</td>\n",
       "      <td>2.826406</td>\n",
       "      <td>2.716070</td>\n",
       "      <td>2.724787</td>\n",
       "      <td>2.724787</td>\n",
       "      <td>366857939</td>\n",
       "    </tr>\n",
       "    <tr>\n",
       "      <th>2</th>\n",
       "      <td>2004-08-24</td>\n",
       "      <td>2.770615</td>\n",
       "      <td>2.779581</td>\n",
       "      <td>2.579581</td>\n",
       "      <td>2.611960</td>\n",
       "      <td>2.611960</td>\n",
       "      <td>306396159</td>\n",
       "    </tr>\n",
       "    <tr>\n",
       "      <th>3</th>\n",
       "      <td>2004-08-25</td>\n",
       "      <td>2.614201</td>\n",
       "      <td>2.689918</td>\n",
       "      <td>2.587302</td>\n",
       "      <td>2.640104</td>\n",
       "      <td>2.640104</td>\n",
       "      <td>184645512</td>\n",
       "    </tr>\n",
       "    <tr>\n",
       "      <th>4</th>\n",
       "      <td>2004-08-26</td>\n",
       "      <td>2.613952</td>\n",
       "      <td>2.688672</td>\n",
       "      <td>2.606729</td>\n",
       "      <td>2.687676</td>\n",
       "      <td>2.687676</td>\n",
       "      <td>142572401</td>\n",
       "    </tr>\n",
       "  </tbody>\n",
       "</table>\n",
       "</div>"
      ],
      "text/plain": [
       "         Date      Open      High       Low     Close  Adj Close     Volume\n",
       "0  2004-08-20  2.515820  2.716817  2.503118  2.697639   2.697639  458857488\n",
       "1  2004-08-23  2.758411  2.826406  2.716070  2.724787   2.724787  366857939\n",
       "2  2004-08-24  2.770615  2.779581  2.579581  2.611960   2.611960  306396159\n",
       "3  2004-08-25  2.614201  2.689918  2.587302  2.640104   2.640104  184645512\n",
       "4  2004-08-26  2.613952  2.688672  2.606729  2.687676   2.687676  142572401"
      ]
     },
     "execution_count": 3,
     "metadata": {},
     "output_type": "execute_result"
    }
   ],
   "source": [
    "data.head()"
   ]
  },
  {
   "cell_type": "code",
   "execution_count": 5,
   "id": "527db678",
   "metadata": {},
   "outputs": [
    {
     "data": {
      "text/html": [
       "<div>\n",
       "<style scoped>\n",
       "    .dataframe tbody tr th:only-of-type {\n",
       "        vertical-align: middle;\n",
       "    }\n",
       "\n",
       "    .dataframe tbody tr th {\n",
       "        vertical-align: top;\n",
       "    }\n",
       "\n",
       "    .dataframe thead th {\n",
       "        text-align: right;\n",
       "    }\n",
       "</style>\n",
       "<table border=\"1\" class=\"dataframe\">\n",
       "  <thead>\n",
       "    <tr style=\"text-align: right;\">\n",
       "      <th></th>\n",
       "      <th>Date</th>\n",
       "      <th>Open</th>\n",
       "      <th>High</th>\n",
       "      <th>Low</th>\n",
       "      <th>Close</th>\n",
       "      <th>Adj Close</th>\n",
       "      <th>Volume</th>\n",
       "    </tr>\n",
       "  </thead>\n",
       "  <tbody>\n",
       "    <tr>\n",
       "      <th>4555</th>\n",
       "      <td>2022-09-23</td>\n",
       "      <td>100.059998</td>\n",
       "      <td>100.110001</td>\n",
       "      <td>98.010002</td>\n",
       "      <td>99.169998</td>\n",
       "      <td>99.169998</td>\n",
       "      <td>25645100</td>\n",
       "    </tr>\n",
       "    <tr>\n",
       "      <th>4556</th>\n",
       "      <td>2022-09-26</td>\n",
       "      <td>98.610001</td>\n",
       "      <td>100.440002</td>\n",
       "      <td>98.379997</td>\n",
       "      <td>98.809998</td>\n",
       "      <td>98.809998</td>\n",
       "      <td>22437900</td>\n",
       "    </tr>\n",
       "    <tr>\n",
       "      <th>4557</th>\n",
       "      <td>2022-09-27</td>\n",
       "      <td>99.910004</td>\n",
       "      <td>100.459999</td>\n",
       "      <td>97.339996</td>\n",
       "      <td>98.089996</td>\n",
       "      <td>98.089996</td>\n",
       "      <td>24225000</td>\n",
       "    </tr>\n",
       "    <tr>\n",
       "      <th>4558</th>\n",
       "      <td>2022-09-28</td>\n",
       "      <td>98.019997</td>\n",
       "      <td>101.400002</td>\n",
       "      <td>97.800003</td>\n",
       "      <td>100.739998</td>\n",
       "      <td>100.739998</td>\n",
       "      <td>24617000</td>\n",
       "    </tr>\n",
       "    <tr>\n",
       "      <th>4559</th>\n",
       "      <td>2022-09-29</td>\n",
       "      <td>99.300003</td>\n",
       "      <td>99.300003</td>\n",
       "      <td>96.519997</td>\n",
       "      <td>98.089996</td>\n",
       "      <td>98.089996</td>\n",
       "      <td>21921500</td>\n",
       "    </tr>\n",
       "  </tbody>\n",
       "</table>\n",
       "</div>"
      ],
      "text/plain": [
       "            Date        Open        High        Low       Close   Adj Close  \\\n",
       "4555  2022-09-23  100.059998  100.110001  98.010002   99.169998   99.169998   \n",
       "4556  2022-09-26   98.610001  100.440002  98.379997   98.809998   98.809998   \n",
       "4557  2022-09-27   99.910004  100.459999  97.339996   98.089996   98.089996   \n",
       "4558  2022-09-28   98.019997  101.400002  97.800003  100.739998  100.739998   \n",
       "4559  2022-09-29   99.300003   99.300003  96.519997   98.089996   98.089996   \n",
       "\n",
       "        Volume  \n",
       "4555  25645100  \n",
       "4556  22437900  \n",
       "4557  24225000  \n",
       "4558  24617000  \n",
       "4559  21921500  "
      ]
     },
     "execution_count": 5,
     "metadata": {},
     "output_type": "execute_result"
    }
   ],
   "source": [
    "data.tail()"
   ]
  },
  {
   "cell_type": "code",
   "execution_count": 6,
   "id": "bdbb72d9",
   "metadata": {},
   "outputs": [
    {
     "name": "stdout",
     "output_type": "stream",
     "text": [
      "<class 'pandas.core.frame.DataFrame'>\n",
      "RangeIndex: 4560 entries, 0 to 4559\n",
      "Data columns (total 7 columns):\n",
      " #   Column     Non-Null Count  Dtype  \n",
      "---  ------     --------------  -----  \n",
      " 0   Date       4560 non-null   object \n",
      " 1   Open       4560 non-null   float64\n",
      " 2   High       4560 non-null   float64\n",
      " 3   Low        4560 non-null   float64\n",
      " 4   Close      4560 non-null   float64\n",
      " 5   Adj Close  4560 non-null   float64\n",
      " 6   Volume     4560 non-null   int64  \n",
      "dtypes: float64(5), int64(1), object(1)\n",
      "memory usage: 249.5+ KB\n"
     ]
    }
   ],
   "source": [
    "data.info()"
   ]
  },
  {
   "cell_type": "code",
   "execution_count": null,
   "id": "6f27ebc2",
   "metadata": {},
   "outputs": [],
   "source": []
  }
 ],
 "metadata": {
  "kernelspec": {
   "display_name": "Python 3 (ipykernel)",
   "language": "python",
   "name": "python3"
  },
  "language_info": {
   "codemirror_mode": {
    "name": "ipython",
    "version": 3
   },
   "file_extension": ".py",
   "mimetype": "text/x-python",
   "name": "python",
   "nbconvert_exporter": "python",
   "pygments_lexer": "ipython3",
   "version": "3.9.12"
  }
 },
 "nbformat": 4,
 "nbformat_minor": 5
}
