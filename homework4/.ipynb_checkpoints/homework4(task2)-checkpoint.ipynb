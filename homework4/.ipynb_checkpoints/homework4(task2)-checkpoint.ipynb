{
 "cells": [
  {
   "cell_type": "markdown",
   "id": "a85a596c",
   "metadata": {},
   "source": [
    "# Vectorization and Word Embeddings\n",
    "\n",
    "In this task, I will read 2 words as user input and vectorize them. Then, I will calculate the cosine simmilarity and the dissimilarity between the two vectorized words.\n",
    "\n",
    "I will vectorize words using the Count Vectorizer from sklearn"
   ]
  },
  {
   "cell_type": "code",
   "execution_count": 1,
   "id": "7c238e2a",
   "metadata": {},
   "outputs": [],
   "source": [
    "from sklearn.feature_extraction.text import CountVectorizer"
   ]
  },
  {
   "cell_type": "code",
   "execution_count": 15,
   "id": "11ec3c04",
   "metadata": {},
   "outputs": [],
   "source": [
    "# function to vectorize a line\n",
    "# takes in a string as input\n",
    "# returns the vector\n",
    "def vectorize(text):\n",
    "    vectorizer = CountVectorizer()\n",
    "    X = vectorizer.fit_transform(text)\n",
    "    return X.toarray()"
   ]
  },
  {
   "cell_type": "markdown",
   "id": "9af1a4b9",
   "metadata": {},
   "source": [
    "For the cosine similarity, I will use the built in function from the sklearn metrics package."
   ]
  },
  {
   "cell_type": "code",
   "execution_count": 21,
   "id": "b994b42b",
   "metadata": {},
   "outputs": [],
   "source": [
    "from sklearn.metrics.pairwise import cosine_similarity"
   ]
  },
  {
   "cell_type": "code",
   "execution_count": 29,
   "id": "889e8485",
   "metadata": {},
   "outputs": [],
   "source": [
    "def cosine_sim(vectors):\n",
    "    # return the upper left or lower right corner of the matrix\n",
    "    sim_mat = cosine_similarity(vectors)\n",
    "    return sim_mat[0][1]"
   ]
  },
  {
   "cell_type": "markdown",
   "id": "a52ecca0",
   "metadata": {},
   "source": [
    "For the dissimilarity metric, I will get the difference between the two vectors, and find the L2-norm. This is essentially euclidian distance between two vectors. "
   ]
  },
  {
   "cell_type": "code",
   "execution_count": 23,
   "id": "c90d2f7a",
   "metadata": {},
   "outputs": [],
   "source": [
    "import numpy as np"
   ]
  },
  {
   "cell_type": "code",
   "execution_count": 24,
   "id": "bba265ff",
   "metadata": {},
   "outputs": [],
   "source": [
    "def dissim(vectors):\n",
    "    diff = vectors[1] - vectors[0]\n",
    "    return np.linalg.norm(diff)"
   ]
  },
  {
   "cell_type": "markdown",
   "id": "d83d7d90",
   "metadata": {},
   "source": [
    "# RUN CELL BELOW"
   ]
  },
  {
   "cell_type": "code",
   "execution_count": 31,
   "id": "162d8ee8",
   "metadata": {},
   "outputs": [
    {
     "name": "stdout",
     "output_type": "stream",
     "text": [
      "Enter some text ('q' to terminate): some text\n",
      "Enter some more text ('q' to terminate): some more text\n",
      "Cosine Similarity: 0.816496580927726\n",
      "Dissimilarity: 1.0\n",
      "Enter some text ('q' to terminate): q\n"
     ]
    }
   ],
   "source": [
    "# loop to read in two user inputs, and perform the task\n",
    "while True:\n",
    "    line1 = input(\"Enter some text ('q' to terminate): \").strip().lower()\n",
    "    if line1 == 'q':\n",
    "        break\n",
    "    \n",
    "    line2 = input(\"Enter some more text ('q' to terminate): \").strip().lower()\n",
    "    if line2 == 'q':\n",
    "        break\n",
    "    \n",
    "    vects = vectorize([line1, line2])\n",
    "    sim = cosine_sim(vects)\n",
    "    print(\"Cosine Similarity:\", sim)\n",
    "    dis = dissim(vects)\n",
    "    print(\"Dissimilarity:\", dis)"
   ]
  },
  {
   "cell_type": "code",
   "execution_count": null,
   "id": "ad78c8e8",
   "metadata": {},
   "outputs": [],
   "source": []
  }
 ],
 "metadata": {
  "kernelspec": {
   "display_name": "Python 3 (ipykernel)",
   "language": "python",
   "name": "python3"
  },
  "language_info": {
   "codemirror_mode": {
    "name": "ipython",
    "version": 3
   },
   "file_extension": ".py",
   "mimetype": "text/x-python",
   "name": "python",
   "nbconvert_exporter": "python",
   "pygments_lexer": "ipython3",
   "version": "3.9.12"
  }
 },
 "nbformat": 4,
 "nbformat_minor": 5
}
